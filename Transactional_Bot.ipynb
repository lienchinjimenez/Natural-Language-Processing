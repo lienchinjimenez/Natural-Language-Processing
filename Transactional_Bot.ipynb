{
 "cells": [
  {
   "cell_type": "markdown",
   "id": "8c024c8d",
   "metadata": {},
   "source": [
    "# NLP Project\n",
    "\n",
    "\n",
    "This project was carried out during one week in March 2023, in the data science master's course at the Assembler Institute of Technology.\n",
    "\n",
    "Team: Lien Chin, Helen Navarro, Sergio Salvador, Francisco Ávila."
   ]
  },
  {
   "cell_type": "markdown",
   "id": "c4bbd234",
   "metadata": {},
   "source": [
    "## Task"
   ]
  },
  {
   "cell_type": "markdown",
   "id": "dc701f1b",
   "metadata": {},
   "source": [
    "The company sky2travel hires us to carry out a transactional bot, for which they ask us to carry out an initial demo of the project to check the viability of the requirements. Sky2travel is a company focused on the search for flights and travel, its large customer base is between 18 and 40 years old, and makes intensive use of mobile phones, which means that 70% of its sales are made from these devices. <p>\n",
    "They have detected the need of their customers to search and buy flights from their mobile phones in a faster and more convenient way, so they are looking to integrate their bot with whatsapp, telegram and other platforms such as chat on the web, facebook messenger and similar. <p>\n",
    "The aim is that customers, with a simple text message like \"Bills from Madrid to London in August for 3 days\" or \"Cheap tickets to Berlin with Lufthansa\", the application will be able to process the customer's request and send them the information easily to their mobile phone along with a direct link to payment.<p>\n",
    "For the demo, we are asked that the script can generate the requests to be sent to the Amadeus booking software in JSON format. It will be enough to create a notebook in ipynb format to demo the functionality.\n"
   ]
  },
  {
   "cell_type": "markdown",
   "id": "fdbbb22c",
   "metadata": {},
   "source": [
    "## Import Libraries"
   ]
  },
  {
   "cell_type": "code",
   "execution_count": 1,
   "id": "b7eca280",
   "metadata": {},
   "outputs": [],
   "source": [
    "from nltk.chat.util import Chat, reflections\n",
    "import nltk\n",
    "from nltk import UnigramTagger, BigramTagger, TrigramTagger\n",
    "from nltk.tag.hmm import HiddenMarkovModelTagger\n",
    "from nltk.chunk.regexp import *\n",
    "from nltk.corpus import cess_esp\n",
    "from nltk.tokenize import word_tokenize\n",
    "from sklearn.model_selection import train_test_split\n",
    "import warnings\n",
    "warnings.filterwarnings(\"ignore\")"
   ]
  },
  {
   "cell_type": "markdown",
   "id": "8cdb85d5",
   "metadata": {},
   "source": [
    "## Create the corpus"
   ]
  },
  {
   "cell_type": "markdown",
   "id": "05cde58f",
   "metadata": {},
   "source": [
    "We made a corpus with 26 senteces related with our topic 'Booking flights'"
   ]
  },
  {
   "cell_type": "code",
   "execution_count": 2,
   "id": "ae4f8cb1",
   "metadata": {},
   "outputs": [],
   "source": [
    "corpus= [\n",
    "    \n",
    "    'Quiero 2 billetes de Madrid a Frankfurt en Septiembre',\n",
    "    'Necesito comprar un billete a Madrid el 5 de Agosto',\n",
    "    'Comprar billete Barcelona a Roma para el 25 de Agosto con Iberia',\n",
    "    'Billete barato AirEuropa de Madrid a Sevilla', \n",
    "    'Necesito un billete de Tenerife a Jerez',\n",
    "    'Quiero un vuelo para París el 15 de julio',\n",
    "    'Volar desde Florencia a Barcelona',\n",
    "    'Necesito comprar un billete a Quito el 2 de Noviembre',\n",
    "    'Billete económico Iberia de Madrid a México',\n",
    "    'Necesito un vuelo de ida y vuelta para el 20 de diciembre a Madrid desde Jerez'\n",
    "    'Quiero reservar un vuelo para tres personas desde Londres a Madrid el 1 de julio',\n",
    "    '2 vuelos a Paris el 2 de Abril con Easyjet',\n",
    "    'Vuelo economico a Berlín', \n",
    "    '5 billetes de avion a Canadá con Emirates',\n",
    "    'Cómprame 1 billete de madrid a burdeos',\n",
    "    'Quiero un billete desde Valencia  a Sydney',\n",
    "    'Quiero cuatro billetes a Bali',\n",
    "    'Comprar 5 billetes a Madagascar',\n",
    "    'Hola, quisiera reservar un vuelo de ida y vuelta desde Valencia a Madrid con fecha para el 10 de agosto.',\n",
    "    'Buen día, necesito un vuelo de ida desde Barcelona a Mallorca el próximo viernes',\n",
    "    'Hola, quisiera reservar un vuelo de ida y vuelta desde Bilbao a Madrid con fecha para el 20 de mayo',\n",
    "    'Buen día, necesito un vuelo de ida desde Málaga a Barcelona el próximo 5 de mayo',\n",
    "    'Hola, quisiera reservar un vuelo de ida y vuelta desde Sevilla a Valencia con fecha para el 25 de septiembre',\n",
    "    'Madrid - Barcelona en Qatar Airways',\n",
    "    'Hola, quisiera reservar un vuelo de ida y vuelta para Gran Canaria desde Los Ángeles con fecha para el 10 de agosto',\n",
    "    'Hola, quisiera reservar un vuelo de ida y vuelta desde La Pampa a Ciudad de México con fecha para el diez de agosto'\n",
    "    \n",
    "]"
   ]
  },
  {
   "cell_type": "markdown",
   "id": "9ee52c67",
   "metadata": {},
   "source": [
    "## Tokenize"
   ]
  },
  {
   "cell_type": "markdown",
   "id": "ad3848fa",
   "metadata": {},
   "source": [
    "First of all we split the sentences in words to tag later"
   ]
  },
  {
   "cell_type": "code",
   "execution_count": 3,
   "id": "79803064",
   "metadata": {},
   "outputs": [],
   "source": [
    "def tokenizar(_frase):\n",
    "    \"\"\"\n",
    "    Tokenizes the input phrase into individual words.\n",
    "    \n",
    "    Args:\n",
    "        _frase (str): The input phrase to be tokenized.\n",
    "        \n",
    "    Returns:\n",
    "        list: A list of tokens (individual words) in lowercase.\n",
    "    \"\"\"\n",
    "    tokens = word_tokenize(_frase, \"spanish\")\n",
    "    tokens = [word.lower() for word in tokens if word.isalpha()]\n",
    "    \n",
    "    return tokens"
   ]
  },
  {
   "cell_type": "code",
   "execution_count": 4,
   "id": "77b436af",
   "metadata": {},
   "outputs": [
    {
     "data": {
      "text/plain": [
       "[['quiero', 'billetes', 'de', 'madrid', 'a', 'frankfurt', 'en', 'septiembre'],\n",
       " ['necesito', 'comprar', 'un', 'billete', 'a', 'madrid', 'el', 'de', 'agosto'],\n",
       " ['comprar',\n",
       "  'billete',\n",
       "  'barcelona',\n",
       "  'a',\n",
       "  'roma',\n",
       "  'para',\n",
       "  'el',\n",
       "  'de',\n",
       "  'agosto',\n",
       "  'con',\n",
       "  'iberia'],\n",
       " ['billete', 'barato', 'aireuropa', 'de', 'madrid', 'a', 'sevilla'],\n",
       " ['necesito', 'un', 'billete', 'de', 'tenerife', 'a', 'jerez'],\n",
       " ['quiero', 'un', 'vuelo', 'para', 'parís', 'el', 'de', 'julio'],\n",
       " ['volar', 'desde', 'florencia', 'a', 'barcelona'],\n",
       " ['necesito',\n",
       "  'comprar',\n",
       "  'un',\n",
       "  'billete',\n",
       "  'a',\n",
       "  'quito',\n",
       "  'el',\n",
       "  'de',\n",
       "  'noviembre'],\n",
       " ['billete', 'económico', 'iberia', 'de', 'madrid', 'a', 'méxico'],\n",
       " ['necesito',\n",
       "  'un',\n",
       "  'vuelo',\n",
       "  'de',\n",
       "  'ida',\n",
       "  'y',\n",
       "  'vuelta',\n",
       "  'para',\n",
       "  'el',\n",
       "  'de',\n",
       "  'diciembre',\n",
       "  'a',\n",
       "  'madrid',\n",
       "  'desde',\n",
       "  'jerezquiero',\n",
       "  'reservar',\n",
       "  'un',\n",
       "  'vuelo',\n",
       "  'para',\n",
       "  'tres',\n",
       "  'personas',\n",
       "  'desde',\n",
       "  'londres',\n",
       "  'a',\n",
       "  'madrid',\n",
       "  'el',\n",
       "  'de',\n",
       "  'julio'],\n",
       " ['vuelos', 'a', 'paris', 'el', 'de', 'abril', 'con', 'easyjet'],\n",
       " ['vuelo', 'economico', 'a', 'berlín'],\n",
       " ['billetes', 'de', 'avion', 'a', 'canadá', 'con', 'emirates'],\n",
       " ['cómprame', 'billete', 'de', 'madrid', 'a', 'burdeos'],\n",
       " ['quiero', 'un', 'billete', 'desde', 'valencia', 'a', 'sydney'],\n",
       " ['quiero', 'cuatro', 'billetes', 'a', 'bali'],\n",
       " ['comprar', 'billetes', 'a', 'madagascar'],\n",
       " ['hola',\n",
       "  'quisiera',\n",
       "  'reservar',\n",
       "  'un',\n",
       "  'vuelo',\n",
       "  'de',\n",
       "  'ida',\n",
       "  'y',\n",
       "  'vuelta',\n",
       "  'desde',\n",
       "  'valencia',\n",
       "  'a',\n",
       "  'madrid',\n",
       "  'con',\n",
       "  'fecha',\n",
       "  'para',\n",
       "  'el',\n",
       "  'de',\n",
       "  'agosto'],\n",
       " ['buen',\n",
       "  'día',\n",
       "  'necesito',\n",
       "  'un',\n",
       "  'vuelo',\n",
       "  'de',\n",
       "  'ida',\n",
       "  'desde',\n",
       "  'barcelona',\n",
       "  'a',\n",
       "  'mallorca',\n",
       "  'el',\n",
       "  'próximo',\n",
       "  'viernes'],\n",
       " ['hola',\n",
       "  'quisiera',\n",
       "  'reservar',\n",
       "  'un',\n",
       "  'vuelo',\n",
       "  'de',\n",
       "  'ida',\n",
       "  'y',\n",
       "  'vuelta',\n",
       "  'desde',\n",
       "  'bilbao',\n",
       "  'a',\n",
       "  'madrid',\n",
       "  'con',\n",
       "  'fecha',\n",
       "  'para',\n",
       "  'el',\n",
       "  'de',\n",
       "  'mayo'],\n",
       " ['buen',\n",
       "  'día',\n",
       "  'necesito',\n",
       "  'un',\n",
       "  'vuelo',\n",
       "  'de',\n",
       "  'ida',\n",
       "  'desde',\n",
       "  'málaga',\n",
       "  'a',\n",
       "  'barcelona',\n",
       "  'el',\n",
       "  'próximo',\n",
       "  'de',\n",
       "  'mayo'],\n",
       " ['hola',\n",
       "  'quisiera',\n",
       "  'reservar',\n",
       "  'un',\n",
       "  'vuelo',\n",
       "  'de',\n",
       "  'ida',\n",
       "  'y',\n",
       "  'vuelta',\n",
       "  'desde',\n",
       "  'sevilla',\n",
       "  'a',\n",
       "  'valencia',\n",
       "  'con',\n",
       "  'fecha',\n",
       "  'para',\n",
       "  'el',\n",
       "  'de',\n",
       "  'septiembre'],\n",
       " ['madrid', 'barcelona', 'en', 'qatar', 'airways'],\n",
       " ['hola',\n",
       "  'quisiera',\n",
       "  'reservar',\n",
       "  'un',\n",
       "  'vuelo',\n",
       "  'de',\n",
       "  'ida',\n",
       "  'y',\n",
       "  'vuelta',\n",
       "  'para',\n",
       "  'gran',\n",
       "  'canaria',\n",
       "  'desde',\n",
       "  'los',\n",
       "  'ángeles',\n",
       "  'con',\n",
       "  'fecha',\n",
       "  'para',\n",
       "  'el',\n",
       "  'de',\n",
       "  'agosto'],\n",
       " ['hola',\n",
       "  'quisiera',\n",
       "  'reservar',\n",
       "  'un',\n",
       "  'vuelo',\n",
       "  'de',\n",
       "  'ida',\n",
       "  'y',\n",
       "  'vuelta',\n",
       "  'desde',\n",
       "  'la',\n",
       "  'pampa',\n",
       "  'a',\n",
       "  'ciudad',\n",
       "  'de',\n",
       "  'méxico',\n",
       "  'con',\n",
       "  'fecha',\n",
       "  'para',\n",
       "  'el',\n",
       "  'diez',\n",
       "  'de',\n",
       "  'agosto']]"
      ]
     },
     "execution_count": 4,
     "metadata": {},
     "output_type": "execute_result"
    }
   ],
   "source": [
    "frases_tokens= []\n",
    "\n",
    "for frase in corpus:\n",
    "    \n",
    "    frases_tokens.append(tokenizar(frase))   \n",
    "    \n",
    "frases_tokens"
   ]
  },
  {
   "cell_type": "markdown",
   "id": "99fdca75",
   "metadata": {},
   "source": [
    "## Choosing model"
   ]
  },
  {
   "cell_type": "markdown",
   "id": "c3a14c01",
   "metadata": {},
   "source": [
    "We made a manual train, choose the better model to perform our task and train it"
   ]
  },
  {
   "cell_type": "code",
   "execution_count": 5,
   "id": "d4b8ea0b",
   "metadata": {},
   "outputs": [],
   "source": [
    "manual_train= [\n",
    "    \n",
    "    [('Quiero', 'vmip1s0'), ('2', 'z0'), ('billetes', 'ncfp000'), ('de', 'sps00'), ('Madrid', 'np00001'), ('a', 'x'), ('Frankfurt', 'np00001'), ('en', 'sps00'), ('Septiembre', 'npcs000')], \n",
    "    [('Necesito', 'vmip1s0'), ('comprar', 'vmn0000'), ('un', 'di0ms0'), ('billete', 'ncms000'), ('a', 'x'), ('Madrid', 'np00001'), ('el', 'da0ms0'), ('5', 'z0'), ('de', 'sps00'), ('Agosto', 'npcs000')], \n",
    "    [('Comprar', 'vmn0000'), ('billete', 'ncms000'), ('Barcelona', 'np00001'), ('a', 'x'), ('Roma', 'np00001'), ('para', 'x'), ('el', 'da0ms0'), ('25', 'z0'), ('de', 'sps00'), ('agosto', 'npcs000'), ('con', 'sps00'), ('Iberia', 'np00001')], \n",
    "    [('Billete', 'ncms000'), ('barato', 'aq0ms0'), ('AirEuropa', 'np00001'), ('de', 'sps00'), ('Madrid', 'np00001'), ('a', 'x'), ('Sevilla', 'np00001')],\n",
    "    [('Quiero', 'vmip1s0'), ('ir', 'vmn0000'), ('a', 'x'), ('Roma', 'np00001'), ('con', 'sps00'), ('Lufthansa', 'np00001')],\n",
    "    [('Necesito', 'vmip1s0'), ('un', 'di0ms0'), ('billete', 'ncms000'), ('de', 'sps00'), ('Tenerife', 'np0000l'), ('a', 'x'), ('Jerez', 'np0000l')],\n",
    "    [('Quiero', 'vmip1s0'), ('un', 'di0ms0'), ('vuelo', 'ncms000'), ('para', 'x'), ('París', 'np0000l'), ('el', 'da0ms0'), ('15', 'z0'), ('de', 'sps00'), ('julio', 'npcs000')], \n",
    "    [('Volar', 'vmn0000'), ('desde', 'sps00'), ('Florencia', 'np0000l'), ('a', 'x'), ('Barcelona', 'np0000l')],\n",
    "    [('Necesito', 'vmip1s0'), ('comprar', 'vmn0000'), ('un', 'di0ms0'), ('billete', 'ncms000'), ('a', 'x'), ('Quito', 'np0000l'), ('el', 'da0ms0'), ('2', 'z0'), ('de', 'sps00'), ('Noviembre', 'npcs000')],\n",
    "    [('Billete', 'ncms000'), ('económico', 'aq0cs0'), ('Iberia', 'np0000l'), ('de', 'sps00'), ('Madrid', 'np0000l'), ('a', 'x'), ('México', 'np0000l')],\n",
    "    [('Necesito', 'vmip1s0'), ('un', 'di0ms0'), ('vuelo', 'ncms000'), ('de', 'sps00'), ('ida', 'ncfs000'), ('y', 'cc00'), ('vuelta', 'ncfs000'), ('para', 'x'), ('el', 'da0ms0'), ('20', 'z0'), ('de', 'sps00'), ('diciembre', 'npcs000'), ('a', 'x'), ('Madrid', 'np0000l'), ('desde', 'sps00'), ('Jerez', 'np0000l')],\n",
    "    [('Quiero', 'vmip1s0'), ('reservar', 'vmn0000'), ('un', 'di0ms0'), ('vuelo', 'ncms000'), ('para', 'x'), ('tres', 'dn0cp0'), ('personas', 'ncfp000'), ('desde', 'sps00'), ('Londres', 'np0000l'), ('a', 'x'), ('Madrid', 'np0000l'), ('el', 'da0ms0'), ('1', 'z0'), ('de', 'sps00'), ('julio', 'npcs000')],\n",
    "    [('2', 'z0'), ('vuelos', 'ncmp000'), ('a', 'x'), ('Paris', 'np0000l'), ('el', 'da0ms0'), ('2', 'z0'), ('de', 'sps00'), ('Abril', 'npcs000'), ('con', 'sps00'), ('Easyjet', 'np0000l')],\n",
    "    [('Vuelo', 'ncms000'), ('económico', 'aq0cs0'), ('a', 'x'), ('Berlín', 'np0000l')],\n",
    "    [('5', 'z0'), ('billetes', 'ncmp000'), ('de', 'sps00'), ('avión', 'ncms000'), ('a', 'x'), ('Canadá', 'np0000l'), ('con', 'sps00'), ('Emirates', 'np0000l')],\n",
    "    [('Hola', 'i'), ('quisiera', 'vmic1s0'), ('reservar', 'vmn0000'), ('un', 'di0ms0'), ('vuelo', 'ncms000'), ('de', 'sps00'), ('ida', 'ncfs000'), ('y', 'cc00'), ('vuelta', 'ncfs000'), ('desde', 'sps00'), ('Valencia', 'np0000l'), ('a', 'x'), ('Madrid', 'np0000l'), ('con', 'sps00'), ('fecha', 'ncfs000'), ('para', 'x'), ('el', 'da0ms0'), ('10', 'z0'), ('de', 'sps00'), ('agosto', 'npcs000')],\n",
    "    [('Buen', 'aq0ms0'), ('día', 'ncms000'), (',', 'fc'), ('necesito', 'vmip1s0'), ('un', 'di0ms0'), ('vuelo', 'ncms000'), ('de', 'sps00'), ('ida', 'ncfs000'), ('desde', 'sps00'), ('Barcelona', 'np0000l'), ('a', 'x'), ('Mallorca', 'np0000l'), ('el', 'da0ms0'), ('próximo', 'aq0ms0'), ('viernes', 'nccn000')],\n",
    "    [('Hola', 'i'), (',', 'fc'), ('quisiera', 'vmic1s0'), ('reservar', 'vmn0000'), ('un', 'di0ms0'), ('vuelo', 'ncms000'), ('de', 'sps00'), ('ida', 'ncfs000'), ('y', 'cc00'), ('vuelta', 'ncfs000'), ('desde', 'sps00'), ('Bilbao', 'np0000l'), ('a', 'x'), ('Madrid', 'np0000l'), ('con', 'sps00'), ('fecha', 'ncfs000'), ('para', 'x'), ('el', 'da0ms0'), ('20', 'z0'), ('de', 'sps00'), ('mayo', 'npcs000')], \n",
    "    [('Buen', 'aq0ms0'), ('día', 'ncms000'), (',', 'fc'), ('necesito', 'vmip1s0'), ('un', 'di0ms0'), ('vuelo', 'ncms000'), ('de', 'sps00'), ('ida', 'ncfs000'), ('desde', 'sps00'), ('Málaga', 'np0000l'), ('a', 'x'), ('Barcelona', 'np0000l')], \n",
    "    [('Cómprame', 'vmis2s0'), ('1' ,'z0'), ('billete', 'ncms000'), ('de' ,'sps00'), ('Madrid' ,'np0000l'), ('a', 'x'), ('Burdeos' ,'np0000l')],\n",
    "    [('quiero', 'vmip1s0'), ('un', 'di0ms0'), ('billete', 'ncms000'), ('desde', 'sps00'), ('Valencia', 'np0000l'), ('a', 'x'), ('Sydney', 'np0000l')],\n",
    "    [('Quiero' ,'vmip1s0'), ('cuatro', 'mccp00'), ('billetes', 'ncmp000'), ('a', 'x'), ('Bali', 'np0000l')],\n",
    "    [('Comprar', 'vmn0000'), ('5' ,'z0'), ('billetes' ,'ncmp000'), ('a' ,'x'), ('Madagascar', 'np0000l')],\n",
    "    [(\"Hola\", \"i\"), (\",\", \"fc\"), (\"quisiera\", \"vmic1s0\"), (\"reservar\", \"vmn0000\"), (\"un\", \"di0ms0\"), (\"vuelo\", \"ncms000\"), (\"de\", \"sps00\"), (\"ida\", \"ncfs000\"), (\"y\", \"cc00\"), (\"vuelta\", \"ncfs000\"), (\"desde\", \"sps00\"), (\"Sevilla\", \"np0000l\"), (\"a\", \"x\"), (\"Valencia\", \"np0000l\"), (\"con\", \"sps00\"), (\"fecha\", \"ncfs000\"), (\"para\", \"x\"), (\"el\", \"da0ms0\"), (\"25\", \"z0\"), (\"de\", \"sps00\"), (\"septiembre\", \"npcs000\"), (\".\", \"fp\")],\n",
    "    [('Madrid', 'np00001'), ('-', 'Fg'), ('Barcelona', 'np00001'), ('en', 'sps00'), ('Qatar', 'np00001'), ('Airways', 'np00001')],\n",
    "    [('hola', 'i'), (',', 'Fc'), ('quisiera', 'vmsi000'), ('reservar', 'vmn0000'), ('un', 'di3ms00'), ('vuelo', 'ncms000'), ('y', 'cc00'), ('vuelta', 'ncfs000'), ('desde', 'sps00'), ('la', 'tdfs0'), ('pampa', 'np00001'), ('a', 'x'), ('Ciudad','np00001' ), ('de','sps00' ), ('Mexico','np00001' ), ('con', 'sps00'), ('fecha', 'ncfs000'), ('para', 'x'), ('el', 'dams00'),('diez', 'mccp00'), ('de', 'sps00'), ('agosto', 'npcs000')],\n",
    "    [('hola', 'i'), (',', 'Fc'), ('quisiera', 'vmsi000'), ('reservar', 'vmn0000'), ('un', 'di3ms00'), ('vuelo', 'ncms000'), ('y', 'cc00'), ('vuelta', 'ncfs000'), ('para', 'x'), ('Gran', 'np00001'), ('Canaria', 'np00001'), ('desde', 'sps00'), ('Los','tdmp0' ), ('Ángeles','np00001' ), ('con', 'sps00'), ('fecha', 'ncfs000'), ('para', 'x'), ('el', 'dams00'),('diez', 'mccp00'), ('de', 'sps00'), ('agosto', 'npcs000')]\n",
    "]"
   ]
  },
  {
   "cell_type": "code",
   "execution_count": 6,
   "id": "99256b6a",
   "metadata": {},
   "outputs": [
    {
     "name": "stdout",
     "output_type": "stream",
     "text": [
      "Train tokens: 21 \n",
      "Tokens test:     6\n"
     ]
    }
   ],
   "source": [
    "#We generate the Train and Test sets\n",
    "data_train, data_test = train_test_split(manual_train, test_size=0.20, random_state=1)\n",
    "\n",
    "print('Train tokens:',len(data_train),\n",
    "      '\\nTokens test:    ',len(data_test))"
   ]
  },
  {
   "cell_type": "markdown",
   "id": "5b10993d",
   "metadata": {},
   "source": [
    "Having the sets already created, we move on to train the taggers.\n",
    "\n",
    "To train the ngrams we must execute the tagger with the corpus, for example UnigramTagger(data_train). We will see that the ngrams can have as backoff another ngram.\n",
    "\n",
    "In the case of HiddenMarkovModelTagger we must execute the function .train()."
   ]
  },
  {
   "cell_type": "code",
   "execution_count": 7,
   "id": "6e74c661",
   "metadata": {},
   "outputs": [],
   "source": [
    "unigram  = UnigramTagger(data_train)\n",
    "bigram   = BigramTagger(data_train, backoff=unigram)\n",
    "trigram  = TrigramTagger(data_train, backoff=bigram)\n",
    "hmm      = HiddenMarkovModelTagger.train(data_train)"
   ]
  },
  {
   "cell_type": "markdown",
   "id": "1acd2e91",
   "metadata": {},
   "source": [
    "Once the taggers have been trained, we are going to evaluate how each of them tends to perform with the test set. To evaluate it we have to use the train() function, for all the taggers. Let's see how each of them performs.\n",
    "\n",
    "When you run the training, pay attention to the time it takes for each of the taggers to display the score. While the ngrams are quite fast to extract the information, the HMM takes longer to get the data."
   ]
  },
  {
   "cell_type": "code",
   "execution_count": 8,
   "id": "a512e9f7",
   "metadata": {},
   "outputs": [
    {
     "name": "stdout",
     "output_type": "stream",
     "text": [
      "Hit with unigramas: 74.42 %\n",
      "Hit with bigramas:  76.74 %\n",
      "Hit with trigramas: 70.93 %\n",
      "Hit with HMMs:      81.40 %\n"
     ]
    }
   ],
   "source": [
    "print ('Hit with unigramas: %.2f %%' % (unigram.evaluate(data_test)*100))\n",
    "print ('Hit with bigramas:  %.2f %%' % (bigram.evaluate(data_test)*100))\n",
    "print ('Hit with trigramas: %.2f %%' % (trigram.evaluate(data_test)*100))\n",
    "print ('Hit with HMMs:      %.2f %%' % (hmm.evaluate(data_test)*100))"
   ]
  },
  {
   "cell_type": "markdown",
   "id": "68f69b51",
   "metadata": {},
   "source": [
    "Now, we can retrain the taggers with the test data. Although we will not see a big improvement in general terms, as the volume of data we are using is small, it will help.\n",
    "\n",
    "We will see that if we evaluate the taggers again on the test set, we will get 100% accuracy. This improvement is maximum because all the data was used to train."
   ]
  },
  {
   "cell_type": "code",
   "execution_count": 9,
   "id": "c0acfebf",
   "metadata": {},
   "outputs": [],
   "source": [
    "unigram  = UnigramTagger(data_test)\n",
    "bigram   = BigramTagger(data_test, backoff=unigram)\n",
    "trigram  = TrigramTagger(data_test, backoff=bigram)\n",
    "hmm      = HiddenMarkovModelTagger.train(data_test)"
   ]
  },
  {
   "cell_type": "code",
   "execution_count": 10,
   "id": "47ccc81b",
   "metadata": {},
   "outputs": [
    {
     "name": "stdout",
     "output_type": "stream",
     "text": [
      "Acierto con unigramas: 97.67 %\n",
      "Acierto con bigramas:  100.00 %\n",
      "Acierto con trigramas: 100.00 %\n",
      "Acierto con HMMs:      97.67 %\n"
     ]
    }
   ],
   "source": [
    "print ('Acierto con unigramas: %.2f %%' % (unigram.evaluate(data_test)*100))\n",
    "print ('Acierto con bigramas:  %.2f %%' % (bigram.evaluate(data_test)*100))\n",
    "print ('Acierto con trigramas: %.2f %%' % (trigram.evaluate(data_test)*100))\n",
    "print ('Acierto con HMMs:      %.2f %%' % (hmm.evaluate(data_test)*100))"
   ]
  },
  {
   "cell_type": "code",
   "execution_count": 11,
   "id": "524339aa",
   "metadata": {},
   "outputs": [
    {
     "data": {
      "text/plain": [
       "[[('quiero', 'vmip1s0'),\n",
       "  ('billetes', 'ncfp000'),\n",
       "  ('de', 'sps00'),\n",
       "  ('madrid', 'ncfs000'),\n",
       "  ('a', 'x'),\n",
       "  ('frankfurt', 'np0000l'),\n",
       "  ('en', 'sps00'),\n",
       "  ('septiembre', 'npcs000')],\n",
       " [('necesito', 'vmip1s0'),\n",
       "  ('comprar', 'vmn0000'),\n",
       "  ('un', 'di0ms0'),\n",
       "  ('billete', 'ncms000'),\n",
       "  ('a', 'x'),\n",
       "  ('madrid', 'da0ms0'),\n",
       "  ('el', 'z0'),\n",
       "  ('de', 'sps00'),\n",
       "  ('agosto', 'npcs000')],\n",
       " [('comprar', 'vmn0000'),\n",
       "  ('billete', 'ncms000'),\n",
       "  ('barcelona', 'aq0cs0'),\n",
       "  ('a', 'x'),\n",
       "  ('roma', 'np0000l'),\n",
       "  ('para', 'x'),\n",
       "  ('el', 'da0ms0'),\n",
       "  ('de', 'sps00'),\n",
       "  ('agosto', 'npcs000'),\n",
       "  ('con', 'sps00'),\n",
       "  ('iberia', 'npcs000')],\n",
       " [('billete', 'ncms000'),\n",
       "  ('barato', 'aq0ms0'),\n",
       "  ('aireuropa', 'ncms000'),\n",
       "  ('de', 'sps00'),\n",
       "  ('madrid', 'ncfs000'),\n",
       "  ('a', 'x'),\n",
       "  ('sevilla', 'np0000l')],\n",
       " [('necesito', 'vmip1s0'),\n",
       "  ('un', 'di0ms0'),\n",
       "  ('billete', 'ncms000'),\n",
       "  ('de', 'sps00'),\n",
       "  ('tenerife', 'ncfs000'),\n",
       "  ('a', 'x'),\n",
       "  ('jerez', 'np0000l')],\n",
       " [('quiero', 'vmip1s0'),\n",
       "  ('un', 'di0ms0'),\n",
       "  ('vuelo', 'ncms000'),\n",
       "  ('para', 'x'),\n",
       "  ('parís', 'da0ms0'),\n",
       "  ('el', 'z0'),\n",
       "  ('de', 'sps00'),\n",
       "  ('julio', 'npcs000')],\n",
       " [('volar', 'z0'),\n",
       "  ('desde', 'sps00'),\n",
       "  ('florencia', 'ncfs000'),\n",
       "  ('a', 'x'),\n",
       "  ('barcelona', 'np0000l')],\n",
       " [('necesito', 'vmip1s0'),\n",
       "  ('comprar', 'vmn0000'),\n",
       "  ('un', 'di0ms0'),\n",
       "  ('billete', 'ncms000'),\n",
       "  ('a', 'x'),\n",
       "  ('quito', 'da0ms0'),\n",
       "  ('el', 'z0'),\n",
       "  ('de', 'sps00'),\n",
       "  ('noviembre', 'npcs000')],\n",
       " [('billete', 'ncms000'),\n",
       "  ('económico', 'aq0cs0'),\n",
       "  ('iberia', 'np0000l'),\n",
       "  ('de', 'sps00'),\n",
       "  ('madrid', 'ncfs000'),\n",
       "  ('a', 'x'),\n",
       "  ('méxico', 'np0000l')],\n",
       " [('necesito', 'vmip1s0'),\n",
       "  ('un', 'di0ms0'),\n",
       "  ('vuelo', 'ncms000'),\n",
       "  ('de', 'sps00'),\n",
       "  ('ida', 'ncfs000'),\n",
       "  ('y', 'cc00'),\n",
       "  ('vuelta', 'ncfs000'),\n",
       "  ('para', 'x'),\n",
       "  ('el', 'da0ms0'),\n",
       "  ('de', 'sps00'),\n",
       "  ('diciembre', 'npcs000'),\n",
       "  ('a', 'x'),\n",
       "  ('madrid', 'np0000l'),\n",
       "  ('desde', 'sps00'),\n",
       "  ('jerezquiero', 'npcs000'),\n",
       "  ('reservar', 'vmn0000'),\n",
       "  ('un', 'di0ms0'),\n",
       "  ('vuelo', 'ncms000'),\n",
       "  ('para', 'x'),\n",
       "  ('tres', 'dn0cp0'),\n",
       "  ('personas', 'ncfp000'),\n",
       "  ('desde', 'sps00'),\n",
       "  ('londres', 'ncfs000'),\n",
       "  ('a', 'x'),\n",
       "  ('madrid', 'da0ms0'),\n",
       "  ('el', 'z0'),\n",
       "  ('de', 'sps00'),\n",
       "  ('julio', 'npcs000')],\n",
       " [('vuelos', 'ncmp000'),\n",
       "  ('a', 'x'),\n",
       "  ('paris', 'da0ms0'),\n",
       "  ('el', 'z0'),\n",
       "  ('de', 'sps00'),\n",
       "  ('abril', 'npcs000'),\n",
       "  ('con', 'sps00'),\n",
       "  ('easyjet', 'npcs000')],\n",
       " [('vuelo', 'ncms000'),\n",
       "  ('economico', 'aq0cs0'),\n",
       "  ('a', 'x'),\n",
       "  ('berlín', 'np0000l')],\n",
       " [('billetes', 'z0'),\n",
       "  ('de', 'sps00'),\n",
       "  ('avion', 'ncfs000'),\n",
       "  ('a', 'x'),\n",
       "  ('canadá', 'np0000l'),\n",
       "  ('con', 'sps00'),\n",
       "  ('emirates', 'npcs000')],\n",
       " [('cómprame', 'aq0ms0'),\n",
       "  ('billete', 'ncms000'),\n",
       "  ('de', 'sps00'),\n",
       "  ('madrid', 'ncfs000'),\n",
       "  ('a', 'x'),\n",
       "  ('burdeos', 'np0000l')],\n",
       " [('quiero', 'vmip1s0'),\n",
       "  ('un', 'di0ms0'),\n",
       "  ('billete', 'ncms000'),\n",
       "  ('desde', 'sps00'),\n",
       "  ('valencia', 'ncfs000'),\n",
       "  ('a', 'x'),\n",
       "  ('sydney', 'np0000l')],\n",
       " [('quiero', 'vmip1s0'),\n",
       "  ('cuatro', 'mccp00'),\n",
       "  ('billetes', 'ncmp000'),\n",
       "  ('a', 'x'),\n",
       "  ('bali', 'np0000l')],\n",
       " [('comprar', 'vmn0000'),\n",
       "  ('billetes', 'ncmp000'),\n",
       "  ('a', 'x'),\n",
       "  ('madagascar', 'np0000l')],\n",
       " [('hola', 'i'),\n",
       "  ('quisiera', 'vmic1s0'),\n",
       "  ('reservar', 'vmn0000'),\n",
       "  ('un', 'di0ms0'),\n",
       "  ('vuelo', 'ncms000'),\n",
       "  ('de', 'sps00'),\n",
       "  ('ida', 'ncfs000'),\n",
       "  ('y', 'cc00'),\n",
       "  ('vuelta', 'ncfs000'),\n",
       "  ('desde', 'sps00'),\n",
       "  ('valencia', 'ncfs000'),\n",
       "  ('a', 'x'),\n",
       "  ('madrid', 'np0000l'),\n",
       "  ('con', 'sps00'),\n",
       "  ('fecha', 'ncfs000'),\n",
       "  ('para', 'x'),\n",
       "  ('el', 'da0ms0'),\n",
       "  ('de', 'sps00'),\n",
       "  ('agosto', 'npcs000')],\n",
       " [('buen', 'i'),\n",
       "  ('día', 'fc'),\n",
       "  ('necesito', 'vmip1s0'),\n",
       "  ('un', 'di0ms0'),\n",
       "  ('vuelo', 'ncms000'),\n",
       "  ('de', 'sps00'),\n",
       "  ('ida', 'ncfs000'),\n",
       "  ('desde', 'sps00'),\n",
       "  ('barcelona', 'ncfs000'),\n",
       "  ('a', 'x'),\n",
       "  ('mallorca', 'np0000l'),\n",
       "  ('el', 'da0ms0'),\n",
       "  ('próximo', 'aq0ms0'),\n",
       "  ('viernes', 'nccn000')],\n",
       " [('hola', 'i'),\n",
       "  ('quisiera', 'vmic1s0'),\n",
       "  ('reservar', 'vmn0000'),\n",
       "  ('un', 'di0ms0'),\n",
       "  ('vuelo', 'ncms000'),\n",
       "  ('de', 'sps00'),\n",
       "  ('ida', 'ncfs000'),\n",
       "  ('y', 'cc00'),\n",
       "  ('vuelta', 'ncfs000'),\n",
       "  ('desde', 'sps00'),\n",
       "  ('bilbao', 'ncfs000'),\n",
       "  ('a', 'x'),\n",
       "  ('madrid', 'np0000l'),\n",
       "  ('con', 'sps00'),\n",
       "  ('fecha', 'ncfs000'),\n",
       "  ('para', 'x'),\n",
       "  ('el', 'da0ms0'),\n",
       "  ('de', 'sps00'),\n",
       "  ('mayo', 'npcs000')],\n",
       " [('buen', 'i'),\n",
       "  ('día', 'fc'),\n",
       "  ('necesito', 'vmip1s0'),\n",
       "  ('un', 'di0ms0'),\n",
       "  ('vuelo', 'ncms000'),\n",
       "  ('de', 'sps00'),\n",
       "  ('ida', 'ncfs000'),\n",
       "  ('desde', 'sps00'),\n",
       "  ('málaga', 'ncfs000'),\n",
       "  ('a', 'x'),\n",
       "  ('barcelona', 'np0000l'),\n",
       "  ('el', 'da0ms0'),\n",
       "  ('próximo', 'z0'),\n",
       "  ('de', 'sps00'),\n",
       "  ('mayo', 'npcs000')],\n",
       " [('hola', 'i'),\n",
       "  ('quisiera', 'vmic1s0'),\n",
       "  ('reservar', 'vmn0000'),\n",
       "  ('un', 'di0ms0'),\n",
       "  ('vuelo', 'ncms000'),\n",
       "  ('de', 'sps00'),\n",
       "  ('ida', 'ncfs000'),\n",
       "  ('y', 'cc00'),\n",
       "  ('vuelta', 'ncfs000'),\n",
       "  ('desde', 'sps00'),\n",
       "  ('sevilla', 'ncfs000'),\n",
       "  ('a', 'x'),\n",
       "  ('valencia', 'np0000l'),\n",
       "  ('con', 'sps00'),\n",
       "  ('fecha', 'ncfs000'),\n",
       "  ('para', 'x'),\n",
       "  ('el', 'da0ms0'),\n",
       "  ('de', 'sps00'),\n",
       "  ('septiembre', 'npcs000')],\n",
       " [('madrid', 'i'),\n",
       "  ('barcelona', 'Fc'),\n",
       "  ('en', 'vmsi000'),\n",
       "  ('qatar', 'vmn0000'),\n",
       "  ('airways', 'di0ms0')],\n",
       " [('hola', 'i'),\n",
       "  ('quisiera', 'vmic1s0'),\n",
       "  ('reservar', 'vmn0000'),\n",
       "  ('un', 'di0ms0'),\n",
       "  ('vuelo', 'ncms000'),\n",
       "  ('de', 'sps00'),\n",
       "  ('ida', 'ncfs000'),\n",
       "  ('y', 'cc00'),\n",
       "  ('vuelta', 'ncfs000'),\n",
       "  ('para', 'x'),\n",
       "  ('gran', 'da0ms0'),\n",
       "  ('canaria', 'z0'),\n",
       "  ('desde', 'sps00'),\n",
       "  ('los', 'tdfs0'),\n",
       "  ('ángeles', 'np00001'),\n",
       "  ('con', 'sps00'),\n",
       "  ('fecha', 'ncfs000'),\n",
       "  ('para', 'x'),\n",
       "  ('el', 'da0ms0'),\n",
       "  ('de', 'sps00'),\n",
       "  ('agosto', 'npcs000')],\n",
       " [('hola', 'i'),\n",
       "  ('quisiera', 'vmic1s0'),\n",
       "  ('reservar', 'vmn0000'),\n",
       "  ('un', 'di0ms0'),\n",
       "  ('vuelo', 'ncms000'),\n",
       "  ('de', 'sps00'),\n",
       "  ('ida', 'ncfs000'),\n",
       "  ('y', 'cc00'),\n",
       "  ('vuelta', 'ncfs000'),\n",
       "  ('desde', 'sps00'),\n",
       "  ('la', 'tdfs0'),\n",
       "  ('pampa', 'np00001'),\n",
       "  ('a', 'x'),\n",
       "  ('ciudad', 'np0000l'),\n",
       "  ('de', 'sps00'),\n",
       "  ('méxico', 'npcs000'),\n",
       "  ('con', 'sps00'),\n",
       "  ('fecha', 'ncfs000'),\n",
       "  ('para', 'x'),\n",
       "  ('el', 'dams00'),\n",
       "  ('diez', 'mccp00'),\n",
       "  ('de', 'sps00'),\n",
       "  ('agosto', 'npcs000')]]"
      ]
     },
     "execution_count": 11,
     "metadata": {},
     "output_type": "execute_result"
    }
   ],
   "source": [
    "hmm= HiddenMarkovModelTagger.train(cess_esp.tagged_sents())\n",
    "hmm= HiddenMarkovModelTagger.train(manual_train)\n",
    "\n",
    "frases_tags= []\n",
    "\n",
    "for frases in frases_tokens:\n",
    "    \n",
    "    frases_tags.append(hmm.tag(frases))\n",
    "    \n",
    "frases_tags"
   ]
  },
  {
   "cell_type": "code",
   "execution_count": 12,
   "id": "885d7ad8",
   "metadata": {},
   "outputs": [
    {
     "data": {
      "text/plain": [
       "[('necesito', 'vmip1s0'),\n",
       " ('comprar', 'vmn0000'),\n",
       " ('un', 'di0ms0'),\n",
       " ('billete', 'ncms000'),\n",
       " ('a', 'x'),\n",
       " ('madrid', 'np0000l'),\n",
       " ('el', 'da0ms0'),\n",
       " ('cinco', 'z0'),\n",
       " ('de', 'sps00'),\n",
       " ('agosto', 'npcs000')]"
      ]
     },
     "execution_count": 12,
     "metadata": {},
     "output_type": "execute_result"
    }
   ],
   "source": [
    "#Esto es una prueba\n",
    "hmm.tag(tokenizar( 'Necesito comprar un billete a Madrid el cinco de Agosto'))"
   ]
  },
  {
   "cell_type": "markdown",
   "id": "ab67fd2f",
   "metadata": {},
   "source": [
    "## Create the grammar"
   ]
  },
  {
   "cell_type": "markdown",
   "id": "feab0bb5",
   "metadata": {},
   "source": [
    "*para* & *a*  we tagged with an **x** to distingh 'Destino' from 'Origen'. That's because 'Origen' and 'Destino' start with the same structure (preposition followed by noun)."
   ]
  },
  {
   "cell_type": "code",
   "execution_count": 13,
   "id": "9d75e492",
   "metadata": {},
   "outputs": [],
   "source": [
    "def parsear(phrase):\n",
    "    \"\"\"\n",
    "    Parses the given phrase using a set of predefined grammar rules.\n",
    "\n",
    "    Args:\n",
    "        phrase (str): The input phrase to be parsed.\n",
    "\n",
    "    Returns:\n",
    "        nltk.tree.Tree: A parsed representation of the input phrase.\n",
    "\n",
    "    The function takes a string phrase as input and uses a set of predefined grammar rules to parse it.\n",
    "    It returns a parsed representation of the input phrase in the form of an nltk.tree.Tree object.\n",
    "\n",
    "    The grammar rules define the structure and patterns to be recognized in the phrase.\n",
    "    Each rule has a label (e.g., 'Destino', 'Origen', 'Fecha', 'Aerolinea', 'NumeroDeBilletes')\n",
    "    and a pattern that specifies the sequence and types of parts of speech to match.\n",
    "\n",
    "    The rules are defined using regular expressions enclosed in angle brackets ('<>').\n",
    "    The patterns consist of part-of-speech tags and other regular expressions to match specific word forms.\n",
    "    The rules are separated by line breaks and can have multiple patterns for the same label.\n",
    "\n",
    "    The function creates a parser using the predefined grammar rules and applies it to the input phrase.\n",
    "    The result is a parsed representation of the phrase, which can be further analyzed or processed.\n",
    "    \"\"\"\n",
    "    grammar_rules = r'''\n",
    "        Destino: <x> {<np00001> <sps00> <np00001>}\n",
    "        Origen: <sps00> {<np00001> <sps00> <np00001>}\n",
    "        Fecha: {<z0> <sps00> <npcs000>}\n",
    "        Fecha: {<mc.*> <sps00> <np.*>}\n",
    "        Fecha: {<npcs000>}\n",
    "        Destino: <x> {<np.*> <np.*>} \n",
    "        Destino: <x> {<np.*>} \n",
    "        Destino: <Fg> {<np.*>}\n",
    "        Origen: <sps00> {<td.*> <np00001>}\n",
    "        Origen: <sps00> {<np00001>}\n",
    "        Origen: <sps00> {<np.*>}\n",
    "        Origen: <nc.*> {<np.*>}\n",
    "        Origen: {<np.*>} <Fg>\n",
    "        Aerolinea: <Destino> <sps00> {<np00001> <np00001>}\n",
    "        Aerolinea: <Destino> <sps00> {<np.*>}\n",
    "        Aerolinea: <Fecha> <sps00> {<np.*>}\n",
    "        Aerolinea: <nc.*> <aq.*> {<np.*>} \n",
    "        NumeroDeBilletes: {<z0>}  <n.*>\n",
    "        NumeroDeBilletes: {<d.*>} <n.*>\n",
    "        NumeroDeBilletes: {<mc.*>} <n.*>\n",
    "    '''\n",
    "\n",
    "    parser = nltk.RegexpParser(grammar_rules)\n",
    "    return parser.parse(phrase)"
   ]
  },
  {
   "cell_type": "markdown",
   "id": "3592a1d5",
   "metadata": {},
   "source": [
    "We check that the parser works fine with the defined set of rules."
   ]
  },
  {
   "cell_type": "code",
   "execution_count": 14,
   "id": "ff623498",
   "metadata": {},
   "outputs": [
    {
     "name": "stdout",
     "output_type": "stream",
     "text": [
      "(S\n",
      "  necesito/vmip1s0\n",
      "  comprar/vmn0000\n",
      "  (NumeroDeBilletes un/di0ms0)\n",
      "  billete/ncms000\n",
      "  a/x\n",
      "  (Destino madrid/np0000l)\n",
      "  el/da0ms0\n",
      "  (Fecha cinco/z0 de/sps00 agosto/npcs000))\n"
     ]
    }
   ],
   "source": [
    "frase_regex = parsear(\n",
    "    hmm.tag(\n",
    "    tokenizar('Necesito comprar un billete a Madrid el cinco de Agosto')))\n",
    "\n",
    "print(frase_regex)"
   ]
  },
  {
   "cell_type": "markdown",
   "id": "b6be7c8a",
   "metadata": {},
   "source": [
    "## Functions"
   ]
  },
  {
   "cell_type": "markdown",
   "id": "2d9cafdc",
   "metadata": {},
   "source": [
    "Now, you are going to create the script for the mission: Get the details of your travel."
   ]
  },
  {
   "cell_type": "markdown",
   "id": "4d3ce9e5",
   "metadata": {},
   "source": [
    "### Json(_tree)"
   ]
  },
  {
   "cell_type": "code",
   "execution_count": 15,
   "id": "b2aeb9c9",
   "metadata": {},
   "outputs": [],
   "source": [
    "def genera_json(_tree):\n",
    "    \"\"\"\n",
    "    Generates a JSON object based on the provided tree structure.\n",
    "    \n",
    "    Args:\n",
    "        _tree (nltk.tree.Tree): The input tree structure.\n",
    "        \n",
    "    Returns:\n",
    "        dict: A dictionary representing the generated JSON object with keys:\n",
    "              - 'Origen': The origin of the travel.\n",
    "              - 'Destino': The destination of the travel.\n",
    "              - 'Aerolinea': The airline associated with the travel.\n",
    "              - 'NumeroDeBilletes': The number of tickets.\n",
    "              - 'Fecha': The date of the travel.\n",
    "              \n",
    "    The function iterates through the nodes in the tree. For non-tuple nodes, it concatenates\n",
    "    the words within the node to form a value. Based on the node's label, the corresponding value\n",
    "    is assigned to the appropriate key in the 'result' dictionary.\n",
    "    \n",
    "    If any key in the 'result' dictionary has a value of None (except 'Fecha'), the user is prompted\n",
    "    to enter the corresponding value.\n",
    "    \n",
    "    Finally, the 'result' dictionary representing the JSON object is returned.\n",
    "    \"\"\"\n",
    "    result = {'Origen': None, 'Destino': None, 'Aerolinea': None , 'NumeroDeBilletes': None, 'Fecha': None}\n",
    "    \n",
    "    for nodo in _tree:\n",
    "        \n",
    "        if type(nodo) != tuple:\n",
    "            \n",
    "            count = 0\n",
    "            valor = ''\n",
    "        \n",
    "            for elemento in nodo:\n",
    "                count += 1\n",
    "                palabra, categoria = elemento\n",
    "\n",
    "                if count == 1:\n",
    "                    valor = valor + palabra\n",
    "                    \n",
    "                else:\n",
    "                    valor = valor + ' ' + palabra\n",
    "                    \n",
    "\n",
    "            if nodo.label() == 'Origen':\n",
    "\n",
    "                result['Origen'] = valor\n",
    "\n",
    "            if nodo.label() == 'Destino':\n",
    "                result['Destino'] = valor\n",
    "                \n",
    "            if nodo.label() == 'Aerolinea':\n",
    "                result['Aerolinea'] = valor\n",
    "                \n",
    "            if nodo.label() == 'NumeroDeBilletes':\n",
    "                result['NumeroDeBilletes'] = valor\n",
    "                \n",
    "            if nodo.label() == 'Fecha':\n",
    "                result['Fecha'] = valor \n",
    "     \n",
    "    \n",
    "    for k,v in result.items():\n",
    "        \n",
    "        if v == None and k != 'Fecha':\n",
    "            result[k]=input('Ingrese {}:'.format(k))\n",
    "            \n",
    "        if v == None and k == 'Fecha':\n",
    "            result[k]=input('Ingrese la {} en el formato correcto. Ejemplo: 2 de Marzo:'.format(k))   \n",
    "                      \n",
    "    return result"
   ]
  },
  {
   "cell_type": "code",
   "execution_count": 16,
   "id": "ec1df0c9",
   "metadata": {},
   "outputs": [
    {
     "name": "stdout",
     "output_type": "stream",
     "text": [
      "Ingrese Origen:Sevilla\n",
      "Ingrese Aerolinea:VolandoVoyVolandoVengo\n"
     ]
    },
    {
     "data": {
      "text/plain": [
       "{'Origen': 'Sevilla',\n",
       " 'Destino': 'madrid',\n",
       " 'Aerolinea': 'VolandoVoyVolandoVengo',\n",
       " 'NumeroDeBilletes': 'un',\n",
       " 'Fecha': 'cinco de agosto'}"
      ]
     },
     "execution_count": 16,
     "metadata": {},
     "output_type": "execute_result"
    }
   ],
   "source": [
    "#This is an example to check\n",
    "genera_json(parsear(frase_regex))"
   ]
  },
  {
   "cell_type": "markdown",
   "id": "08862152",
   "metadata": {},
   "source": [
    "### Mic_conversion()"
   ]
  },
  {
   "cell_type": "code",
   "execution_count": 17,
   "id": "62bd351f",
   "metadata": {},
   "outputs": [],
   "source": [
    "import speech_recognition as sr\n",
    "import pyaudio\n",
    "\n",
    "# We instantiate the speech recognizer\n",
    "instancia = sr.Recognizer()\n",
    "# We instantiate the Microphone function for the microphone works\n",
    "mic= sr.Microphone()"
   ]
  },
  {
   "cell_type": "code",
   "execution_count": 18,
   "id": "19c540db",
   "metadata": {},
   "outputs": [],
   "source": [
    "def mic_conversion():\n",
    "    \"\"\"\n",
    "    Converts speech to text using the microphone as the audio source.\n",
    "\n",
    "    Returns:\n",
    "        str: The transcribed speech obtained from the microphone.\n",
    "\n",
    "    The function configures the microphone and removes ambient noise.\n",
    "    It records the audio and transcribes it using the Google Cloud Speech-to-Text API.\n",
    "\n",
    "    The resulting transcription is returned as a string.\n",
    "\n",
    "    The function handles exceptions in case there are issues with the API connection\n",
    "    (sr.RequestError) or if the audio cannot be understood (sr.UnknownValueError).\n",
    "    \"\"\"\n",
    "    try:\n",
    "        # Configuring the microphone and clearing ambient noise\n",
    "        with mic as source:\n",
    "            instancia.adjust_for_ambient_noise(source)\n",
    "\n",
    "            # Recording the audio and transcribing it using the Google Cloud Speech-to-Text API\n",
    "            audio = instancia.listen(source)\n",
    "            transcript = instancia.recognize_google(audio, language='es-ES', show_all=True)\n",
    "\n",
    "            # Returning the transcription\n",
    "            return transcript['alternative'][0]['transcript']\n",
    "\n",
    "    except sr.RequestError:\n",
    "        print(\"Failed to establish a connection to the Google Speech Recognition API.\")\n",
    "    except sr.UnknownValueError:\n",
    "        print(\"Failed to understand the audio.\")\n"
   ]
  },
  {
   "cell_type": "markdown",
   "id": "8c35d70d",
   "metadata": {},
   "source": [
    "### Speak()"
   ]
  },
  {
   "cell_type": "code",
   "execution_count": 19,
   "id": "b1342ca0",
   "metadata": {},
   "outputs": [],
   "source": [
    "import pyttsx3\n",
    "\n",
    "engine = pyttsx3.init()\n",
    "\n",
    "#Speed setting\n",
    "engine.setProperty('rate', 140)\n",
    "\n",
    "#Language settings\n",
    "engine.setProperty('voice', 'spanish')"
   ]
  },
  {
   "cell_type": "code",
   "execution_count": 20,
   "id": "625cd4cd",
   "metadata": {},
   "outputs": [],
   "source": [
    "def speak(texto):\n",
    "    \"\"\"\n",
    "    Converts the given text into speech and plays it using the initialized speech engine.\n",
    "\n",
    "    Args:\n",
    "        texto (str): The text to be converted into speech.\n",
    "\n",
    "    The function uses the initialized speech engine to convert the given text into speech.\n",
    "    It then plays the speech output.\n",
    "\n",
    "    Note:\n",
    "        Ensure that the pyttsx3 engine has been initialized before calling this function.\n",
    "\n",
    "    Example:\n",
    "        speak(\"Hello, how are you?\")  # Converts and plays the given text as speech.\n",
    "    \"\"\"\n",
    "    engine.say(texto)\n",
    "    engine.runAndWait()\n"
   ]
  },
  {
   "cell_type": "markdown",
   "id": "d3cdca0a",
   "metadata": {},
   "source": [
    "### Asistant()"
   ]
  },
  {
   "cell_type": "markdown",
   "id": "bdd3cbd9",
   "metadata": {},
   "source": [
    "You use the functions that you've created for the new function ``asistant`` . "
   ]
  },
  {
   "cell_type": "code",
   "execution_count": 21,
   "id": "256c08ca",
   "metadata": {},
   "outputs": [],
   "source": [
    "def asistant():\n",
    "    \"\"\"\n",
    "    Acts as a conversational assistant for flight booking.\n",
    "\n",
    "    Returns:\n",
    "        dict: A dictionary containing user-provided information for flight booking.\n",
    "\n",
    "    The function acts as a conversational assistant for flight booking.\n",
    "    It interacts with the user by providing spoken prompts, converting user speech to text,\n",
    "    tokenizing and tagging the user input, parsing the tagged input, and collecting user-provided\n",
    "    information related to flight booking.\n",
    "\n",
    "    The function utilizes several other functions:\n",
    "    - `speak()` to convert text to speech and play it.\n",
    "    - `mic_conversion()` to convert speech input from the microphone into text.\n",
    "    - `tokenizar()` to tokenize the user input into individual words.\n",
    "    - `hmm` for part-of-speech tagging.\n",
    "    - `parsear()` to parse the tagged user input into a tree structure.\n",
    "\n",
    "    The function prompts the user to provide information about the flight, including origin,\n",
    "    destination, airline, number of tickets, and date. It collects this information, performs\n",
    "    some validation, and returns the collected information as a dictionary.\n",
    "\n",
    "    Note:\n",
    "        Make sure to initialize the necessary components (e.g., speech engine, part-of-speech tagger)\n",
    "        and ensure the required libraries and models are installed before calling this function.\n",
    "    \"\"\"\n",
    "    speak (\"Hola, bienvenido a Skytotravel, ¿en que puedo ayudarle? \")\n",
    "    \n",
    "    user_input = mic_conversion()\n",
    "    \n",
    "    \n",
    "    \n",
    "    sentence_tokenized = tokenizar(user_input)\n",
    "      \n",
    "    sentence_tagged = hmm.tag(sentence_tokenized)\n",
    "    \n",
    "    sentence_parsed = parsear(sentence_tagged)\n",
    "    \n",
    "    \n",
    "    result = {'Origen': None, 'Destino': None, 'Aerolinea': None , 'NumeroDeBilletes': None, 'Fecha': None}\n",
    "    \n",
    "    for nodo in sentence_parsed:\n",
    "        \n",
    "        if type(nodo) != tuple:\n",
    "            \n",
    "            count = 0\n",
    "            valor = ''\n",
    "        \n",
    "            for elemento in nodo:\n",
    "                count += 1\n",
    "                palabra, categoria = elemento\n",
    "\n",
    "                if count == 1:\n",
    "                    valor = valor + palabra\n",
    "                else:\n",
    "                    valor = valor + ' ' + palabra\n",
    "\n",
    "            if nodo.label() == 'Origen':\n",
    "\n",
    "                result['Origen'] = valor\n",
    "\n",
    "            if nodo.label() == 'Destino':\n",
    "                result['Destino'] = valor\n",
    "            if nodo.label() == 'Aerolinea':\n",
    "                result['Aerolinea'] = valor\n",
    "            if nodo.label() == 'NumeroDeBilletes':\n",
    "                result['NumeroDeBilletes'] = valor\n",
    "            if nodo.label() == 'Fecha':\n",
    "                result['Fecha'] = valor \n",
    "     \n",
    "    for k,v in result.items():\n",
    "        \n",
    "        if v == None and k != 'Fecha':\n",
    "            speak('Ingrese {}:'.format(k))\n",
    "            result[k]= mic_conversion()\n",
    "            \n",
    "        if v == None and k == 'Fecha':\n",
    "            speak('Ingrese {}:'.format(k))\n",
    "            result[k]= mic_conversion()          \n",
    "\n",
    "    speak( \"Perfecto, comienzo la busqueda de tu viaje desde {} a {} para la fecha {} con {}.\"\n",
    "          .format(result[\"Origen\"],result[\"Destino\"], result[\"Fecha\"], result[\"Aerolinea\"],))\n",
    "    \n",
    "    return result"
   ]
  },
  {
   "cell_type": "markdown",
   "id": "996c90e5",
   "metadata": {},
   "source": [
    "### Skytotravel()"
   ]
  },
  {
   "cell_type": "markdown",
   "id": "168c8d29",
   "metadata": {},
   "source": [
    "You make sure your input is correct"
   ]
  },
  {
   "cell_type": "code",
   "execution_count": 22,
   "id": "e5db6bb2",
   "metadata": {},
   "outputs": [],
   "source": [
    "def skytotravel():\n",
    "    \"\"\"\n",
    "    Facilitates the process of booking a flight ticket using voice interaction.\n",
    "\n",
    "    Returns:\n",
    "        dict: A dictionary containing user-provided information for flight booking.\n",
    "\n",
    "    The function interacts with the user to collect information for flight booking.\n",
    "    It utilizes the `assistant()` function to collect details such as origin, destination,\n",
    "    airline, number of tickets, and date from the user.\n",
    "\n",
    "    The collected information is then presented to the user, who confirms whether the details are correct.\n",
    "    The user is prompted to respond with 'sí' or 'no' (yes or no). If the user confirms, the function proceeds\n",
    "    with the purchase process. If not, the user is prompted to provide the correct details.\n",
    "\n",
    "    Once the user confirms the correct details, the function proceeds to make the flight ticket purchase and\n",
    "    returns the collected information as a dictionary.\n",
    "\n",
    "    Note:\n",
    "        Make sure to initialize the necessary components (e.g., speech engine, part-of-speech tagger)\n",
    "        and ensure the required libraries and models are installed before calling this function.\n",
    "    \"\"\"\n",
    "    DatosBillete = asistant()\n",
    "\n",
    "    speak('Dime si están todos los datos correctos. Responde sí o no.')\n",
    "\n",
    "    user_input2 = mic_conversion()\n",
    "\n",
    "    afirmacion = ['si', 'sí']\n",
    "\n",
    "    while user_input2 not in afirmacion:\n",
    "        speak('Perdona, vuelve a realizar la consulta')\n",
    "\n",
    "        DatosBillete = asistant()\n",
    "\n",
    "        speak('Dime si están todos los datos correctos. Responde sí o no')\n",
    "\n",
    "        user_input2 = mic_conversion()\n",
    "\n",
    "    speak('Vale, procedo a realizar tu compra')\n",
    "\n",
    "    return DatosBillete\n"
   ]
  },
  {
   "cell_type": "markdown",
   "id": "e4e2e4c8",
   "metadata": {},
   "source": [
    "## MySQL"
   ]
  },
  {
   "cell_type": "markdown",
   "id": "326e6705",
   "metadata": {},
   "source": [
    "You create a table in SQL to save your data"
   ]
  },
  {
   "cell_type": "code",
   "execution_count": 23,
   "id": "586811c6",
   "metadata": {},
   "outputs": [],
   "source": [
    "import mysql.connector\n",
    "import pandas as pd"
   ]
  },
  {
   "cell_type": "markdown",
   "id": "680e49ad",
   "metadata": {},
   "source": [
    "### Create database"
   ]
  },
  {
   "cell_type": "code",
   "execution_count": 24,
   "id": "af0f9dde",
   "metadata": {},
   "outputs": [],
   "source": [
    "#Connections\n",
    "warnings.filterwarnings(\"ignore\")\n",
    "db = mysql.connector.connect(\n",
    "    host = \"insert_your_host\",\n",
    "    user = \"insert_your_user\",\n",
    "    password= \"insert_your_pasword\"\n",
    "    \n",
    ")"
   ]
  },
  {
   "cell_type": "code",
   "execution_count": 25,
   "id": "fd0ba41d",
   "metadata": {},
   "outputs": [],
   "source": [
    "cursor = db.cursor()"
   ]
  },
  {
   "cell_type": "code",
   "execution_count": 26,
   "id": "6e73b083",
   "metadata": {
    "scrolled": true
   },
   "outputs": [],
   "source": [
    "try:\n",
    "    cursor.execute(\"CREATE DATABASE sky2travel\")\n",
    "    db.commit()\n",
    "except mysql.connector.errors.DatabaseError:\n",
    "    # Database already exists, do nothing\n",
    "    pass\n"
   ]
  },
  {
   "cell_type": "markdown",
   "id": "f2432ce8",
   "metadata": {},
   "source": [
    "### Create table"
   ]
  },
  {
   "cell_type": "code",
   "execution_count": 27,
   "id": "596052c9",
   "metadata": {},
   "outputs": [],
   "source": [
    "#SQL Function\n",
    "def sql(_query):\n",
    "    return pd.read_sql_query(_query,db)\n"
   ]
  },
  {
   "cell_type": "code",
   "execution_count": 28,
   "id": "cf0132e3",
   "metadata": {},
   "outputs": [],
   "source": [
    "#Connections\n",
    "warnings.filterwarnings(\"ignore\")\n",
    "db = mysql.connector.connect(\n",
    "    host = \"insert_your_host\",\n",
    "    user = \"insert_your_user\",\n",
    "    password= \"insert_your_password\",\n",
    "    database= \"sky2travel\"\n",
    "    \n",
    ")"
   ]
  },
  {
   "cell_type": "code",
   "execution_count": 29,
   "id": "ceefd5da",
   "metadata": {},
   "outputs": [],
   "source": [
    "cursor = db.cursor()"
   ]
  },
  {
   "cell_type": "code",
   "execution_count": 30,
   "id": "56f175c9",
   "metadata": {},
   "outputs": [],
   "source": [
    "query_compras = \"\"\"\n",
    "    \n",
    "    CREATE TABLE IF NOT EXISTS compras (\n",
    "        \n",
    "        id_compra int NOT NULL AUTO_INCREMENT,\n",
    "        NumeroDeBilletes varchar(50),\n",
    "        Destino varchar(50),\n",
    "        Fecha varchar(50), \n",
    "        Origen varchar(50),\n",
    "        Aerolinea varchar(50),\n",
    "        PRIMARY KEY (id_compra)\n",
    "    )\n",
    "    \n",
    "\"\"\"\n",
    "\n",
    "cursor.execute(query_compras)\n",
    "db.commit()\n"
   ]
  },
  {
   "cell_type": "markdown",
   "id": "e0300f6f",
   "metadata": {},
   "source": [
    "### Fill the table"
   ]
  },
  {
   "cell_type": "markdown",
   "id": "f5d0f1de",
   "metadata": {},
   "source": [
    "You fill the SQL table  "
   ]
  },
  {
   "cell_type": "code",
   "execution_count": 31,
   "id": "001d36e8",
   "metadata": {},
   "outputs": [],
   "source": [
    "def pedir_billete():\n",
    "    \"\"\"\n",
    "    Facilitates the process of booking a flight ticket and saves the booking details to the database.\n",
    "\n",
    "    The function utilizes the `skytotravel()` function to collect user-provided information for flight booking.\n",
    "    It then prepares an SQL query to insert the booking details into the 'compras' table of the database.\n",
    "\n",
    "    The collected information is inserted into the database using the prepared query, and the changes are committed.\n",
    "\n",
    "    Note:\n",
    "        Make sure to establish a valid database connection (`db`) and initialize the necessary components\n",
    "        (e.g., speech engine, part-of-speech tagger) before calling this function.\n",
    "        Also, ensure that the required libraries and dependencies, including the database connector, are installed.\n",
    "    \"\"\"\n",
    "\n",
    "    DatosBillete = skytotravel()\n",
    "\n",
    "    query = \"\"\"\n",
    "    INSERT INTO compras\n",
    "    (Origen, Destino, Aerolinea, NumeroDeBilletes, Fecha)\n",
    "    VALUES(%s, %s, %s, %s, %s)\n",
    "    \"\"\"\n",
    "    valores = tuple(DatosBillete.values())\n",
    "\n",
    "    cursor.execute(query, valores)\n",
    "\n",
    "    db.commit()"
   ]
  },
  {
   "cell_type": "code",
   "execution_count": 32,
   "id": "6f2baae4",
   "metadata": {},
   "outputs": [],
   "source": [
    "#You should wait 2-3 seconds before talk to better recognition.\n",
    "pedir_billete()"
   ]
  },
  {
   "cell_type": "markdown",
   "id": "d915c6bf",
   "metadata": {},
   "source": [
    "Now, you can see your workbench in MySQL and TADA!"
   ]
  },
  {
   "cell_type": "code",
   "execution_count": null,
   "id": "7b7e41bf",
   "metadata": {},
   "outputs": [],
   "source": []
  }
 ],
 "metadata": {
  "kernelspec": {
   "display_name": "Python 3 (ipykernel)",
   "language": "python",
   "name": "python3"
  },
  "language_info": {
   "codemirror_mode": {
    "name": "ipython",
    "version": 3
   },
   "file_extension": ".py",
   "mimetype": "text/x-python",
   "name": "python",
   "nbconvert_exporter": "python",
   "pygments_lexer": "ipython3",
   "version": "3.9.13"
  },
  "toc": {
   "base_numbering": 1,
   "nav_menu": {},
   "number_sections": true,
   "sideBar": true,
   "skip_h1_title": false,
   "title_cell": "Table of Contents",
   "title_sidebar": "Contents",
   "toc_cell": false,
   "toc_position": {
    "height": "calc(100% - 180px)",
    "left": "10px",
    "top": "150px",
    "width": "320px"
   },
   "toc_section_display": true,
   "toc_window_display": false
  },
  "varInspector": {
   "cols": {
    "lenName": 16,
    "lenType": 16,
    "lenVar": 40
   },
   "kernels_config": {
    "python": {
     "delete_cmd_postfix": "",
     "delete_cmd_prefix": "del ",
     "library": "var_list.py",
     "varRefreshCmd": "print(var_dic_list())"
    },
    "r": {
     "delete_cmd_postfix": ") ",
     "delete_cmd_prefix": "rm(",
     "library": "var_list.r",
     "varRefreshCmd": "cat(var_dic_list()) "
    }
   },
   "types_to_exclude": [
    "module",
    "function",
    "builtin_function_or_method",
    "instance",
    "_Feature"
   ],
   "window_display": false
  }
 },
 "nbformat": 4,
 "nbformat_minor": 5
}
