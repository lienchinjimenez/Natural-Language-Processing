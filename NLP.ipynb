{
 "cells": [
  {
   "cell_type": "markdown",
   "id": "ae3e807a",
   "metadata": {},
   "source": [
    "These notes were prepared following the classes of Daniel Rubio Yagüe in the NLP module of the Data Science Master Oct22-23 at Assembler Institute, expanding on additional information gathered through personal research."
   ]
  },
  {
   "cell_type": "markdown",
   "id": "0ee8d575",
   "metadata": {},
   "source": [
    "# What is Natural Language Processing?\n",
    "Natural Language Processing (NLP) is a branch of artificial intelligence that focuses on the study of interaction between computers and humans in natural language. The goal of NLP is to enable computers to understand, interpret, and generate human language effectively and accurately.\n",
    "\n",
    "## Functions of NLP\n",
    "\n",
    "Sentiment Analysis: NLP can analyze and classify the emotional tone of text, which is useful in monitoring customer satisfaction, detecting political opinions, and identifying trends in social media.\n",
    "\n",
    "Information Extraction: NLP can extract key information from documents or texts, including names of people, places, organizations, and dates. This function is used in information retrieval, news analysis, and document processing.\n",
    "\n",
    "Automatic Translation: NLP enables automatic translation of texts from one language to another. This function is used in international communication, education, and international trade.\n",
    "\n",
    "Text Generation: NLP can automatically generate coherent and well-structured text, which is useful in creating summaries, reports, and articles.\n",
    "\n",
    "Speech Recognition: NLP can convert speech into written text, which is useful in transcription of recordings, real-time transcription, and automation of voice-based tasks.\n",
    "\n",
    "Text Analysis: NLP can analyze and classify text based on certain criteria, such as identification of themes, pattern detection, and grouping of similar texts. This function is used in data analysis, topic modeling, and text mining.\n",
    "\n",
    "html\n"
   ]
  },
  {
   "cell_type": "markdown",
   "id": "74e489c2",
   "metadata": {},
   "source": [
    "# Introduction to NLP"
   ]
  },
  {
   "cell_type": "code",
   "execution_count": 108,
   "id": "b2ca3ee5",
   "metadata": {},
   "outputs": [],
   "source": [
    "from assembler import pln\n",
    "import nltk\n",
    "from nltk.chunk.regexp import *\n",
    "from nltk.tokenize import word_tokenize"
   ]
  },
  {
   "cell_type": "markdown",
   "id": "6a3cfff8",
   "metadata": {},
   "source": [
    "## Word Tokenisation\n",
    "\n",
    "\n",
    "\n",
    "##### What is tokenization?\n",
    "\n",
    "Tokenization in natural language processing (NLP) is the process of dividing a text into smaller units called tokens. A token is a sequence of consecutive characters that form a unique semantic unit, such as a word, a number, punctuation, a symbol, or even a combination of them.\n",
    "\n",
    "Tokenization is a fundamental task in NLP, as many text processing algorithms require the input text to be divided into tokens in order to work effectively."
   ]
  },
  {
   "cell_type": "markdown",
   "id": "323a5b27",
   "metadata": {},
   "source": [
    "##### NLTK Word Tokenize\n",
    "\n",
    "\n",
    "NLTK (Natural Language Toolkit) is a widely-used Python library in natural language processing.\n",
    "\n",
    "The library has the `word_tokenize()` function that performs word tokenization on a text. It takes a text as input and returns a list of word tokens, where each element of the list is a word from the original text. The function also takes into account other aspects of natural language, such as contractions and punctuation marks, to properly split the text into individual words."
   ]
  },
  {
   "cell_type": "markdown",
   "id": "35e3f680",
   "metadata": {},
   "source": [
    "`word_tokenize(t,i)` \n",
    "\n",
    "t is the text string that needs to be tokenized.\n",
    "\n",
    "i is optional; it specifies the language of the input text."
   ]
  },
  {
   "cell_type": "code",
   "execution_count": 2,
   "id": "317f2f57",
   "metadata": {},
   "outputs": [],
   "source": [
    "frase = 'Estoy aprendiendo Procesamiento del Lenguaje Natural y me gusta'"
   ]
  },
  {
   "cell_type": "code",
   "execution_count": 3,
   "id": "97c6a177",
   "metadata": {},
   "outputs": [
    {
     "name": "stdout",
     "output_type": "stream",
     "text": [
      "['estoy', 'aprendiendo', 'procesamiento', 'del', 'lenguaje', 'natural', 'y', 'me', 'gusta']\n"
     ]
    }
   ],
   "source": [
    "tokens = word_tokenize(frase, \"spanish\") \n",
    "\n",
    "tokens = [word.lower() for word in tokens if word.isalpha()]\n",
    "\n",
    "print(tokens)"
   ]
  },
  {
   "cell_type": "markdown",
   "id": "643bbf14",
   "metadata": {},
   "source": [
    "`tokens = [word.lower() for word in tokens if word.isalpha()]`: This line takes the list of tokens created in the previous line and converts it into a new list (tokens) that only contains lowercase alphabetic words. The line uses a syntax known as list comprehension in Python to achieve this. In the list comprehension, each element of the tokens list is taken in order and checked if it is an alphabetic word using the method isalpha(). If the element is an alphabetic word, it is converted to lowercase using the lower() method and added to the new tokens list. If the element is not an alphabetic word, it is skipped and the next element in the list is considered. At the end, the new tokens list only contains lowercase alphabetic words.\n",
    "\n",
    "lower() is used to normalize the format of all the words.\n",
    "\n",
    "isalpha() is used to evaluate each token as true or false depending on whether it is a word or not. This way, all punctuation marks, numbers, symbols, etc. are discarded."
   ]
  },
  {
   "cell_type": "markdown",
   "id": "319704e4",
   "metadata": {},
   "source": [
    "## Stop Words\n",
    "\n",
    "\n",
    "\n",
    "The stopwords package is imported from NLTK.\n",
    "\n",
    "##### What are Stop Words?\n",
    "\n",
    "Stopwords is a list of common words that are considered irrelevant for text analysis in natural language processing (NLP). These words are words such as \"a\", \"the\", \"and\", \"in\", etc., that is, articles, conjunctions, determiners, auxiliary verbs, etc., that do not contribute much meaning to the analysis of a text and therefore can be removed to improve the effectiveness of text processing."
   ]
  },
  {
   "cell_type": "code",
   "execution_count": 4,
   "id": "bc1ab010",
   "metadata": {},
   "outputs": [
    {
     "name": "stdout",
     "output_type": "stream",
     "text": [
      "['de', 'la', 'que', 'el', 'en', 'y', 'a', 'los', 'del', 'se', 'las', 'por', 'un', 'para', 'con', 'no', 'una', 'su', 'al', 'lo', 'como', 'más', 'pero', 'sus', 'le', 'ya', 'o', 'este', 'sí', 'porque', 'esta', 'entre', 'cuando', 'muy', 'sin', 'sobre', 'también', 'me', 'hasta', 'hay', 'donde', 'quien', 'desde', 'todo', 'nos', 'durante', 'todos', 'uno', 'les', 'ni', 'contra', 'otros', 'ese', 'eso', 'ante', 'ellos', 'e', 'esto', 'mí', 'antes', 'algunos', 'qué', 'unos', 'yo', 'otro', 'otras', 'otra', 'él', 'tanto', 'esa', 'estos', 'mucho', 'quienes', 'nada', 'muchos', 'cual', 'poco', 'ella', 'estar', 'estas', 'algunas', 'algo', 'nosotros', 'mi', 'mis', 'tú', 'te', 'ti', 'tu', 'tus', 'ellas', 'nosotras', 'vosotros', 'vosotras', 'os', 'mío', 'mía', 'míos', 'mías', 'tuyo', 'tuya', 'tuyos', 'tuyas', 'suyo', 'suya', 'suyos', 'suyas', 'nuestro', 'nuestra', 'nuestros', 'nuestras', 'vuestro', 'vuestra', 'vuestros', 'vuestras', 'esos', 'esas', 'estoy', 'estás', 'está', 'estamos', 'estáis', 'están', 'esté', 'estés', 'estemos', 'estéis', 'estén', 'estaré', 'estarás', 'estará', 'estaremos', 'estaréis', 'estarán', 'estaría', 'estarías', 'estaríamos', 'estaríais', 'estarían', 'estaba', 'estabas', 'estábamos', 'estabais', 'estaban', 'estuve', 'estuviste', 'estuvo', 'estuvimos', 'estuvisteis', 'estuvieron', 'estuviera', 'estuvieras', 'estuviéramos', 'estuvierais', 'estuvieran', 'estuviese', 'estuvieses', 'estuviésemos', 'estuvieseis', 'estuviesen', 'estando', 'estado', 'estada', 'estados', 'estadas', 'estad', 'he', 'has', 'ha', 'hemos', 'habéis', 'han', 'haya', 'hayas', 'hayamos', 'hayáis', 'hayan', 'habré', 'habrás', 'habrá', 'habremos', 'habréis', 'habrán', 'habría', 'habrías', 'habríamos', 'habríais', 'habrían', 'había', 'habías', 'habíamos', 'habíais', 'habían', 'hube', 'hubiste', 'hubo', 'hubimos', 'hubisteis', 'hubieron', 'hubiera', 'hubieras', 'hubiéramos', 'hubierais', 'hubieran', 'hubiese', 'hubieses', 'hubiésemos', 'hubieseis', 'hubiesen', 'habiendo', 'habido', 'habida', 'habidos', 'habidas', 'soy', 'eres', 'es', 'somos', 'sois', 'son', 'sea', 'seas', 'seamos', 'seáis', 'sean', 'seré', 'serás', 'será', 'seremos', 'seréis', 'serán', 'sería', 'serías', 'seríamos', 'seríais', 'serían', 'era', 'eras', 'éramos', 'erais', 'eran', 'fui', 'fuiste', 'fue', 'fuimos', 'fuisteis', 'fueron', 'fuera', 'fueras', 'fuéramos', 'fuerais', 'fueran', 'fuese', 'fueses', 'fuésemos', 'fueseis', 'fuesen', 'sintiendo', 'sentido', 'sentida', 'sentidos', 'sentidas', 'siente', 'sentid', 'tengo', 'tienes', 'tiene', 'tenemos', 'tenéis', 'tienen', 'tenga', 'tengas', 'tengamos', 'tengáis', 'tengan', 'tendré', 'tendrás', 'tendrá', 'tendremos', 'tendréis', 'tendrán', 'tendría', 'tendrías', 'tendríamos', 'tendríais', 'tendrían', 'tenía', 'tenías', 'teníamos', 'teníais', 'tenían', 'tuve', 'tuviste', 'tuvo', 'tuvimos', 'tuvisteis', 'tuvieron', 'tuviera', 'tuvieras', 'tuviéramos', 'tuvierais', 'tuvieran', 'tuviese', 'tuvieses', 'tuviésemos', 'tuvieseis', 'tuviesen', 'teniendo', 'tenido', 'tenida', 'tenidos', 'tenidas', 'tened']\n"
     ]
    }
   ],
   "source": [
    "from nltk.corpus import stopwords\n",
    "\n",
    "# Show the words contained within stopwords\n",
    "print(stopwords.words('spanish'))"
   ]
  },
  {
   "cell_type": "markdown",
   "id": "3f7d118e",
   "metadata": {},
   "source": [
    "We remove stopwords from the text by applying a loop in the list:"
   ]
  },
  {
   "cell_type": "code",
   "execution_count": 5,
   "id": "5f6fc878",
   "metadata": {},
   "outputs": [
    {
     "name": "stdout",
     "output_type": "stream",
     "text": [
      "['aprendiendo', 'procesamiento', 'lenguaje', 'natural', 'gusta']\n"
     ]
    }
   ],
   "source": [
    "clean_tokens= tokens[:]\n",
    "\n",
    "for token in tokens:\n",
    "    \n",
    "    if token in stopwords.words('spanish'):\n",
    "        \n",
    "        clean_tokens.remove(token)\n",
    "        \n",
    "print(clean_tokens)"
   ]
  },
  {
   "cell_type": "markdown",
   "id": "436f092e",
   "metadata": {},
   "source": [
    "## Stemming\n",
    "\n",
    "\n",
    "**Stemming**  is a process in natural language processing that involves reducing words to their common root or base, known as a stem. The stem may not be a complete word, but it represents the semantic core of the word.\n",
    "\n",
    "The goal of stemming is to reduce the variations of a word to a common form so that they can be grouped and analyzed together.\n",
    "\n",
    "For example, the verbs \"run,\" \"running,\" \"runs,\" and \"ran\" have the same root, \"run,\" and can therefore be reduced to a single form for analysis.\n",
    "\n"
    "The **Snowball** algorithm uses a rule-based stemming approach rather than a dictionary-based approach. Instead of simply removing word suffixes, as the Porter algorithm does, the Snowball algorithm uses a series of predefined rules to manipulate the word and more accurately remove suffixes and prefixes.\n",
    "\n",
    "As this stemmer is multi-language, we will have to specify which language we want to use.\n",
    "\n",
    "You can consult all available languages, along with further documentation, at:\n",
    "\n",
    "https://www.nltk.org/_modules/nltk/stem/snowball.html"
   ]
  },
  {
   "cell_type": "code",
   "execution_count": 6,
   "id": "a9d6e10e",
   "metadata": {},
   "outputs": [],
   "source": [
    "from nltk.stem import SnowballStemmer\n",
    "\n",
    "spanish_stemmer= SnowballStemmer('spanish')"
   ]
  },
  {
   "cell_type": "markdown",
   "id": "a22964b9",
   "metadata": {},
   "source": [
    "Cargamos los tokens sin stopwords (se puede hacer con stopwords igualmente):"
   ]
  },
  {
   "cell_type": "code",
   "execution_count": 7,
   "id": "6dff112d",
   "metadata": {},
   "outputs": [
    {
     "data": {
      "text/plain": [
       "['aprend', 'proces', 'lenguaj', 'natural', 'gust']"
      ]
     },
     "execution_count": 7,
     "metadata": {},
     "output_type": "execute_result"
    }
   ],
   "source": [
    "stem_tokens = []\n",
    "\n",
    "for token in clean_tokens:\n",
    "    stem_tokens.append(spanish_stemmer.stem(token))\n",
    "    \n",
    "stem_tokens"
   ]
  },
  {
   "cell_type": "markdown",
   "id": "9d123645",
   "metadata": {},
   "source": [
    "##### Lematization\n",
    "\n",
    "\n",
    "<p style=\"text-align: justify;\"> Lematization is a process in natural language processing that involves reducing words to their base form, known as a lemma. Unlike stemming, which reduces words to their root form, lemmatization reduces words to a canonical form that is a true lemma of the language. </p>\n",
    "<p style=\"text-align: justify;\">Examples include:</p>\n",
    "<p style=\"text-align: justify;\"> Verbs: Running -> Run, Eating -> Eat </p>\n",
    "<p style=\"text-align: justify;\"> Plurals: Tables -> Table </p>\n",
    "<p style=\"text-align: justify;\">Differences between Lemmatization and Stemming</p>\n",
    "<p style=\"text-align: justify;\">> Lemmatization: More sophistication. The lemma varies according to its use in the sentence. </p>\n",
    "<p style=\"text-align: justify;\">Lemmatization is a more sophisticated process than stemming because it involves knowing the part of speech (POS) of each word in the sentence, so that its appropriate canonical form can be determined. For example, the word \"running\" could be a verb or an adjective, and its lemma will vary depending on its use in the sentence.</p>\n",
    "<p style=\"text-align: justify;\">> More accuracy than stemming. Takes into account the context and syntax of the sentence.</p>\n",
    "<p style=\"text-align: justify;\">> Stemming, on the other hand, involves reducing words to their root form, which is the common form shared by all words derived from that root. For example, the root of \"running\" is \"run\". Stemming uses a rule-based approach to remove suffixes from words and reduce them to their common form. "For example, if you have "mice,\" word, the stem is "mice".</p>"
   ]
  },
  {
   "cell_type": "markdown",
   "id": "a8a00e63",
   "metadata": {},
   "source": [
    "Spacy (Python library). Functions: POS (part-of-speech) tagging, parsing, named entity recognition, pre-trained models for various languages, etc."
   ]
  },
  {
   "cell_type": "code",
   "execution_count": 8,
   "id": "4646cf3d",
   "metadata": {},
   "outputs": [],
   "source": [
    "import spacy\n",
    "\n",
    "nlp= spacy.load('es_core_news_sm')"
   ]
  },
  {
   "cell_type": "code",
   "execution_count": 9,
   "id": "b72551cd",
   "metadata": {},
   "outputs": [
    {
     "name": "stdout",
     "output_type": "stream",
     "text": [
      "['aprender', 'procesamiento', 'lenguaje', 'natural', 'gustar']\n"
     ]
    }
   ],
   "source": [
    "lem_tokens= []\n",
    "\n",
    "separator= ' '\n",
    "\n",
    "for token in nlp(separator.join(clean_tokens)):\n",
    "    \n",
    "    lem_tokens.append(token.lemma_)\n",
    "    \n",
    "print(lem_tokens)"
   ]
  },
  {
   "cell_type": "markdown",
   "id": "8e768cc2",
   "metadata": {},
   "source": [
    "## Grammar PLN"
   ]
  },
  {
   "cell_type": "code",
   "execution_count": 10,
   "id": "149c1a17",
   "metadata": {},
   "outputs": [],
   "source": [
    "#Libraries and installation\n",
    "\n",
    "import nltk\n",
    "\n",
    "from nltk.tokenize import word_tokenize\n",
    "\n",
    "from nltk.chunk.regexp import *"
   ]
  },
  {
   "cell_type": "markdown",
   "id": "21312f70",
   "metadata": {},
   "source": [
    "**Note**: `RegexpChunkParser` is used to define regular expression patterns that can be used to search and extract syntactic patterns from sentences or text. It also provides functions for labelling named entities in text."
   ]
  },
  {
   "cell_type": "code",
   "execution_count": 11,
   "id": "d80ed15a",
   "metadata": {},
   "outputs": [],
   "source": [
    "def tokenizar(_frase):\n",
    "    \n",
    "    return word_tokenize(_frase, 'english')"
   ]
  },
  {
   "cell_type": "code",
   "execution_count": 12,
   "id": "f2345082",
   "metadata": {},
   "outputs": [],
   "source": [
    "ejemplo= 'I want a dress for a wedding'\n",
    "\n",
    "tokens= tokenizar(ejemplo)"
   ]
  },
  {
   "cell_type": "code",
   "execution_count": 13,
   "id": "d999c303",
   "metadata": {},
   "outputs": [
    {
     "name": "stdout",
     "output_type": "stream",
     "text": [
      "['i', 'want', 'a', 'dress', 'for', 'a', 'wedding']\n"
     ]
    }
   ],
   "source": [
    "tokens= [word.lower() for word in tokens if word.isalpha()]\n",
    "\n",
    "print(tokens)"
   ]
  },
  {
   "cell_type": "markdown",
   "id": "33d01c29",
   "metadata": {},
   "source": [
    "#### Morphological Analysis"
   ]
  },
  {
   "cell_type": "code",
   "execution_count": 14,
   "id": "fdb5cf34",
   "metadata": {},
   "outputs": [
    {
     "data": {
      "text/plain": [
       "[('i', 'NN'),\n",
       " ('want', 'VBP'),\n",
       " ('a', 'DT'),\n",
       " ('dress', 'NN'),\n",
       " ('for', 'IN'),\n",
       " ('a', 'DT'),\n",
       " ('wedding', 'NN')]"
      ]
     },
     "execution_count": 14,
     "metadata": {},
     "output_type": "execute_result"
    }
   ],
   "source": [
    "nltk.pos_tag(tokens)"
   ]
  },
  {
   "cell_type": "markdown",
   "id": "1a346ed8",
   "metadata": {},
   "source": [
    "#### Syntactic Analysis"
   ]
  },
  {
   "cell_type": "code",
   "execution_count": 15,
   "id": "687588d5",
   "metadata": {},
   "outputs": [
    {
     "data": {
      "image/svg+xml": [
       "<svg baseProfile=\"full\" height=\"312px\" preserveAspectRatio=\"xMidYMid meet\" style=\"font-family: times, serif; font-weight:normal; font-style: normal; font-size: 16px;\" version=\"1.1\" viewBox=\"0,0,856.0,312.0\" width=\"856px\" xmlns=\"http://www.w3.org/2000/svg\" xmlns:ev=\"http://www.w3.org/2001/xml-events\" xmlns:xlink=\"http://www.w3.org/1999/xlink\"><defs /><svg width=\"100%\" x=\"0\" y=\"0em\"><defs /><text text-anchor=\"middle\" x=\"50%\" y=\"1em\">S</text></svg><svg width=\"35.514%\" x=\"0%\" y=\"3em\"><defs /><svg width=\"100%\" x=\"0\" y=\"0em\"><defs /><text text-anchor=\"middle\" x=\"50%\" y=\"1em\">NP-SBJ</text></svg><svg width=\"42.1053%\" x=\"0%\" y=\"3em\"><defs /><svg width=\"100%\" x=\"0\" y=\"0em\"><defs /><text text-anchor=\"middle\" x=\"50%\" y=\"1em\">NP</text></svg><svg width=\"50%\" x=\"0%\" y=\"3em\"><defs /><svg width=\"100%\" x=\"0\" y=\"0em\"><defs /><text text-anchor=\"middle\" x=\"50%\" y=\"1em\">NNP</text></svg><svg width=\"100%\" x=\"0%\" y=\"3em\"><defs /><svg width=\"100%\" x=\"0\" y=\"0em\"><defs /><text text-anchor=\"middle\" x=\"50%\" y=\"1em\">Pierre</text></svg></svg><line stroke=\"black\" x1=\"50%\" x2=\"50%\" y1=\"1.2em\" y2=\"3em\" /></svg><line stroke=\"black\" x1=\"50%\" x2=\"25%\" y1=\"1.2em\" y2=\"3em\" /><svg width=\"50%\" x=\"50%\" y=\"3em\"><defs /><svg width=\"100%\" x=\"0\" y=\"0em\"><defs /><text text-anchor=\"middle\" x=\"50%\" y=\"1em\">NNP</text></svg><svg width=\"100%\" x=\"0%\" y=\"3em\"><defs /><svg width=\"100%\" x=\"0\" y=\"0em\"><defs /><text text-anchor=\"middle\" x=\"50%\" y=\"1em\">Vinken</text></svg></svg><line stroke=\"black\" x1=\"50%\" x2=\"50%\" y1=\"1.2em\" y2=\"3em\" /></svg><line stroke=\"black\" x1=\"50%\" x2=\"75%\" y1=\"1.2em\" y2=\"3em\" /></svg><line stroke=\"black\" x1=\"50%\" x2=\"21.0526%\" y1=\"1.2em\" y2=\"3em\" /><svg width=\"7.89474%\" x=\"42.1053%\" y=\"3em\"><defs /><svg width=\"100%\" x=\"0\" y=\"0em\"><defs /><text text-anchor=\"middle\" x=\"50%\" y=\"1em\">,</text></svg><svg width=\"100%\" x=\"0%\" y=\"3em\"><defs /><svg width=\"100%\" x=\"0\" y=\"0em\"><defs /><text text-anchor=\"middle\" x=\"50%\" y=\"1em\">,</text></svg></svg><line stroke=\"black\" x1=\"50%\" x2=\"50%\" y1=\"1.2em\" y2=\"3em\" /></svg><line stroke=\"black\" x1=\"50%\" x2=\"46.0526%\" y1=\"1.2em\" y2=\"3em\" /><svg width=\"42.1053%\" x=\"50%\" y=\"3em\"><defs /><svg width=\"100%\" x=\"0\" y=\"0em\"><defs /><text text-anchor=\"middle\" x=\"50%\" y=\"1em\">ADJP</text></svg><svg width=\"68.75%\" x=\"0%\" y=\"3em\"><defs /><svg width=\"100%\" x=\"0\" y=\"0em\"><defs /><text text-anchor=\"middle\" x=\"50%\" y=\"1em\">NP</text></svg><svg width=\"36.3636%\" x=\"0%\" y=\"3em\"><defs /><svg width=\"100%\" x=\"0\" y=\"0em\"><defs /><text text-anchor=\"middle\" x=\"50%\" y=\"1em\">CD</text></svg><svg width=\"100%\" x=\"0%\" y=\"3em\"><defs /><svg width=\"100%\" x=\"0\" y=\"0em\"><defs /><text text-anchor=\"middle\" x=\"50%\" y=\"1em\">61</text></svg></svg><line stroke=\"black\" x1=\"50%\" x2=\"50%\" y1=\"1.2em\" y2=\"3em\" /></svg><line stroke=\"black\" x1=\"50%\" x2=\"18.1818%\" y1=\"1.2em\" y2=\"3em\" /><svg width=\"63.6364%\" x=\"36.3636%\" y=\"3em\"><defs /><svg width=\"100%\" x=\"0\" y=\"0em\"><defs /><text text-anchor=\"middle\" x=\"50%\" y=\"1em\">NNS</text></svg><svg width=\"100%\" x=\"0%\" y=\"3em\"><defs /><svg width=\"100%\" x=\"0\" y=\"0em\"><defs /><text text-anchor=\"middle\" x=\"50%\" y=\"1em\">years</text></svg></svg><line stroke=\"black\" x1=\"50%\" x2=\"50%\" y1=\"1.2em\" y2=\"3em\" /></svg><line stroke=\"black\" x1=\"50%\" x2=\"68.1818%\" y1=\"1.2em\" y2=\"3em\" /></svg><line stroke=\"black\" x1=\"50%\" x2=\"34.375%\" y1=\"1.2em\" y2=\"3em\" /><svg width=\"31.25%\" x=\"68.75%\" y=\"3em\"><defs /><svg width=\"100%\" x=\"0\" y=\"0em\"><defs /><text text-anchor=\"middle\" x=\"50%\" y=\"1em\">JJ</text></svg><svg width=\"100%\" x=\"0%\" y=\"3em\"><defs /><svg width=\"100%\" x=\"0\" y=\"0em\"><defs /><text text-anchor=\"middle\" x=\"50%\" y=\"1em\">old</text></svg></svg><line stroke=\"black\" x1=\"50%\" x2=\"50%\" y1=\"1.2em\" y2=\"3em\" /></svg><line stroke=\"black\" x1=\"50%\" x2=\"84.375%\" y1=\"1.2em\" y2=\"3em\" /></svg><line stroke=\"black\" x1=\"50%\" x2=\"71.0526%\" y1=\"1.2em\" y2=\"3em\" /><svg width=\"7.89474%\" x=\"92.1053%\" y=\"3em\"><defs /><svg width=\"100%\" x=\"0\" y=\"0em\"><defs /><text text-anchor=\"middle\" x=\"50%\" y=\"1em\">,</text></svg><svg width=\"100%\" x=\"0%\" y=\"3em\"><defs /><svg width=\"100%\" x=\"0\" y=\"0em\"><defs /><text text-anchor=\"middle\" x=\"50%\" y=\"1em\">,</text></svg></svg><line stroke=\"black\" x1=\"50%\" x2=\"50%\" y1=\"1.2em\" y2=\"3em\" /></svg><line stroke=\"black\" x1=\"50%\" x2=\"96.0526%\" y1=\"1.2em\" y2=\"3em\" /></svg><line stroke=\"black\" x1=\"50%\" x2=\"17.757%\" y1=\"1.2em\" y2=\"3em\" /><svg width=\"61.6822%\" x=\"35.514%\" y=\"3em\"><defs /><svg width=\"100%\" x=\"0\" y=\"0em\"><defs /><text text-anchor=\"middle\" x=\"50%\" y=\"1em\">VP</text></svg><svg width=\"9.09091%\" x=\"0%\" y=\"3em\"><defs /><svg width=\"100%\" x=\"0\" y=\"0em\"><defs /><text text-anchor=\"middle\" x=\"50%\" y=\"1em\">MD</text></svg><svg width=\"100%\" x=\"0%\" y=\"3em\"><defs /><svg width=\"100%\" x=\"0\" y=\"0em\"><defs /><text text-anchor=\"middle\" x=\"50%\" y=\"1em\">will</text></svg></svg><line stroke=\"black\" x1=\"50%\" x2=\"50%\" y1=\"1.2em\" y2=\"3em\" /></svg><line stroke=\"black\" x1=\"50%\" x2=\"4.54545%\" y1=\"1.2em\" y2=\"3em\" /><svg width=\"90.9091%\" x=\"9.09091%\" y=\"3em\"><defs /><svg width=\"100%\" x=\"0\" y=\"0em\"><defs /><text text-anchor=\"middle\" x=\"50%\" y=\"1em\">VP</text></svg><svg width=\"10%\" x=\"0%\" y=\"3em\"><defs /><svg width=\"100%\" x=\"0\" y=\"0em\"><defs /><text text-anchor=\"middle\" x=\"50%\" y=\"1em\">VB</text></svg><svg width=\"100%\" x=\"0%\" y=\"3em\"><defs /><svg width=\"100%\" x=\"0\" y=\"0em\"><defs /><text text-anchor=\"middle\" x=\"50%\" y=\"1em\">join</text></svg></svg><line stroke=\"black\" x1=\"50%\" x2=\"50%\" y1=\"1.2em\" y2=\"3em\" /></svg><line stroke=\"black\" x1=\"50%\" x2=\"5%\" y1=\"1.2em\" y2=\"3em\" /><svg width=\"20%\" x=\"10%\" y=\"3em\"><defs /><svg width=\"100%\" x=\"0\" y=\"0em\"><defs /><text text-anchor=\"middle\" x=\"50%\" y=\"1em\">NP</text></svg><svg width=\"41.6667%\" x=\"0%\" y=\"3em\"><defs /><svg width=\"100%\" x=\"0\" y=\"0em\"><defs /><text text-anchor=\"middle\" x=\"50%\" y=\"1em\">DT</text></svg><svg width=\"100%\" x=\"0%\" y=\"3em\"><defs /><svg width=\"100%\" x=\"0\" y=\"0em\"><defs /><text text-anchor=\"middle\" x=\"50%\" y=\"1em\">the</text></svg></svg><line stroke=\"black\" x1=\"50%\" x2=\"50%\" y1=\"1.2em\" y2=\"3em\" /></svg><line stroke=\"black\" x1=\"50%\" x2=\"20.8333%\" y1=\"1.2em\" y2=\"3em\" /><svg width=\"58.3333%\" x=\"41.6667%\" y=\"3em\"><defs /><svg width=\"100%\" x=\"0\" y=\"0em\"><defs /><text text-anchor=\"middle\" x=\"50%\" y=\"1em\">NN</text></svg><svg width=\"100%\" x=\"0%\" y=\"3em\"><defs /><svg width=\"100%\" x=\"0\" y=\"0em\"><defs /><text text-anchor=\"middle\" x=\"50%\" y=\"1em\">board</text></svg></svg><line stroke=\"black\" x1=\"50%\" x2=\"50%\" y1=\"1.2em\" y2=\"3em\" /></svg><line stroke=\"black\" x1=\"50%\" x2=\"70.8333%\" y1=\"1.2em\" y2=\"3em\" /></svg><line stroke=\"black\" x1=\"50%\" x2=\"20%\" y1=\"1.2em\" y2=\"3em\" /><svg width=\"53.3333%\" x=\"30%\" y=\"3em\"><defs /><svg width=\"100%\" x=\"0\" y=\"0em\"><defs /><text text-anchor=\"middle\" x=\"50%\" y=\"1em\">PP-CLR</text></svg><svg width=\"12.5%\" x=\"0%\" y=\"3em\"><defs /><svg width=\"100%\" x=\"0\" y=\"0em\"><defs /><text text-anchor=\"middle\" x=\"50%\" y=\"1em\">IN</text></svg><svg width=\"100%\" x=\"0%\" y=\"3em\"><defs /><svg width=\"100%\" x=\"0\" y=\"0em\"><defs /><text text-anchor=\"middle\" x=\"50%\" y=\"1em\">as</text></svg></svg><line stroke=\"black\" x1=\"50%\" x2=\"50%\" y1=\"1.2em\" y2=\"3em\" /></svg><line stroke=\"black\" x1=\"50%\" x2=\"6.25%\" y1=\"1.2em\" y2=\"3em\" /><svg width=\"87.5%\" x=\"12.5%\" y=\"3em\"><defs /><svg width=\"100%\" x=\"0\" y=\"0em\"><defs /><text text-anchor=\"middle\" x=\"50%\" y=\"1em\">NP</text></svg><svg width=\"14.2857%\" x=\"0%\" y=\"3em\"><defs /><svg width=\"100%\" x=\"0\" y=\"0em\"><defs /><text text-anchor=\"middle\" x=\"50%\" y=\"1em\">DT</text></svg><svg width=\"100%\" x=\"0%\" y=\"3em\"><defs /><svg width=\"100%\" x=\"0\" y=\"0em\"><defs /><text text-anchor=\"middle\" x=\"50%\" y=\"1em\">a</text></svg></svg><line stroke=\"black\" x1=\"50%\" x2=\"50%\" y1=\"1.2em\" y2=\"3em\" /></svg><line stroke=\"black\" x1=\"50%\" x2=\"7.14286%\" y1=\"1.2em\" y2=\"3em\" /><svg width=\"50%\" x=\"14.2857%\" y=\"3em\"><defs /><svg width=\"100%\" x=\"0\" y=\"0em\"><defs /><text text-anchor=\"middle\" x=\"50%\" y=\"1em\">JJ</text></svg><svg width=\"100%\" x=\"0%\" y=\"3em\"><defs /><svg width=\"100%\" x=\"0\" y=\"0em\"><defs /><text text-anchor=\"middle\" x=\"50%\" y=\"1em\">nonexecutive</text></svg></svg><line stroke=\"black\" x1=\"50%\" x2=\"50%\" y1=\"1.2em\" y2=\"3em\" /></svg><line stroke=\"black\" x1=\"50%\" x2=\"39.2857%\" y1=\"1.2em\" y2=\"3em\" /><svg width=\"35.7143%\" x=\"64.2857%\" y=\"3em\"><defs /><svg width=\"100%\" x=\"0\" y=\"0em\"><defs /><text text-anchor=\"middle\" x=\"50%\" y=\"1em\">NN</text></svg><svg width=\"100%\" x=\"0%\" y=\"3em\"><defs /><svg width=\"100%\" x=\"0\" y=\"0em\"><defs /><text text-anchor=\"middle\" x=\"50%\" y=\"1em\">director</text></svg></svg><line stroke=\"black\" x1=\"50%\" x2=\"50%\" y1=\"1.2em\" y2=\"3em\" /></svg><line stroke=\"black\" x1=\"50%\" x2=\"82.1429%\" y1=\"1.2em\" y2=\"3em\" /></svg><line stroke=\"black\" x1=\"50%\" x2=\"56.25%\" y1=\"1.2em\" y2=\"3em\" /></svg><line stroke=\"black\" x1=\"50%\" x2=\"56.6667%\" y1=\"1.2em\" y2=\"3em\" /><svg width=\"16.6667%\" x=\"83.3333%\" y=\"3em\"><defs /><svg width=\"100%\" x=\"0\" y=\"0em\"><defs /><text text-anchor=\"middle\" x=\"50%\" y=\"1em\">NP-TMP</text></svg><svg width=\"60%\" x=\"0%\" y=\"3em\"><defs /><svg width=\"100%\" x=\"0\" y=\"0em\"><defs /><text text-anchor=\"middle\" x=\"50%\" y=\"1em\">NNP</text></svg><svg width=\"100%\" x=\"0%\" y=\"3em\"><defs /><svg width=\"100%\" x=\"0\" y=\"0em\"><defs /><text text-anchor=\"middle\" x=\"50%\" y=\"1em\">Nov.</text></svg></svg><line stroke=\"black\" x1=\"50%\" x2=\"50%\" y1=\"1.2em\" y2=\"3em\" /></svg><line stroke=\"black\" x1=\"50%\" x2=\"30%\" y1=\"1.2em\" y2=\"3em\" /><svg width=\"40%\" x=\"60%\" y=\"3em\"><defs /><svg width=\"100%\" x=\"0\" y=\"0em\"><defs /><text text-anchor=\"middle\" x=\"50%\" y=\"1em\">CD</text></svg><svg width=\"100%\" x=\"0%\" y=\"3em\"><defs /><svg width=\"100%\" x=\"0\" y=\"0em\"><defs /><text text-anchor=\"middle\" x=\"50%\" y=\"1em\">29</text></svg></svg><line stroke=\"black\" x1=\"50%\" x2=\"50%\" y1=\"1.2em\" y2=\"3em\" /></svg><line stroke=\"black\" x1=\"50%\" x2=\"80%\" y1=\"1.2em\" y2=\"3em\" /></svg><line stroke=\"black\" x1=\"50%\" x2=\"91.6667%\" y1=\"1.2em\" y2=\"3em\" /></svg><line stroke=\"black\" x1=\"50%\" x2=\"54.5455%\" y1=\"1.2em\" y2=\"3em\" /></svg><line stroke=\"black\" x1=\"50%\" x2=\"66.3551%\" y1=\"1.2em\" y2=\"3em\" /><svg width=\"2.80374%\" x=\"97.1963%\" y=\"3em\"><defs /><svg width=\"100%\" x=\"0\" y=\"0em\"><defs /><text text-anchor=\"middle\" x=\"50%\" y=\"1em\">.</text></svg><svg width=\"100%\" x=\"0%\" y=\"3em\"><defs /><svg width=\"100%\" x=\"0\" y=\"0em\"><defs /><text text-anchor=\"middle\" x=\"50%\" y=\"1em\">.</text></svg></svg><line stroke=\"black\" x1=\"50%\" x2=\"50%\" y1=\"1.2em\" y2=\"3em\" /></svg><line stroke=\"black\" x1=\"50%\" x2=\"98.5981%\" y1=\"1.2em\" y2=\"3em\" /></svg>"
      ],
      "text/plain": [
       "Tree('S', [Tree('NP-SBJ', [Tree('NP', [Tree('NNP', ['Pierre']), Tree('NNP', ['Vinken'])]), Tree(',', [',']), Tree('ADJP', [Tree('NP', [Tree('CD', ['61']), Tree('NNS', ['years'])]), Tree('JJ', ['old'])]), Tree(',', [','])]), Tree('VP', [Tree('MD', ['will']), Tree('VP', [Tree('VB', ['join']), Tree('NP', [Tree('DT', ['the']), Tree('NN', ['board'])]), Tree('PP-CLR', [Tree('IN', ['as']), Tree('NP', [Tree('DT', ['a']), Tree('JJ', ['nonexecutive']), Tree('NN', ['director'])])]), Tree('NP-TMP', [Tree('NNP', ['Nov.']), Tree('CD', ['29'])])])]), Tree('.', ['.'])])"
      ]
     },
     "execution_count": 15,
     "metadata": {},
     "output_type": "execute_result"
    }
   ],
   "source": [
    "from nltk.corpus import treebank\n",
    "\n",
    "t= treebank.parsed_sents('wsj_0001.mrg')[0]\n",
    "t\n",
    "\n",
    "# wsj_0001.mrg is a filename of the Penn Treebank corpus"
   ]
  },
  {
   "cell_type": "markdown",
   "id": "89e2cc87",
   "metadata": {},
   "source": [
    "**Note**: `corpus Penn Treebank`: it is a large collection of English texts that have been labeled with syntactic tree structures (also known as parse trees). `wsj_0001.mrg` refers to the first file in the Penn Treebank corpus, which contains the first sentence labeled with its corresponding syntactic structure."
   ]
  },
  {
   "cell_type": "markdown",
   "id": "a5b29bbe",
   "metadata": {},
   "source": [
    "#### Semantic, Rules"
   ]
  },
  {
   "cell_type": "code",
   "execution_count": 16,
   "id": "3408eaad",
   "metadata": {},
   "outputs": [
    {
     "data": {
      "image/svg+xml": [
       "<svg baseProfile=\"full\" height=\"120px\" preserveAspectRatio=\"xMidYMid meet\" style=\"font-family: times, serif; font-weight:normal; font-style: normal; font-size: 16px;\" version=\"1.1\" viewBox=\"0,0,312.0,120.0\" width=\"312px\" xmlns=\"http://www.w3.org/2000/svg\" xmlns:ev=\"http://www.w3.org/2001/xml-events\" xmlns:xlink=\"http://www.w3.org/1999/xlink\"><defs /><svg width=\"100%\" x=\"0\" y=\"0em\"><defs /><text text-anchor=\"middle\" x=\"50%\" y=\"1em\">S</text></svg><svg width=\"10.2564%\" x=\"0%\" y=\"3em\"><defs /><svg width=\"100%\" x=\"0\" y=\"0em\"><defs /><text text-anchor=\"middle\" x=\"50%\" y=\"1em\">i</text></svg><svg width=\"100%\" x=\"0%\" y=\"3em\"><defs /><svg width=\"100%\" x=\"0\" y=\"0em\"><defs /><text text-anchor=\"middle\" x=\"50%\" y=\"1em\">NN</text></svg></svg><line stroke=\"black\" x1=\"50%\" x2=\"50%\" y1=\"1.2em\" y2=\"3em\" /></svg><line stroke=\"black\" x1=\"50%\" x2=\"5.12821%\" y1=\"1.2em\" y2=\"3em\" /><svg width=\"15.3846%\" x=\"10.2564%\" y=\"3em\"><defs /><svg width=\"100%\" x=\"0\" y=\"0em\"><defs /><text text-anchor=\"middle\" x=\"50%\" y=\"1em\">want</text></svg><svg width=\"100%\" x=\"0%\" y=\"3em\"><defs /><svg width=\"100%\" x=\"0\" y=\"0em\"><defs /><text text-anchor=\"middle\" x=\"50%\" y=\"1em\">VBP</text></svg></svg><line stroke=\"black\" x1=\"50%\" x2=\"50%\" y1=\"1.2em\" y2=\"3em\" /></svg><line stroke=\"black\" x1=\"50%\" x2=\"17.9487%\" y1=\"1.2em\" y2=\"3em\" /><svg width=\"10.2564%\" x=\"25.641%\" y=\"3em\"><defs /><svg width=\"100%\" x=\"0\" y=\"0em\"><defs /><text text-anchor=\"middle\" x=\"50%\" y=\"1em\">a</text></svg><svg width=\"100%\" x=\"0%\" y=\"3em\"><defs /><svg width=\"100%\" x=\"0\" y=\"0em\"><defs /><text text-anchor=\"middle\" x=\"50%\" y=\"1em\">DT</text></svg></svg><line stroke=\"black\" x1=\"50%\" x2=\"50%\" y1=\"1.2em\" y2=\"3em\" /></svg><line stroke=\"black\" x1=\"50%\" x2=\"30.7692%\" y1=\"1.2em\" y2=\"3em\" /><svg width=\"17.9487%\" x=\"35.8974%\" y=\"3em\"><defs /><svg width=\"100%\" x=\"0\" y=\"0em\"><defs /><text text-anchor=\"middle\" x=\"50%\" y=\"1em\">dress</text></svg><svg width=\"100%\" x=\"0%\" y=\"3em\"><defs /><svg width=\"100%\" x=\"0\" y=\"0em\"><defs /><text text-anchor=\"middle\" x=\"50%\" y=\"1em\">NN</text></svg></svg><line stroke=\"black\" x1=\"50%\" x2=\"50%\" y1=\"1.2em\" y2=\"3em\" /></svg><line stroke=\"black\" x1=\"50%\" x2=\"44.8718%\" y1=\"1.2em\" y2=\"3em\" /><svg width=\"12.8205%\" x=\"53.8462%\" y=\"3em\"><defs /><svg width=\"100%\" x=\"0\" y=\"0em\"><defs /><text text-anchor=\"middle\" x=\"50%\" y=\"1em\">for</text></svg><svg width=\"100%\" x=\"0%\" y=\"3em\"><defs /><svg width=\"100%\" x=\"0\" y=\"0em\"><defs /><text text-anchor=\"middle\" x=\"50%\" y=\"1em\">IN</text></svg></svg><line stroke=\"black\" x1=\"50%\" x2=\"50%\" y1=\"1.2em\" y2=\"3em\" /></svg><line stroke=\"black\" x1=\"50%\" x2=\"60.2564%\" y1=\"1.2em\" y2=\"3em\" /><svg width=\"10.2564%\" x=\"66.6667%\" y=\"3em\"><defs /><svg width=\"100%\" x=\"0\" y=\"0em\"><defs /><text text-anchor=\"middle\" x=\"50%\" y=\"1em\">a</text></svg><svg width=\"100%\" x=\"0%\" y=\"3em\"><defs /><svg width=\"100%\" x=\"0\" y=\"0em\"><defs /><text text-anchor=\"middle\" x=\"50%\" y=\"1em\">DT</text></svg></svg><line stroke=\"black\" x1=\"50%\" x2=\"50%\" y1=\"1.2em\" y2=\"3em\" /></svg><line stroke=\"black\" x1=\"50%\" x2=\"71.7949%\" y1=\"1.2em\" y2=\"3em\" /><svg width=\"23.0769%\" x=\"76.9231%\" y=\"3em\"><defs /><svg width=\"100%\" x=\"0\" y=\"0em\"><defs /><text text-anchor=\"middle\" x=\"50%\" y=\"1em\">wedding</text></svg><svg width=\"100%\" x=\"0%\" y=\"3em\"><defs /><svg width=\"100%\" x=\"0\" y=\"0em\"><defs /><text text-anchor=\"middle\" x=\"50%\" y=\"1em\">NN</text></svg></svg><line stroke=\"black\" x1=\"50%\" x2=\"50%\" y1=\"1.2em\" y2=\"3em\" /></svg><line stroke=\"black\" x1=\"50%\" x2=\"88.4615%\" y1=\"1.2em\" y2=\"3em\" /></svg>"
      ],
      "text/plain": [
       "Tree('S', [('i', 'NN'), ('want', 'VBP'), ('a', 'DT'), ('dress', 'NN'), ('for', 'IN'), ('a', 'DT'), ('wedding', 'NN')])"
      ]
     },
     "execution_count": 16,
     "metadata": {},
     "output_type": "execute_result"
    }
   ],
   "source": [
    "entities = nltk.chunk.ne_chunk(nltk.pos_tag(tokens))\n",
    "\n",
    "entities"
   ]
  },
  {
   "cell_type": "code",
   "execution_count": 17,
   "id": "d358dd36",
   "metadata": {},
   "outputs": [],
   "source": [
    "grammar = nltk.CFG.fromstring(\"\"\"\n",
    "\n",
    "S -> NP VP\n",
    "PP -> P NP\n",
    "NP -> Det N | Det N PP | 'i'\n",
    "VP -> V NP | VP PP\n",
    "Det -> 'a'\n",
    "N -> 'dress' | 'wedding'\n",
    "V -> 'want'\n",
    "P -> 'for'\n",
    "\n",
    "\"\"\")"
   ]
  },
  {
   "cell_type": "markdown",
   "id": "dd3b2abf",
   "metadata": {},
   "source": [
    "* Rules are ordered from highest to lowest restriction.\n",
    "\n",
    "* 1st part (NP) tag; 2nd part (Det N | Det N PP | 'i') rule that must be satisfied.\n",
    "\n",
    "In this grammar, there are four non-terminal symbols: S, NP, VP, and PP. Non-terminal symbols are those that can be replaced by other non-terminal symbols or terminals (actual words in the language). Additionally, there are five terminal symbols: 'a', 'dress', 'wedding', 'for', and 'i'.\n",
    "\n",
    "The main rule of the grammar is that a sentence (S) is composed of a noun phrase (NP) followed by a verb phrase (VP).\n",
    "\n",
    "The noun phrase (NP) can be composed of a determiner (Det) followed by a noun (N) or a determiner followed by a noun and a prepositional phrase (PP) (e.g. \"a dress for the wedding\").\n",
    "\n",
    "The verb phrase (VP) can be composed of a verb (V) followed by a noun phrase (NP) or a verb phrase followed by a prepositional phrase (PP) (e.g. \"buy the dress for the wedding\")."
   ]
  },
  {
   "cell_type": "code",
   "execution_count": 18,
   "id": "57d5dbdc",
   "metadata": {},
   "outputs": [],
   "source": [
    "parser = nltk.ChartParser(grammar, trace=1)"
   ]
  },
  {
   "cell_type": "code",
   "execution_count": 19,
   "id": "04186408",
   "metadata": {},
   "outputs": [],
   "source": [
    "def parsear(_tokens):\n",
    "    return parser.parse(_tokens)"
   ]
  },
  {
   "cell_type": "code",
   "execution_count": 20,
   "id": "7551f1fd",
   "metadata": {},
   "outputs": [
    {
     "name": "stdout",
     "output_type": "stream",
     "text": [
      "|.  i  . want.  a  .dress. for .  a  .weddi.|\n",
      "|[-----]     .     .     .     .     .     .| [0:1] 'i'\n",
      "|.     [-----]     .     .     .     .     .| [1:2] 'want'\n",
      "|.     .     [-----]     .     .     .     .| [2:3] 'a'\n",
      "|.     .     .     [-----]     .     .     .| [3:4] 'dress'\n",
      "|.     .     .     .     [-----]     .     .| [4:5] 'for'\n",
      "|.     .     .     .     .     [-----]     .| [5:6] 'a'\n",
      "|.     .     .     .     .     .     [-----]| [6:7] 'wedding'\n",
      "|[-----]     .     .     .     .     .     .| [0:1] NP -> 'i' *\n",
      "|[----->     .     .     .     .     .     .| [0:1] S  -> NP * VP\n",
      "|.     [-----]     .     .     .     .     .| [1:2] V  -> 'want' *\n",
      "|.     [----->     .     .     .     .     .| [1:2] VP -> V * NP\n",
      "|.     .     [-----]     .     .     .     .| [2:3] Det -> 'a' *\n",
      "|.     .     [----->     .     .     .     .| [2:3] NP -> Det * N\n",
      "|.     .     [----->     .     .     .     .| [2:3] NP -> Det * N PP\n",
      "|.     .     .     [-----]     .     .     .| [3:4] N  -> 'dress' *\n",
      "|.     .     [-----------]     .     .     .| [2:4] NP -> Det N *\n",
      "|.     .     [----------->     .     .     .| [2:4] NP -> Det N * PP\n",
      "|.     .     [----------->     .     .     .| [2:4] S  -> NP * VP\n",
      "|.     [-----------------]     .     .     .| [1:4] VP -> V NP *\n",
      "|.     [----------------->     .     .     .| [1:4] VP -> VP * PP\n",
      "|[-----------------------]     .     .     .| [0:4] S  -> NP VP *\n",
      "|.     .     .     .     [-----]     .     .| [4:5] P  -> 'for' *\n",
      "|.     .     .     .     [----->     .     .| [4:5] PP -> P * NP\n",
      "|.     .     .     .     .     [-----]     .| [5:6] Det -> 'a' *\n",
      "|.     .     .     .     .     [----->     .| [5:6] NP -> Det * N\n",
      "|.     .     .     .     .     [----->     .| [5:6] NP -> Det * N PP\n",
      "|.     .     .     .     .     .     [-----]| [6:7] N  -> 'wedding' *\n",
      "|.     .     .     .     .     [-----------]| [5:7] NP -> Det N *\n",
      "|.     .     .     .     .     [----------->| [5:7] NP -> Det N * PP\n",
      "|.     .     .     .     .     [----------->| [5:7] S  -> NP * VP\n",
      "|.     .     .     .     [-----------------]| [4:7] PP -> P NP *\n",
      "|.     .     [-----------------------------]| [2:7] NP -> Det N PP *\n",
      "|.     [-----------------------------------]| [1:7] VP -> VP PP *\n",
      "|.     [----------------------------------->| [1:7] VP -> VP * PP\n",
      "|[=========================================]| [0:7] S  -> NP VP *\n",
      "|.     .     [----------------------------->| [2:7] S  -> NP * VP\n",
      "|.     [-----------------------------------]| [1:7] VP -> V NP *\n",
      "|.     [----------------------------------->| [1:7] VP -> VP * PP\n",
      "|[=========================================]| [0:7] S  -> NP VP *\n",
      "(S\n",
      "  (NP i)\n",
      "  (VP\n",
      "    (VP (V want) (NP (Det a) (N dress)))\n",
      "    (PP (P for) (NP (Det a) (N wedding))))) \n",
      "\n",
      "     S                                    \n",
      "  ___|_____________                        \n",
      " |                 VP                     \n",
      " |         ________|________               \n",
      " |        VP                PP            \n",
      " |    ____|___           ___|___           \n",
      " |   |        NP        |       NP        \n",
      " |   |     ___|____     |    ___|_____     \n",
      " NP  V   Det       N    P  Det        N   \n",
      " |   |    |        |    |   |         |    \n",
      " i  want  a      dress for  a      wedding\n",
      "\n",
      "(S\n",
      "  (NP i)\n",
      "  (VP\n",
      "    (V want)\n",
      "    (NP (Det a) (N dress) (PP (P for) (NP (Det a) (N wedding)))))) \n",
      "\n",
      "     S                                \n",
      "  ___|_________                        \n",
      " |             VP                     \n",
      " |    _________|____                   \n",
      " |   |              NP                \n",
      " |   |     _________|___               \n",
      " |   |    |    |        PP            \n",
      " |   |    |    |     ___|___           \n",
      " |   |    |    |    |       NP        \n",
      " |   |    |    |    |    ___|_____     \n",
      " NP  V   Det   N    P  Det        N   \n",
      " |   |    |    |    |   |         |    \n",
      " i  want  a  dress for  a      wedding\n",
      "\n"
     ]
    }
   ],
   "source": [
    "for tree in parsear(tokens):\n",
    "    print(tree, '\\n')\n",
    "    tree.pretty_print()"
   ]
  },
  {
   "cell_type": "markdown",
   "id": "2dbd01e3",
   "metadata": {},
   "source": [
    "##### Unigram, Bigram, Trigram\n",
    "\n",
    "##### ¿Qué es taggear?\n",
    "\n",
    "<p style=\"text-align: justify;\">In NLP, n-grams refer to contiguous sequences of n words from a given text. For example, a unigram is a single word, a bigram is a sequence of two words, and a trigram is a sequence of three words. N-grams can be used for various NLP tasks such as language modeling, text classification, and machine translation. By analyzing the frequency of n-grams in a text, it is possible to extract important features or patterns that can be used to train machine learning models.</p>\n",
    "\n",
    "****What is tagging?****\n",
    "<p style=\"text-align: justify;\">Tagging in NLP (Natural Language Processing) refers to the process of assigning labels to words in a text, which is known as *tagging*. These labels can be of different types, such as Part-of-Speech (POS) tags that indicate the grammatical function of each word in a sentence, or Named Entity Recognition (NER) tags that identify proper nouns, organizations, locations, dates, among other types of entities.</p>"
   ]
  },
  {
   "cell_type": "code",
   "execution_count": 21,
   "id": "431013cf",
   "metadata": {},
   "outputs": [],
   "source": [
    "from nltk import UnigramTagger, BigramTagger, TrigramTagger"
   ]
  },
  {
   "cell_type": "markdown",
   "id": "e1784ff9",
   "metadata": {},
   "source": [
    "\n",
    "<p style=\"text-align: justify;\"> \n",
    "    <b>UnigramTagger:</b> An UnigramTagger uses the <b>frequency</b> of each individual word in the corpus to assign POS tags. For example, if the word \"casa\" appears most frequently tagged as a noun in the corpus, the UnigramTagger will automatically tag all instances of \"casa\" in the text as nouns.\n",
    "</p>\n",
    "<p style=\"text-align: justify;\"> \n",
    "    <b>BigramTagger:</b> A BigramTagger uses consecutive word pairs (bigrams) to assign POS tags. For example, if the word preceding \"casa\" in the text is \"la\", the BigramTagger could automatically tag \"casa\" as a noun, as the sequence \"la casa\" is common in the corpus and is tagged as a noun.\n",
    "</p>\n",
    "<p style=\"text-align: justify;\"> \n",
    "    <b>TrigramTagger:</b> A TrigramTagger uses consecutive triplets of words (trigrams) to assign POS tags. For example, if the two words preceding \"casa\" in the text are \"de la\", the TrigramTagger could automatically tag \"casa\" as a noun, as the sequence \"de la casa\" is common in the corpus and is tagged as a noun.\n",
    "</p>\n",
    "<p style=\"text-align: justify;\"> \n",
    "    In general, n-gram taggers are used to improve the accuracy of POS tagging in a particular corpus, compared to rule-based or dictionary-based tagging. However, these taggers may not perform well on texts with very different grammars and vocabularies from the corpus used to train the model.\n",
    "</p>"
   ]
  },
  {
   "cell_type": "markdown",
   "id": "2958bf02",
   "metadata": {},
   "source": [
    "##### Creation of a corpus"
   ]
  },
  {
   "cell_type": "code",
   "execution_count": 22,
   "id": "22247e27",
   "metadata": {},
   "outputs": [],
   "source": [
    "corpus = [\n",
    "    'The kid have a lolipop',\n",
    "    'The woman bought a car',\n",
    "    'The man is coocking a chicken'\n",
    "]"
   ]
  },
  {
   "cell_type": "code",
   "execution_count": 23,
   "id": "26db8514",
   "metadata": {},
   "outputs": [
    {
     "data": {
      "text/plain": [
       "[['the', 'kid', 'have', 'a', 'lolipop'],\n",
       " ['the', 'woman', 'bought', 'a', 'car'],\n",
       " ['the', 'man', 'is', 'coocking', 'a', 'chicken']]"
      ]
     },
     "execution_count": 23,
     "metadata": {},
     "output_type": "execute_result"
    }
   ],
   "source": [
    "corpus_tokens = []\n",
    "for frase in corpus:\n",
    "    corpus_tokens.append(pln.tokenizar(frase))\n",
    "\n",
    "corpus_tokens"
   ]
  },
  {
   "cell_type": "code",
   "execution_count": 24,
   "id": "a7d51853",
   "metadata": {},
   "outputs": [],
   "source": [
    "tagged_corpus = [\n",
    "    [('the', 'art'), ('kid', 'suj'), ('have', 'action'), ('a', 'det'), ('lolipop', 'obj')],\n",
    "    [('the', 'art'), ('women', 'suj'), ('bought', 'action'), ('a', 'det'), ('car', 'obj')],\n",
    "    [('the', 'art'), ('man', 'suj'), ('is', 'action'), ('cooking', 'action'), ('a', 'det'), ('chicken', 'obj')]\n",
    "]\n",
    "\n",
    "uni = UnigramTagger(tagged_corpus)\n",
    "bi = BigramTagger(tagged_corpus, backoff=uni)\n",
    "tri = TrigramTagger(tagged_corpus, backoff=uni)"
   ]
  },
  {
   "cell_type": "code",
   "execution_count": 25,
   "id": "a1c10aca",
   "metadata": {},
   "outputs": [
    {
     "data": {
      "text/plain": [
       "[('the', 'art'),\n",
       " ('kid', 'suj'),\n",
       " ('have', 'action'),\n",
       " ('a', 'det'),\n",
       " ('lolipop', 'obj')]"
      ]
     },
     "execution_count": 25,
     "metadata": {},
     "output_type": "execute_result"
    }
   ],
   "source": [
    "uni.tag(corpus_tokens[0])"
   ]
  },
  {
   "cell_type": "code",
   "execution_count": 26,
   "id": "cc08d10a",
   "metadata": {},
   "outputs": [
    {
     "data": {
      "text/plain": [
       "[('the', 'art'),\n",
       " ('granny', None),\n",
       " ('have', 'action'),\n",
       " ('a', 'det'),\n",
       " ('lolipop', 'obj')]"
      ]
     },
     "execution_count": 26,
     "metadata": {},
     "output_type": "execute_result"
    }
   ],
   "source": [
    "tri.tag(pln.tokenizar('The granny have a lolipop'))"
   ]
  },
  {
   "cell_type": "code",
   "execution_count": 27,
   "id": "956e7c99",
   "metadata": {},
   "outputs": [],
   "source": [
    "tagged_corpus.append([\n",
    "    ('the', 'art'),\n",
    "    ('granny', 'suj'),\n",
    "    ('have', 'action'),\n",
    "    ('a', 'det'),\n",
    "    ('lolipop', 'obj')\n",
    "])\n",
    "\n",
    "uni = UnigramTagger(tagged_corpus)\n",
    "bi = BigramTagger(tagged_corpus, backoff=uni)\n",
    "tri = TrigramTagger(tagged_corpus, backoff=uni)"
   ]
  },
  {
   "cell_type": "code",
   "execution_count": 28,
   "id": "5fe03a9b",
   "metadata": {},
   "outputs": [
    {
     "data": {
      "text/plain": [
       "[('the', 'art'),\n",
       " ('granny', 'suj'),\n",
       " ('have', 'action'),\n",
       " ('a', 'det'),\n",
       " ('lolipop', 'obj')]"
      ]
     },
     "execution_count": 28,
     "metadata": {},
     "output_type": "execute_result"
    }
   ],
   "source": [
    "tri.tag(pln.tokenizar('The granny have a lolipop'))"
   ]
  },
  {
   "cell_type": "markdown",
   "id": "01c4ca1d",
   "metadata": {},
   "source": [
    "## Exercises"
   ]
  },
  {
   "cell_type": "markdown",
   "id": "b76f1f62",
   "metadata": {},
   "source": [
    "### Context-free grammar exercise\n",
    "\n",
    "\n",
    "\n",
    "Create a morphological analyser (Subject, predicate, direct complement, indirect complement, syntagms, etc) in Spanish for the following sentences with **one grammar**:\n",
    "\n",
    "- El niño juega a la pelota\n",
    "- He tenido que llevar la tele a reparar\n",
    "- La niña juega en frente de la tele\n",
    "- El niño ha rapado al gato en la cocina"
   ]
  },
  {
   "cell_type": "markdown",
   "id": "285bfb1f",
   "metadata": {},
   "source": [
    "**S** -> sentence\n",
    "\n",
    "**PP** -> preposition\n",
    "\n",
    "**NP** -> noun phrase \n",
    "\n",
    "**VP** -> verbal syntagm\n",
    "\n",
    "**Det** -> determiner\n",
    "\n",
    "**N** -> noun\n",
    "\n",
    "**V** -> verb\n",
    "\n",
    "**P** -> preposition"
   ]
  },
  {
   "cell_type": "code",
   "execution_count": 29,
   "id": "2ef59930",
   "metadata": {},
   "outputs": [],
   "source": [
    "frase1= \"El niño juega a la pelota\"\n",
    "\n",
    "frase2= \"He tenido que llevar la tele a reparar\"\n",
    "\n",
    "frase3= \"La niña juega en frente de la tele\"\n",
    "\n",
    "frase4= \"El niño ha rapado al gato en la cocina\""
   ]
  },
  {
   "cell_type": "code",
   "execution_count": 30,
   "id": "6ec78311",
   "metadata": {},
   "outputs": [],
   "source": [
    "tokens1= pln.tokenizar(frase1)"
   ]
  },
  {
   "cell_type": "code",
   "execution_count": 31,
   "id": "6d6df27a",
   "metadata": {},
   "outputs": [],
   "source": [
    "tokens2= pln.tokenizar(frase2)"
   ]
  },
  {
   "cell_type": "code",
   "execution_count": 32,
   "id": "721de305",
   "metadata": {},
   "outputs": [],
   "source": [
    "tokens3= pln.tokenizar(frase3)"
   ]
  },
  {
   "cell_type": "code",
   "execution_count": 33,
   "id": "837a63f3",
   "metadata": {},
   "outputs": [],
   "source": [
    "tokens4= pln.tokenizar(frase4)"
   ]
  },
  {
   "cell_type": "code",
   "execution_count": 34,
   "id": "84dc5512",
   "metadata": {},
   "outputs": [
    {
     "data": {
      "text/plain": [
       "[('el', 'NN'),\n",
       " ('niño', 'MD'),\n",
       " ('juega', 'VB'),\n",
       " ('a', 'DT'),\n",
       " ('la', 'NN'),\n",
       " ('pelota', 'NN')]"
      ]
     },
     "execution_count": 34,
     "metadata": {},
     "output_type": "execute_result"
    }
   ],
   "source": [
    "nltk.pos_tag(tokens1)"
   ]
  },
  {
   "cell_type": "code",
   "execution_count": 35,
   "id": "552df2b6",
   "metadata": {},
   "outputs": [],
   "source": [
    "#Definition\n",
    "\n",
    "grammar = nltk.CFG.fromstring(\"\"\"\n",
    "\n",
    "Oracion -> N\n",
    "SPrep -> P | NP\n",
    "Snominal -> Det N | Det\n",
    "Sverbal -> V NP | VP PP \n",
    "Det -> 'La' | 'El' | 'la' \n",
    "N -> 'niño' | 'pelota' | 'tele' | 'niña' | 'gato' | 'cocina'\n",
    "V -> 'juega' | 'he tenido' | 'llevar' | 'reparar' | 'ha rapado'\n",
    "P -> 'a' | 'en frente' | 'al'\n",
    "nexo -> 'que'\n",
    "\n",
    "\"\"\")"
   ]
  },
  {
   "cell_type": "code",
   "execution_count": 36,
   "id": "9aed4dda",
   "metadata": {},
   "outputs": [
    {
     "name": "stderr",
     "output_type": "stream",
     "text": [
      "[nltk_data] Downloading package words to\n",
      "[nltk_data]     C:\\Users\\User\\AppData\\Roaming\\nltk_data...\n",
      "[nltk_data]   Package words is already up-to-date!\n"
     ]
    },
    {
     "data": {
      "text/plain": [
       "True"
      ]
     },
     "execution_count": 36,
     "metadata": {},
     "output_type": "execute_result"
    }
   ],
   "source": [
    "nltk.download('words')"
   ]
  },
  {
   "cell_type": "code",
   "execution_count": 37,
   "id": "26b1bcd5",
   "metadata": {},
   "outputs": [
    {
     "data": {
      "image/svg+xml": [
       "<svg baseProfile=\"full\" height=\"120px\" preserveAspectRatio=\"xMidYMid meet\" style=\"font-family: times, serif; font-weight:normal; font-style: normal; font-size: 16px;\" version=\"1.1\" viewBox=\"0,0,264.0,120.0\" width=\"264px\" xmlns=\"http://www.w3.org/2000/svg\" xmlns:ev=\"http://www.w3.org/2001/xml-events\" xmlns:xlink=\"http://www.w3.org/1999/xlink\"><defs /><svg width=\"100%\" x=\"0\" y=\"0em\"><defs /><text text-anchor=\"middle\" x=\"50%\" y=\"1em\">S</text></svg><svg width=\"12.1212%\" x=\"0%\" y=\"3em\"><defs /><svg width=\"100%\" x=\"0\" y=\"0em\"><defs /><text text-anchor=\"middle\" x=\"50%\" y=\"1em\">el</text></svg><svg width=\"100%\" x=\"0%\" y=\"3em\"><defs /><svg width=\"100%\" x=\"0\" y=\"0em\"><defs /><text text-anchor=\"middle\" x=\"50%\" y=\"1em\">NN</text></svg></svg><line stroke=\"black\" x1=\"50%\" x2=\"50%\" y1=\"1.2em\" y2=\"3em\" /></svg><line stroke=\"black\" x1=\"50%\" x2=\"6.06061%\" y1=\"1.2em\" y2=\"3em\" /><svg width=\"18.1818%\" x=\"12.1212%\" y=\"3em\"><defs /><svg width=\"100%\" x=\"0\" y=\"0em\"><defs /><text text-anchor=\"middle\" x=\"50%\" y=\"1em\">niño</text></svg><svg width=\"100%\" x=\"0%\" y=\"3em\"><defs /><svg width=\"100%\" x=\"0\" y=\"0em\"><defs /><text text-anchor=\"middle\" x=\"50%\" y=\"1em\">MD</text></svg></svg><line stroke=\"black\" x1=\"50%\" x2=\"50%\" y1=\"1.2em\" y2=\"3em\" /></svg><line stroke=\"black\" x1=\"50%\" x2=\"21.2121%\" y1=\"1.2em\" y2=\"3em\" /><svg width=\"21.2121%\" x=\"30.303%\" y=\"3em\"><defs /><svg width=\"100%\" x=\"0\" y=\"0em\"><defs /><text text-anchor=\"middle\" x=\"50%\" y=\"1em\">juega</text></svg><svg width=\"100%\" x=\"0%\" y=\"3em\"><defs /><svg width=\"100%\" x=\"0\" y=\"0em\"><defs /><text text-anchor=\"middle\" x=\"50%\" y=\"1em\">VB</text></svg></svg><line stroke=\"black\" x1=\"50%\" x2=\"50%\" y1=\"1.2em\" y2=\"3em\" /></svg><line stroke=\"black\" x1=\"50%\" x2=\"40.9091%\" y1=\"1.2em\" y2=\"3em\" /><svg width=\"12.1212%\" x=\"51.5152%\" y=\"3em\"><defs /><svg width=\"100%\" x=\"0\" y=\"0em\"><defs /><text text-anchor=\"middle\" x=\"50%\" y=\"1em\">a</text></svg><svg width=\"100%\" x=\"0%\" y=\"3em\"><defs /><svg width=\"100%\" x=\"0\" y=\"0em\"><defs /><text text-anchor=\"middle\" x=\"50%\" y=\"1em\">DT</text></svg></svg><line stroke=\"black\" x1=\"50%\" x2=\"50%\" y1=\"1.2em\" y2=\"3em\" /></svg><line stroke=\"black\" x1=\"50%\" x2=\"57.5758%\" y1=\"1.2em\" y2=\"3em\" /><svg width=\"12.1212%\" x=\"63.6364%\" y=\"3em\"><defs /><svg width=\"100%\" x=\"0\" y=\"0em\"><defs /><text text-anchor=\"middle\" x=\"50%\" y=\"1em\">la</text></svg><svg width=\"100%\" x=\"0%\" y=\"3em\"><defs /><svg width=\"100%\" x=\"0\" y=\"0em\"><defs /><text text-anchor=\"middle\" x=\"50%\" y=\"1em\">NN</text></svg></svg><line stroke=\"black\" x1=\"50%\" x2=\"50%\" y1=\"1.2em\" y2=\"3em\" /></svg><line stroke=\"black\" x1=\"50%\" x2=\"69.697%\" y1=\"1.2em\" y2=\"3em\" /><svg width=\"24.2424%\" x=\"75.7576%\" y=\"3em\"><defs /><svg width=\"100%\" x=\"0\" y=\"0em\"><defs /><text text-anchor=\"middle\" x=\"50%\" y=\"1em\">pelota</text></svg><svg width=\"100%\" x=\"0%\" y=\"3em\"><defs /><svg width=\"100%\" x=\"0\" y=\"0em\"><defs /><text text-anchor=\"middle\" x=\"50%\" y=\"1em\">NN</text></svg></svg><line stroke=\"black\" x1=\"50%\" x2=\"50%\" y1=\"1.2em\" y2=\"3em\" /></svg><line stroke=\"black\" x1=\"50%\" x2=\"87.8788%\" y1=\"1.2em\" y2=\"3em\" /></svg>"
      ],
      "text/plain": [
       "Tree('S', [('el', 'NN'), ('niño', 'MD'), ('juega', 'VB'), ('a', 'DT'), ('la', 'NN'), ('pelota', 'NN')])"
      ]
     },
     "execution_count": 37,
     "metadata": {},
     "output_type": "execute_result"
    }
   ],
   "source": [
    "entities= nltk.chunk.ne_chunk(nltk.pos_tag(tokens1))\n",
    "\n",
    "entities"
   ]
  },
  {
   "cell_type": "markdown",
   "id": "dace7293",
   "metadata": {},
   "source": [
    "### 1.- Density calculator\n",
    "\n",
    "\n",
    "\n",
    "Create a function that analyzes the desity of the words present in a text.\n",
    "\n",
    "\n",
    "The result must be a table indicating the word, the count, and the density.\n",
    "\n",
    "\n",
    "To test the result, try it with a phrase and with a long text (copy and paste a random wikipedia or newspaper article in a txt file)"
   ]
  },
  {
   "cell_type": "code",
   "execution_count": 38,
   "id": "8b74d057",
   "metadata": {},
   "outputs": [],
   "source": [
    "# NLTK\n",
    "import nltk\n",
    "\n",
    "# NLTK Word Tokenize\n",
    "from nltk.tokenize import word_tokenize\n",
    "\n",
    "# NLTK StopWords\n",
    "from nltk.corpus import stopwords\n",
    "\n",
    "# Spacy\n",
    "import spacy\n",
    "nlp = spacy.load('es_core_news_sm')\n",
    "\n",
    "# Pandas\n",
    "import pandas as pd"
   ]
  },
  {
   "cell_type": "code",
   "execution_count": 39,
   "id": "9b6ca5b9",
   "metadata": {},
   "outputs": [],
   "source": [
    "def text_density(content, clean=True):\n",
    "    \"\"\"\n",
    "    This function takes a string of text and returns a DataFrame with the word count and density of each word in the text.\n",
    "    \n",
    "    Args:\n",
    "    content (str): The text to be analyzed.\n",
    "    clean (bool): Indicates whether or not the text should be cleaned before analysis. Default is True.\n",
    "    \n",
    "    Returns:\n",
    "    DataFrame: A DataFrame with columns for the word, count, and density (percentage of total words).\n",
    "    \"\"\"\n",
    "    \n",
    "    #Tokenize    \n",
    "    tokens = [word.lower() for word in word_tokenize(content, \"spanish\") if word.isalpha()]\n",
    "    \n",
    "    #Remove stopwords\n",
    "    clean_tokens = tokens[:]\n",
    "    for token in tokens: \n",
    "        if token in stopwords.words('spanish'): \n",
    "            clean_tokens.remove(token)\n",
    "    \n",
    "    #Lemmatization\n",
    "    cleaned_tokens =[]\n",
    "    \n",
    "    if clean:\n",
    "        #Lemmatize if clean is true\n",
    "        separator = ' '\n",
    "        for token in nlp(separator.join(clean_tokens)):\n",
    "            cleaned_tokens.append(token.lemma_)\n",
    "    else:\n",
    "        cleaned_tokens = clean_tokens\n",
    "        \n",
    "    # Table generation\n",
    "    conteo = pd.DataFrame(columns = ['Palabra', 'Recuento', 'Densidad'])\n",
    "    \n",
    "    #Calculating the frequency\n",
    "    freq_clean = nltk.FreqDist(cleaned_tokens)\n",
    "\n",
    "    for key,val in freq_clean.items():\n",
    "        dens = \"{:.2%}\".format(val/len(cleaned_tokens))\n",
    "        fila = pd.Series([key, \"{:.0f}\".format(val), dens], index=conteo.columns)\n",
    "        conteo = conteo.append(fila, ignore_index=True)\n",
    "    \n",
    "    result = conteo.sort_values('Densidad',ascending=False)\n",
    "    \n",
    "    return result"
   ]
  },
  {
   "cell_type": "code",
   "execution_count": 40,
   "id": "de08fef5",
   "metadata": {},
   "outputs": [
    {
     "name": "stderr",
     "output_type": "stream",
     "text": [
      "C:\\Users\\User\\AppData\\Local\\Temp\\ipykernel_4628\\2590787309.py:34: FutureWarning: The frame.append method is deprecated and will be removed from pandas in a future version. Use pandas.concat instead.\n",
      "  conteo = conteo.append(fila, ignore_index=True)\n",
      "C:\\Users\\User\\AppData\\Local\\Temp\\ipykernel_4628\\2590787309.py:34: FutureWarning: The frame.append method is deprecated and will be removed from pandas in a future version. Use pandas.concat instead.\n",
      "  conteo = conteo.append(fila, ignore_index=True)\n",
      "C:\\Users\\User\\AppData\\Local\\Temp\\ipykernel_4628\\2590787309.py:34: FutureWarning: The frame.append method is deprecated and will be removed from pandas in a future version. Use pandas.concat instead.\n",
      "  conteo = conteo.append(fila, ignore_index=True)\n",
      "C:\\Users\\User\\AppData\\Local\\Temp\\ipykernel_4628\\2590787309.py:34: FutureWarning: The frame.append method is deprecated and will be removed from pandas in a future version. Use pandas.concat instead.\n",
      "  conteo = conteo.append(fila, ignore_index=True)\n",
      "C:\\Users\\User\\AppData\\Local\\Temp\\ipykernel_4628\\2590787309.py:34: FutureWarning: The frame.append method is deprecated and will be removed from pandas in a future version. Use pandas.concat instead.\n",
      "  conteo = conteo.append(fila, ignore_index=True)\n",
      "C:\\Users\\User\\AppData\\Local\\Temp\\ipykernel_4628\\2590787309.py:34: FutureWarning: The frame.append method is deprecated and will be removed from pandas in a future version. Use pandas.concat instead.\n",
      "  conteo = conteo.append(fila, ignore_index=True)\n",
      "C:\\Users\\User\\AppData\\Local\\Temp\\ipykernel_4628\\2590787309.py:34: FutureWarning: The frame.append method is deprecated and will be removed from pandas in a future version. Use pandas.concat instead.\n",
      "  conteo = conteo.append(fila, ignore_index=True)\n",
      "C:\\Users\\User\\AppData\\Local\\Temp\\ipykernel_4628\\2590787309.py:34: FutureWarning: The frame.append method is deprecated and will be removed from pandas in a future version. Use pandas.concat instead.\n",
      "  conteo = conteo.append(fila, ignore_index=True)\n",
      "C:\\Users\\User\\AppData\\Local\\Temp\\ipykernel_4628\\2590787309.py:34: FutureWarning: The frame.append method is deprecated and will be removed from pandas in a future version. Use pandas.concat instead.\n",
      "  conteo = conteo.append(fila, ignore_index=True)\n",
      "C:\\Users\\User\\AppData\\Local\\Temp\\ipykernel_4628\\2590787309.py:34: FutureWarning: The frame.append method is deprecated and will be removed from pandas in a future version. Use pandas.concat instead.\n",
      "  conteo = conteo.append(fila, ignore_index=True)\n",
      "C:\\Users\\User\\AppData\\Local\\Temp\\ipykernel_4628\\2590787309.py:34: FutureWarning: The frame.append method is deprecated and will be removed from pandas in a future version. Use pandas.concat instead.\n",
      "  conteo = conteo.append(fila, ignore_index=True)\n",
      "C:\\Users\\User\\AppData\\Local\\Temp\\ipykernel_4628\\2590787309.py:34: FutureWarning: The frame.append method is deprecated and will be removed from pandas in a future version. Use pandas.concat instead.\n",
      "  conteo = conteo.append(fila, ignore_index=True)\n",
      "C:\\Users\\User\\AppData\\Local\\Temp\\ipykernel_4628\\2590787309.py:34: FutureWarning: The frame.append method is deprecated and will be removed from pandas in a future version. Use pandas.concat instead.\n",
      "  conteo = conteo.append(fila, ignore_index=True)\n",
      "C:\\Users\\User\\AppData\\Local\\Temp\\ipykernel_4628\\2590787309.py:34: FutureWarning: The frame.append method is deprecated and will be removed from pandas in a future version. Use pandas.concat instead.\n",
      "  conteo = conteo.append(fila, ignore_index=True)\n",
      "C:\\Users\\User\\AppData\\Local\\Temp\\ipykernel_4628\\2590787309.py:34: FutureWarning: The frame.append method is deprecated and will be removed from pandas in a future version. Use pandas.concat instead.\n",
      "  conteo = conteo.append(fila, ignore_index=True)\n",
      "C:\\Users\\User\\AppData\\Local\\Temp\\ipykernel_4628\\2590787309.py:34: FutureWarning: The frame.append method is deprecated and will be removed from pandas in a future version. Use pandas.concat instead.\n",
      "  conteo = conteo.append(fila, ignore_index=True)\n",
      "C:\\Users\\User\\AppData\\Local\\Temp\\ipykernel_4628\\2590787309.py:34: FutureWarning: The frame.append method is deprecated and will be removed from pandas in a future version. Use pandas.concat instead.\n",
      "  conteo = conteo.append(fila, ignore_index=True)\n",
      "C:\\Users\\User\\AppData\\Local\\Temp\\ipykernel_4628\\2590787309.py:34: FutureWarning: The frame.append method is deprecated and will be removed from pandas in a future version. Use pandas.concat instead.\n",
      "  conteo = conteo.append(fila, ignore_index=True)\n",
      "C:\\Users\\User\\AppData\\Local\\Temp\\ipykernel_4628\\2590787309.py:34: FutureWarning: The frame.append method is deprecated and will be removed from pandas in a future version. Use pandas.concat instead.\n",
      "  conteo = conteo.append(fila, ignore_index=True)\n",
      "C:\\Users\\User\\AppData\\Local\\Temp\\ipykernel_4628\\2590787309.py:34: FutureWarning: The frame.append method is deprecated and will be removed from pandas in a future version. Use pandas.concat instead.\n",
      "  conteo = conteo.append(fila, ignore_index=True)\n",
      "C:\\Users\\User\\AppData\\Local\\Temp\\ipykernel_4628\\2590787309.py:34: FutureWarning: The frame.append method is deprecated and will be removed from pandas in a future version. Use pandas.concat instead.\n",
      "  conteo = conteo.append(fila, ignore_index=True)\n",
      "C:\\Users\\User\\AppData\\Local\\Temp\\ipykernel_4628\\2590787309.py:34: FutureWarning: The frame.append method is deprecated and will be removed from pandas in a future version. Use pandas.concat instead.\n",
      "  conteo = conteo.append(fila, ignore_index=True)\n",
      "C:\\Users\\User\\AppData\\Local\\Temp\\ipykernel_4628\\2590787309.py:34: FutureWarning: The frame.append method is deprecated and will be removed from pandas in a future version. Use pandas.concat instead.\n",
      "  conteo = conteo.append(fila, ignore_index=True)\n",
      "C:\\Users\\User\\AppData\\Local\\Temp\\ipykernel_4628\\2590787309.py:34: FutureWarning: The frame.append method is deprecated and will be removed from pandas in a future version. Use pandas.concat instead.\n",
      "  conteo = conteo.append(fila, ignore_index=True)\n"
     ]
    },
    {
     "data": {
      "text/html": [
       "<div>\n",
       "<style scoped>\n",
       "    .dataframe tbody tr th:only-of-type {\n",
       "        vertical-align: middle;\n",
       "    }\n",
       "\n",
       "    .dataframe tbody tr th {\n",
       "        vertical-align: top;\n",
       "    }\n",
       "\n",
       "    .dataframe thead th {\n",
       "        text-align: right;\n",
       "    }\n",
       "</style>\n",
       "<table border=\"1\" class=\"dataframe\">\n",
       "  <thead>\n",
       "    <tr style=\"text-align: right;\">\n",
       "      <th></th>\n",
       "      <th>Palabra</th>\n",
       "      <th>Recuento</th>\n",
       "      <th>Densidad</th>\n",
       "    </tr>\n",
       "  </thead>\n",
       "  <tbody>\n",
       "    <tr>\n",
       "      <th>0</th>\n",
       "      <td>jean</td>\n",
       "      <td>1</td>\n",
       "      <td>4.17%</td>\n",
       "    </tr>\n",
       "    <tr>\n",
       "      <th>1</th>\n",
       "      <td>iris</td>\n",
       "      <td>1</td>\n",
       "      <td>4.17%</td>\n",
       "    </tr>\n",
       "    <tr>\n",
       "      <th>22</th>\n",
       "      <td>moral</td>\n",
       "      <td>1</td>\n",
       "      <td>4.17%</td>\n",
       "    </tr>\n",
       "    <tr>\n",
       "      <th>21</th>\n",
       "      <td>indo él</td>\n",
       "      <td>1</td>\n",
       "      <td>4.17%</td>\n",
       "    </tr>\n",
       "    <tr>\n",
       "      <th>20</th>\n",
       "      <td>tema</td>\n",
       "      <td>1</td>\n",
       "      <td>4.17%</td>\n",
       "    </tr>\n",
       "    <tr>\n",
       "      <th>19</th>\n",
       "      <td>general</td>\n",
       "      <td>1</td>\n",
       "      <td>4.17%</td>\n",
       "    </tr>\n",
       "    <tr>\n",
       "      <th>18</th>\n",
       "      <td>incluir</td>\n",
       "      <td>1</td>\n",
       "      <td>4.17%</td>\n",
       "    </tr>\n",
       "    <tr>\n",
       "      <th>17</th>\n",
       "      <td>argumento</td>\n",
       "      <td>1</td>\n",
       "      <td>4.17%</td>\n",
       "    </tr>\n",
       "    <tr>\n",
       "      <th>16</th>\n",
       "      <td>animado</td>\n",
       "      <td>1</td>\n",
       "      <td>4.17%</td>\n",
       "    </tr>\n",
       "    <tr>\n",
       "      <th>15</th>\n",
       "      <td>caracterización</td>\n",
       "      <td>1</td>\n",
       "      <td>4.17%</td>\n",
       "    </tr>\n",
       "    <tr>\n",
       "      <th>14</th>\n",
       "      <td>rico</td>\n",
       "      <td>1</td>\n",
       "      <td>4.17%</td>\n",
       "    </tr>\n",
       "    <tr>\n",
       "      <th>13</th>\n",
       "      <td>combín</td>\n",
       "      <td>1</td>\n",
       "      <td>4.17%</td>\n",
       "    </tr>\n",
       "    <tr>\n",
       "      <th>12</th>\n",
       "      <td>novela</td>\n",
       "      <td>1</td>\n",
       "      <td>4.17%</td>\n",
       "    </tr>\n",
       "    <tr>\n",
       "      <th>11</th>\n",
       "      <td>conocido</td>\n",
       "      <td>1</td>\n",
       "      <td>4.17%</td>\n",
       "    </tr>\n",
       "    <tr>\n",
       "      <th>10</th>\n",
       "      <td>irlandés</td>\n",
       "      <td>1</td>\n",
       "      <td>4.17%</td>\n",
       "    </tr>\n",
       "    <tr>\n",
       "      <th>9</th>\n",
       "      <td>filósofo</td>\n",
       "      <td>1</td>\n",
       "      <td>4.17%</td>\n",
       "    </tr>\n",
       "    <tr>\n",
       "      <th>8</th>\n",
       "      <td>escritoro</td>\n",
       "      <td>1</td>\n",
       "      <td>4.17%</td>\n",
       "    </tr>\n",
       "    <tr>\n",
       "      <th>7</th>\n",
       "      <td>febrero</td>\n",
       "      <td>1</td>\n",
       "      <td>4.17%</td>\n",
       "    </tr>\n",
       "    <tr>\n",
       "      <th>6</th>\n",
       "      <td>inglaterro</td>\n",
       "      <td>1</td>\n",
       "      <td>4.17%</td>\n",
       "    </tr>\n",
       "    <tr>\n",
       "      <th>5</th>\n",
       "      <td>julio</td>\n",
       "      <td>1</td>\n",
       "      <td>4.17%</td>\n",
       "    </tr>\n",
       "    <tr>\n",
       "      <th>4</th>\n",
       "      <td>irlanda</td>\n",
       "      <td>1</td>\n",
       "      <td>4.17%</td>\n",
       "    </tr>\n",
       "    <tr>\n",
       "      <th>3</th>\n",
       "      <td>dublín</td>\n",
       "      <td>1</td>\n",
       "      <td>4.17%</td>\n",
       "    </tr>\n",
       "    <tr>\n",
       "      <th>2</th>\n",
       "      <td>murdoch</td>\n",
       "      <td>1</td>\n",
       "      <td>4.17%</td>\n",
       "    </tr>\n",
       "    <tr>\n",
       "      <th>23</th>\n",
       "      <td>sexual</td>\n",
       "      <td>1</td>\n",
       "      <td>4.17%</td>\n",
       "    </tr>\n",
       "  </tbody>\n",
       "</table>\n",
       "</div>"
      ],
      "text/plain": [
       "            Palabra Recuento Densidad\n",
       "0              jean        1    4.17%\n",
       "1              iris        1    4.17%\n",
       "22            moral        1    4.17%\n",
       "21          indo él        1    4.17%\n",
       "20             tema        1    4.17%\n",
       "19          general        1    4.17%\n",
       "18          incluir        1    4.17%\n",
       "17        argumento        1    4.17%\n",
       "16          animado        1    4.17%\n",
       "15  caracterización        1    4.17%\n",
       "14             rico        1    4.17%\n",
       "13           combín        1    4.17%\n",
       "12           novela        1    4.17%\n",
       "11         conocido        1    4.17%\n",
       "10         irlandés        1    4.17%\n",
       "9          filósofo        1    4.17%\n",
       "8         escritoro        1    4.17%\n",
       "7           febrero        1    4.17%\n",
       "6        inglaterro        1    4.17%\n",
       "5             julio        1    4.17%\n",
       "4           irlanda        1    4.17%\n",
       "3            dublín        1    4.17%\n",
       "2           murdoch        1    4.17%\n",
       "23           sexual        1    4.17%"
      ]
     },
     "execution_count": 40,
     "metadata": {},
     "output_type": "execute_result"
    }
   ],
   "source": [
    "text= \"Jean Iris Murdoch (Dublín, Irlanda; 15 de julio 1919-Oxford, Inglaterra; 8 de febrero 1999), fue una escritora y filósofa irlandesa, más conocida por sus novelas, en las que combina una rica caracterización con animados argumentos, incluyendo, por lo general, temas de índole moral o sexual.\"\n",
    "\n",
    "text_density(text, True)"
   ]
  },
  {
   "cell_type": "markdown",
   "id": "d4328b94",
   "metadata": {},
   "source": [
    "### 2.- SPAM detector\n",
    "\n",
    "\n",
    "Create a function that giving an email URL is able to detect if it is spam or not.\n",
    "\n",
    "\n",
    "You can test it using this emails:\n",
    "\n",
    "\n",
    "https://vgwq.campaign-view.com/ua/viewinbrowser?od=3z76be2304fc1bc51a1bd72c445d4b63701474d74f8db12551960783c3e1a78592&rd=11c4aa5bc740ea1a&sd=11c4aa5bc74aa5db&n=11699e4c2c382ee&mrd=11c4aa5bc74aa5c5&m=1\n",
    "https://m.user.atresplayer.com/nl/jsp/m.jsp?c=%40kfUlPA1%2Fy4hVsBnFf7cF3wknLdT1VV%2FcnwzofD0XVhA%3D\n",
    "http://view.mail.360imprimir.es/?qs=240379cda28af83ad8e10007f41fbdc1f01d1b478296dce186feaa145a49a34f23b8a8237db5b919c795c23a8f6d5674a7029b3ea6825c6d72b6ff6ce79263a31674a89eff62e90f6a1f9f8b7debe9ca\n",
    "https://m.email.eltenedor.es/nl/jsp/m.jsp?c=%40SLLq2awKrPi0rV3s6HivzVLQcODoH2LSuiXoE8wzwZ8%3D&_ctid=166618731"
   ]
  },
  {
   "cell_type": "code",
   "execution_count": 41,
   "id": "b87fb213",
   "metadata": {},
   "outputs": [],
   "source": [
    "from urllib.request import Request, urlopen\n",
    "from bs4 import BeautifulSoup"
   ]
  },
  {
   "cell_type": "code",
   "execution_count": 42,
   "id": "c3b85988",
   "metadata": {},
   "outputs": [],
   "source": [
    "def obtener_texto(url_pet, elemento):\n",
    "\n",
    "    \"\"\"\n",
    "    Retrieves the text content of a specific HTML element from a given URL.\n",
    "\n",
    "    Args:\n",
    "    url_pet (str): The URL to request.\n",
    "    element (str): The HTML element to retrieve the text from.\n",
    "\n",
    "    Returns:\n",
    "    str: The text content of the specified HTML element.\n",
    "    \n",
    "    \"\"\"\n",
    "    \n",
    "    #Make request\n",
    "    request= urllib.request.urlopen(url_pet)\n",
    "    \n",
    "    #Read html\n",
    "    html= request.read()\n",
    "    \n",
    "    #Parse html with beautiful soup\n",
    "    soup= BeautifulSoup(html, 'html.parser')\n",
    "    \n",
    "    #Retrieve specific element from web page\n",
    "    parrafos= soup.find_all()\n",
    "    \n",
    "    result= ''\n",
    "    \n",
    "    for parrafo in parrafos:\n",
    "        \n",
    "        result= result + parrafo.get_text()\n",
    "        \n",
    "    return result"
   ]
  },
  {
   "cell_type": "markdown",
   "id": "ef6d6c53",
   "metadata": {},
   "source": [
    "##### obtener_texto\n",
    "\n",
    "This function obtain_text takes a URL and an HTML element as input and returns the text content of all HTML elements that match the specified element.\n",
    "\n",
    "Here's what each part of the code does:\n",
    "\n",
    "The function calls the \"urlopen\" function from the \"urllib.request\" module with the input URL. This downloads the HTML of the specified web page into the request variable.\n",
    "\n",
    "The function reads the content of the HTML response using the \"read\" function of the \"request\" object, and stores it in the html variable.\n",
    "\n",
    "The function uses the Beautiful Soup library to parse the HTML and create a tree structure representing the web page. The tree structure is stored in the soup variable.\n",
    "\n",
    "The function finds all HTML elements that match the specified element using the \"find_all\" function of the soup variable. The matching HTML elements are stored in the parrafos variable.\n",
    "\n",
    "The function iterates through all HTML elements in the \"parrafos\" list and adds the text of each HTML element to the result variable.\n",
    "\n",
    "The function returns the collected text in the \"result\" variable.\n",
    "\n",
    "In summary, the function uses the Beautiful Soup library to find and extract text from specified HTML elements on a web page. This function is useful for extracting specific information from a web page for further processing."
   ]
  },
  {
   "cell_type": "code",
   "execution_count": 43,
   "id": "732fb5f8",
   "metadata": {},
   "outputs": [],
   "source": [
    "import pandas as pd\n",
    "import nltk\n",
    "from nltk.tokenize import word_tokenize\n",
    "from nltk.corpus import stopwords\n",
    "from nltk.stem import SnowballStemmer\n",
    "\n",
    "import spacy\n",
    "nlp = spacy.load('es_core_news_sm')\n",
    "\n",
    "import urllib.request #Hacer peticiones HTML\n",
    "from bs4 import BeautifulSoup #Manipular y trabajar con HTML"
   ]
  },
  {
   "cell_type": "code",
   "execution_count": 44,
   "id": "0d2e58ca",
   "metadata": {},
   "outputs": [],
   "source": [
    "def es_Spam(url_email):\n",
    "   \n",
    "    texto = obtener_texto(url_email, 'p')\n",
    "    texto = texto + obtener_texto(url_email, 'a')\n",
    "    \n",
    "    densidad = text_density(texto, True)\n",
    "    \n",
    "    palabras_spam_1 = ['comprar', 'descargar', 'descuento', 'ayuda', 'regalo', 'premio', 'bancaria', 'más']\n",
    "    palabras_spam = []\n",
    "    \n",
    "    for token in nlp(' '.join(palabras_spam_1)):\n",
    "            palabras_spam.append(token.lemma_) #Añadimos a lista\n",
    "    \n",
    "    spam_points = 0\n",
    "    \n",
    "    fila = 0\n",
    "    filas = densidad.shape[0]\n",
    "        \n",
    "    while fila < filas:\n",
    "        \n",
    "        row = densidad.iloc[fila]\n",
    "        \n",
    "        if row.loc['Palabra'] in palabras_spam:\n",
    "            \n",
    "            if float(row.loc['Densidad']) > 0.02:\n",
    "                \n",
    "                spam_points = spam_points + 1\n",
    "        \n",
    "        fila = fila +1\n",
    "    \n",
    "    result = ''\n",
    "    \n",
    "    if spam_points > 0:\n",
    "        result = 'Si es SPAM'\n",
    "    else:\n",
    "        result = 'No es SPAM'\n",
    "        \n",
    "        \n",
    "    return result + ' Puntos Spam: ' + str(spam_points)"
   ]
  },
  {
   "cell_type": "markdown",
   "id": "253d26b4",
   "metadata": {},
   "source": [
    "##### es_Spam\n",
    "\n",
    "The spam score is based on the amount of spam words found in the text and their density in relation to the rest of the text.\n",
    "\n",
    "This code defines a function called is_Spam that takes an email URL as input and returns a message indicating whether the email is spam or not, and the amount of accumulated spam points.\n",
    "\n",
    "The code does the following:\n",
    "\n",
    "It uses the get_text function to extract the content of the \"p\" and \"a\" elements from the webpage corresponding to the email URL and combines them into a single text string called \"text\". It uses the text_density function to analyze the word density in the text and returns a DataFrame containing each word and its corresponding density.\n",
    "\n",
    "It creates a list called spam_words_1 that contains common words that tend to appear in spam emails, such as \"buy\", \"download\", \"discount\", etc.\n",
    "\n",
    "It uses the natural language processing library nlp to parse the list of words spam_words_1 and convert them to their base form (lemmas) and stores them in a new list called spam_words.\n",
    "\n",
    "It creates a variable called spam_points and initializes it to zero.\n",
    "\n",
    "The while loop iterates over all rows of the density DataFrame. In each iteration, the current row from \"density\" is extracted and stored in the variable row. Within the loop, it checks whether the current word (stored in the \"Word\" column of the current row) is in a list called \"spam_words\". If the word is in the list and its density is greater than 0.02 (stored in the \"Density\" column of the current row), the spam_points variable is incremented by 1.\n",
    "\n",
    "It iterates through each row of the density DataFrame and checks whether the word from that row is in the \"spam_words\" list and if its density is greater than 0.02. If so, it increments spam_points by 1.\n",
    "\n",
    "It returns a message indicating whether the email is spam or not, and the amount of accumulated spam points."
   ]
  },
  {
   "cell_type": "code",
   "execution_count": 45,
   "id": "2eecc9dd",
   "metadata": {},
   "outputs": [
    {
     "name": "stderr",
     "output_type": "stream",
     "text": [
      "C:\\Users\\User\\AppData\\Local\\Temp\\ipykernel_4628\\2590787309.py:34: FutureWarning: The frame.append method is deprecated and will be removed from pandas in a future version. Use pandas.concat instead.\n",
      "  conteo = conteo.append(fila, ignore_index=True)\n",
      "C:\\Users\\User\\AppData\\Local\\Temp\\ipykernel_4628\\2590787309.py:34: FutureWarning: The frame.append method is deprecated and will be removed from pandas in a future version. Use pandas.concat instead.\n",
      "  conteo = conteo.append(fila, ignore_index=True)\n",
      "C:\\Users\\User\\AppData\\Local\\Temp\\ipykernel_4628\\2590787309.py:34: FutureWarning: The frame.append method is deprecated and will be removed from pandas in a future version. Use pandas.concat instead.\n",
      "  conteo = conteo.append(fila, ignore_index=True)\n",
      "C:\\Users\\User\\AppData\\Local\\Temp\\ipykernel_4628\\2590787309.py:34: FutureWarning: The frame.append method is deprecated and will be removed from pandas in a future version. Use pandas.concat instead.\n",
      "  conteo = conteo.append(fila, ignore_index=True)\n",
      "C:\\Users\\User\\AppData\\Local\\Temp\\ipykernel_4628\\2590787309.py:34: FutureWarning: The frame.append method is deprecated and will be removed from pandas in a future version. Use pandas.concat instead.\n",
      "  conteo = conteo.append(fila, ignore_index=True)\n",
      "C:\\Users\\User\\AppData\\Local\\Temp\\ipykernel_4628\\2590787309.py:34: FutureWarning: The frame.append method is deprecated and will be removed from pandas in a future version. Use pandas.concat instead.\n",
      "  conteo = conteo.append(fila, ignore_index=True)\n",
      "C:\\Users\\User\\AppData\\Local\\Temp\\ipykernel_4628\\2590787309.py:34: FutureWarning: The frame.append method is deprecated and will be removed from pandas in a future version. Use pandas.concat instead.\n",
      "  conteo = conteo.append(fila, ignore_index=True)\n",
      "C:\\Users\\User\\AppData\\Local\\Temp\\ipykernel_4628\\2590787309.py:34: FutureWarning: The frame.append method is deprecated and will be removed from pandas in a future version. Use pandas.concat instead.\n",
      "  conteo = conteo.append(fila, ignore_index=True)\n",
      "C:\\Users\\User\\AppData\\Local\\Temp\\ipykernel_4628\\2590787309.py:34: FutureWarning: The frame.append method is deprecated and will be removed from pandas in a future version. Use pandas.concat instead.\n",
      "  conteo = conteo.append(fila, ignore_index=True)\n",
      "C:\\Users\\User\\AppData\\Local\\Temp\\ipykernel_4628\\2590787309.py:34: FutureWarning: The frame.append method is deprecated and will be removed from pandas in a future version. Use pandas.concat instead.\n",
      "  conteo = conteo.append(fila, ignore_index=True)\n",
      "C:\\Users\\User\\AppData\\Local\\Temp\\ipykernel_4628\\2590787309.py:34: FutureWarning: The frame.append method is deprecated and will be removed from pandas in a future version. Use pandas.concat instead.\n",
      "  conteo = conteo.append(fila, ignore_index=True)\n",
      "C:\\Users\\User\\AppData\\Local\\Temp\\ipykernel_4628\\2590787309.py:34: FutureWarning: The frame.append method is deprecated and will be removed from pandas in a future version. Use pandas.concat instead.\n",
      "  conteo = conteo.append(fila, ignore_index=True)\n",
      "C:\\Users\\User\\AppData\\Local\\Temp\\ipykernel_4628\\2590787309.py:34: FutureWarning: The frame.append method is deprecated and will be removed from pandas in a future version. Use pandas.concat instead.\n",
      "  conteo = conteo.append(fila, ignore_index=True)\n",
      "C:\\Users\\User\\AppData\\Local\\Temp\\ipykernel_4628\\2590787309.py:34: FutureWarning: The frame.append method is deprecated and will be removed from pandas in a future version. Use pandas.concat instead.\n",
      "  conteo = conteo.append(fila, ignore_index=True)\n",
      "C:\\Users\\User\\AppData\\Local\\Temp\\ipykernel_4628\\2590787309.py:34: FutureWarning: The frame.append method is deprecated and will be removed from pandas in a future version. Use pandas.concat instead.\n",
      "  conteo = conteo.append(fila, ignore_index=True)\n",
      "C:\\Users\\User\\AppData\\Local\\Temp\\ipykernel_4628\\2590787309.py:34: FutureWarning: The frame.append method is deprecated and will be removed from pandas in a future version. Use pandas.concat instead.\n",
      "  conteo = conteo.append(fila, ignore_index=True)\n",
      "C:\\Users\\User\\AppData\\Local\\Temp\\ipykernel_4628\\2590787309.py:34: FutureWarning: The frame.append method is deprecated and will be removed from pandas in a future version. Use pandas.concat instead.\n",
      "  conteo = conteo.append(fila, ignore_index=True)\n",
      "C:\\Users\\User\\AppData\\Local\\Temp\\ipykernel_4628\\2590787309.py:34: FutureWarning: The frame.append method is deprecated and will be removed from pandas in a future version. Use pandas.concat instead.\n",
      "  conteo = conteo.append(fila, ignore_index=True)\n",
      "C:\\Users\\User\\AppData\\Local\\Temp\\ipykernel_4628\\2590787309.py:34: FutureWarning: The frame.append method is deprecated and will be removed from pandas in a future version. Use pandas.concat instead.\n",
      "  conteo = conteo.append(fila, ignore_index=True)\n",
      "C:\\Users\\User\\AppData\\Local\\Temp\\ipykernel_4628\\2590787309.py:34: FutureWarning: The frame.append method is deprecated and will be removed from pandas in a future version. Use pandas.concat instead.\n",
      "  conteo = conteo.append(fila, ignore_index=True)\n",
      "C:\\Users\\User\\AppData\\Local\\Temp\\ipykernel_4628\\2590787309.py:34: FutureWarning: The frame.append method is deprecated and will be removed from pandas in a future version. Use pandas.concat instead.\n",
      "  conteo = conteo.append(fila, ignore_index=True)\n",
      "C:\\Users\\User\\AppData\\Local\\Temp\\ipykernel_4628\\2590787309.py:34: FutureWarning: The frame.append method is deprecated and will be removed from pandas in a future version. Use pandas.concat instead.\n",
      "  conteo = conteo.append(fila, ignore_index=True)\n",
      "C:\\Users\\User\\AppData\\Local\\Temp\\ipykernel_4628\\2590787309.py:34: FutureWarning: The frame.append method is deprecated and will be removed from pandas in a future version. Use pandas.concat instead.\n",
      "  conteo = conteo.append(fila, ignore_index=True)\n",
      "C:\\Users\\User\\AppData\\Local\\Temp\\ipykernel_4628\\2590787309.py:34: FutureWarning: The frame.append method is deprecated and will be removed from pandas in a future version. Use pandas.concat instead.\n",
      "  conteo = conteo.append(fila, ignore_index=True)\n",
      "C:\\Users\\User\\AppData\\Local\\Temp\\ipykernel_4628\\2590787309.py:34: FutureWarning: The frame.append method is deprecated and will be removed from pandas in a future version. Use pandas.concat instead.\n",
      "  conteo = conteo.append(fila, ignore_index=True)\n",
      "C:\\Users\\User\\AppData\\Local\\Temp\\ipykernel_4628\\2590787309.py:34: FutureWarning: The frame.append method is deprecated and will be removed from pandas in a future version. Use pandas.concat instead.\n",
      "  conteo = conteo.append(fila, ignore_index=True)\n",
      "C:\\Users\\User\\AppData\\Local\\Temp\\ipykernel_4628\\2590787309.py:34: FutureWarning: The frame.append method is deprecated and will be removed from pandas in a future version. Use pandas.concat instead.\n",
      "  conteo = conteo.append(fila, ignore_index=True)\n",
      "C:\\Users\\User\\AppData\\Local\\Temp\\ipykernel_4628\\2590787309.py:34: FutureWarning: The frame.append method is deprecated and will be removed from pandas in a future version. Use pandas.concat instead.\n",
      "  conteo = conteo.append(fila, ignore_index=True)\n",
      "C:\\Users\\User\\AppData\\Local\\Temp\\ipykernel_4628\\2590787309.py:34: FutureWarning: The frame.append method is deprecated and will be removed from pandas in a future version. Use pandas.concat instead.\n",
      "  conteo = conteo.append(fila, ignore_index=True)\n",
      "C:\\Users\\User\\AppData\\Local\\Temp\\ipykernel_4628\\2590787309.py:34: FutureWarning: The frame.append method is deprecated and will be removed from pandas in a future version. Use pandas.concat instead.\n",
      "  conteo = conteo.append(fila, ignore_index=True)\n",
      "C:\\Users\\User\\AppData\\Local\\Temp\\ipykernel_4628\\2590787309.py:34: FutureWarning: The frame.append method is deprecated and will be removed from pandas in a future version. Use pandas.concat instead.\n",
      "  conteo = conteo.append(fila, ignore_index=True)\n",
      "C:\\Users\\User\\AppData\\Local\\Temp\\ipykernel_4628\\2590787309.py:34: FutureWarning: The frame.append method is deprecated and will be removed from pandas in a future version. Use pandas.concat instead.\n",
      "  conteo = conteo.append(fila, ignore_index=True)\n",
      "C:\\Users\\User\\AppData\\Local\\Temp\\ipykernel_4628\\2590787309.py:34: FutureWarning: The frame.append method is deprecated and will be removed from pandas in a future version. Use pandas.concat instead.\n",
      "  conteo = conteo.append(fila, ignore_index=True)\n",
      "C:\\Users\\User\\AppData\\Local\\Temp\\ipykernel_4628\\2590787309.py:34: FutureWarning: The frame.append method is deprecated and will be removed from pandas in a future version. Use pandas.concat instead.\n",
      "  conteo = conteo.append(fila, ignore_index=True)\n",
      "C:\\Users\\User\\AppData\\Local\\Temp\\ipykernel_4628\\2590787309.py:34: FutureWarning: The frame.append method is deprecated and will be removed from pandas in a future version. Use pandas.concat instead.\n",
      "  conteo = conteo.append(fila, ignore_index=True)\n",
      "C:\\Users\\User\\AppData\\Local\\Temp\\ipykernel_4628\\2590787309.py:34: FutureWarning: The frame.append method is deprecated and will be removed from pandas in a future version. Use pandas.concat instead.\n",
      "  conteo = conteo.append(fila, ignore_index=True)\n",
      "C:\\Users\\User\\AppData\\Local\\Temp\\ipykernel_4628\\2590787309.py:34: FutureWarning: The frame.append method is deprecated and will be removed from pandas in a future version. Use pandas.concat instead.\n",
      "  conteo = conteo.append(fila, ignore_index=True)\n",
      "C:\\Users\\User\\AppData\\Local\\Temp\\ipykernel_4628\\2590787309.py:34: FutureWarning: The frame.append method is deprecated and will be removed from pandas in a future version. Use pandas.concat instead.\n",
      "  conteo = conteo.append(fila, ignore_index=True)\n",
      "C:\\Users\\User\\AppData\\Local\\Temp\\ipykernel_4628\\2590787309.py:34: FutureWarning: The frame.append method is deprecated and will be removed from pandas in a future version. Use pandas.concat instead.\n",
      "  conteo = conteo.append(fila, ignore_index=True)\n",
      "C:\\Users\\User\\AppData\\Local\\Temp\\ipykernel_4628\\2590787309.py:34: FutureWarning: The frame.append method is deprecated and will be removed from pandas in a future version. Use pandas.concat instead.\n",
      "  conteo = conteo.append(fila, ignore_index=True)\n",
      "C:\\Users\\User\\AppData\\Local\\Temp\\ipykernel_4628\\2590787309.py:34: FutureWarning: The frame.append method is deprecated and will be removed from pandas in a future version. Use pandas.concat instead.\n",
      "  conteo = conteo.append(fila, ignore_index=True)\n",
      "C:\\Users\\User\\AppData\\Local\\Temp\\ipykernel_4628\\2590787309.py:34: FutureWarning: The frame.append method is deprecated and will be removed from pandas in a future version. Use pandas.concat instead.\n",
      "  conteo = conteo.append(fila, ignore_index=True)\n",
      "C:\\Users\\User\\AppData\\Local\\Temp\\ipykernel_4628\\2590787309.py:34: FutureWarning: The frame.append method is deprecated and will be removed from pandas in a future version. Use pandas.concat instead.\n",
      "  conteo = conteo.append(fila, ignore_index=True)\n",
      "C:\\Users\\User\\AppData\\Local\\Temp\\ipykernel_4628\\2590787309.py:34: FutureWarning: The frame.append method is deprecated and will be removed from pandas in a future version. Use pandas.concat instead.\n",
      "  conteo = conteo.append(fila, ignore_index=True)\n",
      "C:\\Users\\User\\AppData\\Local\\Temp\\ipykernel_4628\\2590787309.py:34: FutureWarning: The frame.append method is deprecated and will be removed from pandas in a future version. Use pandas.concat instead.\n",
      "  conteo = conteo.append(fila, ignore_index=True)\n",
      "C:\\Users\\User\\AppData\\Local\\Temp\\ipykernel_4628\\2590787309.py:34: FutureWarning: The frame.append method is deprecated and will be removed from pandas in a future version. Use pandas.concat instead.\n",
      "  conteo = conteo.append(fila, ignore_index=True)\n",
      "C:\\Users\\User\\AppData\\Local\\Temp\\ipykernel_4628\\2590787309.py:34: FutureWarning: The frame.append method is deprecated and will be removed from pandas in a future version. Use pandas.concat instead.\n",
      "  conteo = conteo.append(fila, ignore_index=True)\n",
      "C:\\Users\\User\\AppData\\Local\\Temp\\ipykernel_4628\\2590787309.py:34: FutureWarning: The frame.append method is deprecated and will be removed from pandas in a future version. Use pandas.concat instead.\n",
      "  conteo = conteo.append(fila, ignore_index=True)\n",
      "C:\\Users\\User\\AppData\\Local\\Temp\\ipykernel_4628\\2590787309.py:34: FutureWarning: The frame.append method is deprecated and will be removed from pandas in a future version. Use pandas.concat instead.\n",
      "  conteo = conteo.append(fila, ignore_index=True)\n",
      "C:\\Users\\User\\AppData\\Local\\Temp\\ipykernel_4628\\2590787309.py:34: FutureWarning: The frame.append method is deprecated and will be removed from pandas in a future version. Use pandas.concat instead.\n",
      "  conteo = conteo.append(fila, ignore_index=True)\n",
      "C:\\Users\\User\\AppData\\Local\\Temp\\ipykernel_4628\\2590787309.py:34: FutureWarning: The frame.append method is deprecated and will be removed from pandas in a future version. Use pandas.concat instead.\n",
      "  conteo = conteo.append(fila, ignore_index=True)\n",
      "C:\\Users\\User\\AppData\\Local\\Temp\\ipykernel_4628\\2590787309.py:34: FutureWarning: The frame.append method is deprecated and will be removed from pandas in a future version. Use pandas.concat instead.\n",
      "  conteo = conteo.append(fila, ignore_index=True)\n",
      "C:\\Users\\User\\AppData\\Local\\Temp\\ipykernel_4628\\2590787309.py:34: FutureWarning: The frame.append method is deprecated and will be removed from pandas in a future version. Use pandas.concat instead.\n",
      "  conteo = conteo.append(fila, ignore_index=True)\n",
      "C:\\Users\\User\\AppData\\Local\\Temp\\ipykernel_4628\\2590787309.py:34: FutureWarning: The frame.append method is deprecated and will be removed from pandas in a future version. Use pandas.concat instead.\n",
      "  conteo = conteo.append(fila, ignore_index=True)\n",
      "C:\\Users\\User\\AppData\\Local\\Temp\\ipykernel_4628\\2590787309.py:34: FutureWarning: The frame.append method is deprecated and will be removed from pandas in a future version. Use pandas.concat instead.\n",
      "  conteo = conteo.append(fila, ignore_index=True)\n",
      "C:\\Users\\User\\AppData\\Local\\Temp\\ipykernel_4628\\2590787309.py:34: FutureWarning: The frame.append method is deprecated and will be removed from pandas in a future version. Use pandas.concat instead.\n",
      "  conteo = conteo.append(fila, ignore_index=True)\n",
      "C:\\Users\\User\\AppData\\Local\\Temp\\ipykernel_4628\\2590787309.py:34: FutureWarning: The frame.append method is deprecated and will be removed from pandas in a future version. Use pandas.concat instead.\n",
      "  conteo = conteo.append(fila, ignore_index=True)\n",
      "C:\\Users\\User\\AppData\\Local\\Temp\\ipykernel_4628\\2590787309.py:34: FutureWarning: The frame.append method is deprecated and will be removed from pandas in a future version. Use pandas.concat instead.\n",
      "  conteo = conteo.append(fila, ignore_index=True)\n",
      "C:\\Users\\User\\AppData\\Local\\Temp\\ipykernel_4628\\2590787309.py:34: FutureWarning: The frame.append method is deprecated and will be removed from pandas in a future version. Use pandas.concat instead.\n",
      "  conteo = conteo.append(fila, ignore_index=True)\n",
      "C:\\Users\\User\\AppData\\Local\\Temp\\ipykernel_4628\\2590787309.py:34: FutureWarning: The frame.append method is deprecated and will be removed from pandas in a future version. Use pandas.concat instead.\n",
      "  conteo = conteo.append(fila, ignore_index=True)\n",
      "C:\\Users\\User\\AppData\\Local\\Temp\\ipykernel_4628\\2590787309.py:34: FutureWarning: The frame.append method is deprecated and will be removed from pandas in a future version. Use pandas.concat instead.\n",
      "  conteo = conteo.append(fila, ignore_index=True)\n",
      "C:\\Users\\User\\AppData\\Local\\Temp\\ipykernel_4628\\2590787309.py:34: FutureWarning: The frame.append method is deprecated and will be removed from pandas in a future version. Use pandas.concat instead.\n",
      "  conteo = conteo.append(fila, ignore_index=True)\n",
      "C:\\Users\\User\\AppData\\Local\\Temp\\ipykernel_4628\\2590787309.py:34: FutureWarning: The frame.append method is deprecated and will be removed from pandas in a future version. Use pandas.concat instead.\n",
      "  conteo = conteo.append(fila, ignore_index=True)\n",
      "C:\\Users\\User\\AppData\\Local\\Temp\\ipykernel_4628\\2590787309.py:34: FutureWarning: The frame.append method is deprecated and will be removed from pandas in a future version. Use pandas.concat instead.\n",
      "  conteo = conteo.append(fila, ignore_index=True)\n",
      "C:\\Users\\User\\AppData\\Local\\Temp\\ipykernel_4628\\2590787309.py:34: FutureWarning: The frame.append method is deprecated and will be removed from pandas in a future version. Use pandas.concat instead.\n",
      "  conteo = conteo.append(fila, ignore_index=True)\n",
      "C:\\Users\\User\\AppData\\Local\\Temp\\ipykernel_4628\\2590787309.py:34: FutureWarning: The frame.append method is deprecated and will be removed from pandas in a future version. Use pandas.concat instead.\n",
      "  conteo = conteo.append(fila, ignore_index=True)\n",
      "C:\\Users\\User\\AppData\\Local\\Temp\\ipykernel_4628\\2590787309.py:34: FutureWarning: The frame.append method is deprecated and will be removed from pandas in a future version. Use pandas.concat instead.\n",
      "  conteo = conteo.append(fila, ignore_index=True)\n",
      "C:\\Users\\User\\AppData\\Local\\Temp\\ipykernel_4628\\2590787309.py:34: FutureWarning: The frame.append method is deprecated and will be removed from pandas in a future version. Use pandas.concat instead.\n",
      "  conteo = conteo.append(fila, ignore_index=True)\n",
      "C:\\Users\\User\\AppData\\Local\\Temp\\ipykernel_4628\\2590787309.py:34: FutureWarning: The frame.append method is deprecated and will be removed from pandas in a future version. Use pandas.concat instead.\n",
      "  conteo = conteo.append(fila, ignore_index=True)\n",
      "C:\\Users\\User\\AppData\\Local\\Temp\\ipykernel_4628\\2590787309.py:34: FutureWarning: The frame.append method is deprecated and will be removed from pandas in a future version. Use pandas.concat instead.\n",
      "  conteo = conteo.append(fila, ignore_index=True)\n",
      "C:\\Users\\User\\AppData\\Local\\Temp\\ipykernel_4628\\2590787309.py:34: FutureWarning: The frame.append method is deprecated and will be removed from pandas in a future version. Use pandas.concat instead.\n",
      "  conteo = conteo.append(fila, ignore_index=True)\n",
      "C:\\Users\\User\\AppData\\Local\\Temp\\ipykernel_4628\\2590787309.py:34: FutureWarning: The frame.append method is deprecated and will be removed from pandas in a future version. Use pandas.concat instead.\n",
      "  conteo = conteo.append(fila, ignore_index=True)\n",
      "C:\\Users\\User\\AppData\\Local\\Temp\\ipykernel_4628\\2590787309.py:34: FutureWarning: The frame.append method is deprecated and will be removed from pandas in a future version. Use pandas.concat instead.\n",
      "  conteo = conteo.append(fila, ignore_index=True)\n",
      "C:\\Users\\User\\AppData\\Local\\Temp\\ipykernel_4628\\2590787309.py:34: FutureWarning: The frame.append method is deprecated and will be removed from pandas in a future version. Use pandas.concat instead.\n",
      "  conteo = conteo.append(fila, ignore_index=True)\n",
      "C:\\Users\\User\\AppData\\Local\\Temp\\ipykernel_4628\\2590787309.py:34: FutureWarning: The frame.append method is deprecated and will be removed from pandas in a future version. Use pandas.concat instead.\n",
      "  conteo = conteo.append(fila, ignore_index=True)\n",
      "C:\\Users\\User\\AppData\\Local\\Temp\\ipykernel_4628\\2590787309.py:34: FutureWarning: The frame.append method is deprecated and will be removed from pandas in a future version. Use pandas.concat instead.\n",
      "  conteo = conteo.append(fila, ignore_index=True)\n",
      "C:\\Users\\User\\AppData\\Local\\Temp\\ipykernel_4628\\2590787309.py:34: FutureWarning: The frame.append method is deprecated and will be removed from pandas in a future version. Use pandas.concat instead.\n",
      "  conteo = conteo.append(fila, ignore_index=True)\n",
      "C:\\Users\\User\\AppData\\Local\\Temp\\ipykernel_4628\\2590787309.py:34: FutureWarning: The frame.append method is deprecated and will be removed from pandas in a future version. Use pandas.concat instead.\n",
      "  conteo = conteo.append(fila, ignore_index=True)\n",
      "C:\\Users\\User\\AppData\\Local\\Temp\\ipykernel_4628\\2590787309.py:34: FutureWarning: The frame.append method is deprecated and will be removed from pandas in a future version. Use pandas.concat instead.\n",
      "  conteo = conteo.append(fila, ignore_index=True)\n",
      "C:\\Users\\User\\AppData\\Local\\Temp\\ipykernel_4628\\2590787309.py:34: FutureWarning: The frame.append method is deprecated and will be removed from pandas in a future version. Use pandas.concat instead.\n",
      "  conteo = conteo.append(fila, ignore_index=True)\n",
      "C:\\Users\\User\\AppData\\Local\\Temp\\ipykernel_4628\\2590787309.py:34: FutureWarning: The frame.append method is deprecated and will be removed from pandas in a future version. Use pandas.concat instead.\n",
      "  conteo = conteo.append(fila, ignore_index=True)\n",
      "C:\\Users\\User\\AppData\\Local\\Temp\\ipykernel_4628\\2590787309.py:34: FutureWarning: The frame.append method is deprecated and will be removed from pandas in a future version. Use pandas.concat instead.\n",
      "  conteo = conteo.append(fila, ignore_index=True)\n",
      "C:\\Users\\User\\AppData\\Local\\Temp\\ipykernel_4628\\2590787309.py:34: FutureWarning: The frame.append method is deprecated and will be removed from pandas in a future version. Use pandas.concat instead.\n",
      "  conteo = conteo.append(fila, ignore_index=True)\n",
      "C:\\Users\\User\\AppData\\Local\\Temp\\ipykernel_4628\\2590787309.py:34: FutureWarning: The frame.append method is deprecated and will be removed from pandas in a future version. Use pandas.concat instead.\n",
      "  conteo = conteo.append(fila, ignore_index=True)\n",
      "C:\\Users\\User\\AppData\\Local\\Temp\\ipykernel_4628\\2590787309.py:34: FutureWarning: The frame.append method is deprecated and will be removed from pandas in a future version. Use pandas.concat instead.\n",
      "  conteo = conteo.append(fila, ignore_index=True)\n",
      "C:\\Users\\User\\AppData\\Local\\Temp\\ipykernel_4628\\2590787309.py:34: FutureWarning: The frame.append method is deprecated and will be removed from pandas in a future version. Use pandas.concat instead.\n",
      "  conteo = conteo.append(fila, ignore_index=True)\n",
      "C:\\Users\\User\\AppData\\Local\\Temp\\ipykernel_4628\\2590787309.py:34: FutureWarning: The frame.append method is deprecated and will be removed from pandas in a future version. Use pandas.concat instead.\n",
      "  conteo = conteo.append(fila, ignore_index=True)\n",
      "C:\\Users\\User\\AppData\\Local\\Temp\\ipykernel_4628\\2590787309.py:34: FutureWarning: The frame.append method is deprecated and will be removed from pandas in a future version. Use pandas.concat instead.\n",
      "  conteo = conteo.append(fila, ignore_index=True)\n",
      "C:\\Users\\User\\AppData\\Local\\Temp\\ipykernel_4628\\2590787309.py:34: FutureWarning: The frame.append method is deprecated and will be removed from pandas in a future version. Use pandas.concat instead.\n",
      "  conteo = conteo.append(fila, ignore_index=True)\n",
      "C:\\Users\\User\\AppData\\Local\\Temp\\ipykernel_4628\\2590787309.py:34: FutureWarning: The frame.append method is deprecated and will be removed from pandas in a future version. Use pandas.concat instead.\n",
      "  conteo = conteo.append(fila, ignore_index=True)\n",
      "C:\\Users\\User\\AppData\\Local\\Temp\\ipykernel_4628\\2590787309.py:34: FutureWarning: The frame.append method is deprecated and will be removed from pandas in a future version. Use pandas.concat instead.\n",
      "  conteo = conteo.append(fila, ignore_index=True)\n",
      "C:\\Users\\User\\AppData\\Local\\Temp\\ipykernel_4628\\2590787309.py:34: FutureWarning: The frame.append method is deprecated and will be removed from pandas in a future version. Use pandas.concat instead.\n",
      "  conteo = conteo.append(fila, ignore_index=True)\n",
      "C:\\Users\\User\\AppData\\Local\\Temp\\ipykernel_4628\\2590787309.py:34: FutureWarning: The frame.append method is deprecated and will be removed from pandas in a future version. Use pandas.concat instead.\n",
      "  conteo = conteo.append(fila, ignore_index=True)\n",
      "C:\\Users\\User\\AppData\\Local\\Temp\\ipykernel_4628\\2590787309.py:34: FutureWarning: The frame.append method is deprecated and will be removed from pandas in a future version. Use pandas.concat instead.\n",
      "  conteo = conteo.append(fila, ignore_index=True)\n",
      "C:\\Users\\User\\AppData\\Local\\Temp\\ipykernel_4628\\2590787309.py:34: FutureWarning: The frame.append method is deprecated and will be removed from pandas in a future version. Use pandas.concat instead.\n",
      "  conteo = conteo.append(fila, ignore_index=True)\n",
      "C:\\Users\\User\\AppData\\Local\\Temp\\ipykernel_4628\\2590787309.py:34: FutureWarning: The frame.append method is deprecated and will be removed from pandas in a future version. Use pandas.concat instead.\n",
      "  conteo = conteo.append(fila, ignore_index=True)\n",
      "C:\\Users\\User\\AppData\\Local\\Temp\\ipykernel_4628\\2590787309.py:34: FutureWarning: The frame.append method is deprecated and will be removed from pandas in a future version. Use pandas.concat instead.\n",
      "  conteo = conteo.append(fila, ignore_index=True)\n",
      "C:\\Users\\User\\AppData\\Local\\Temp\\ipykernel_4628\\2590787309.py:34: FutureWarning: The frame.append method is deprecated and will be removed from pandas in a future version. Use pandas.concat instead.\n",
      "  conteo = conteo.append(fila, ignore_index=True)\n",
      "C:\\Users\\User\\AppData\\Local\\Temp\\ipykernel_4628\\2590787309.py:34: FutureWarning: The frame.append method is deprecated and will be removed from pandas in a future version. Use pandas.concat instead.\n",
      "  conteo = conteo.append(fila, ignore_index=True)\n",
      "C:\\Users\\User\\AppData\\Local\\Temp\\ipykernel_4628\\2590787309.py:34: FutureWarning: The frame.append method is deprecated and will be removed from pandas in a future version. Use pandas.concat instead.\n",
      "  conteo = conteo.append(fila, ignore_index=True)\n",
      "C:\\Users\\User\\AppData\\Local\\Temp\\ipykernel_4628\\2590787309.py:34: FutureWarning: The frame.append method is deprecated and will be removed from pandas in a future version. Use pandas.concat instead.\n",
      "  conteo = conteo.append(fila, ignore_index=True)\n",
      "C:\\Users\\User\\AppData\\Local\\Temp\\ipykernel_4628\\2590787309.py:34: FutureWarning: The frame.append method is deprecated and will be removed from pandas in a future version. Use pandas.concat instead.\n",
      "  conteo = conteo.append(fila, ignore_index=True)\n",
      "C:\\Users\\User\\AppData\\Local\\Temp\\ipykernel_4628\\2590787309.py:34: FutureWarning: The frame.append method is deprecated and will be removed from pandas in a future version. Use pandas.concat instead.\n",
      "  conteo = conteo.append(fila, ignore_index=True)\n",
      "C:\\Users\\User\\AppData\\Local\\Temp\\ipykernel_4628\\2590787309.py:34: FutureWarning: The frame.append method is deprecated and will be removed from pandas in a future version. Use pandas.concat instead.\n",
      "  conteo = conteo.append(fila, ignore_index=True)\n",
      "C:\\Users\\User\\AppData\\Local\\Temp\\ipykernel_4628\\2590787309.py:34: FutureWarning: The frame.append method is deprecated and will be removed from pandas in a future version. Use pandas.concat instead.\n",
      "  conteo = conteo.append(fila, ignore_index=True)\n",
      "C:\\Users\\User\\AppData\\Local\\Temp\\ipykernel_4628\\2590787309.py:34: FutureWarning: The frame.append method is deprecated and will be removed from pandas in a future version. Use pandas.concat instead.\n",
      "  conteo = conteo.append(fila, ignore_index=True)\n",
      "C:\\Users\\User\\AppData\\Local\\Temp\\ipykernel_4628\\2590787309.py:34: FutureWarning: The frame.append method is deprecated and will be removed from pandas in a future version. Use pandas.concat instead.\n",
      "  conteo = conteo.append(fila, ignore_index=True)\n",
      "C:\\Users\\User\\AppData\\Local\\Temp\\ipykernel_4628\\2590787309.py:34: FutureWarning: The frame.append method is deprecated and will be removed from pandas in a future version. Use pandas.concat instead.\n",
      "  conteo = conteo.append(fila, ignore_index=True)\n",
      "C:\\Users\\User\\AppData\\Local\\Temp\\ipykernel_4628\\2590787309.py:34: FutureWarning: The frame.append method is deprecated and will be removed from pandas in a future version. Use pandas.concat instead.\n",
      "  conteo = conteo.append(fila, ignore_index=True)\n",
      "C:\\Users\\User\\AppData\\Local\\Temp\\ipykernel_4628\\2590787309.py:34: FutureWarning: The frame.append method is deprecated and will be removed from pandas in a future version. Use pandas.concat instead.\n",
      "  conteo = conteo.append(fila, ignore_index=True)\n",
      "C:\\Users\\User\\AppData\\Local\\Temp\\ipykernel_4628\\2590787309.py:34: FutureWarning: The frame.append method is deprecated and will be removed from pandas in a future version. Use pandas.concat instead.\n",
      "  conteo = conteo.append(fila, ignore_index=True)\n",
      "C:\\Users\\User\\AppData\\Local\\Temp\\ipykernel_4628\\2590787309.py:34: FutureWarning: The frame.append method is deprecated and will be removed from pandas in a future version. Use pandas.concat instead.\n",
      "  conteo = conteo.append(fila, ignore_index=True)\n",
      "C:\\Users\\User\\AppData\\Local\\Temp\\ipykernel_4628\\2590787309.py:34: FutureWarning: The frame.append method is deprecated and will be removed from pandas in a future version. Use pandas.concat instead.\n",
      "  conteo = conteo.append(fila, ignore_index=True)\n",
      "C:\\Users\\User\\AppData\\Local\\Temp\\ipykernel_4628\\2590787309.py:34: FutureWarning: The frame.append method is deprecated and will be removed from pandas in a future version. Use pandas.concat instead.\n",
      "  conteo = conteo.append(fila, ignore_index=True)\n",
      "C:\\Users\\User\\AppData\\Local\\Temp\\ipykernel_4628\\2590787309.py:34: FutureWarning: The frame.append method is deprecated and will be removed from pandas in a future version. Use pandas.concat instead.\n",
      "  conteo = conteo.append(fila, ignore_index=True)\n",
      "C:\\Users\\User\\AppData\\Local\\Temp\\ipykernel_4628\\2590787309.py:34: FutureWarning: The frame.append method is deprecated and will be removed from pandas in a future version. Use pandas.concat instead.\n",
      "  conteo = conteo.append(fila, ignore_index=True)\n",
      "C:\\Users\\User\\AppData\\Local\\Temp\\ipykernel_4628\\2590787309.py:34: FutureWarning: The frame.append method is deprecated and will be removed from pandas in a future version. Use pandas.concat instead.\n",
      "  conteo = conteo.append(fila, ignore_index=True)\n",
      "C:\\Users\\User\\AppData\\Local\\Temp\\ipykernel_4628\\2590787309.py:34: FutureWarning: The frame.append method is deprecated and will be removed from pandas in a future version. Use pandas.concat instead.\n",
      "  conteo = conteo.append(fila, ignore_index=True)\n",
      "C:\\Users\\User\\AppData\\Local\\Temp\\ipykernel_4628\\2590787309.py:34: FutureWarning: The frame.append method is deprecated and will be removed from pandas in a future version. Use pandas.concat instead.\n",
      "  conteo = conteo.append(fila, ignore_index=True)\n",
      "C:\\Users\\User\\AppData\\Local\\Temp\\ipykernel_4628\\2590787309.py:34: FutureWarning: The frame.append method is deprecated and will be removed from pandas in a future version. Use pandas.concat instead.\n",
      "  conteo = conteo.append(fila, ignore_index=True)\n",
      "C:\\Users\\User\\AppData\\Local\\Temp\\ipykernel_4628\\2590787309.py:34: FutureWarning: The frame.append method is deprecated and will be removed from pandas in a future version. Use pandas.concat instead.\n",
      "  conteo = conteo.append(fila, ignore_index=True)\n",
      "C:\\Users\\User\\AppData\\Local\\Temp\\ipykernel_4628\\2590787309.py:34: FutureWarning: The frame.append method is deprecated and will be removed from pandas in a future version. Use pandas.concat instead.\n",
      "  conteo = conteo.append(fila, ignore_index=True)\n",
      "C:\\Users\\User\\AppData\\Local\\Temp\\ipykernel_4628\\2590787309.py:34: FutureWarning: The frame.append method is deprecated and will be removed from pandas in a future version. Use pandas.concat instead.\n",
      "  conteo = conteo.append(fila, ignore_index=True)\n",
      "C:\\Users\\User\\AppData\\Local\\Temp\\ipykernel_4628\\2590787309.py:34: FutureWarning: The frame.append method is deprecated and will be removed from pandas in a future version. Use pandas.concat instead.\n",
      "  conteo = conteo.append(fila, ignore_index=True)\n",
      "C:\\Users\\User\\AppData\\Local\\Temp\\ipykernel_4628\\2590787309.py:34: FutureWarning: The frame.append method is deprecated and will be removed from pandas in a future version. Use pandas.concat instead.\n",
      "  conteo = conteo.append(fila, ignore_index=True)\n",
      "C:\\Users\\User\\AppData\\Local\\Temp\\ipykernel_4628\\2590787309.py:34: FutureWarning: The frame.append method is deprecated and will be removed from pandas in a future version. Use pandas.concat instead.\n",
      "  conteo = conteo.append(fila, ignore_index=True)\n",
      "C:\\Users\\User\\AppData\\Local\\Temp\\ipykernel_4628\\2590787309.py:34: FutureWarning: The frame.append method is deprecated and will be removed from pandas in a future version. Use pandas.concat instead.\n",
      "  conteo = conteo.append(fila, ignore_index=True)\n",
      "C:\\Users\\User\\AppData\\Local\\Temp\\ipykernel_4628\\2590787309.py:34: FutureWarning: The frame.append method is deprecated and will be removed from pandas in a future version. Use pandas.concat instead.\n",
      "  conteo = conteo.append(fila, ignore_index=True)\n",
      "C:\\Users\\User\\AppData\\Local\\Temp\\ipykernel_4628\\2590787309.py:34: FutureWarning: The frame.append method is deprecated and will be removed from pandas in a future version. Use pandas.concat instead.\n",
      "  conteo = conteo.append(fila, ignore_index=True)\n",
      "C:\\Users\\User\\AppData\\Local\\Temp\\ipykernel_4628\\2590787309.py:34: FutureWarning: The frame.append method is deprecated and will be removed from pandas in a future version. Use pandas.concat instead.\n",
      "  conteo = conteo.append(fila, ignore_index=True)\n",
      "C:\\Users\\User\\AppData\\Local\\Temp\\ipykernel_4628\\2590787309.py:34: FutureWarning: The frame.append method is deprecated and will be removed from pandas in a future version. Use pandas.concat instead.\n",
      "  conteo = conteo.append(fila, ignore_index=True)\n",
      "C:\\Users\\User\\AppData\\Local\\Temp\\ipykernel_4628\\2590787309.py:34: FutureWarning: The frame.append method is deprecated and will be removed from pandas in a future version. Use pandas.concat instead.\n",
      "  conteo = conteo.append(fila, ignore_index=True)\n",
      "C:\\Users\\User\\AppData\\Local\\Temp\\ipykernel_4628\\2590787309.py:34: FutureWarning: The frame.append method is deprecated and will be removed from pandas in a future version. Use pandas.concat instead.\n",
      "  conteo = conteo.append(fila, ignore_index=True)\n",
      "C:\\Users\\User\\AppData\\Local\\Temp\\ipykernel_4628\\2590787309.py:34: FutureWarning: The frame.append method is deprecated and will be removed from pandas in a future version. Use pandas.concat instead.\n",
      "  conteo = conteo.append(fila, ignore_index=True)\n",
      "C:\\Users\\User\\AppData\\Local\\Temp\\ipykernel_4628\\2590787309.py:34: FutureWarning: The frame.append method is deprecated and will be removed from pandas in a future version. Use pandas.concat instead.\n",
      "  conteo = conteo.append(fila, ignore_index=True)\n",
      "C:\\Users\\User\\AppData\\Local\\Temp\\ipykernel_4628\\2590787309.py:34: FutureWarning: The frame.append method is deprecated and will be removed from pandas in a future version. Use pandas.concat instead.\n",
      "  conteo = conteo.append(fila, ignore_index=True)\n",
      "C:\\Users\\User\\AppData\\Local\\Temp\\ipykernel_4628\\2590787309.py:34: FutureWarning: The frame.append method is deprecated and will be removed from pandas in a future version. Use pandas.concat instead.\n",
      "  conteo = conteo.append(fila, ignore_index=True)\n",
      "C:\\Users\\User\\AppData\\Local\\Temp\\ipykernel_4628\\2590787309.py:34: FutureWarning: The frame.append method is deprecated and will be removed from pandas in a future version. Use pandas.concat instead.\n",
      "  conteo = conteo.append(fila, ignore_index=True)\n",
      "C:\\Users\\User\\AppData\\Local\\Temp\\ipykernel_4628\\2590787309.py:34: FutureWarning: The frame.append method is deprecated and will be removed from pandas in a future version. Use pandas.concat instead.\n",
      "  conteo = conteo.append(fila, ignore_index=True)\n",
      "C:\\Users\\User\\AppData\\Local\\Temp\\ipykernel_4628\\2590787309.py:34: FutureWarning: The frame.append method is deprecated and will be removed from pandas in a future version. Use pandas.concat instead.\n",
      "  conteo = conteo.append(fila, ignore_index=True)\n",
      "C:\\Users\\User\\AppData\\Local\\Temp\\ipykernel_4628\\2590787309.py:34: FutureWarning: The frame.append method is deprecated and will be removed from pandas in a future version. Use pandas.concat instead.\n",
      "  conteo = conteo.append(fila, ignore_index=True)\n",
      "C:\\Users\\User\\AppData\\Local\\Temp\\ipykernel_4628\\2590787309.py:34: FutureWarning: The frame.append method is deprecated and will be removed from pandas in a future version. Use pandas.concat instead.\n",
      "  conteo = conteo.append(fila, ignore_index=True)\n",
      "C:\\Users\\User\\AppData\\Local\\Temp\\ipykernel_4628\\2590787309.py:34: FutureWarning: The frame.append method is deprecated and will be removed from pandas in a future version. Use pandas.concat instead.\n",
      "  conteo = conteo.append(fila, ignore_index=True)\n",
      "C:\\Users\\User\\AppData\\Local\\Temp\\ipykernel_4628\\2590787309.py:34: FutureWarning: The frame.append method is deprecated and will be removed from pandas in a future version. Use pandas.concat instead.\n",
      "  conteo = conteo.append(fila, ignore_index=True)\n",
      "C:\\Users\\User\\AppData\\Local\\Temp\\ipykernel_4628\\2590787309.py:34: FutureWarning: The frame.append method is deprecated and will be removed from pandas in a future version. Use pandas.concat instead.\n",
      "  conteo = conteo.append(fila, ignore_index=True)\n",
      "C:\\Users\\User\\AppData\\Local\\Temp\\ipykernel_4628\\2590787309.py:34: FutureWarning: The frame.append method is deprecated and will be removed from pandas in a future version. Use pandas.concat instead.\n",
      "  conteo = conteo.append(fila, ignore_index=True)\n",
      "C:\\Users\\User\\AppData\\Local\\Temp\\ipykernel_4628\\2590787309.py:34: FutureWarning: The frame.append method is deprecated and will be removed from pandas in a future version. Use pandas.concat instead.\n",
      "  conteo = conteo.append(fila, ignore_index=True)\n",
      "C:\\Users\\User\\AppData\\Local\\Temp\\ipykernel_4628\\2590787309.py:34: FutureWarning: The frame.append method is deprecated and will be removed from pandas in a future version. Use pandas.concat instead.\n",
      "  conteo = conteo.append(fila, ignore_index=True)\n",
      "C:\\Users\\User\\AppData\\Local\\Temp\\ipykernel_4628\\2590787309.py:34: FutureWarning: The frame.append method is deprecated and will be removed from pandas in a future version. Use pandas.concat instead.\n",
      "  conteo = conteo.append(fila, ignore_index=True)\n",
      "C:\\Users\\User\\AppData\\Local\\Temp\\ipykernel_4628\\2590787309.py:34: FutureWarning: The frame.append method is deprecated and will be removed from pandas in a future version. Use pandas.concat instead.\n",
      "  conteo = conteo.append(fila, ignore_index=True)\n",
      "C:\\Users\\User\\AppData\\Local\\Temp\\ipykernel_4628\\2590787309.py:34: FutureWarning: The frame.append method is deprecated and will be removed from pandas in a future version. Use pandas.concat instead.\n",
      "  conteo = conteo.append(fila, ignore_index=True)\n",
      "C:\\Users\\User\\AppData\\Local\\Temp\\ipykernel_4628\\2590787309.py:34: FutureWarning: The frame.append method is deprecated and will be removed from pandas in a future version. Use pandas.concat instead.\n",
      "  conteo = conteo.append(fila, ignore_index=True)\n",
      "C:\\Users\\User\\AppData\\Local\\Temp\\ipykernel_4628\\2590787309.py:34: FutureWarning: The frame.append method is deprecated and will be removed from pandas in a future version. Use pandas.concat instead.\n",
      "  conteo = conteo.append(fila, ignore_index=True)\n",
      "C:\\Users\\User\\AppData\\Local\\Temp\\ipykernel_4628\\2590787309.py:34: FutureWarning: The frame.append method is deprecated and will be removed from pandas in a future version. Use pandas.concat instead.\n",
      "  conteo = conteo.append(fila, ignore_index=True)\n",
      "C:\\Users\\User\\AppData\\Local\\Temp\\ipykernel_4628\\2590787309.py:34: FutureWarning: The frame.append method is deprecated and will be removed from pandas in a future version. Use pandas.concat instead.\n",
      "  conteo = conteo.append(fila, ignore_index=True)\n",
      "C:\\Users\\User\\AppData\\Local\\Temp\\ipykernel_4628\\2590787309.py:34: FutureWarning: The frame.append method is deprecated and will be removed from pandas in a future version. Use pandas.concat instead.\n",
      "  conteo = conteo.append(fila, ignore_index=True)\n",
      "C:\\Users\\User\\AppData\\Local\\Temp\\ipykernel_4628\\2590787309.py:34: FutureWarning: The frame.append method is deprecated and will be removed from pandas in a future version. Use pandas.concat instead.\n",
      "  conteo = conteo.append(fila, ignore_index=True)\n",
      "C:\\Users\\User\\AppData\\Local\\Temp\\ipykernel_4628\\2590787309.py:34: FutureWarning: The frame.append method is deprecated and will be removed from pandas in a future version. Use pandas.concat instead.\n",
      "  conteo = conteo.append(fila, ignore_index=True)\n",
      "C:\\Users\\User\\AppData\\Local\\Temp\\ipykernel_4628\\2590787309.py:34: FutureWarning: The frame.append method is deprecated and will be removed from pandas in a future version. Use pandas.concat instead.\n",
      "  conteo = conteo.append(fila, ignore_index=True)\n",
      "C:\\Users\\User\\AppData\\Local\\Temp\\ipykernel_4628\\2590787309.py:34: FutureWarning: The frame.append method is deprecated and will be removed from pandas in a future version. Use pandas.concat instead.\n",
      "  conteo = conteo.append(fila, ignore_index=True)\n",
      "C:\\Users\\User\\AppData\\Local\\Temp\\ipykernel_4628\\2590787309.py:34: FutureWarning: The frame.append method is deprecated and will be removed from pandas in a future version. Use pandas.concat instead.\n",
      "  conteo = conteo.append(fila, ignore_index=True)\n",
      "C:\\Users\\User\\AppData\\Local\\Temp\\ipykernel_4628\\2590787309.py:34: FutureWarning: The frame.append method is deprecated and will be removed from pandas in a future version. Use pandas.concat instead.\n",
      "  conteo = conteo.append(fila, ignore_index=True)\n",
      "C:\\Users\\User\\AppData\\Local\\Temp\\ipykernel_4628\\2590787309.py:34: FutureWarning: The frame.append method is deprecated and will be removed from pandas in a future version. Use pandas.concat instead.\n",
      "  conteo = conteo.append(fila, ignore_index=True)\n",
      "C:\\Users\\User\\AppData\\Local\\Temp\\ipykernel_4628\\2590787309.py:34: FutureWarning: The frame.append method is deprecated and will be removed from pandas in a future version. Use pandas.concat instead.\n",
      "  conteo = conteo.append(fila, ignore_index=True)\n",
      "C:\\Users\\User\\AppData\\Local\\Temp\\ipykernel_4628\\2590787309.py:34: FutureWarning: The frame.append method is deprecated and will be removed from pandas in a future version. Use pandas.concat instead.\n",
      "  conteo = conteo.append(fila, ignore_index=True)\n",
      "C:\\Users\\User\\AppData\\Local\\Temp\\ipykernel_4628\\2590787309.py:34: FutureWarning: The frame.append method is deprecated and will be removed from pandas in a future version. Use pandas.concat instead.\n",
      "  conteo = conteo.append(fila, ignore_index=True)\n",
      "C:\\Users\\User\\AppData\\Local\\Temp\\ipykernel_4628\\2590787309.py:34: FutureWarning: The frame.append method is deprecated and will be removed from pandas in a future version. Use pandas.concat instead.\n",
      "  conteo = conteo.append(fila, ignore_index=True)\n",
      "C:\\Users\\User\\AppData\\Local\\Temp\\ipykernel_4628\\2590787309.py:34: FutureWarning: The frame.append method is deprecated and will be removed from pandas in a future version. Use pandas.concat instead.\n",
      "  conteo = conteo.append(fila, ignore_index=True)\n",
      "C:\\Users\\User\\AppData\\Local\\Temp\\ipykernel_4628\\2590787309.py:34: FutureWarning: The frame.append method is deprecated and will be removed from pandas in a future version. Use pandas.concat instead.\n",
      "  conteo = conteo.append(fila, ignore_index=True)\n",
      "C:\\Users\\User\\AppData\\Local\\Temp\\ipykernel_4628\\2590787309.py:34: FutureWarning: The frame.append method is deprecated and will be removed from pandas in a future version. Use pandas.concat instead.\n",
      "  conteo = conteo.append(fila, ignore_index=True)\n",
      "C:\\Users\\User\\AppData\\Local\\Temp\\ipykernel_4628\\2590787309.py:34: FutureWarning: The frame.append method is deprecated and will be removed from pandas in a future version. Use pandas.concat instead.\n",
      "  conteo = conteo.append(fila, ignore_index=True)\n",
      "C:\\Users\\User\\AppData\\Local\\Temp\\ipykernel_4628\\2590787309.py:34: FutureWarning: The frame.append method is deprecated and will be removed from pandas in a future version. Use pandas.concat instead.\n",
      "  conteo = conteo.append(fila, ignore_index=True)\n",
      "C:\\Users\\User\\AppData\\Local\\Temp\\ipykernel_4628\\2590787309.py:34: FutureWarning: The frame.append method is deprecated and will be removed from pandas in a future version. Use pandas.concat instead.\n",
      "  conteo = conteo.append(fila, ignore_index=True)\n",
      "C:\\Users\\User\\AppData\\Local\\Temp\\ipykernel_4628\\2590787309.py:34: FutureWarning: The frame.append method is deprecated and will be removed from pandas in a future version. Use pandas.concat instead.\n",
      "  conteo = conteo.append(fila, ignore_index=True)\n",
      "C:\\Users\\User\\AppData\\Local\\Temp\\ipykernel_4628\\2590787309.py:34: FutureWarning: The frame.append method is deprecated and will be removed from pandas in a future version. Use pandas.concat instead.\n",
      "  conteo = conteo.append(fila, ignore_index=True)\n",
      "C:\\Users\\User\\AppData\\Local\\Temp\\ipykernel_4628\\2590787309.py:34: FutureWarning: The frame.append method is deprecated and will be removed from pandas in a future version. Use pandas.concat instead.\n",
      "  conteo = conteo.append(fila, ignore_index=True)\n",
      "C:\\Users\\User\\AppData\\Local\\Temp\\ipykernel_4628\\2590787309.py:34: FutureWarning: The frame.append method is deprecated and will be removed from pandas in a future version. Use pandas.concat instead.\n",
      "  conteo = conteo.append(fila, ignore_index=True)\n",
      "C:\\Users\\User\\AppData\\Local\\Temp\\ipykernel_4628\\2590787309.py:34: FutureWarning: The frame.append method is deprecated and will be removed from pandas in a future version. Use pandas.concat instead.\n",
      "  conteo = conteo.append(fila, ignore_index=True)\n",
      "C:\\Users\\User\\AppData\\Local\\Temp\\ipykernel_4628\\2590787309.py:34: FutureWarning: The frame.append method is deprecated and will be removed from pandas in a future version. Use pandas.concat instead.\n",
      "  conteo = conteo.append(fila, ignore_index=True)\n",
      "C:\\Users\\User\\AppData\\Local\\Temp\\ipykernel_4628\\2590787309.py:34: FutureWarning: The frame.append method is deprecated and will be removed from pandas in a future version. Use pandas.concat instead.\n",
      "  conteo = conteo.append(fila, ignore_index=True)\n",
      "C:\\Users\\User\\AppData\\Local\\Temp\\ipykernel_4628\\2590787309.py:34: FutureWarning: The frame.append method is deprecated and will be removed from pandas in a future version. Use pandas.concat instead.\n",
      "  conteo = conteo.append(fila, ignore_index=True)\n",
      "C:\\Users\\User\\AppData\\Local\\Temp\\ipykernel_4628\\2590787309.py:34: FutureWarning: The frame.append method is deprecated and will be removed from pandas in a future version. Use pandas.concat instead.\n",
      "  conteo = conteo.append(fila, ignore_index=True)\n",
      "C:\\Users\\User\\AppData\\Local\\Temp\\ipykernel_4628\\2590787309.py:34: FutureWarning: The frame.append method is deprecated and will be removed from pandas in a future version. Use pandas.concat instead.\n",
      "  conteo = conteo.append(fila, ignore_index=True)\n",
      "C:\\Users\\User\\AppData\\Local\\Temp\\ipykernel_4628\\2590787309.py:34: FutureWarning: The frame.append method is deprecated and will be removed from pandas in a future version. Use pandas.concat instead.\n",
      "  conteo = conteo.append(fila, ignore_index=True)\n",
      "C:\\Users\\User\\AppData\\Local\\Temp\\ipykernel_4628\\2590787309.py:34: FutureWarning: The frame.append method is deprecated and will be removed from pandas in a future version. Use pandas.concat instead.\n",
      "  conteo = conteo.append(fila, ignore_index=True)\n",
      "C:\\Users\\User\\AppData\\Local\\Temp\\ipykernel_4628\\2590787309.py:34: FutureWarning: The frame.append method is deprecated and will be removed from pandas in a future version. Use pandas.concat instead.\n",
      "  conteo = conteo.append(fila, ignore_index=True)\n",
      "C:\\Users\\User\\AppData\\Local\\Temp\\ipykernel_4628\\2590787309.py:34: FutureWarning: The frame.append method is deprecated and will be removed from pandas in a future version. Use pandas.concat instead.\n",
      "  conteo = conteo.append(fila, ignore_index=True)\n",
      "C:\\Users\\User\\AppData\\Local\\Temp\\ipykernel_4628\\2590787309.py:34: FutureWarning: The frame.append method is deprecated and will be removed from pandas in a future version. Use pandas.concat instead.\n",
      "  conteo = conteo.append(fila, ignore_index=True)\n",
      "C:\\Users\\User\\AppData\\Local\\Temp\\ipykernel_4628\\2590787309.py:34: FutureWarning: The frame.append method is deprecated and will be removed from pandas in a future version. Use pandas.concat instead.\n",
      "  conteo = conteo.append(fila, ignore_index=True)\n"
     ]
    },
    {
     "name": "stderr",
     "output_type": "stream",
     "text": [
      "C:\\Users\\User\\AppData\\Local\\Temp\\ipykernel_4628\\2590787309.py:34: FutureWarning: The frame.append method is deprecated and will be removed from pandas in a future version. Use pandas.concat instead.\n",
      "  conteo = conteo.append(fila, ignore_index=True)\n",
      "C:\\Users\\User\\AppData\\Local\\Temp\\ipykernel_4628\\2590787309.py:34: FutureWarning: The frame.append method is deprecated and will be removed from pandas in a future version. Use pandas.concat instead.\n",
      "  conteo = conteo.append(fila, ignore_index=True)\n",
      "C:\\Users\\User\\AppData\\Local\\Temp\\ipykernel_4628\\2590787309.py:34: FutureWarning: The frame.append method is deprecated and will be removed from pandas in a future version. Use pandas.concat instead.\n",
      "  conteo = conteo.append(fila, ignore_index=True)\n",
      "C:\\Users\\User\\AppData\\Local\\Temp\\ipykernel_4628\\2590787309.py:34: FutureWarning: The frame.append method is deprecated and will be removed from pandas in a future version. Use pandas.concat instead.\n",
      "  conteo = conteo.append(fila, ignore_index=True)\n",
      "C:\\Users\\User\\AppData\\Local\\Temp\\ipykernel_4628\\2590787309.py:34: FutureWarning: The frame.append method is deprecated and will be removed from pandas in a future version. Use pandas.concat instead.\n",
      "  conteo = conteo.append(fila, ignore_index=True)\n",
      "C:\\Users\\User\\AppData\\Local\\Temp\\ipykernel_4628\\2590787309.py:34: FutureWarning: The frame.append method is deprecated and will be removed from pandas in a future version. Use pandas.concat instead.\n",
      "  conteo = conteo.append(fila, ignore_index=True)\n",
      "C:\\Users\\User\\AppData\\Local\\Temp\\ipykernel_4628\\2590787309.py:34: FutureWarning: The frame.append method is deprecated and will be removed from pandas in a future version. Use pandas.concat instead.\n",
      "  conteo = conteo.append(fila, ignore_index=True)\n",
      "C:\\Users\\User\\AppData\\Local\\Temp\\ipykernel_4628\\2590787309.py:34: FutureWarning: The frame.append method is deprecated and will be removed from pandas in a future version. Use pandas.concat instead.\n",
      "  conteo = conteo.append(fila, ignore_index=True)\n",
      "C:\\Users\\User\\AppData\\Local\\Temp\\ipykernel_4628\\2590787309.py:34: FutureWarning: The frame.append method is deprecated and will be removed from pandas in a future version. Use pandas.concat instead.\n",
      "  conteo = conteo.append(fila, ignore_index=True)\n",
      "C:\\Users\\User\\AppData\\Local\\Temp\\ipykernel_4628\\2590787309.py:34: FutureWarning: The frame.append method is deprecated and will be removed from pandas in a future version. Use pandas.concat instead.\n",
      "  conteo = conteo.append(fila, ignore_index=True)\n",
      "C:\\Users\\User\\AppData\\Local\\Temp\\ipykernel_4628\\2590787309.py:34: FutureWarning: The frame.append method is deprecated and will be removed from pandas in a future version. Use pandas.concat instead.\n",
      "  conteo = conteo.append(fila, ignore_index=True)\n",
      "C:\\Users\\User\\AppData\\Local\\Temp\\ipykernel_4628\\2590787309.py:34: FutureWarning: The frame.append method is deprecated and will be removed from pandas in a future version. Use pandas.concat instead.\n",
      "  conteo = conteo.append(fila, ignore_index=True)\n",
      "C:\\Users\\User\\AppData\\Local\\Temp\\ipykernel_4628\\2590787309.py:34: FutureWarning: The frame.append method is deprecated and will be removed from pandas in a future version. Use pandas.concat instead.\n",
      "  conteo = conteo.append(fila, ignore_index=True)\n",
      "C:\\Users\\User\\AppData\\Local\\Temp\\ipykernel_4628\\2590787309.py:34: FutureWarning: The frame.append method is deprecated and will be removed from pandas in a future version. Use pandas.concat instead.\n",
      "  conteo = conteo.append(fila, ignore_index=True)\n",
      "C:\\Users\\User\\AppData\\Local\\Temp\\ipykernel_4628\\2590787309.py:34: FutureWarning: The frame.append method is deprecated and will be removed from pandas in a future version. Use pandas.concat instead.\n",
      "  conteo = conteo.append(fila, ignore_index=True)\n",
      "C:\\Users\\User\\AppData\\Local\\Temp\\ipykernel_4628\\2590787309.py:34: FutureWarning: The frame.append method is deprecated and will be removed from pandas in a future version. Use pandas.concat instead.\n",
      "  conteo = conteo.append(fila, ignore_index=True)\n",
      "C:\\Users\\User\\AppData\\Local\\Temp\\ipykernel_4628\\2590787309.py:34: FutureWarning: The frame.append method is deprecated and will be removed from pandas in a future version. Use pandas.concat instead.\n",
      "  conteo = conteo.append(fila, ignore_index=True)\n",
      "C:\\Users\\User\\AppData\\Local\\Temp\\ipykernel_4628\\2590787309.py:34: FutureWarning: The frame.append method is deprecated and will be removed from pandas in a future version. Use pandas.concat instead.\n",
      "  conteo = conteo.append(fila, ignore_index=True)\n",
      "C:\\Users\\User\\AppData\\Local\\Temp\\ipykernel_4628\\2590787309.py:34: FutureWarning: The frame.append method is deprecated and will be removed from pandas in a future version. Use pandas.concat instead.\n",
      "  conteo = conteo.append(fila, ignore_index=True)\n",
      "C:\\Users\\User\\AppData\\Local\\Temp\\ipykernel_4628\\2590787309.py:34: FutureWarning: The frame.append method is deprecated and will be removed from pandas in a future version. Use pandas.concat instead.\n",
      "  conteo = conteo.append(fila, ignore_index=True)\n",
      "C:\\Users\\User\\AppData\\Local\\Temp\\ipykernel_4628\\2590787309.py:34: FutureWarning: The frame.append method is deprecated and will be removed from pandas in a future version. Use pandas.concat instead.\n",
      "  conteo = conteo.append(fila, ignore_index=True)\n",
      "C:\\Users\\User\\AppData\\Local\\Temp\\ipykernel_4628\\2590787309.py:34: FutureWarning: The frame.append method is deprecated and will be removed from pandas in a future version. Use pandas.concat instead.\n",
      "  conteo = conteo.append(fila, ignore_index=True)\n",
      "C:\\Users\\User\\AppData\\Local\\Temp\\ipykernel_4628\\2590787309.py:34: FutureWarning: The frame.append method is deprecated and will be removed from pandas in a future version. Use pandas.concat instead.\n",
      "  conteo = conteo.append(fila, ignore_index=True)\n",
      "C:\\Users\\User\\AppData\\Local\\Temp\\ipykernel_4628\\2590787309.py:34: FutureWarning: The frame.append method is deprecated and will be removed from pandas in a future version. Use pandas.concat instead.\n",
      "  conteo = conteo.append(fila, ignore_index=True)\n",
      "C:\\Users\\User\\AppData\\Local\\Temp\\ipykernel_4628\\2590787309.py:34: FutureWarning: The frame.append method is deprecated and will be removed from pandas in a future version. Use pandas.concat instead.\n",
      "  conteo = conteo.append(fila, ignore_index=True)\n",
      "C:\\Users\\User\\AppData\\Local\\Temp\\ipykernel_4628\\2590787309.py:34: FutureWarning: The frame.append method is deprecated and will be removed from pandas in a future version. Use pandas.concat instead.\n",
      "  conteo = conteo.append(fila, ignore_index=True)\n",
      "C:\\Users\\User\\AppData\\Local\\Temp\\ipykernel_4628\\2590787309.py:34: FutureWarning: The frame.append method is deprecated and will be removed from pandas in a future version. Use pandas.concat instead.\n",
      "  conteo = conteo.append(fila, ignore_index=True)\n",
      "C:\\Users\\User\\AppData\\Local\\Temp\\ipykernel_4628\\2590787309.py:34: FutureWarning: The frame.append method is deprecated and will be removed from pandas in a future version. Use pandas.concat instead.\n",
      "  conteo = conteo.append(fila, ignore_index=True)\n",
      "C:\\Users\\User\\AppData\\Local\\Temp\\ipykernel_4628\\2590787309.py:34: FutureWarning: The frame.append method is deprecated and will be removed from pandas in a future version. Use pandas.concat instead.\n",
      "  conteo = conteo.append(fila, ignore_index=True)\n",
      "C:\\Users\\User\\AppData\\Local\\Temp\\ipykernel_4628\\2590787309.py:34: FutureWarning: The frame.append method is deprecated and will be removed from pandas in a future version. Use pandas.concat instead.\n",
      "  conteo = conteo.append(fila, ignore_index=True)\n",
      "C:\\Users\\User\\AppData\\Local\\Temp\\ipykernel_4628\\2590787309.py:34: FutureWarning: The frame.append method is deprecated and will be removed from pandas in a future version. Use pandas.concat instead.\n",
      "  conteo = conteo.append(fila, ignore_index=True)\n",
      "C:\\Users\\User\\AppData\\Local\\Temp\\ipykernel_4628\\2590787309.py:34: FutureWarning: The frame.append method is deprecated and will be removed from pandas in a future version. Use pandas.concat instead.\n",
      "  conteo = conteo.append(fila, ignore_index=True)\n",
      "C:\\Users\\User\\AppData\\Local\\Temp\\ipykernel_4628\\2590787309.py:34: FutureWarning: The frame.append method is deprecated and will be removed from pandas in a future version. Use pandas.concat instead.\n",
      "  conteo = conteo.append(fila, ignore_index=True)\n",
      "C:\\Users\\User\\AppData\\Local\\Temp\\ipykernel_4628\\2590787309.py:34: FutureWarning: The frame.append method is deprecated and will be removed from pandas in a future version. Use pandas.concat instead.\n",
      "  conteo = conteo.append(fila, ignore_index=True)\n",
      "C:\\Users\\User\\AppData\\Local\\Temp\\ipykernel_4628\\2590787309.py:34: FutureWarning: The frame.append method is deprecated and will be removed from pandas in a future version. Use pandas.concat instead.\n",
      "  conteo = conteo.append(fila, ignore_index=True)\n",
      "C:\\Users\\User\\AppData\\Local\\Temp\\ipykernel_4628\\2590787309.py:34: FutureWarning: The frame.append method is deprecated and will be removed from pandas in a future version. Use pandas.concat instead.\n",
      "  conteo = conteo.append(fila, ignore_index=True)\n",
      "C:\\Users\\User\\AppData\\Local\\Temp\\ipykernel_4628\\2590787309.py:34: FutureWarning: The frame.append method is deprecated and will be removed from pandas in a future version. Use pandas.concat instead.\n",
      "  conteo = conteo.append(fila, ignore_index=True)\n",
      "C:\\Users\\User\\AppData\\Local\\Temp\\ipykernel_4628\\2590787309.py:34: FutureWarning: The frame.append method is deprecated and will be removed from pandas in a future version. Use pandas.concat instead.\n",
      "  conteo = conteo.append(fila, ignore_index=True)\n",
      "C:\\Users\\User\\AppData\\Local\\Temp\\ipykernel_4628\\2590787309.py:34: FutureWarning: The frame.append method is deprecated and will be removed from pandas in a future version. Use pandas.concat instead.\n",
      "  conteo = conteo.append(fila, ignore_index=True)\n",
      "C:\\Users\\User\\AppData\\Local\\Temp\\ipykernel_4628\\2590787309.py:34: FutureWarning: The frame.append method is deprecated and will be removed from pandas in a future version. Use pandas.concat instead.\n",
      "  conteo = conteo.append(fila, ignore_index=True)\n",
      "C:\\Users\\User\\AppData\\Local\\Temp\\ipykernel_4628\\2590787309.py:34: FutureWarning: The frame.append method is deprecated and will be removed from pandas in a future version. Use pandas.concat instead.\n",
      "  conteo = conteo.append(fila, ignore_index=True)\n",
      "C:\\Users\\User\\AppData\\Local\\Temp\\ipykernel_4628\\2590787309.py:34: FutureWarning: The frame.append method is deprecated and will be removed from pandas in a future version. Use pandas.concat instead.\n",
      "  conteo = conteo.append(fila, ignore_index=True)\n",
      "C:\\Users\\User\\AppData\\Local\\Temp\\ipykernel_4628\\2590787309.py:34: FutureWarning: The frame.append method is deprecated and will be removed from pandas in a future version. Use pandas.concat instead.\n",
      "  conteo = conteo.append(fila, ignore_index=True)\n",
      "C:\\Users\\User\\AppData\\Local\\Temp\\ipykernel_4628\\2590787309.py:34: FutureWarning: The frame.append method is deprecated and will be removed from pandas in a future version. Use pandas.concat instead.\n",
      "  conteo = conteo.append(fila, ignore_index=True)\n",
      "C:\\Users\\User\\AppData\\Local\\Temp\\ipykernel_4628\\2590787309.py:34: FutureWarning: The frame.append method is deprecated and will be removed from pandas in a future version. Use pandas.concat instead.\n",
      "  conteo = conteo.append(fila, ignore_index=True)\n",
      "C:\\Users\\User\\AppData\\Local\\Temp\\ipykernel_4628\\2590787309.py:34: FutureWarning: The frame.append method is deprecated and will be removed from pandas in a future version. Use pandas.concat instead.\n",
      "  conteo = conteo.append(fila, ignore_index=True)\n",
      "C:\\Users\\User\\AppData\\Local\\Temp\\ipykernel_4628\\2590787309.py:34: FutureWarning: The frame.append method is deprecated and will be removed from pandas in a future version. Use pandas.concat instead.\n",
      "  conteo = conteo.append(fila, ignore_index=True)\n",
      "C:\\Users\\User\\AppData\\Local\\Temp\\ipykernel_4628\\2590787309.py:34: FutureWarning: The frame.append method is deprecated and will be removed from pandas in a future version. Use pandas.concat instead.\n",
      "  conteo = conteo.append(fila, ignore_index=True)\n",
      "C:\\Users\\User\\AppData\\Local\\Temp\\ipykernel_4628\\2590787309.py:34: FutureWarning: The frame.append method is deprecated and will be removed from pandas in a future version. Use pandas.concat instead.\n",
      "  conteo = conteo.append(fila, ignore_index=True)\n",
      "C:\\Users\\User\\AppData\\Local\\Temp\\ipykernel_4628\\2590787309.py:34: FutureWarning: The frame.append method is deprecated and will be removed from pandas in a future version. Use pandas.concat instead.\n",
      "  conteo = conteo.append(fila, ignore_index=True)\n",
      "C:\\Users\\User\\AppData\\Local\\Temp\\ipykernel_4628\\2590787309.py:34: FutureWarning: The frame.append method is deprecated and will be removed from pandas in a future version. Use pandas.concat instead.\n",
      "  conteo = conteo.append(fila, ignore_index=True)\n",
      "C:\\Users\\User\\AppData\\Local\\Temp\\ipykernel_4628\\2590787309.py:34: FutureWarning: The frame.append method is deprecated and will be removed from pandas in a future version. Use pandas.concat instead.\n",
      "  conteo = conteo.append(fila, ignore_index=True)\n",
      "C:\\Users\\User\\AppData\\Local\\Temp\\ipykernel_4628\\2590787309.py:34: FutureWarning: The frame.append method is deprecated and will be removed from pandas in a future version. Use pandas.concat instead.\n",
      "  conteo = conteo.append(fila, ignore_index=True)\n",
      "C:\\Users\\User\\AppData\\Local\\Temp\\ipykernel_4628\\2590787309.py:34: FutureWarning: The frame.append method is deprecated and will be removed from pandas in a future version. Use pandas.concat instead.\n",
      "  conteo = conteo.append(fila, ignore_index=True)\n",
      "C:\\Users\\User\\AppData\\Local\\Temp\\ipykernel_4628\\2590787309.py:34: FutureWarning: The frame.append method is deprecated and will be removed from pandas in a future version. Use pandas.concat instead.\n",
      "  conteo = conteo.append(fila, ignore_index=True)\n",
      "C:\\Users\\User\\AppData\\Local\\Temp\\ipykernel_4628\\2590787309.py:34: FutureWarning: The frame.append method is deprecated and will be removed from pandas in a future version. Use pandas.concat instead.\n",
      "  conteo = conteo.append(fila, ignore_index=True)\n",
      "C:\\Users\\User\\AppData\\Local\\Temp\\ipykernel_4628\\2590787309.py:34: FutureWarning: The frame.append method is deprecated and will be removed from pandas in a future version. Use pandas.concat instead.\n",
      "  conteo = conteo.append(fila, ignore_index=True)\n",
      "C:\\Users\\User\\AppData\\Local\\Temp\\ipykernel_4628\\2590787309.py:34: FutureWarning: The frame.append method is deprecated and will be removed from pandas in a future version. Use pandas.concat instead.\n",
      "  conteo = conteo.append(fila, ignore_index=True)\n",
      "C:\\Users\\User\\AppData\\Local\\Temp\\ipykernel_4628\\2590787309.py:34: FutureWarning: The frame.append method is deprecated and will be removed from pandas in a future version. Use pandas.concat instead.\n",
      "  conteo = conteo.append(fila, ignore_index=True)\n",
      "C:\\Users\\User\\AppData\\Local\\Temp\\ipykernel_4628\\2590787309.py:34: FutureWarning: The frame.append method is deprecated and will be removed from pandas in a future version. Use pandas.concat instead.\n",
      "  conteo = conteo.append(fila, ignore_index=True)\n",
      "C:\\Users\\User\\AppData\\Local\\Temp\\ipykernel_4628\\2590787309.py:34: FutureWarning: The frame.append method is deprecated and will be removed from pandas in a future version. Use pandas.concat instead.\n",
      "  conteo = conteo.append(fila, ignore_index=True)\n",
      "C:\\Users\\User\\AppData\\Local\\Temp\\ipykernel_4628\\2590787309.py:34: FutureWarning: The frame.append method is deprecated and will be removed from pandas in a future version. Use pandas.concat instead.\n",
      "  conteo = conteo.append(fila, ignore_index=True)\n",
      "C:\\Users\\User\\AppData\\Local\\Temp\\ipykernel_4628\\2590787309.py:34: FutureWarning: The frame.append method is deprecated and will be removed from pandas in a future version. Use pandas.concat instead.\n",
      "  conteo = conteo.append(fila, ignore_index=True)\n",
      "C:\\Users\\User\\AppData\\Local\\Temp\\ipykernel_4628\\2590787309.py:34: FutureWarning: The frame.append method is deprecated and will be removed from pandas in a future version. Use pandas.concat instead.\n",
      "  conteo = conteo.append(fila, ignore_index=True)\n",
      "C:\\Users\\User\\AppData\\Local\\Temp\\ipykernel_4628\\2590787309.py:34: FutureWarning: The frame.append method is deprecated and will be removed from pandas in a future version. Use pandas.concat instead.\n",
      "  conteo = conteo.append(fila, ignore_index=True)\n",
      "C:\\Users\\User\\AppData\\Local\\Temp\\ipykernel_4628\\2590787309.py:34: FutureWarning: The frame.append method is deprecated and will be removed from pandas in a future version. Use pandas.concat instead.\n",
      "  conteo = conteo.append(fila, ignore_index=True)\n",
      "C:\\Users\\User\\AppData\\Local\\Temp\\ipykernel_4628\\2590787309.py:34: FutureWarning: The frame.append method is deprecated and will be removed from pandas in a future version. Use pandas.concat instead.\n",
      "  conteo = conteo.append(fila, ignore_index=True)\n",
      "C:\\Users\\User\\AppData\\Local\\Temp\\ipykernel_4628\\2590787309.py:34: FutureWarning: The frame.append method is deprecated and will be removed from pandas in a future version. Use pandas.concat instead.\n",
      "  conteo = conteo.append(fila, ignore_index=True)\n",
      "C:\\Users\\User\\AppData\\Local\\Temp\\ipykernel_4628\\2590787309.py:34: FutureWarning: The frame.append method is deprecated and will be removed from pandas in a future version. Use pandas.concat instead.\n",
      "  conteo = conteo.append(fila, ignore_index=True)\n",
      "C:\\Users\\User\\AppData\\Local\\Temp\\ipykernel_4628\\2590787309.py:34: FutureWarning: The frame.append method is deprecated and will be removed from pandas in a future version. Use pandas.concat instead.\n",
      "  conteo = conteo.append(fila, ignore_index=True)\n",
      "C:\\Users\\User\\AppData\\Local\\Temp\\ipykernel_4628\\2590787309.py:34: FutureWarning: The frame.append method is deprecated and will be removed from pandas in a future version. Use pandas.concat instead.\n",
      "  conteo = conteo.append(fila, ignore_index=True)\n",
      "C:\\Users\\User\\AppData\\Local\\Temp\\ipykernel_4628\\2590787309.py:34: FutureWarning: The frame.append method is deprecated and will be removed from pandas in a future version. Use pandas.concat instead.\n",
      "  conteo = conteo.append(fila, ignore_index=True)\n",
      "C:\\Users\\User\\AppData\\Local\\Temp\\ipykernel_4628\\2590787309.py:34: FutureWarning: The frame.append method is deprecated and will be removed from pandas in a future version. Use pandas.concat instead.\n",
      "  conteo = conteo.append(fila, ignore_index=True)\n",
      "C:\\Users\\User\\AppData\\Local\\Temp\\ipykernel_4628\\2590787309.py:34: FutureWarning: The frame.append method is deprecated and will be removed from pandas in a future version. Use pandas.concat instead.\n",
      "  conteo = conteo.append(fila, ignore_index=True)\n",
      "C:\\Users\\User\\AppData\\Local\\Temp\\ipykernel_4628\\2590787309.py:34: FutureWarning: The frame.append method is deprecated and will be removed from pandas in a future version. Use pandas.concat instead.\n",
      "  conteo = conteo.append(fila, ignore_index=True)\n",
      "C:\\Users\\User\\AppData\\Local\\Temp\\ipykernel_4628\\2590787309.py:34: FutureWarning: The frame.append method is deprecated and will be removed from pandas in a future version. Use pandas.concat instead.\n",
      "  conteo = conteo.append(fila, ignore_index=True)\n",
      "C:\\Users\\User\\AppData\\Local\\Temp\\ipykernel_4628\\2590787309.py:34: FutureWarning: The frame.append method is deprecated and will be removed from pandas in a future version. Use pandas.concat instead.\n",
      "  conteo = conteo.append(fila, ignore_index=True)\n",
      "C:\\Users\\User\\AppData\\Local\\Temp\\ipykernel_4628\\2590787309.py:34: FutureWarning: The frame.append method is deprecated and will be removed from pandas in a future version. Use pandas.concat instead.\n",
      "  conteo = conteo.append(fila, ignore_index=True)\n",
      "C:\\Users\\User\\AppData\\Local\\Temp\\ipykernel_4628\\2590787309.py:34: FutureWarning: The frame.append method is deprecated and will be removed from pandas in a future version. Use pandas.concat instead.\n",
      "  conteo = conteo.append(fila, ignore_index=True)\n",
      "C:\\Users\\User\\AppData\\Local\\Temp\\ipykernel_4628\\2590787309.py:34: FutureWarning: The frame.append method is deprecated and will be removed from pandas in a future version. Use pandas.concat instead.\n",
      "  conteo = conteo.append(fila, ignore_index=True)\n",
      "C:\\Users\\User\\AppData\\Local\\Temp\\ipykernel_4628\\2590787309.py:34: FutureWarning: The frame.append method is deprecated and will be removed from pandas in a future version. Use pandas.concat instead.\n",
      "  conteo = conteo.append(fila, ignore_index=True)\n",
      "C:\\Users\\User\\AppData\\Local\\Temp\\ipykernel_4628\\2590787309.py:34: FutureWarning: The frame.append method is deprecated and will be removed from pandas in a future version. Use pandas.concat instead.\n",
      "  conteo = conteo.append(fila, ignore_index=True)\n",
      "C:\\Users\\User\\AppData\\Local\\Temp\\ipykernel_4628\\2590787309.py:34: FutureWarning: The frame.append method is deprecated and will be removed from pandas in a future version. Use pandas.concat instead.\n",
      "  conteo = conteo.append(fila, ignore_index=True)\n",
      "C:\\Users\\User\\AppData\\Local\\Temp\\ipykernel_4628\\2590787309.py:34: FutureWarning: The frame.append method is deprecated and will be removed from pandas in a future version. Use pandas.concat instead.\n",
      "  conteo = conteo.append(fila, ignore_index=True)\n",
      "C:\\Users\\User\\AppData\\Local\\Temp\\ipykernel_4628\\2590787309.py:34: FutureWarning: The frame.append method is deprecated and will be removed from pandas in a future version. Use pandas.concat instead.\n",
      "  conteo = conteo.append(fila, ignore_index=True)\n",
      "C:\\Users\\User\\AppData\\Local\\Temp\\ipykernel_4628\\2590787309.py:34: FutureWarning: The frame.append method is deprecated and will be removed from pandas in a future version. Use pandas.concat instead.\n",
      "  conteo = conteo.append(fila, ignore_index=True)\n",
      "C:\\Users\\User\\AppData\\Local\\Temp\\ipykernel_4628\\2590787309.py:34: FutureWarning: The frame.append method is deprecated and will be removed from pandas in a future version. Use pandas.concat instead.\n",
      "  conteo = conteo.append(fila, ignore_index=True)\n",
      "C:\\Users\\User\\AppData\\Local\\Temp\\ipykernel_4628\\2590787309.py:34: FutureWarning: The frame.append method is deprecated and will be removed from pandas in a future version. Use pandas.concat instead.\n",
      "  conteo = conteo.append(fila, ignore_index=True)\n",
      "C:\\Users\\User\\AppData\\Local\\Temp\\ipykernel_4628\\2590787309.py:34: FutureWarning: The frame.append method is deprecated and will be removed from pandas in a future version. Use pandas.concat instead.\n",
      "  conteo = conteo.append(fila, ignore_index=True)\n",
      "C:\\Users\\User\\AppData\\Local\\Temp\\ipykernel_4628\\2590787309.py:34: FutureWarning: The frame.append method is deprecated and will be removed from pandas in a future version. Use pandas.concat instead.\n",
      "  conteo = conteo.append(fila, ignore_index=True)\n",
      "C:\\Users\\User\\AppData\\Local\\Temp\\ipykernel_4628\\2590787309.py:34: FutureWarning: The frame.append method is deprecated and will be removed from pandas in a future version. Use pandas.concat instead.\n",
      "  conteo = conteo.append(fila, ignore_index=True)\n",
      "C:\\Users\\User\\AppData\\Local\\Temp\\ipykernel_4628\\2590787309.py:34: FutureWarning: The frame.append method is deprecated and will be removed from pandas in a future version. Use pandas.concat instead.\n",
      "  conteo = conteo.append(fila, ignore_index=True)\n",
      "C:\\Users\\User\\AppData\\Local\\Temp\\ipykernel_4628\\2590787309.py:34: FutureWarning: The frame.append method is deprecated and will be removed from pandas in a future version. Use pandas.concat instead.\n",
      "  conteo = conteo.append(fila, ignore_index=True)\n",
      "C:\\Users\\User\\AppData\\Local\\Temp\\ipykernel_4628\\2590787309.py:34: FutureWarning: The frame.append method is deprecated and will be removed from pandas in a future version. Use pandas.concat instead.\n",
      "  conteo = conteo.append(fila, ignore_index=True)\n",
      "C:\\Users\\User\\AppData\\Local\\Temp\\ipykernel_4628\\2590787309.py:34: FutureWarning: The frame.append method is deprecated and will be removed from pandas in a future version. Use pandas.concat instead.\n",
      "  conteo = conteo.append(fila, ignore_index=True)\n",
      "C:\\Users\\User\\AppData\\Local\\Temp\\ipykernel_4628\\2590787309.py:34: FutureWarning: The frame.append method is deprecated and will be removed from pandas in a future version. Use pandas.concat instead.\n",
      "  conteo = conteo.append(fila, ignore_index=True)\n",
      "C:\\Users\\User\\AppData\\Local\\Temp\\ipykernel_4628\\2590787309.py:34: FutureWarning: The frame.append method is deprecated and will be removed from pandas in a future version. Use pandas.concat instead.\n",
      "  conteo = conteo.append(fila, ignore_index=True)\n",
      "C:\\Users\\User\\AppData\\Local\\Temp\\ipykernel_4628\\2590787309.py:34: FutureWarning: The frame.append method is deprecated and will be removed from pandas in a future version. Use pandas.concat instead.\n",
      "  conteo = conteo.append(fila, ignore_index=True)\n",
      "C:\\Users\\User\\AppData\\Local\\Temp\\ipykernel_4628\\2590787309.py:34: FutureWarning: The frame.append method is deprecated and will be removed from pandas in a future version. Use pandas.concat instead.\n",
      "  conteo = conteo.append(fila, ignore_index=True)\n",
      "C:\\Users\\User\\AppData\\Local\\Temp\\ipykernel_4628\\2590787309.py:34: FutureWarning: The frame.append method is deprecated and will be removed from pandas in a future version. Use pandas.concat instead.\n",
      "  conteo = conteo.append(fila, ignore_index=True)\n",
      "C:\\Users\\User\\AppData\\Local\\Temp\\ipykernel_4628\\2590787309.py:34: FutureWarning: The frame.append method is deprecated and will be removed from pandas in a future version. Use pandas.concat instead.\n",
      "  conteo = conteo.append(fila, ignore_index=True)\n",
      "C:\\Users\\User\\AppData\\Local\\Temp\\ipykernel_4628\\2590787309.py:34: FutureWarning: The frame.append method is deprecated and will be removed from pandas in a future version. Use pandas.concat instead.\n",
      "  conteo = conteo.append(fila, ignore_index=True)\n",
      "C:\\Users\\User\\AppData\\Local\\Temp\\ipykernel_4628\\2590787309.py:34: FutureWarning: The frame.append method is deprecated and will be removed from pandas in a future version. Use pandas.concat instead.\n",
      "  conteo = conteo.append(fila, ignore_index=True)\n",
      "C:\\Users\\User\\AppData\\Local\\Temp\\ipykernel_4628\\2590787309.py:34: FutureWarning: The frame.append method is deprecated and will be removed from pandas in a future version. Use pandas.concat instead.\n",
      "  conteo = conteo.append(fila, ignore_index=True)\n",
      "C:\\Users\\User\\AppData\\Local\\Temp\\ipykernel_4628\\2590787309.py:34: FutureWarning: The frame.append method is deprecated and will be removed from pandas in a future version. Use pandas.concat instead.\n",
      "  conteo = conteo.append(fila, ignore_index=True)\n",
      "C:\\Users\\User\\AppData\\Local\\Temp\\ipykernel_4628\\2590787309.py:34: FutureWarning: The frame.append method is deprecated and will be removed from pandas in a future version. Use pandas.concat instead.\n",
      "  conteo = conteo.append(fila, ignore_index=True)\n",
      "C:\\Users\\User\\AppData\\Local\\Temp\\ipykernel_4628\\2590787309.py:34: FutureWarning: The frame.append method is deprecated and will be removed from pandas in a future version. Use pandas.concat instead.\n",
      "  conteo = conteo.append(fila, ignore_index=True)\n"
     ]
    },
    {
     "name": "stderr",
     "output_type": "stream",
     "text": [
      "C:\\Users\\User\\AppData\\Local\\Temp\\ipykernel_4628\\2590787309.py:34: FutureWarning: The frame.append method is deprecated and will be removed from pandas in a future version. Use pandas.concat instead.\n",
      "  conteo = conteo.append(fila, ignore_index=True)\n",
      "C:\\Users\\User\\AppData\\Local\\Temp\\ipykernel_4628\\2590787309.py:34: FutureWarning: The frame.append method is deprecated and will be removed from pandas in a future version. Use pandas.concat instead.\n",
      "  conteo = conteo.append(fila, ignore_index=True)\n",
      "C:\\Users\\User\\AppData\\Local\\Temp\\ipykernel_4628\\2590787309.py:34: FutureWarning: The frame.append method is deprecated and will be removed from pandas in a future version. Use pandas.concat instead.\n",
      "  conteo = conteo.append(fila, ignore_index=True)\n",
      "C:\\Users\\User\\AppData\\Local\\Temp\\ipykernel_4628\\2590787309.py:34: FutureWarning: The frame.append method is deprecated and will be removed from pandas in a future version. Use pandas.concat instead.\n",
      "  conteo = conteo.append(fila, ignore_index=True)\n",
      "C:\\Users\\User\\AppData\\Local\\Temp\\ipykernel_4628\\2590787309.py:34: FutureWarning: The frame.append method is deprecated and will be removed from pandas in a future version. Use pandas.concat instead.\n",
      "  conteo = conteo.append(fila, ignore_index=True)\n",
      "C:\\Users\\User\\AppData\\Local\\Temp\\ipykernel_4628\\2590787309.py:34: FutureWarning: The frame.append method is deprecated and will be removed from pandas in a future version. Use pandas.concat instead.\n",
      "  conteo = conteo.append(fila, ignore_index=True)\n",
      "C:\\Users\\User\\AppData\\Local\\Temp\\ipykernel_4628\\2590787309.py:34: FutureWarning: The frame.append method is deprecated and will be removed from pandas in a future version. Use pandas.concat instead.\n",
      "  conteo = conteo.append(fila, ignore_index=True)\n",
      "C:\\Users\\User\\AppData\\Local\\Temp\\ipykernel_4628\\2590787309.py:34: FutureWarning: The frame.append method is deprecated and will be removed from pandas in a future version. Use pandas.concat instead.\n",
      "  conteo = conteo.append(fila, ignore_index=True)\n",
      "C:\\Users\\User\\AppData\\Local\\Temp\\ipykernel_4628\\2590787309.py:34: FutureWarning: The frame.append method is deprecated and will be removed from pandas in a future version. Use pandas.concat instead.\n",
      "  conteo = conteo.append(fila, ignore_index=True)\n",
      "C:\\Users\\User\\AppData\\Local\\Temp\\ipykernel_4628\\2590787309.py:34: FutureWarning: The frame.append method is deprecated and will be removed from pandas in a future version. Use pandas.concat instead.\n",
      "  conteo = conteo.append(fila, ignore_index=True)\n",
      "C:\\Users\\User\\AppData\\Local\\Temp\\ipykernel_4628\\2590787309.py:34: FutureWarning: The frame.append method is deprecated and will be removed from pandas in a future version. Use pandas.concat instead.\n",
      "  conteo = conteo.append(fila, ignore_index=True)\n",
      "C:\\Users\\User\\AppData\\Local\\Temp\\ipykernel_4628\\2590787309.py:34: FutureWarning: The frame.append method is deprecated and will be removed from pandas in a future version. Use pandas.concat instead.\n",
      "  conteo = conteo.append(fila, ignore_index=True)\n",
      "C:\\Users\\User\\AppData\\Local\\Temp\\ipykernel_4628\\2590787309.py:34: FutureWarning: The frame.append method is deprecated and will be removed from pandas in a future version. Use pandas.concat instead.\n",
      "  conteo = conteo.append(fila, ignore_index=True)\n",
      "C:\\Users\\User\\AppData\\Local\\Temp\\ipykernel_4628\\2590787309.py:34: FutureWarning: The frame.append method is deprecated and will be removed from pandas in a future version. Use pandas.concat instead.\n",
      "  conteo = conteo.append(fila, ignore_index=True)\n",
      "C:\\Users\\User\\AppData\\Local\\Temp\\ipykernel_4628\\2590787309.py:34: FutureWarning: The frame.append method is deprecated and will be removed from pandas in a future version. Use pandas.concat instead.\n",
      "  conteo = conteo.append(fila, ignore_index=True)\n",
      "C:\\Users\\User\\AppData\\Local\\Temp\\ipykernel_4628\\2590787309.py:34: FutureWarning: The frame.append method is deprecated and will be removed from pandas in a future version. Use pandas.concat instead.\n",
      "  conteo = conteo.append(fila, ignore_index=True)\n",
      "C:\\Users\\User\\AppData\\Local\\Temp\\ipykernel_4628\\2590787309.py:34: FutureWarning: The frame.append method is deprecated and will be removed from pandas in a future version. Use pandas.concat instead.\n",
      "  conteo = conteo.append(fila, ignore_index=True)\n",
      "C:\\Users\\User\\AppData\\Local\\Temp\\ipykernel_4628\\2590787309.py:34: FutureWarning: The frame.append method is deprecated and will be removed from pandas in a future version. Use pandas.concat instead.\n",
      "  conteo = conteo.append(fila, ignore_index=True)\n",
      "C:\\Users\\User\\AppData\\Local\\Temp\\ipykernel_4628\\2590787309.py:34: FutureWarning: The frame.append method is deprecated and will be removed from pandas in a future version. Use pandas.concat instead.\n",
      "  conteo = conteo.append(fila, ignore_index=True)\n",
      "C:\\Users\\User\\AppData\\Local\\Temp\\ipykernel_4628\\2590787309.py:34: FutureWarning: The frame.append method is deprecated and will be removed from pandas in a future version. Use pandas.concat instead.\n",
      "  conteo = conteo.append(fila, ignore_index=True)\n",
      "C:\\Users\\User\\AppData\\Local\\Temp\\ipykernel_4628\\2590787309.py:34: FutureWarning: The frame.append method is deprecated and will be removed from pandas in a future version. Use pandas.concat instead.\n",
      "  conteo = conteo.append(fila, ignore_index=True)\n",
      "C:\\Users\\User\\AppData\\Local\\Temp\\ipykernel_4628\\2590787309.py:34: FutureWarning: The frame.append method is deprecated and will be removed from pandas in a future version. Use pandas.concat instead.\n",
      "  conteo = conteo.append(fila, ignore_index=True)\n",
      "C:\\Users\\User\\AppData\\Local\\Temp\\ipykernel_4628\\2590787309.py:34: FutureWarning: The frame.append method is deprecated and will be removed from pandas in a future version. Use pandas.concat instead.\n",
      "  conteo = conteo.append(fila, ignore_index=True)\n",
      "C:\\Users\\User\\AppData\\Local\\Temp\\ipykernel_4628\\2590787309.py:34: FutureWarning: The frame.append method is deprecated and will be removed from pandas in a future version. Use pandas.concat instead.\n",
      "  conteo = conteo.append(fila, ignore_index=True)\n",
      "C:\\Users\\User\\AppData\\Local\\Temp\\ipykernel_4628\\2590787309.py:34: FutureWarning: The frame.append method is deprecated and will be removed from pandas in a future version. Use pandas.concat instead.\n",
      "  conteo = conteo.append(fila, ignore_index=True)\n",
      "C:\\Users\\User\\AppData\\Local\\Temp\\ipykernel_4628\\2590787309.py:34: FutureWarning: The frame.append method is deprecated and will be removed from pandas in a future version. Use pandas.concat instead.\n",
      "  conteo = conteo.append(fila, ignore_index=True)\n",
      "C:\\Users\\User\\AppData\\Local\\Temp\\ipykernel_4628\\2590787309.py:34: FutureWarning: The frame.append method is deprecated and will be removed from pandas in a future version. Use pandas.concat instead.\n",
      "  conteo = conteo.append(fila, ignore_index=True)\n",
      "C:\\Users\\User\\AppData\\Local\\Temp\\ipykernel_4628\\2590787309.py:34: FutureWarning: The frame.append method is deprecated and will be removed from pandas in a future version. Use pandas.concat instead.\n",
      "  conteo = conteo.append(fila, ignore_index=True)\n",
      "C:\\Users\\User\\AppData\\Local\\Temp\\ipykernel_4628\\2590787309.py:34: FutureWarning: The frame.append method is deprecated and will be removed from pandas in a future version. Use pandas.concat instead.\n",
      "  conteo = conteo.append(fila, ignore_index=True)\n",
      "C:\\Users\\User\\AppData\\Local\\Temp\\ipykernel_4628\\2590787309.py:34: FutureWarning: The frame.append method is deprecated and will be removed from pandas in a future version. Use pandas.concat instead.\n",
      "  conteo = conteo.append(fila, ignore_index=True)\n",
      "C:\\Users\\User\\AppData\\Local\\Temp\\ipykernel_4628\\2590787309.py:34: FutureWarning: The frame.append method is deprecated and will be removed from pandas in a future version. Use pandas.concat instead.\n",
      "  conteo = conteo.append(fila, ignore_index=True)\n",
      "C:\\Users\\User\\AppData\\Local\\Temp\\ipykernel_4628\\2590787309.py:34: FutureWarning: The frame.append method is deprecated and will be removed from pandas in a future version. Use pandas.concat instead.\n",
      "  conteo = conteo.append(fila, ignore_index=True)\n",
      "C:\\Users\\User\\AppData\\Local\\Temp\\ipykernel_4628\\2590787309.py:34: FutureWarning: The frame.append method is deprecated and will be removed from pandas in a future version. Use pandas.concat instead.\n",
      "  conteo = conteo.append(fila, ignore_index=True)\n",
      "C:\\Users\\User\\AppData\\Local\\Temp\\ipykernel_4628\\2590787309.py:34: FutureWarning: The frame.append method is deprecated and will be removed from pandas in a future version. Use pandas.concat instead.\n",
      "  conteo = conteo.append(fila, ignore_index=True)\n",
      "C:\\Users\\User\\AppData\\Local\\Temp\\ipykernel_4628\\2590787309.py:34: FutureWarning: The frame.append method is deprecated and will be removed from pandas in a future version. Use pandas.concat instead.\n",
      "  conteo = conteo.append(fila, ignore_index=True)\n",
      "C:\\Users\\User\\AppData\\Local\\Temp\\ipykernel_4628\\2590787309.py:34: FutureWarning: The frame.append method is deprecated and will be removed from pandas in a future version. Use pandas.concat instead.\n",
      "  conteo = conteo.append(fila, ignore_index=True)\n",
      "C:\\Users\\User\\AppData\\Local\\Temp\\ipykernel_4628\\2590787309.py:34: FutureWarning: The frame.append method is deprecated and will be removed from pandas in a future version. Use pandas.concat instead.\n",
      "  conteo = conteo.append(fila, ignore_index=True)\n",
      "C:\\Users\\User\\AppData\\Local\\Temp\\ipykernel_4628\\2590787309.py:34: FutureWarning: The frame.append method is deprecated and will be removed from pandas in a future version. Use pandas.concat instead.\n",
      "  conteo = conteo.append(fila, ignore_index=True)\n",
      "C:\\Users\\User\\AppData\\Local\\Temp\\ipykernel_4628\\2590787309.py:34: FutureWarning: The frame.append method is deprecated and will be removed from pandas in a future version. Use pandas.concat instead.\n",
      "  conteo = conteo.append(fila, ignore_index=True)\n",
      "C:\\Users\\User\\AppData\\Local\\Temp\\ipykernel_4628\\2590787309.py:34: FutureWarning: The frame.append method is deprecated and will be removed from pandas in a future version. Use pandas.concat instead.\n",
      "  conteo = conteo.append(fila, ignore_index=True)\n",
      "C:\\Users\\User\\AppData\\Local\\Temp\\ipykernel_4628\\2590787309.py:34: FutureWarning: The frame.append method is deprecated and will be removed from pandas in a future version. Use pandas.concat instead.\n",
      "  conteo = conteo.append(fila, ignore_index=True)\n",
      "C:\\Users\\User\\AppData\\Local\\Temp\\ipykernel_4628\\2590787309.py:34: FutureWarning: The frame.append method is deprecated and will be removed from pandas in a future version. Use pandas.concat instead.\n",
      "  conteo = conteo.append(fila, ignore_index=True)\n",
      "C:\\Users\\User\\AppData\\Local\\Temp\\ipykernel_4628\\2590787309.py:34: FutureWarning: The frame.append method is deprecated and will be removed from pandas in a future version. Use pandas.concat instead.\n",
      "  conteo = conteo.append(fila, ignore_index=True)\n",
      "C:\\Users\\User\\AppData\\Local\\Temp\\ipykernel_4628\\2590787309.py:34: FutureWarning: The frame.append method is deprecated and will be removed from pandas in a future version. Use pandas.concat instead.\n",
      "  conteo = conteo.append(fila, ignore_index=True)\n",
      "C:\\Users\\User\\AppData\\Local\\Temp\\ipykernel_4628\\2590787309.py:34: FutureWarning: The frame.append method is deprecated and will be removed from pandas in a future version. Use pandas.concat instead.\n",
      "  conteo = conteo.append(fila, ignore_index=True)\n",
      "C:\\Users\\User\\AppData\\Local\\Temp\\ipykernel_4628\\2590787309.py:34: FutureWarning: The frame.append method is deprecated and will be removed from pandas in a future version. Use pandas.concat instead.\n",
      "  conteo = conteo.append(fila, ignore_index=True)\n",
      "C:\\Users\\User\\AppData\\Local\\Temp\\ipykernel_4628\\2590787309.py:34: FutureWarning: The frame.append method is deprecated and will be removed from pandas in a future version. Use pandas.concat instead.\n",
      "  conteo = conteo.append(fila, ignore_index=True)\n",
      "C:\\Users\\User\\AppData\\Local\\Temp\\ipykernel_4628\\2590787309.py:34: FutureWarning: The frame.append method is deprecated and will be removed from pandas in a future version. Use pandas.concat instead.\n",
      "  conteo = conteo.append(fila, ignore_index=True)\n",
      "C:\\Users\\User\\AppData\\Local\\Temp\\ipykernel_4628\\2590787309.py:34: FutureWarning: The frame.append method is deprecated and will be removed from pandas in a future version. Use pandas.concat instead.\n",
      "  conteo = conteo.append(fila, ignore_index=True)\n",
      "C:\\Users\\User\\AppData\\Local\\Temp\\ipykernel_4628\\2590787309.py:34: FutureWarning: The frame.append method is deprecated and will be removed from pandas in a future version. Use pandas.concat instead.\n",
      "  conteo = conteo.append(fila, ignore_index=True)\n",
      "C:\\Users\\User\\AppData\\Local\\Temp\\ipykernel_4628\\2590787309.py:34: FutureWarning: The frame.append method is deprecated and will be removed from pandas in a future version. Use pandas.concat instead.\n",
      "  conteo = conteo.append(fila, ignore_index=True)\n",
      "C:\\Users\\User\\AppData\\Local\\Temp\\ipykernel_4628\\2590787309.py:34: FutureWarning: The frame.append method is deprecated and will be removed from pandas in a future version. Use pandas.concat instead.\n",
      "  conteo = conteo.append(fila, ignore_index=True)\n",
      "C:\\Users\\User\\AppData\\Local\\Temp\\ipykernel_4628\\2590787309.py:34: FutureWarning: The frame.append method is deprecated and will be removed from pandas in a future version. Use pandas.concat instead.\n",
      "  conteo = conteo.append(fila, ignore_index=True)\n",
      "C:\\Users\\User\\AppData\\Local\\Temp\\ipykernel_4628\\2590787309.py:34: FutureWarning: The frame.append method is deprecated and will be removed from pandas in a future version. Use pandas.concat instead.\n",
      "  conteo = conteo.append(fila, ignore_index=True)\n",
      "C:\\Users\\User\\AppData\\Local\\Temp\\ipykernel_4628\\2590787309.py:34: FutureWarning: The frame.append method is deprecated and will be removed from pandas in a future version. Use pandas.concat instead.\n",
      "  conteo = conteo.append(fila, ignore_index=True)\n",
      "C:\\Users\\User\\AppData\\Local\\Temp\\ipykernel_4628\\2590787309.py:34: FutureWarning: The frame.append method is deprecated and will be removed from pandas in a future version. Use pandas.concat instead.\n",
      "  conteo = conteo.append(fila, ignore_index=True)\n",
      "C:\\Users\\User\\AppData\\Local\\Temp\\ipykernel_4628\\2590787309.py:34: FutureWarning: The frame.append method is deprecated and will be removed from pandas in a future version. Use pandas.concat instead.\n",
      "  conteo = conteo.append(fila, ignore_index=True)\n",
      "C:\\Users\\User\\AppData\\Local\\Temp\\ipykernel_4628\\2590787309.py:34: FutureWarning: The frame.append method is deprecated and will be removed from pandas in a future version. Use pandas.concat instead.\n",
      "  conteo = conteo.append(fila, ignore_index=True)\n",
      "C:\\Users\\User\\AppData\\Local\\Temp\\ipykernel_4628\\2590787309.py:34: FutureWarning: The frame.append method is deprecated and will be removed from pandas in a future version. Use pandas.concat instead.\n",
      "  conteo = conteo.append(fila, ignore_index=True)\n",
      "C:\\Users\\User\\AppData\\Local\\Temp\\ipykernel_4628\\2590787309.py:34: FutureWarning: The frame.append method is deprecated and will be removed from pandas in a future version. Use pandas.concat instead.\n",
      "  conteo = conteo.append(fila, ignore_index=True)\n",
      "C:\\Users\\User\\AppData\\Local\\Temp\\ipykernel_4628\\2590787309.py:34: FutureWarning: The frame.append method is deprecated and will be removed from pandas in a future version. Use pandas.concat instead.\n",
      "  conteo = conteo.append(fila, ignore_index=True)\n",
      "C:\\Users\\User\\AppData\\Local\\Temp\\ipykernel_4628\\2590787309.py:34: FutureWarning: The frame.append method is deprecated and will be removed from pandas in a future version. Use pandas.concat instead.\n",
      "  conteo = conteo.append(fila, ignore_index=True)\n",
      "C:\\Users\\User\\AppData\\Local\\Temp\\ipykernel_4628\\2590787309.py:34: FutureWarning: The frame.append method is deprecated and will be removed from pandas in a future version. Use pandas.concat instead.\n",
      "  conteo = conteo.append(fila, ignore_index=True)\n",
      "C:\\Users\\User\\AppData\\Local\\Temp\\ipykernel_4628\\2590787309.py:34: FutureWarning: The frame.append method is deprecated and will be removed from pandas in a future version. Use pandas.concat instead.\n",
      "  conteo = conteo.append(fila, ignore_index=True)\n",
      "C:\\Users\\User\\AppData\\Local\\Temp\\ipykernel_4628\\2590787309.py:34: FutureWarning: The frame.append method is deprecated and will be removed from pandas in a future version. Use pandas.concat instead.\n",
      "  conteo = conteo.append(fila, ignore_index=True)\n",
      "C:\\Users\\User\\AppData\\Local\\Temp\\ipykernel_4628\\2590787309.py:34: FutureWarning: The frame.append method is deprecated and will be removed from pandas in a future version. Use pandas.concat instead.\n",
      "  conteo = conteo.append(fila, ignore_index=True)\n",
      "C:\\Users\\User\\AppData\\Local\\Temp\\ipykernel_4628\\2590787309.py:34: FutureWarning: The frame.append method is deprecated and will be removed from pandas in a future version. Use pandas.concat instead.\n",
      "  conteo = conteo.append(fila, ignore_index=True)\n",
      "C:\\Users\\User\\AppData\\Local\\Temp\\ipykernel_4628\\2590787309.py:34: FutureWarning: The frame.append method is deprecated and will be removed from pandas in a future version. Use pandas.concat instead.\n",
      "  conteo = conteo.append(fila, ignore_index=True)\n",
      "C:\\Users\\User\\AppData\\Local\\Temp\\ipykernel_4628\\2590787309.py:34: FutureWarning: The frame.append method is deprecated and will be removed from pandas in a future version. Use pandas.concat instead.\n",
      "  conteo = conteo.append(fila, ignore_index=True)\n",
      "C:\\Users\\User\\AppData\\Local\\Temp\\ipykernel_4628\\2590787309.py:34: FutureWarning: The frame.append method is deprecated and will be removed from pandas in a future version. Use pandas.concat instead.\n",
      "  conteo = conteo.append(fila, ignore_index=True)\n",
      "C:\\Users\\User\\AppData\\Local\\Temp\\ipykernel_4628\\2590787309.py:34: FutureWarning: The frame.append method is deprecated and will be removed from pandas in a future version. Use pandas.concat instead.\n",
      "  conteo = conteo.append(fila, ignore_index=True)\n",
      "C:\\Users\\User\\AppData\\Local\\Temp\\ipykernel_4628\\2590787309.py:34: FutureWarning: The frame.append method is deprecated and will be removed from pandas in a future version. Use pandas.concat instead.\n",
      "  conteo = conteo.append(fila, ignore_index=True)\n",
      "C:\\Users\\User\\AppData\\Local\\Temp\\ipykernel_4628\\2590787309.py:34: FutureWarning: The frame.append method is deprecated and will be removed from pandas in a future version. Use pandas.concat instead.\n",
      "  conteo = conteo.append(fila, ignore_index=True)\n",
      "C:\\Users\\User\\AppData\\Local\\Temp\\ipykernel_4628\\2590787309.py:34: FutureWarning: The frame.append method is deprecated and will be removed from pandas in a future version. Use pandas.concat instead.\n",
      "  conteo = conteo.append(fila, ignore_index=True)\n",
      "C:\\Users\\User\\AppData\\Local\\Temp\\ipykernel_4628\\2590787309.py:34: FutureWarning: The frame.append method is deprecated and will be removed from pandas in a future version. Use pandas.concat instead.\n",
      "  conteo = conteo.append(fila, ignore_index=True)\n",
      "C:\\Users\\User\\AppData\\Local\\Temp\\ipykernel_4628\\2590787309.py:34: FutureWarning: The frame.append method is deprecated and will be removed from pandas in a future version. Use pandas.concat instead.\n",
      "  conteo = conteo.append(fila, ignore_index=True)\n",
      "C:\\Users\\User\\AppData\\Local\\Temp\\ipykernel_4628\\2590787309.py:34: FutureWarning: The frame.append method is deprecated and will be removed from pandas in a future version. Use pandas.concat instead.\n",
      "  conteo = conteo.append(fila, ignore_index=True)\n",
      "C:\\Users\\User\\AppData\\Local\\Temp\\ipykernel_4628\\2590787309.py:34: FutureWarning: The frame.append method is deprecated and will be removed from pandas in a future version. Use pandas.concat instead.\n",
      "  conteo = conteo.append(fila, ignore_index=True)\n",
      "C:\\Users\\User\\AppData\\Local\\Temp\\ipykernel_4628\\2590787309.py:34: FutureWarning: The frame.append method is deprecated and will be removed from pandas in a future version. Use pandas.concat instead.\n",
      "  conteo = conteo.append(fila, ignore_index=True)\n",
      "C:\\Users\\User\\AppData\\Local\\Temp\\ipykernel_4628\\2590787309.py:34: FutureWarning: The frame.append method is deprecated and will be removed from pandas in a future version. Use pandas.concat instead.\n",
      "  conteo = conteo.append(fila, ignore_index=True)\n",
      "C:\\Users\\User\\AppData\\Local\\Temp\\ipykernel_4628\\2590787309.py:34: FutureWarning: The frame.append method is deprecated and will be removed from pandas in a future version. Use pandas.concat instead.\n",
      "  conteo = conteo.append(fila, ignore_index=True)\n",
      "C:\\Users\\User\\AppData\\Local\\Temp\\ipykernel_4628\\2590787309.py:34: FutureWarning: The frame.append method is deprecated and will be removed from pandas in a future version. Use pandas.concat instead.\n",
      "  conteo = conteo.append(fila, ignore_index=True)\n",
      "C:\\Users\\User\\AppData\\Local\\Temp\\ipykernel_4628\\2590787309.py:34: FutureWarning: The frame.append method is deprecated and will be removed from pandas in a future version. Use pandas.concat instead.\n",
      "  conteo = conteo.append(fila, ignore_index=True)\n",
      "C:\\Users\\User\\AppData\\Local\\Temp\\ipykernel_4628\\2590787309.py:34: FutureWarning: The frame.append method is deprecated and will be removed from pandas in a future version. Use pandas.concat instead.\n",
      "  conteo = conteo.append(fila, ignore_index=True)\n",
      "C:\\Users\\User\\AppData\\Local\\Temp\\ipykernel_4628\\2590787309.py:34: FutureWarning: The frame.append method is deprecated and will be removed from pandas in a future version. Use pandas.concat instead.\n",
      "  conteo = conteo.append(fila, ignore_index=True)\n",
      "C:\\Users\\User\\AppData\\Local\\Temp\\ipykernel_4628\\2590787309.py:34: FutureWarning: The frame.append method is deprecated and will be removed from pandas in a future version. Use pandas.concat instead.\n",
      "  conteo = conteo.append(fila, ignore_index=True)\n",
      "C:\\Users\\User\\AppData\\Local\\Temp\\ipykernel_4628\\2590787309.py:34: FutureWarning: The frame.append method is deprecated and will be removed from pandas in a future version. Use pandas.concat instead.\n",
      "  conteo = conteo.append(fila, ignore_index=True)\n",
      "C:\\Users\\User\\AppData\\Local\\Temp\\ipykernel_4628\\2590787309.py:34: FutureWarning: The frame.append method is deprecated and will be removed from pandas in a future version. Use pandas.concat instead.\n",
      "  conteo = conteo.append(fila, ignore_index=True)\n",
      "C:\\Users\\User\\AppData\\Local\\Temp\\ipykernel_4628\\2590787309.py:34: FutureWarning: The frame.append method is deprecated and will be removed from pandas in a future version. Use pandas.concat instead.\n",
      "  conteo = conteo.append(fila, ignore_index=True)\n",
      "C:\\Users\\User\\AppData\\Local\\Temp\\ipykernel_4628\\2590787309.py:34: FutureWarning: The frame.append method is deprecated and will be removed from pandas in a future version. Use pandas.concat instead.\n",
      "  conteo = conteo.append(fila, ignore_index=True)\n",
      "C:\\Users\\User\\AppData\\Local\\Temp\\ipykernel_4628\\2590787309.py:34: FutureWarning: The frame.append method is deprecated and will be removed from pandas in a future version. Use pandas.concat instead.\n",
      "  conteo = conteo.append(fila, ignore_index=True)\n",
      "C:\\Users\\User\\AppData\\Local\\Temp\\ipykernel_4628\\2590787309.py:34: FutureWarning: The frame.append method is deprecated and will be removed from pandas in a future version. Use pandas.concat instead.\n",
      "  conteo = conteo.append(fila, ignore_index=True)\n",
      "C:\\Users\\User\\AppData\\Local\\Temp\\ipykernel_4628\\2590787309.py:34: FutureWarning: The frame.append method is deprecated and will be removed from pandas in a future version. Use pandas.concat instead.\n",
      "  conteo = conteo.append(fila, ignore_index=True)\n",
      "C:\\Users\\User\\AppData\\Local\\Temp\\ipykernel_4628\\2590787309.py:34: FutureWarning: The frame.append method is deprecated and will be removed from pandas in a future version. Use pandas.concat instead.\n",
      "  conteo = conteo.append(fila, ignore_index=True)\n",
      "C:\\Users\\User\\AppData\\Local\\Temp\\ipykernel_4628\\2590787309.py:34: FutureWarning: The frame.append method is deprecated and will be removed from pandas in a future version. Use pandas.concat instead.\n",
      "  conteo = conteo.append(fila, ignore_index=True)\n",
      "C:\\Users\\User\\AppData\\Local\\Temp\\ipykernel_4628\\2590787309.py:34: FutureWarning: The frame.append method is deprecated and will be removed from pandas in a future version. Use pandas.concat instead.\n",
      "  conteo = conteo.append(fila, ignore_index=True)\n",
      "C:\\Users\\User\\AppData\\Local\\Temp\\ipykernel_4628\\2590787309.py:34: FutureWarning: The frame.append method is deprecated and will be removed from pandas in a future version. Use pandas.concat instead.\n",
      "  conteo = conteo.append(fila, ignore_index=True)\n",
      "C:\\Users\\User\\AppData\\Local\\Temp\\ipykernel_4628\\2590787309.py:34: FutureWarning: The frame.append method is deprecated and will be removed from pandas in a future version. Use pandas.concat instead.\n",
      "  conteo = conteo.append(fila, ignore_index=True)\n",
      "C:\\Users\\User\\AppData\\Local\\Temp\\ipykernel_4628\\2590787309.py:34: FutureWarning: The frame.append method is deprecated and will be removed from pandas in a future version. Use pandas.concat instead.\n",
      "  conteo = conteo.append(fila, ignore_index=True)\n",
      "C:\\Users\\User\\AppData\\Local\\Temp\\ipykernel_4628\\2590787309.py:34: FutureWarning: The frame.append method is deprecated and will be removed from pandas in a future version. Use pandas.concat instead.\n",
      "  conteo = conteo.append(fila, ignore_index=True)\n",
      "C:\\Users\\User\\AppData\\Local\\Temp\\ipykernel_4628\\2590787309.py:34: FutureWarning: The frame.append method is deprecated and will be removed from pandas in a future version. Use pandas.concat instead.\n",
      "  conteo = conteo.append(fila, ignore_index=True)\n",
      "C:\\Users\\User\\AppData\\Local\\Temp\\ipykernel_4628\\2590787309.py:34: FutureWarning: The frame.append method is deprecated and will be removed from pandas in a future version. Use pandas.concat instead.\n",
      "  conteo = conteo.append(fila, ignore_index=True)\n",
      "C:\\Users\\User\\AppData\\Local\\Temp\\ipykernel_4628\\2590787309.py:34: FutureWarning: The frame.append method is deprecated and will be removed from pandas in a future version. Use pandas.concat instead.\n",
      "  conteo = conteo.append(fila, ignore_index=True)\n",
      "C:\\Users\\User\\AppData\\Local\\Temp\\ipykernel_4628\\2590787309.py:34: FutureWarning: The frame.append method is deprecated and will be removed from pandas in a future version. Use pandas.concat instead.\n",
      "  conteo = conteo.append(fila, ignore_index=True)\n",
      "C:\\Users\\User\\AppData\\Local\\Temp\\ipykernel_4628\\2590787309.py:34: FutureWarning: The frame.append method is deprecated and will be removed from pandas in a future version. Use pandas.concat instead.\n",
      "  conteo = conteo.append(fila, ignore_index=True)\n",
      "C:\\Users\\User\\AppData\\Local\\Temp\\ipykernel_4628\\2590787309.py:34: FutureWarning: The frame.append method is deprecated and will be removed from pandas in a future version. Use pandas.concat instead.\n",
      "  conteo = conteo.append(fila, ignore_index=True)\n",
      "C:\\Users\\User\\AppData\\Local\\Temp\\ipykernel_4628\\2590787309.py:34: FutureWarning: The frame.append method is deprecated and will be removed from pandas in a future version. Use pandas.concat instead.\n",
      "  conteo = conteo.append(fila, ignore_index=True)\n",
      "C:\\Users\\User\\AppData\\Local\\Temp\\ipykernel_4628\\2590787309.py:34: FutureWarning: The frame.append method is deprecated and will be removed from pandas in a future version. Use pandas.concat instead.\n",
      "  conteo = conteo.append(fila, ignore_index=True)\n",
      "C:\\Users\\User\\AppData\\Local\\Temp\\ipykernel_4628\\2590787309.py:34: FutureWarning: The frame.append method is deprecated and will be removed from pandas in a future version. Use pandas.concat instead.\n",
      "  conteo = conteo.append(fila, ignore_index=True)\n",
      "C:\\Users\\User\\AppData\\Local\\Temp\\ipykernel_4628\\2590787309.py:34: FutureWarning: The frame.append method is deprecated and will be removed from pandas in a future version. Use pandas.concat instead.\n",
      "  conteo = conteo.append(fila, ignore_index=True)\n",
      "C:\\Users\\User\\AppData\\Local\\Temp\\ipykernel_4628\\2590787309.py:34: FutureWarning: The frame.append method is deprecated and will be removed from pandas in a future version. Use pandas.concat instead.\n",
      "  conteo = conteo.append(fila, ignore_index=True)\n",
      "C:\\Users\\User\\AppData\\Local\\Temp\\ipykernel_4628\\2590787309.py:34: FutureWarning: The frame.append method is deprecated and will be removed from pandas in a future version. Use pandas.concat instead.\n",
      "  conteo = conteo.append(fila, ignore_index=True)\n",
      "C:\\Users\\User\\AppData\\Local\\Temp\\ipykernel_4628\\2590787309.py:34: FutureWarning: The frame.append method is deprecated and will be removed from pandas in a future version. Use pandas.concat instead.\n",
      "  conteo = conteo.append(fila, ignore_index=True)\n",
      "C:\\Users\\User\\AppData\\Local\\Temp\\ipykernel_4628\\2590787309.py:34: FutureWarning: The frame.append method is deprecated and will be removed from pandas in a future version. Use pandas.concat instead.\n",
      "  conteo = conteo.append(fila, ignore_index=True)\n",
      "C:\\Users\\User\\AppData\\Local\\Temp\\ipykernel_4628\\2590787309.py:34: FutureWarning: The frame.append method is deprecated and will be removed from pandas in a future version. Use pandas.concat instead.\n",
      "  conteo = conteo.append(fila, ignore_index=True)\n",
      "C:\\Users\\User\\AppData\\Local\\Temp\\ipykernel_4628\\2590787309.py:34: FutureWarning: The frame.append method is deprecated and will be removed from pandas in a future version. Use pandas.concat instead.\n",
      "  conteo = conteo.append(fila, ignore_index=True)\n",
      "C:\\Users\\User\\AppData\\Local\\Temp\\ipykernel_4628\\2590787309.py:34: FutureWarning: The frame.append method is deprecated and will be removed from pandas in a future version. Use pandas.concat instead.\n",
      "  conteo = conteo.append(fila, ignore_index=True)\n",
      "C:\\Users\\User\\AppData\\Local\\Temp\\ipykernel_4628\\2590787309.py:34: FutureWarning: The frame.append method is deprecated and will be removed from pandas in a future version. Use pandas.concat instead.\n",
      "  conteo = conteo.append(fila, ignore_index=True)\n",
      "C:\\Users\\User\\AppData\\Local\\Temp\\ipykernel_4628\\2590787309.py:34: FutureWarning: The frame.append method is deprecated and will be removed from pandas in a future version. Use pandas.concat instead.\n",
      "  conteo = conteo.append(fila, ignore_index=True)\n",
      "C:\\Users\\User\\AppData\\Local\\Temp\\ipykernel_4628\\2590787309.py:34: FutureWarning: The frame.append method is deprecated and will be removed from pandas in a future version. Use pandas.concat instead.\n",
      "  conteo = conteo.append(fila, ignore_index=True)\n",
      "C:\\Users\\User\\AppData\\Local\\Temp\\ipykernel_4628\\2590787309.py:34: FutureWarning: The frame.append method is deprecated and will be removed from pandas in a future version. Use pandas.concat instead.\n",
      "  conteo = conteo.append(fila, ignore_index=True)\n",
      "C:\\Users\\User\\AppData\\Local\\Temp\\ipykernel_4628\\2590787309.py:34: FutureWarning: The frame.append method is deprecated and will be removed from pandas in a future version. Use pandas.concat instead.\n",
      "  conteo = conteo.append(fila, ignore_index=True)\n",
      "C:\\Users\\User\\AppData\\Local\\Temp\\ipykernel_4628\\2590787309.py:34: FutureWarning: The frame.append method is deprecated and will be removed from pandas in a future version. Use pandas.concat instead.\n",
      "  conteo = conteo.append(fila, ignore_index=True)\n",
      "C:\\Users\\User\\AppData\\Local\\Temp\\ipykernel_4628\\2590787309.py:34: FutureWarning: The frame.append method is deprecated and will be removed from pandas in a future version. Use pandas.concat instead.\n",
      "  conteo = conteo.append(fila, ignore_index=True)\n",
      "C:\\Users\\User\\AppData\\Local\\Temp\\ipykernel_4628\\2590787309.py:34: FutureWarning: The frame.append method is deprecated and will be removed from pandas in a future version. Use pandas.concat instead.\n",
      "  conteo = conteo.append(fila, ignore_index=True)\n",
      "C:\\Users\\User\\AppData\\Local\\Temp\\ipykernel_4628\\2590787309.py:34: FutureWarning: The frame.append method is deprecated and will be removed from pandas in a future version. Use pandas.concat instead.\n",
      "  conteo = conteo.append(fila, ignore_index=True)\n",
      "C:\\Users\\User\\AppData\\Local\\Temp\\ipykernel_4628\\2590787309.py:34: FutureWarning: The frame.append method is deprecated and will be removed from pandas in a future version. Use pandas.concat instead.\n",
      "  conteo = conteo.append(fila, ignore_index=True)\n",
      "C:\\Users\\User\\AppData\\Local\\Temp\\ipykernel_4628\\2590787309.py:34: FutureWarning: The frame.append method is deprecated and will be removed from pandas in a future version. Use pandas.concat instead.\n",
      "  conteo = conteo.append(fila, ignore_index=True)\n",
      "C:\\Users\\User\\AppData\\Local\\Temp\\ipykernel_4628\\2590787309.py:34: FutureWarning: The frame.append method is deprecated and will be removed from pandas in a future version. Use pandas.concat instead.\n",
      "  conteo = conteo.append(fila, ignore_index=True)\n",
      "C:\\Users\\User\\AppData\\Local\\Temp\\ipykernel_4628\\2590787309.py:34: FutureWarning: The frame.append method is deprecated and will be removed from pandas in a future version. Use pandas.concat instead.\n",
      "  conteo = conteo.append(fila, ignore_index=True)\n",
      "C:\\Users\\User\\AppData\\Local\\Temp\\ipykernel_4628\\2590787309.py:34: FutureWarning: The frame.append method is deprecated and will be removed from pandas in a future version. Use pandas.concat instead.\n",
      "  conteo = conteo.append(fila, ignore_index=True)\n",
      "C:\\Users\\User\\AppData\\Local\\Temp\\ipykernel_4628\\2590787309.py:34: FutureWarning: The frame.append method is deprecated and will be removed from pandas in a future version. Use pandas.concat instead.\n",
      "  conteo = conteo.append(fila, ignore_index=True)\n",
      "C:\\Users\\User\\AppData\\Local\\Temp\\ipykernel_4628\\2590787309.py:34: FutureWarning: The frame.append method is deprecated and will be removed from pandas in a future version. Use pandas.concat instead.\n",
      "  conteo = conteo.append(fila, ignore_index=True)\n",
      "C:\\Users\\User\\AppData\\Local\\Temp\\ipykernel_4628\\2590787309.py:34: FutureWarning: The frame.append method is deprecated and will be removed from pandas in a future version. Use pandas.concat instead.\n",
      "  conteo = conteo.append(fila, ignore_index=True)\n",
      "C:\\Users\\User\\AppData\\Local\\Temp\\ipykernel_4628\\2590787309.py:34: FutureWarning: The frame.append method is deprecated and will be removed from pandas in a future version. Use pandas.concat instead.\n",
      "  conteo = conteo.append(fila, ignore_index=True)\n",
      "C:\\Users\\User\\AppData\\Local\\Temp\\ipykernel_4628\\2590787309.py:34: FutureWarning: The frame.append method is deprecated and will be removed from pandas in a future version. Use pandas.concat instead.\n",
      "  conteo = conteo.append(fila, ignore_index=True)\n",
      "C:\\Users\\User\\AppData\\Local\\Temp\\ipykernel_4628\\2590787309.py:34: FutureWarning: The frame.append method is deprecated and will be removed from pandas in a future version. Use pandas.concat instead.\n",
      "  conteo = conteo.append(fila, ignore_index=True)\n",
      "C:\\Users\\User\\AppData\\Local\\Temp\\ipykernel_4628\\2590787309.py:34: FutureWarning: The frame.append method is deprecated and will be removed from pandas in a future version. Use pandas.concat instead.\n",
      "  conteo = conteo.append(fila, ignore_index=True)\n",
      "C:\\Users\\User\\AppData\\Local\\Temp\\ipykernel_4628\\2590787309.py:34: FutureWarning: The frame.append method is deprecated and will be removed from pandas in a future version. Use pandas.concat instead.\n",
      "  conteo = conteo.append(fila, ignore_index=True)\n",
      "C:\\Users\\User\\AppData\\Local\\Temp\\ipykernel_4628\\2590787309.py:34: FutureWarning: The frame.append method is deprecated and will be removed from pandas in a future version. Use pandas.concat instead.\n",
      "  conteo = conteo.append(fila, ignore_index=True)\n",
      "C:\\Users\\User\\AppData\\Local\\Temp\\ipykernel_4628\\2590787309.py:34: FutureWarning: The frame.append method is deprecated and will be removed from pandas in a future version. Use pandas.concat instead.\n",
      "  conteo = conteo.append(fila, ignore_index=True)\n",
      "C:\\Users\\User\\AppData\\Local\\Temp\\ipykernel_4628\\2590787309.py:34: FutureWarning: The frame.append method is deprecated and will be removed from pandas in a future version. Use pandas.concat instead.\n",
      "  conteo = conteo.append(fila, ignore_index=True)\n",
      "C:\\Users\\User\\AppData\\Local\\Temp\\ipykernel_4628\\2590787309.py:34: FutureWarning: The frame.append method is deprecated and will be removed from pandas in a future version. Use pandas.concat instead.\n",
      "  conteo = conteo.append(fila, ignore_index=True)\n",
      "C:\\Users\\User\\AppData\\Local\\Temp\\ipykernel_4628\\2590787309.py:34: FutureWarning: The frame.append method is deprecated and will be removed from pandas in a future version. Use pandas.concat instead.\n",
      "  conteo = conteo.append(fila, ignore_index=True)\n",
      "C:\\Users\\User\\AppData\\Local\\Temp\\ipykernel_4628\\2590787309.py:34: FutureWarning: The frame.append method is deprecated and will be removed from pandas in a future version. Use pandas.concat instead.\n",
      "  conteo = conteo.append(fila, ignore_index=True)\n",
      "C:\\Users\\User\\AppData\\Local\\Temp\\ipykernel_4628\\2590787309.py:34: FutureWarning: The frame.append method is deprecated and will be removed from pandas in a future version. Use pandas.concat instead.\n",
      "  conteo = conteo.append(fila, ignore_index=True)\n",
      "C:\\Users\\User\\AppData\\Local\\Temp\\ipykernel_4628\\2590787309.py:34: FutureWarning: The frame.append method is deprecated and will be removed from pandas in a future version. Use pandas.concat instead.\n",
      "  conteo = conteo.append(fila, ignore_index=True)\n",
      "C:\\Users\\User\\AppData\\Local\\Temp\\ipykernel_4628\\2590787309.py:34: FutureWarning: The frame.append method is deprecated and will be removed from pandas in a future version. Use pandas.concat instead.\n",
      "  conteo = conteo.append(fila, ignore_index=True)\n",
      "C:\\Users\\User\\AppData\\Local\\Temp\\ipykernel_4628\\2590787309.py:34: FutureWarning: The frame.append method is deprecated and will be removed from pandas in a future version. Use pandas.concat instead.\n",
      "  conteo = conteo.append(fila, ignore_index=True)\n",
      "C:\\Users\\User\\AppData\\Local\\Temp\\ipykernel_4628\\2590787309.py:34: FutureWarning: The frame.append method is deprecated and will be removed from pandas in a future version. Use pandas.concat instead.\n",
      "  conteo = conteo.append(fila, ignore_index=True)\n",
      "C:\\Users\\User\\AppData\\Local\\Temp\\ipykernel_4628\\2590787309.py:34: FutureWarning: The frame.append method is deprecated and will be removed from pandas in a future version. Use pandas.concat instead.\n",
      "  conteo = conteo.append(fila, ignore_index=True)\n",
      "C:\\Users\\User\\AppData\\Local\\Temp\\ipykernel_4628\\2590787309.py:34: FutureWarning: The frame.append method is deprecated and will be removed from pandas in a future version. Use pandas.concat instead.\n",
      "  conteo = conteo.append(fila, ignore_index=True)\n",
      "C:\\Users\\User\\AppData\\Local\\Temp\\ipykernel_4628\\2590787309.py:34: FutureWarning: The frame.append method is deprecated and will be removed from pandas in a future version. Use pandas.concat instead.\n",
      "  conteo = conteo.append(fila, ignore_index=True)\n",
      "C:\\Users\\User\\AppData\\Local\\Temp\\ipykernel_4628\\2590787309.py:34: FutureWarning: The frame.append method is deprecated and will be removed from pandas in a future version. Use pandas.concat instead.\n",
      "  conteo = conteo.append(fila, ignore_index=True)\n",
      "C:\\Users\\User\\AppData\\Local\\Temp\\ipykernel_4628\\2590787309.py:34: FutureWarning: The frame.append method is deprecated and will be removed from pandas in a future version. Use pandas.concat instead.\n",
      "  conteo = conteo.append(fila, ignore_index=True)\n",
      "C:\\Users\\User\\AppData\\Local\\Temp\\ipykernel_4628\\2590787309.py:34: FutureWarning: The frame.append method is deprecated and will be removed from pandas in a future version. Use pandas.concat instead.\n",
      "  conteo = conteo.append(fila, ignore_index=True)\n",
      "C:\\Users\\User\\AppData\\Local\\Temp\\ipykernel_4628\\2590787309.py:34: FutureWarning: The frame.append method is deprecated and will be removed from pandas in a future version. Use pandas.concat instead.\n",
      "  conteo = conteo.append(fila, ignore_index=True)\n",
      "C:\\Users\\User\\AppData\\Local\\Temp\\ipykernel_4628\\2590787309.py:34: FutureWarning: The frame.append method is deprecated and will be removed from pandas in a future version. Use pandas.concat instead.\n",
      "  conteo = conteo.append(fila, ignore_index=True)\n",
      "C:\\Users\\User\\AppData\\Local\\Temp\\ipykernel_4628\\2590787309.py:34: FutureWarning: The frame.append method is deprecated and will be removed from pandas in a future version. Use pandas.concat instead.\n",
      "  conteo = conteo.append(fila, ignore_index=True)\n",
      "C:\\Users\\User\\AppData\\Local\\Temp\\ipykernel_4628\\2590787309.py:34: FutureWarning: The frame.append method is deprecated and will be removed from pandas in a future version. Use pandas.concat instead.\n",
      "  conteo = conteo.append(fila, ignore_index=True)\n",
      "C:\\Users\\User\\AppData\\Local\\Temp\\ipykernel_4628\\2590787309.py:34: FutureWarning: The frame.append method is deprecated and will be removed from pandas in a future version. Use pandas.concat instead.\n",
      "  conteo = conteo.append(fila, ignore_index=True)\n",
      "C:\\Users\\User\\AppData\\Local\\Temp\\ipykernel_4628\\2590787309.py:34: FutureWarning: The frame.append method is deprecated and will be removed from pandas in a future version. Use pandas.concat instead.\n",
      "  conteo = conteo.append(fila, ignore_index=True)\n",
      "C:\\Users\\User\\AppData\\Local\\Temp\\ipykernel_4628\\2590787309.py:34: FutureWarning: The frame.append method is deprecated and will be removed from pandas in a future version. Use pandas.concat instead.\n",
      "  conteo = conteo.append(fila, ignore_index=True)\n",
      "C:\\Users\\User\\AppData\\Local\\Temp\\ipykernel_4628\\2590787309.py:34: FutureWarning: The frame.append method is deprecated and will be removed from pandas in a future version. Use pandas.concat instead.\n",
      "  conteo = conteo.append(fila, ignore_index=True)\n",
      "C:\\Users\\User\\AppData\\Local\\Temp\\ipykernel_4628\\2590787309.py:34: FutureWarning: The frame.append method is deprecated and will be removed from pandas in a future version. Use pandas.concat instead.\n",
      "  conteo = conteo.append(fila, ignore_index=True)\n",
      "C:\\Users\\User\\AppData\\Local\\Temp\\ipykernel_4628\\2590787309.py:34: FutureWarning: The frame.append method is deprecated and will be removed from pandas in a future version. Use pandas.concat instead.\n",
      "  conteo = conteo.append(fila, ignore_index=True)\n",
      "C:\\Users\\User\\AppData\\Local\\Temp\\ipykernel_4628\\2590787309.py:34: FutureWarning: The frame.append method is deprecated and will be removed from pandas in a future version. Use pandas.concat instead.\n",
      "  conteo = conteo.append(fila, ignore_index=True)\n",
      "C:\\Users\\User\\AppData\\Local\\Temp\\ipykernel_4628\\2590787309.py:34: FutureWarning: The frame.append method is deprecated and will be removed from pandas in a future version. Use pandas.concat instead.\n",
      "  conteo = conteo.append(fila, ignore_index=True)\n",
      "C:\\Users\\User\\AppData\\Local\\Temp\\ipykernel_4628\\2590787309.py:34: FutureWarning: The frame.append method is deprecated and will be removed from pandas in a future version. Use pandas.concat instead.\n",
      "  conteo = conteo.append(fila, ignore_index=True)\n",
      "C:\\Users\\User\\AppData\\Local\\Temp\\ipykernel_4628\\2590787309.py:34: FutureWarning: The frame.append method is deprecated and will be removed from pandas in a future version. Use pandas.concat instead.\n",
      "  conteo = conteo.append(fila, ignore_index=True)\n",
      "C:\\Users\\User\\AppData\\Local\\Temp\\ipykernel_4628\\2590787309.py:34: FutureWarning: The frame.append method is deprecated and will be removed from pandas in a future version. Use pandas.concat instead.\n",
      "  conteo = conteo.append(fila, ignore_index=True)\n",
      "C:\\Users\\User\\AppData\\Local\\Temp\\ipykernel_4628\\2590787309.py:34: FutureWarning: The frame.append method is deprecated and will be removed from pandas in a future version. Use pandas.concat instead.\n",
      "  conteo = conteo.append(fila, ignore_index=True)\n",
      "C:\\Users\\User\\AppData\\Local\\Temp\\ipykernel_4628\\2590787309.py:34: FutureWarning: The frame.append method is deprecated and will be removed from pandas in a future version. Use pandas.concat instead.\n",
      "  conteo = conteo.append(fila, ignore_index=True)\n",
      "C:\\Users\\User\\AppData\\Local\\Temp\\ipykernel_4628\\2590787309.py:34: FutureWarning: The frame.append method is deprecated and will be removed from pandas in a future version. Use pandas.concat instead.\n",
      "  conteo = conteo.append(fila, ignore_index=True)\n",
      "C:\\Users\\User\\AppData\\Local\\Temp\\ipykernel_4628\\2590787309.py:34: FutureWarning: The frame.append method is deprecated and will be removed from pandas in a future version. Use pandas.concat instead.\n",
      "  conteo = conteo.append(fila, ignore_index=True)\n",
      "C:\\Users\\User\\AppData\\Local\\Temp\\ipykernel_4628\\2590787309.py:34: FutureWarning: The frame.append method is deprecated and will be removed from pandas in a future version. Use pandas.concat instead.\n",
      "  conteo = conteo.append(fila, ignore_index=True)\n",
      "C:\\Users\\User\\AppData\\Local\\Temp\\ipykernel_4628\\2590787309.py:34: FutureWarning: The frame.append method is deprecated and will be removed from pandas in a future version. Use pandas.concat instead.\n",
      "  conteo = conteo.append(fila, ignore_index=True)\n"
     ]
    },
    {
     "ename": "ValueError",
     "evalue": "could not convert string to float: '1.89%'",
     "output_type": "error",
     "traceback": [
      "\u001b[1;31m---------------------------------------------------------------------------\u001b[0m",
      "\u001b[1;31mValueError\u001b[0m                                Traceback (most recent call last)",
      "\u001b[1;32m~\\AppData\\Local\\Temp\\ipykernel_4628\\234408394.py\u001b[0m in \u001b[0;36m<module>\u001b[1;34m\u001b[0m\n\u001b[0;32m      4\u001b[0m \u001b[0memail4\u001b[0m \u001b[1;33m=\u001b[0m \u001b[1;34m'https://m.email.eltenedor.es/nl/jsp/m.jsp?c=%40SLLq2awKrPi0rV3s6HivzVLQcODoH2LSuiXoE8wzwZ8%3D&_ctid=166618731'\u001b[0m\u001b[1;33m\u001b[0m\u001b[1;33m\u001b[0m\u001b[0m\n\u001b[0;32m      5\u001b[0m \u001b[1;33m\u001b[0m\u001b[0m\n\u001b[1;32m----> 6\u001b[1;33m \u001b[0mprint\u001b[0m\u001b[1;33m(\u001b[0m\u001b[1;34m'Email 1: '\u001b[0m \u001b[1;33m+\u001b[0m \u001b[0mes_Spam\u001b[0m\u001b[1;33m(\u001b[0m\u001b[0memail1\u001b[0m\u001b[1;33m)\u001b[0m\u001b[1;33m)\u001b[0m\u001b[1;33m\u001b[0m\u001b[1;33m\u001b[0m\u001b[0m\n\u001b[0m\u001b[0;32m      7\u001b[0m \u001b[0mprint\u001b[0m\u001b[1;33m(\u001b[0m\u001b[1;34m'Email 2: '\u001b[0m \u001b[1;33m+\u001b[0m \u001b[0mes_Spam\u001b[0m\u001b[1;33m(\u001b[0m\u001b[0memail2\u001b[0m\u001b[1;33m)\u001b[0m\u001b[1;33m)\u001b[0m\u001b[1;33m\u001b[0m\u001b[1;33m\u001b[0m\u001b[0m\n\u001b[0;32m      8\u001b[0m \u001b[0mprint\u001b[0m\u001b[1;33m(\u001b[0m\u001b[1;34m'Email 3: '\u001b[0m \u001b[1;33m+\u001b[0m \u001b[0mes_Spam\u001b[0m\u001b[1;33m(\u001b[0m\u001b[0memail3\u001b[0m\u001b[1;33m)\u001b[0m\u001b[1;33m)\u001b[0m\u001b[1;33m\u001b[0m\u001b[1;33m\u001b[0m\u001b[0m\n",
      "\u001b[1;32m~\\AppData\\Local\\Temp\\ipykernel_4628\\3556144141.py\u001b[0m in \u001b[0;36mes_Spam\u001b[1;34m(url_email)\u001b[0m\n\u001b[0;32m     23\u001b[0m         \u001b[1;32mif\u001b[0m \u001b[0mrow\u001b[0m\u001b[1;33m.\u001b[0m\u001b[0mloc\u001b[0m\u001b[1;33m[\u001b[0m\u001b[1;34m'Palabra'\u001b[0m\u001b[1;33m]\u001b[0m \u001b[1;32min\u001b[0m \u001b[0mpalabras_spam\u001b[0m\u001b[1;33m:\u001b[0m\u001b[1;33m\u001b[0m\u001b[1;33m\u001b[0m\u001b[0m\n\u001b[0;32m     24\u001b[0m \u001b[1;33m\u001b[0m\u001b[0m\n\u001b[1;32m---> 25\u001b[1;33m             \u001b[1;32mif\u001b[0m \u001b[0mfloat\u001b[0m\u001b[1;33m(\u001b[0m\u001b[0mrow\u001b[0m\u001b[1;33m.\u001b[0m\u001b[0mloc\u001b[0m\u001b[1;33m[\u001b[0m\u001b[1;34m'Densidad'\u001b[0m\u001b[1;33m]\u001b[0m\u001b[1;33m)\u001b[0m \u001b[1;33m>\u001b[0m \u001b[1;36m0.02\u001b[0m\u001b[1;33m:\u001b[0m\u001b[1;33m\u001b[0m\u001b[1;33m\u001b[0m\u001b[0m\n\u001b[0m\u001b[0;32m     26\u001b[0m \u001b[1;33m\u001b[0m\u001b[0m\n\u001b[0;32m     27\u001b[0m                 \u001b[0mspam_points\u001b[0m \u001b[1;33m=\u001b[0m \u001b[0mspam_points\u001b[0m \u001b[1;33m+\u001b[0m \u001b[1;36m1\u001b[0m\u001b[1;33m\u001b[0m\u001b[1;33m\u001b[0m\u001b[0m\n",
      "\u001b[1;31mValueError\u001b[0m: could not convert string to float: '1.89%'"
     ]
    }
   ],
   "source": [
    "email1 = 'https://vgwq.campaign-view.com/ua/viewinbrowser?od=3z76be2304fc1bc51a1bd72c445d4b63701474d74f8db12551960783c3e1a78592&rd=11c4aa5bc740ea1a&sd=11c4aa5bc74aa5db&n=11699e4c2c382ee&mrd=11c4aa5bc74aa5c5&m=1'\n",
    "email2 = 'https://m.user.atresplayer.com/nl/jsp/m.jsp?c=%40kfUlPA1%2Fy4hVsBnFf7cF3wknLdT1VV%2FcnwzofD0XVhA%3D'\n",
    "email3 = 'http://view.mail.360imprimir.es/?qs=240379cda28af83ad8e10007f41fbdc1f01d1b478296dce186feaa145a49a34f23b8a8237db5b919c795c23a8f6d5674a7029b3ea6825c6d72b6ff6ce79263a31674a89eff62e90f6a1f9f8b7debe9ca'\n",
    "email4 = 'https://m.email.eltenedor.es/nl/jsp/m.jsp?c=%40SLLq2awKrPi0rV3s6HivzVLQcODoH2LSuiXoE8wzwZ8%3D&_ctid=166618731'\n",
    "\n",
    "print('Email 1: ' + es_Spam(email1))\n",
    "print('Email 2: ' + es_Spam(email2))\n",
    "print('Email 3: ' + es_Spam(email3))\n",
    "print('Email 4: ' + es_Spam(email4))"
   ]
  },
  {
   "cell_type": "markdown",
   "id": "c45f1693",
   "metadata": {},
   "source": [
    "### 3.- Theme of a website\n",
    "\n",
    "Create a function that giving an URL from a web it's able to detect what that website is about. \n",
    "\n",
    "Have in mind you need to check if the thematic is just one word or several words. Also you should exclude from the thematic the call to action words like subscrive, contact, etc ...\n",
    "\n",
    "So the thematic of a web shouldn't be \"lord\" or \"of\" or \"the\" or \"rings\", it istead should be transformed to \"lord of the rings\" as a single thematic."
   ]
  },
  {
   "cell_type": "code",
   "execution_count": 46,
   "id": "f54e51e1",
   "metadata": {},
   "outputs": [],
   "source": [
    "url = 'https://www.xataka.com/cine-y-tv/traca-final-anillos-poder-reune-todas-virtudes-pocas-defectos-muchos-serie'"
   ]
  },
  {
   "cell_type": "code",
   "execution_count": 47,
   "id": "063446c8",
   "metadata": {},
   "outputs": [],
   "source": [
    "request = urllib.request.urlopen(url)\n",
    "html = request.read()"
   ]
  },
  {
   "cell_type": "code",
   "execution_count": 48,
   "id": "cff6cc09",
   "metadata": {},
   "outputs": [
    {
     "name": "stdout",
     "output_type": "stream",
     "text": [
      "Suscríbete a XatakaRecibe un email al día con nuestros artículos:\n",
      "   \n",
      "\n",
      "Suscribir\n",
      "Hay una serie de detalles en el último episodio de 'El Señor de los Anillos: Los Anillos de Poder' que hablan de las fortalezas y debilidades de la serie mejor que cualquier análisis. Las historias que han llevado a sus personajes hasta este punto se han desarrollado a lo largo de ocho entregas y también son un buen resumen de aquello en lo que ha acertado y ha errad\n"
     ]
    }
   ],
   "source": [
    "soup = BeautifulSoup(html, \"html.parser\")\n",
    "paragraphs = soup.find_all('p') # we get all paragraphs\n",
    "\n",
    "web = ''\n",
    "for paragraph in paragraphs:\n",
    "    web = web + paragraph.get_text()\n",
    "\n",
    "print(web[:450])"
   ]
  },
  {
   "cell_type": "code",
   "execution_count": 49,
   "id": "5bbb2e21",
   "metadata": {},
   "outputs": [
    {
     "name": "stderr",
     "output_type": "stream",
     "text": [
      "C:\\Users\\User\\AppData\\Local\\Temp\\ipykernel_4628\\2590787309.py:34: FutureWarning: The frame.append method is deprecated and will be removed from pandas in a future version. Use pandas.concat instead.\n",
      "  conteo = conteo.append(fila, ignore_index=True)\n",
      "C:\\Users\\User\\AppData\\Local\\Temp\\ipykernel_4628\\2590787309.py:34: FutureWarning: The frame.append method is deprecated and will be removed from pandas in a future version. Use pandas.concat instead.\n",
      "  conteo = conteo.append(fila, ignore_index=True)\n",
      "C:\\Users\\User\\AppData\\Local\\Temp\\ipykernel_4628\\2590787309.py:34: FutureWarning: The frame.append method is deprecated and will be removed from pandas in a future version. Use pandas.concat instead.\n",
      "  conteo = conteo.append(fila, ignore_index=True)\n",
      "C:\\Users\\User\\AppData\\Local\\Temp\\ipykernel_4628\\2590787309.py:34: FutureWarning: The frame.append method is deprecated and will be removed from pandas in a future version. Use pandas.concat instead.\n",
      "  conteo = conteo.append(fila, ignore_index=True)\n",
      "C:\\Users\\User\\AppData\\Local\\Temp\\ipykernel_4628\\2590787309.py:34: FutureWarning: The frame.append method is deprecated and will be removed from pandas in a future version. Use pandas.concat instead.\n",
      "  conteo = conteo.append(fila, ignore_index=True)\n",
      "C:\\Users\\User\\AppData\\Local\\Temp\\ipykernel_4628\\2590787309.py:34: FutureWarning: The frame.append method is deprecated and will be removed from pandas in a future version. Use pandas.concat instead.\n",
      "  conteo = conteo.append(fila, ignore_index=True)\n",
      "C:\\Users\\User\\AppData\\Local\\Temp\\ipykernel_4628\\2590787309.py:34: FutureWarning: The frame.append method is deprecated and will be removed from pandas in a future version. Use pandas.concat instead.\n",
      "  conteo = conteo.append(fila, ignore_index=True)\n",
      "C:\\Users\\User\\AppData\\Local\\Temp\\ipykernel_4628\\2590787309.py:34: FutureWarning: The frame.append method is deprecated and will be removed from pandas in a future version. Use pandas.concat instead.\n",
      "  conteo = conteo.append(fila, ignore_index=True)\n",
      "C:\\Users\\User\\AppData\\Local\\Temp\\ipykernel_4628\\2590787309.py:34: FutureWarning: The frame.append method is deprecated and will be removed from pandas in a future version. Use pandas.concat instead.\n",
      "  conteo = conteo.append(fila, ignore_index=True)\n",
      "C:\\Users\\User\\AppData\\Local\\Temp\\ipykernel_4628\\2590787309.py:34: FutureWarning: The frame.append method is deprecated and will be removed from pandas in a future version. Use pandas.concat instead.\n",
      "  conteo = conteo.append(fila, ignore_index=True)\n",
      "C:\\Users\\User\\AppData\\Local\\Temp\\ipykernel_4628\\2590787309.py:34: FutureWarning: The frame.append method is deprecated and will be removed from pandas in a future version. Use pandas.concat instead.\n",
      "  conteo = conteo.append(fila, ignore_index=True)\n",
      "C:\\Users\\User\\AppData\\Local\\Temp\\ipykernel_4628\\2590787309.py:34: FutureWarning: The frame.append method is deprecated and will be removed from pandas in a future version. Use pandas.concat instead.\n",
      "  conteo = conteo.append(fila, ignore_index=True)\n",
      "C:\\Users\\User\\AppData\\Local\\Temp\\ipykernel_4628\\2590787309.py:34: FutureWarning: The frame.append method is deprecated and will be removed from pandas in a future version. Use pandas.concat instead.\n",
      "  conteo = conteo.append(fila, ignore_index=True)\n",
      "C:\\Users\\User\\AppData\\Local\\Temp\\ipykernel_4628\\2590787309.py:34: FutureWarning: The frame.append method is deprecated and will be removed from pandas in a future version. Use pandas.concat instead.\n",
      "  conteo = conteo.append(fila, ignore_index=True)\n",
      "C:\\Users\\User\\AppData\\Local\\Temp\\ipykernel_4628\\2590787309.py:34: FutureWarning: The frame.append method is deprecated and will be removed from pandas in a future version. Use pandas.concat instead.\n",
      "  conteo = conteo.append(fila, ignore_index=True)\n",
      "C:\\Users\\User\\AppData\\Local\\Temp\\ipykernel_4628\\2590787309.py:34: FutureWarning: The frame.append method is deprecated and will be removed from pandas in a future version. Use pandas.concat instead.\n",
      "  conteo = conteo.append(fila, ignore_index=True)\n",
      "C:\\Users\\User\\AppData\\Local\\Temp\\ipykernel_4628\\2590787309.py:34: FutureWarning: The frame.append method is deprecated and will be removed from pandas in a future version. Use pandas.concat instead.\n",
      "  conteo = conteo.append(fila, ignore_index=True)\n",
      "C:\\Users\\User\\AppData\\Local\\Temp\\ipykernel_4628\\2590787309.py:34: FutureWarning: The frame.append method is deprecated and will be removed from pandas in a future version. Use pandas.concat instead.\n",
      "  conteo = conteo.append(fila, ignore_index=True)\n",
      "C:\\Users\\User\\AppData\\Local\\Temp\\ipykernel_4628\\2590787309.py:34: FutureWarning: The frame.append method is deprecated and will be removed from pandas in a future version. Use pandas.concat instead.\n",
      "  conteo = conteo.append(fila, ignore_index=True)\n",
      "C:\\Users\\User\\AppData\\Local\\Temp\\ipykernel_4628\\2590787309.py:34: FutureWarning: The frame.append method is deprecated and will be removed from pandas in a future version. Use pandas.concat instead.\n",
      "  conteo = conteo.append(fila, ignore_index=True)\n",
      "C:\\Users\\User\\AppData\\Local\\Temp\\ipykernel_4628\\2590787309.py:34: FutureWarning: The frame.append method is deprecated and will be removed from pandas in a future version. Use pandas.concat instead.\n",
      "  conteo = conteo.append(fila, ignore_index=True)\n",
      "C:\\Users\\User\\AppData\\Local\\Temp\\ipykernel_4628\\2590787309.py:34: FutureWarning: The frame.append method is deprecated and will be removed from pandas in a future version. Use pandas.concat instead.\n",
      "  conteo = conteo.append(fila, ignore_index=True)\n",
      "C:\\Users\\User\\AppData\\Local\\Temp\\ipykernel_4628\\2590787309.py:34: FutureWarning: The frame.append method is deprecated and will be removed from pandas in a future version. Use pandas.concat instead.\n",
      "  conteo = conteo.append(fila, ignore_index=True)\n",
      "C:\\Users\\User\\AppData\\Local\\Temp\\ipykernel_4628\\2590787309.py:34: FutureWarning: The frame.append method is deprecated and will be removed from pandas in a future version. Use pandas.concat instead.\n",
      "  conteo = conteo.append(fila, ignore_index=True)\n",
      "C:\\Users\\User\\AppData\\Local\\Temp\\ipykernel_4628\\2590787309.py:34: FutureWarning: The frame.append method is deprecated and will be removed from pandas in a future version. Use pandas.concat instead.\n",
      "  conteo = conteo.append(fila, ignore_index=True)\n",
      "C:\\Users\\User\\AppData\\Local\\Temp\\ipykernel_4628\\2590787309.py:34: FutureWarning: The frame.append method is deprecated and will be removed from pandas in a future version. Use pandas.concat instead.\n",
      "  conteo = conteo.append(fila, ignore_index=True)\n",
      "C:\\Users\\User\\AppData\\Local\\Temp\\ipykernel_4628\\2590787309.py:34: FutureWarning: The frame.append method is deprecated and will be removed from pandas in a future version. Use pandas.concat instead.\n",
      "  conteo = conteo.append(fila, ignore_index=True)\n",
      "C:\\Users\\User\\AppData\\Local\\Temp\\ipykernel_4628\\2590787309.py:34: FutureWarning: The frame.append method is deprecated and will be removed from pandas in a future version. Use pandas.concat instead.\n",
      "  conteo = conteo.append(fila, ignore_index=True)\n",
      "C:\\Users\\User\\AppData\\Local\\Temp\\ipykernel_4628\\2590787309.py:34: FutureWarning: The frame.append method is deprecated and will be removed from pandas in a future version. Use pandas.concat instead.\n",
      "  conteo = conteo.append(fila, ignore_index=True)\n",
      "C:\\Users\\User\\AppData\\Local\\Temp\\ipykernel_4628\\2590787309.py:34: FutureWarning: The frame.append method is deprecated and will be removed from pandas in a future version. Use pandas.concat instead.\n",
      "  conteo = conteo.append(fila, ignore_index=True)\n",
      "C:\\Users\\User\\AppData\\Local\\Temp\\ipykernel_4628\\2590787309.py:34: FutureWarning: The frame.append method is deprecated and will be removed from pandas in a future version. Use pandas.concat instead.\n",
      "  conteo = conteo.append(fila, ignore_index=True)\n",
      "C:\\Users\\User\\AppData\\Local\\Temp\\ipykernel_4628\\2590787309.py:34: FutureWarning: The frame.append method is deprecated and will be removed from pandas in a future version. Use pandas.concat instead.\n",
      "  conteo = conteo.append(fila, ignore_index=True)\n",
      "C:\\Users\\User\\AppData\\Local\\Temp\\ipykernel_4628\\2590787309.py:34: FutureWarning: The frame.append method is deprecated and will be removed from pandas in a future version. Use pandas.concat instead.\n",
      "  conteo = conteo.append(fila, ignore_index=True)\n",
      "C:\\Users\\User\\AppData\\Local\\Temp\\ipykernel_4628\\2590787309.py:34: FutureWarning: The frame.append method is deprecated and will be removed from pandas in a future version. Use pandas.concat instead.\n",
      "  conteo = conteo.append(fila, ignore_index=True)\n",
      "C:\\Users\\User\\AppData\\Local\\Temp\\ipykernel_4628\\2590787309.py:34: FutureWarning: The frame.append method is deprecated and will be removed from pandas in a future version. Use pandas.concat instead.\n",
      "  conteo = conteo.append(fila, ignore_index=True)\n",
      "C:\\Users\\User\\AppData\\Local\\Temp\\ipykernel_4628\\2590787309.py:34: FutureWarning: The frame.append method is deprecated and will be removed from pandas in a future version. Use pandas.concat instead.\n",
      "  conteo = conteo.append(fila, ignore_index=True)\n",
      "C:\\Users\\User\\AppData\\Local\\Temp\\ipykernel_4628\\2590787309.py:34: FutureWarning: The frame.append method is deprecated and will be removed from pandas in a future version. Use pandas.concat instead.\n",
      "  conteo = conteo.append(fila, ignore_index=True)\n",
      "C:\\Users\\User\\AppData\\Local\\Temp\\ipykernel_4628\\2590787309.py:34: FutureWarning: The frame.append method is deprecated and will be removed from pandas in a future version. Use pandas.concat instead.\n",
      "  conteo = conteo.append(fila, ignore_index=True)\n",
      "C:\\Users\\User\\AppData\\Local\\Temp\\ipykernel_4628\\2590787309.py:34: FutureWarning: The frame.append method is deprecated and will be removed from pandas in a future version. Use pandas.concat instead.\n",
      "  conteo = conteo.append(fila, ignore_index=True)\n",
      "C:\\Users\\User\\AppData\\Local\\Temp\\ipykernel_4628\\2590787309.py:34: FutureWarning: The frame.append method is deprecated and will be removed from pandas in a future version. Use pandas.concat instead.\n",
      "  conteo = conteo.append(fila, ignore_index=True)\n",
      "C:\\Users\\User\\AppData\\Local\\Temp\\ipykernel_4628\\2590787309.py:34: FutureWarning: The frame.append method is deprecated and will be removed from pandas in a future version. Use pandas.concat instead.\n",
      "  conteo = conteo.append(fila, ignore_index=True)\n",
      "C:\\Users\\User\\AppData\\Local\\Temp\\ipykernel_4628\\2590787309.py:34: FutureWarning: The frame.append method is deprecated and will be removed from pandas in a future version. Use pandas.concat instead.\n",
      "  conteo = conteo.append(fila, ignore_index=True)\n",
      "C:\\Users\\User\\AppData\\Local\\Temp\\ipykernel_4628\\2590787309.py:34: FutureWarning: The frame.append method is deprecated and will be removed from pandas in a future version. Use pandas.concat instead.\n",
      "  conteo = conteo.append(fila, ignore_index=True)\n",
      "C:\\Users\\User\\AppData\\Local\\Temp\\ipykernel_4628\\2590787309.py:34: FutureWarning: The frame.append method is deprecated and will be removed from pandas in a future version. Use pandas.concat instead.\n",
      "  conteo = conteo.append(fila, ignore_index=True)\n",
      "C:\\Users\\User\\AppData\\Local\\Temp\\ipykernel_4628\\2590787309.py:34: FutureWarning: The frame.append method is deprecated and will be removed from pandas in a future version. Use pandas.concat instead.\n",
      "  conteo = conteo.append(fila, ignore_index=True)\n",
      "C:\\Users\\User\\AppData\\Local\\Temp\\ipykernel_4628\\2590787309.py:34: FutureWarning: The frame.append method is deprecated and will be removed from pandas in a future version. Use pandas.concat instead.\n",
      "  conteo = conteo.append(fila, ignore_index=True)\n",
      "C:\\Users\\User\\AppData\\Local\\Temp\\ipykernel_4628\\2590787309.py:34: FutureWarning: The frame.append method is deprecated and will be removed from pandas in a future version. Use pandas.concat instead.\n",
      "  conteo = conteo.append(fila, ignore_index=True)\n",
      "C:\\Users\\User\\AppData\\Local\\Temp\\ipykernel_4628\\2590787309.py:34: FutureWarning: The frame.append method is deprecated and will be removed from pandas in a future version. Use pandas.concat instead.\n",
      "  conteo = conteo.append(fila, ignore_index=True)\n",
      "C:\\Users\\User\\AppData\\Local\\Temp\\ipykernel_4628\\2590787309.py:34: FutureWarning: The frame.append method is deprecated and will be removed from pandas in a future version. Use pandas.concat instead.\n",
      "  conteo = conteo.append(fila, ignore_index=True)\n",
      "C:\\Users\\User\\AppData\\Local\\Temp\\ipykernel_4628\\2590787309.py:34: FutureWarning: The frame.append method is deprecated and will be removed from pandas in a future version. Use pandas.concat instead.\n",
      "  conteo = conteo.append(fila, ignore_index=True)\n",
      "C:\\Users\\User\\AppData\\Local\\Temp\\ipykernel_4628\\2590787309.py:34: FutureWarning: The frame.append method is deprecated and will be removed from pandas in a future version. Use pandas.concat instead.\n",
      "  conteo = conteo.append(fila, ignore_index=True)\n",
      "C:\\Users\\User\\AppData\\Local\\Temp\\ipykernel_4628\\2590787309.py:34: FutureWarning: The frame.append method is deprecated and will be removed from pandas in a future version. Use pandas.concat instead.\n",
      "  conteo = conteo.append(fila, ignore_index=True)\n",
      "C:\\Users\\User\\AppData\\Local\\Temp\\ipykernel_4628\\2590787309.py:34: FutureWarning: The frame.append method is deprecated and will be removed from pandas in a future version. Use pandas.concat instead.\n",
      "  conteo = conteo.append(fila, ignore_index=True)\n",
      "C:\\Users\\User\\AppData\\Local\\Temp\\ipykernel_4628\\2590787309.py:34: FutureWarning: The frame.append method is deprecated and will be removed from pandas in a future version. Use pandas.concat instead.\n",
      "  conteo = conteo.append(fila, ignore_index=True)\n",
      "C:\\Users\\User\\AppData\\Local\\Temp\\ipykernel_4628\\2590787309.py:34: FutureWarning: The frame.append method is deprecated and will be removed from pandas in a future version. Use pandas.concat instead.\n",
      "  conteo = conteo.append(fila, ignore_index=True)\n",
      "C:\\Users\\User\\AppData\\Local\\Temp\\ipykernel_4628\\2590787309.py:34: FutureWarning: The frame.append method is deprecated and will be removed from pandas in a future version. Use pandas.concat instead.\n",
      "  conteo = conteo.append(fila, ignore_index=True)\n",
      "C:\\Users\\User\\AppData\\Local\\Temp\\ipykernel_4628\\2590787309.py:34: FutureWarning: The frame.append method is deprecated and will be removed from pandas in a future version. Use pandas.concat instead.\n",
      "  conteo = conteo.append(fila, ignore_index=True)\n",
      "C:\\Users\\User\\AppData\\Local\\Temp\\ipykernel_4628\\2590787309.py:34: FutureWarning: The frame.append method is deprecated and will be removed from pandas in a future version. Use pandas.concat instead.\n",
      "  conteo = conteo.append(fila, ignore_index=True)\n",
      "C:\\Users\\User\\AppData\\Local\\Temp\\ipykernel_4628\\2590787309.py:34: FutureWarning: The frame.append method is deprecated and will be removed from pandas in a future version. Use pandas.concat instead.\n",
      "  conteo = conteo.append(fila, ignore_index=True)\n",
      "C:\\Users\\User\\AppData\\Local\\Temp\\ipykernel_4628\\2590787309.py:34: FutureWarning: The frame.append method is deprecated and will be removed from pandas in a future version. Use pandas.concat instead.\n",
      "  conteo = conteo.append(fila, ignore_index=True)\n",
      "C:\\Users\\User\\AppData\\Local\\Temp\\ipykernel_4628\\2590787309.py:34: FutureWarning: The frame.append method is deprecated and will be removed from pandas in a future version. Use pandas.concat instead.\n",
      "  conteo = conteo.append(fila, ignore_index=True)\n",
      "C:\\Users\\User\\AppData\\Local\\Temp\\ipykernel_4628\\2590787309.py:34: FutureWarning: The frame.append method is deprecated and will be removed from pandas in a future version. Use pandas.concat instead.\n",
      "  conteo = conteo.append(fila, ignore_index=True)\n",
      "C:\\Users\\User\\AppData\\Local\\Temp\\ipykernel_4628\\2590787309.py:34: FutureWarning: The frame.append method is deprecated and will be removed from pandas in a future version. Use pandas.concat instead.\n",
      "  conteo = conteo.append(fila, ignore_index=True)\n",
      "C:\\Users\\User\\AppData\\Local\\Temp\\ipykernel_4628\\2590787309.py:34: FutureWarning: The frame.append method is deprecated and will be removed from pandas in a future version. Use pandas.concat instead.\n",
      "  conteo = conteo.append(fila, ignore_index=True)\n",
      "C:\\Users\\User\\AppData\\Local\\Temp\\ipykernel_4628\\2590787309.py:34: FutureWarning: The frame.append method is deprecated and will be removed from pandas in a future version. Use pandas.concat instead.\n",
      "  conteo = conteo.append(fila, ignore_index=True)\n",
      "C:\\Users\\User\\AppData\\Local\\Temp\\ipykernel_4628\\2590787309.py:34: FutureWarning: The frame.append method is deprecated and will be removed from pandas in a future version. Use pandas.concat instead.\n",
      "  conteo = conteo.append(fila, ignore_index=True)\n",
      "C:\\Users\\User\\AppData\\Local\\Temp\\ipykernel_4628\\2590787309.py:34: FutureWarning: The frame.append method is deprecated and will be removed from pandas in a future version. Use pandas.concat instead.\n",
      "  conteo = conteo.append(fila, ignore_index=True)\n",
      "C:\\Users\\User\\AppData\\Local\\Temp\\ipykernel_4628\\2590787309.py:34: FutureWarning: The frame.append method is deprecated and will be removed from pandas in a future version. Use pandas.concat instead.\n",
      "  conteo = conteo.append(fila, ignore_index=True)\n",
      "C:\\Users\\User\\AppData\\Local\\Temp\\ipykernel_4628\\2590787309.py:34: FutureWarning: The frame.append method is deprecated and will be removed from pandas in a future version. Use pandas.concat instead.\n",
      "  conteo = conteo.append(fila, ignore_index=True)\n",
      "C:\\Users\\User\\AppData\\Local\\Temp\\ipykernel_4628\\2590787309.py:34: FutureWarning: The frame.append method is deprecated and will be removed from pandas in a future version. Use pandas.concat instead.\n",
      "  conteo = conteo.append(fila, ignore_index=True)\n",
      "C:\\Users\\User\\AppData\\Local\\Temp\\ipykernel_4628\\2590787309.py:34: FutureWarning: The frame.append method is deprecated and will be removed from pandas in a future version. Use pandas.concat instead.\n",
      "  conteo = conteo.append(fila, ignore_index=True)\n",
      "C:\\Users\\User\\AppData\\Local\\Temp\\ipykernel_4628\\2590787309.py:34: FutureWarning: The frame.append method is deprecated and will be removed from pandas in a future version. Use pandas.concat instead.\n",
      "  conteo = conteo.append(fila, ignore_index=True)\n",
      "C:\\Users\\User\\AppData\\Local\\Temp\\ipykernel_4628\\2590787309.py:34: FutureWarning: The frame.append method is deprecated and will be removed from pandas in a future version. Use pandas.concat instead.\n",
      "  conteo = conteo.append(fila, ignore_index=True)\n",
      "C:\\Users\\User\\AppData\\Local\\Temp\\ipykernel_4628\\2590787309.py:34: FutureWarning: The frame.append method is deprecated and will be removed from pandas in a future version. Use pandas.concat instead.\n",
      "  conteo = conteo.append(fila, ignore_index=True)\n",
      "C:\\Users\\User\\AppData\\Local\\Temp\\ipykernel_4628\\2590787309.py:34: FutureWarning: The frame.append method is deprecated and will be removed from pandas in a future version. Use pandas.concat instead.\n",
      "  conteo = conteo.append(fila, ignore_index=True)\n",
      "C:\\Users\\User\\AppData\\Local\\Temp\\ipykernel_4628\\2590787309.py:34: FutureWarning: The frame.append method is deprecated and will be removed from pandas in a future version. Use pandas.concat instead.\n",
      "  conteo = conteo.append(fila, ignore_index=True)\n",
      "C:\\Users\\User\\AppData\\Local\\Temp\\ipykernel_4628\\2590787309.py:34: FutureWarning: The frame.append method is deprecated and will be removed from pandas in a future version. Use pandas.concat instead.\n",
      "  conteo = conteo.append(fila, ignore_index=True)\n",
      "C:\\Users\\User\\AppData\\Local\\Temp\\ipykernel_4628\\2590787309.py:34: FutureWarning: The frame.append method is deprecated and will be removed from pandas in a future version. Use pandas.concat instead.\n",
      "  conteo = conteo.append(fila, ignore_index=True)\n",
      "C:\\Users\\User\\AppData\\Local\\Temp\\ipykernel_4628\\2590787309.py:34: FutureWarning: The frame.append method is deprecated and will be removed from pandas in a future version. Use pandas.concat instead.\n",
      "  conteo = conteo.append(fila, ignore_index=True)\n",
      "C:\\Users\\User\\AppData\\Local\\Temp\\ipykernel_4628\\2590787309.py:34: FutureWarning: The frame.append method is deprecated and will be removed from pandas in a future version. Use pandas.concat instead.\n",
      "  conteo = conteo.append(fila, ignore_index=True)\n",
      "C:\\Users\\User\\AppData\\Local\\Temp\\ipykernel_4628\\2590787309.py:34: FutureWarning: The frame.append method is deprecated and will be removed from pandas in a future version. Use pandas.concat instead.\n",
      "  conteo = conteo.append(fila, ignore_index=True)\n",
      "C:\\Users\\User\\AppData\\Local\\Temp\\ipykernel_4628\\2590787309.py:34: FutureWarning: The frame.append method is deprecated and will be removed from pandas in a future version. Use pandas.concat instead.\n",
      "  conteo = conteo.append(fila, ignore_index=True)\n",
      "C:\\Users\\User\\AppData\\Local\\Temp\\ipykernel_4628\\2590787309.py:34: FutureWarning: The frame.append method is deprecated and will be removed from pandas in a future version. Use pandas.concat instead.\n",
      "  conteo = conteo.append(fila, ignore_index=True)\n",
      "C:\\Users\\User\\AppData\\Local\\Temp\\ipykernel_4628\\2590787309.py:34: FutureWarning: The frame.append method is deprecated and will be removed from pandas in a future version. Use pandas.concat instead.\n",
      "  conteo = conteo.append(fila, ignore_index=True)\n",
      "C:\\Users\\User\\AppData\\Local\\Temp\\ipykernel_4628\\2590787309.py:34: FutureWarning: The frame.append method is deprecated and will be removed from pandas in a future version. Use pandas.concat instead.\n",
      "  conteo = conteo.append(fila, ignore_index=True)\n",
      "C:\\Users\\User\\AppData\\Local\\Temp\\ipykernel_4628\\2590787309.py:34: FutureWarning: The frame.append method is deprecated and will be removed from pandas in a future version. Use pandas.concat instead.\n",
      "  conteo = conteo.append(fila, ignore_index=True)\n",
      "C:\\Users\\User\\AppData\\Local\\Temp\\ipykernel_4628\\2590787309.py:34: FutureWarning: The frame.append method is deprecated and will be removed from pandas in a future version. Use pandas.concat instead.\n",
      "  conteo = conteo.append(fila, ignore_index=True)\n",
      "C:\\Users\\User\\AppData\\Local\\Temp\\ipykernel_4628\\2590787309.py:34: FutureWarning: The frame.append method is deprecated and will be removed from pandas in a future version. Use pandas.concat instead.\n",
      "  conteo = conteo.append(fila, ignore_index=True)\n",
      "C:\\Users\\User\\AppData\\Local\\Temp\\ipykernel_4628\\2590787309.py:34: FutureWarning: The frame.append method is deprecated and will be removed from pandas in a future version. Use pandas.concat instead.\n",
      "  conteo = conteo.append(fila, ignore_index=True)\n",
      "C:\\Users\\User\\AppData\\Local\\Temp\\ipykernel_4628\\2590787309.py:34: FutureWarning: The frame.append method is deprecated and will be removed from pandas in a future version. Use pandas.concat instead.\n",
      "  conteo = conteo.append(fila, ignore_index=True)\n",
      "C:\\Users\\User\\AppData\\Local\\Temp\\ipykernel_4628\\2590787309.py:34: FutureWarning: The frame.append method is deprecated and will be removed from pandas in a future version. Use pandas.concat instead.\n",
      "  conteo = conteo.append(fila, ignore_index=True)\n",
      "C:\\Users\\User\\AppData\\Local\\Temp\\ipykernel_4628\\2590787309.py:34: FutureWarning: The frame.append method is deprecated and will be removed from pandas in a future version. Use pandas.concat instead.\n",
      "  conteo = conteo.append(fila, ignore_index=True)\n",
      "C:\\Users\\User\\AppData\\Local\\Temp\\ipykernel_4628\\2590787309.py:34: FutureWarning: The frame.append method is deprecated and will be removed from pandas in a future version. Use pandas.concat instead.\n",
      "  conteo = conteo.append(fila, ignore_index=True)\n",
      "C:\\Users\\User\\AppData\\Local\\Temp\\ipykernel_4628\\2590787309.py:34: FutureWarning: The frame.append method is deprecated and will be removed from pandas in a future version. Use pandas.concat instead.\n",
      "  conteo = conteo.append(fila, ignore_index=True)\n",
      "C:\\Users\\User\\AppData\\Local\\Temp\\ipykernel_4628\\2590787309.py:34: FutureWarning: The frame.append method is deprecated and will be removed from pandas in a future version. Use pandas.concat instead.\n",
      "  conteo = conteo.append(fila, ignore_index=True)\n",
      "C:\\Users\\User\\AppData\\Local\\Temp\\ipykernel_4628\\2590787309.py:34: FutureWarning: The frame.append method is deprecated and will be removed from pandas in a future version. Use pandas.concat instead.\n",
      "  conteo = conteo.append(fila, ignore_index=True)\n",
      "C:\\Users\\User\\AppData\\Local\\Temp\\ipykernel_4628\\2590787309.py:34: FutureWarning: The frame.append method is deprecated and will be removed from pandas in a future version. Use pandas.concat instead.\n",
      "  conteo = conteo.append(fila, ignore_index=True)\n",
      "C:\\Users\\User\\AppData\\Local\\Temp\\ipykernel_4628\\2590787309.py:34: FutureWarning: The frame.append method is deprecated and will be removed from pandas in a future version. Use pandas.concat instead.\n",
      "  conteo = conteo.append(fila, ignore_index=True)\n",
      "C:\\Users\\User\\AppData\\Local\\Temp\\ipykernel_4628\\2590787309.py:34: FutureWarning: The frame.append method is deprecated and will be removed from pandas in a future version. Use pandas.concat instead.\n",
      "  conteo = conteo.append(fila, ignore_index=True)\n",
      "C:\\Users\\User\\AppData\\Local\\Temp\\ipykernel_4628\\2590787309.py:34: FutureWarning: The frame.append method is deprecated and will be removed from pandas in a future version. Use pandas.concat instead.\n",
      "  conteo = conteo.append(fila, ignore_index=True)\n",
      "C:\\Users\\User\\AppData\\Local\\Temp\\ipykernel_4628\\2590787309.py:34: FutureWarning: The frame.append method is deprecated and will be removed from pandas in a future version. Use pandas.concat instead.\n",
      "  conteo = conteo.append(fila, ignore_index=True)\n",
      "C:\\Users\\User\\AppData\\Local\\Temp\\ipykernel_4628\\2590787309.py:34: FutureWarning: The frame.append method is deprecated and will be removed from pandas in a future version. Use pandas.concat instead.\n",
      "  conteo = conteo.append(fila, ignore_index=True)\n",
      "C:\\Users\\User\\AppData\\Local\\Temp\\ipykernel_4628\\2590787309.py:34: FutureWarning: The frame.append method is deprecated and will be removed from pandas in a future version. Use pandas.concat instead.\n",
      "  conteo = conteo.append(fila, ignore_index=True)\n",
      "C:\\Users\\User\\AppData\\Local\\Temp\\ipykernel_4628\\2590787309.py:34: FutureWarning: The frame.append method is deprecated and will be removed from pandas in a future version. Use pandas.concat instead.\n",
      "  conteo = conteo.append(fila, ignore_index=True)\n",
      "C:\\Users\\User\\AppData\\Local\\Temp\\ipykernel_4628\\2590787309.py:34: FutureWarning: The frame.append method is deprecated and will be removed from pandas in a future version. Use pandas.concat instead.\n",
      "  conteo = conteo.append(fila, ignore_index=True)\n",
      "C:\\Users\\User\\AppData\\Local\\Temp\\ipykernel_4628\\2590787309.py:34: FutureWarning: The frame.append method is deprecated and will be removed from pandas in a future version. Use pandas.concat instead.\n",
      "  conteo = conteo.append(fila, ignore_index=True)\n",
      "C:\\Users\\User\\AppData\\Local\\Temp\\ipykernel_4628\\2590787309.py:34: FutureWarning: The frame.append method is deprecated and will be removed from pandas in a future version. Use pandas.concat instead.\n",
      "  conteo = conteo.append(fila, ignore_index=True)\n",
      "C:\\Users\\User\\AppData\\Local\\Temp\\ipykernel_4628\\2590787309.py:34: FutureWarning: The frame.append method is deprecated and will be removed from pandas in a future version. Use pandas.concat instead.\n",
      "  conteo = conteo.append(fila, ignore_index=True)\n",
      "C:\\Users\\User\\AppData\\Local\\Temp\\ipykernel_4628\\2590787309.py:34: FutureWarning: The frame.append method is deprecated and will be removed from pandas in a future version. Use pandas.concat instead.\n",
      "  conteo = conteo.append(fila, ignore_index=True)\n",
      "C:\\Users\\User\\AppData\\Local\\Temp\\ipykernel_4628\\2590787309.py:34: FutureWarning: The frame.append method is deprecated and will be removed from pandas in a future version. Use pandas.concat instead.\n",
      "  conteo = conteo.append(fila, ignore_index=True)\n",
      "C:\\Users\\User\\AppData\\Local\\Temp\\ipykernel_4628\\2590787309.py:34: FutureWarning: The frame.append method is deprecated and will be removed from pandas in a future version. Use pandas.concat instead.\n",
      "  conteo = conteo.append(fila, ignore_index=True)\n",
      "C:\\Users\\User\\AppData\\Local\\Temp\\ipykernel_4628\\2590787309.py:34: FutureWarning: The frame.append method is deprecated and will be removed from pandas in a future version. Use pandas.concat instead.\n",
      "  conteo = conteo.append(fila, ignore_index=True)\n",
      "C:\\Users\\User\\AppData\\Local\\Temp\\ipykernel_4628\\2590787309.py:34: FutureWarning: The frame.append method is deprecated and will be removed from pandas in a future version. Use pandas.concat instead.\n",
      "  conteo = conteo.append(fila, ignore_index=True)\n",
      "C:\\Users\\User\\AppData\\Local\\Temp\\ipykernel_4628\\2590787309.py:34: FutureWarning: The frame.append method is deprecated and will be removed from pandas in a future version. Use pandas.concat instead.\n",
      "  conteo = conteo.append(fila, ignore_index=True)\n",
      "C:\\Users\\User\\AppData\\Local\\Temp\\ipykernel_4628\\2590787309.py:34: FutureWarning: The frame.append method is deprecated and will be removed from pandas in a future version. Use pandas.concat instead.\n",
      "  conteo = conteo.append(fila, ignore_index=True)\n",
      "C:\\Users\\User\\AppData\\Local\\Temp\\ipykernel_4628\\2590787309.py:34: FutureWarning: The frame.append method is deprecated and will be removed from pandas in a future version. Use pandas.concat instead.\n",
      "  conteo = conteo.append(fila, ignore_index=True)\n",
      "C:\\Users\\User\\AppData\\Local\\Temp\\ipykernel_4628\\2590787309.py:34: FutureWarning: The frame.append method is deprecated and will be removed from pandas in a future version. Use pandas.concat instead.\n",
      "  conteo = conteo.append(fila, ignore_index=True)\n",
      "C:\\Users\\User\\AppData\\Local\\Temp\\ipykernel_4628\\2590787309.py:34: FutureWarning: The frame.append method is deprecated and will be removed from pandas in a future version. Use pandas.concat instead.\n",
      "  conteo = conteo.append(fila, ignore_index=True)\n",
      "C:\\Users\\User\\AppData\\Local\\Temp\\ipykernel_4628\\2590787309.py:34: FutureWarning: The frame.append method is deprecated and will be removed from pandas in a future version. Use pandas.concat instead.\n",
      "  conteo = conteo.append(fila, ignore_index=True)\n",
      "C:\\Users\\User\\AppData\\Local\\Temp\\ipykernel_4628\\2590787309.py:34: FutureWarning: The frame.append method is deprecated and will be removed from pandas in a future version. Use pandas.concat instead.\n",
      "  conteo = conteo.append(fila, ignore_index=True)\n",
      "C:\\Users\\User\\AppData\\Local\\Temp\\ipykernel_4628\\2590787309.py:34: FutureWarning: The frame.append method is deprecated and will be removed from pandas in a future version. Use pandas.concat instead.\n",
      "  conteo = conteo.append(fila, ignore_index=True)\n",
      "C:\\Users\\User\\AppData\\Local\\Temp\\ipykernel_4628\\2590787309.py:34: FutureWarning: The frame.append method is deprecated and will be removed from pandas in a future version. Use pandas.concat instead.\n",
      "  conteo = conteo.append(fila, ignore_index=True)\n",
      "C:\\Users\\User\\AppData\\Local\\Temp\\ipykernel_4628\\2590787309.py:34: FutureWarning: The frame.append method is deprecated and will be removed from pandas in a future version. Use pandas.concat instead.\n",
      "  conteo = conteo.append(fila, ignore_index=True)\n",
      "C:\\Users\\User\\AppData\\Local\\Temp\\ipykernel_4628\\2590787309.py:34: FutureWarning: The frame.append method is deprecated and will be removed from pandas in a future version. Use pandas.concat instead.\n",
      "  conteo = conteo.append(fila, ignore_index=True)\n",
      "C:\\Users\\User\\AppData\\Local\\Temp\\ipykernel_4628\\2590787309.py:34: FutureWarning: The frame.append method is deprecated and will be removed from pandas in a future version. Use pandas.concat instead.\n",
      "  conteo = conteo.append(fila, ignore_index=True)\n",
      "C:\\Users\\User\\AppData\\Local\\Temp\\ipykernel_4628\\2590787309.py:34: FutureWarning: The frame.append method is deprecated and will be removed from pandas in a future version. Use pandas.concat instead.\n",
      "  conteo = conteo.append(fila, ignore_index=True)\n",
      "C:\\Users\\User\\AppData\\Local\\Temp\\ipykernel_4628\\2590787309.py:34: FutureWarning: The frame.append method is deprecated and will be removed from pandas in a future version. Use pandas.concat instead.\n",
      "  conteo = conteo.append(fila, ignore_index=True)\n",
      "C:\\Users\\User\\AppData\\Local\\Temp\\ipykernel_4628\\2590787309.py:34: FutureWarning: The frame.append method is deprecated and will be removed from pandas in a future version. Use pandas.concat instead.\n",
      "  conteo = conteo.append(fila, ignore_index=True)\n",
      "C:\\Users\\User\\AppData\\Local\\Temp\\ipykernel_4628\\2590787309.py:34: FutureWarning: The frame.append method is deprecated and will be removed from pandas in a future version. Use pandas.concat instead.\n",
      "  conteo = conteo.append(fila, ignore_index=True)\n",
      "C:\\Users\\User\\AppData\\Local\\Temp\\ipykernel_4628\\2590787309.py:34: FutureWarning: The frame.append method is deprecated and will be removed from pandas in a future version. Use pandas.concat instead.\n",
      "  conteo = conteo.append(fila, ignore_index=True)\n",
      "C:\\Users\\User\\AppData\\Local\\Temp\\ipykernel_4628\\2590787309.py:34: FutureWarning: The frame.append method is deprecated and will be removed from pandas in a future version. Use pandas.concat instead.\n",
      "  conteo = conteo.append(fila, ignore_index=True)\n",
      "C:\\Users\\User\\AppData\\Local\\Temp\\ipykernel_4628\\2590787309.py:34: FutureWarning: The frame.append method is deprecated and will be removed from pandas in a future version. Use pandas.concat instead.\n",
      "  conteo = conteo.append(fila, ignore_index=True)\n",
      "C:\\Users\\User\\AppData\\Local\\Temp\\ipykernel_4628\\2590787309.py:34: FutureWarning: The frame.append method is deprecated and will be removed from pandas in a future version. Use pandas.concat instead.\n",
      "  conteo = conteo.append(fila, ignore_index=True)\n",
      "C:\\Users\\User\\AppData\\Local\\Temp\\ipykernel_4628\\2590787309.py:34: FutureWarning: The frame.append method is deprecated and will be removed from pandas in a future version. Use pandas.concat instead.\n",
      "  conteo = conteo.append(fila, ignore_index=True)\n",
      "C:\\Users\\User\\AppData\\Local\\Temp\\ipykernel_4628\\2590787309.py:34: FutureWarning: The frame.append method is deprecated and will be removed from pandas in a future version. Use pandas.concat instead.\n",
      "  conteo = conteo.append(fila, ignore_index=True)\n",
      "C:\\Users\\User\\AppData\\Local\\Temp\\ipykernel_4628\\2590787309.py:34: FutureWarning: The frame.append method is deprecated and will be removed from pandas in a future version. Use pandas.concat instead.\n",
      "  conteo = conteo.append(fila, ignore_index=True)\n",
      "C:\\Users\\User\\AppData\\Local\\Temp\\ipykernel_4628\\2590787309.py:34: FutureWarning: The frame.append method is deprecated and will be removed from pandas in a future version. Use pandas.concat instead.\n",
      "  conteo = conteo.append(fila, ignore_index=True)\n",
      "C:\\Users\\User\\AppData\\Local\\Temp\\ipykernel_4628\\2590787309.py:34: FutureWarning: The frame.append method is deprecated and will be removed from pandas in a future version. Use pandas.concat instead.\n",
      "  conteo = conteo.append(fila, ignore_index=True)\n",
      "C:\\Users\\User\\AppData\\Local\\Temp\\ipykernel_4628\\2590787309.py:34: FutureWarning: The frame.append method is deprecated and will be removed from pandas in a future version. Use pandas.concat instead.\n",
      "  conteo = conteo.append(fila, ignore_index=True)\n",
      "C:\\Users\\User\\AppData\\Local\\Temp\\ipykernel_4628\\2590787309.py:34: FutureWarning: The frame.append method is deprecated and will be removed from pandas in a future version. Use pandas.concat instead.\n",
      "  conteo = conteo.append(fila, ignore_index=True)\n",
      "C:\\Users\\User\\AppData\\Local\\Temp\\ipykernel_4628\\2590787309.py:34: FutureWarning: The frame.append method is deprecated and will be removed from pandas in a future version. Use pandas.concat instead.\n",
      "  conteo = conteo.append(fila, ignore_index=True)\n",
      "C:\\Users\\User\\AppData\\Local\\Temp\\ipykernel_4628\\2590787309.py:34: FutureWarning: The frame.append method is deprecated and will be removed from pandas in a future version. Use pandas.concat instead.\n",
      "  conteo = conteo.append(fila, ignore_index=True)\n",
      "C:\\Users\\User\\AppData\\Local\\Temp\\ipykernel_4628\\2590787309.py:34: FutureWarning: The frame.append method is deprecated and will be removed from pandas in a future version. Use pandas.concat instead.\n",
      "  conteo = conteo.append(fila, ignore_index=True)\n",
      "C:\\Users\\User\\AppData\\Local\\Temp\\ipykernel_4628\\2590787309.py:34: FutureWarning: The frame.append method is deprecated and will be removed from pandas in a future version. Use pandas.concat instead.\n",
      "  conteo = conteo.append(fila, ignore_index=True)\n",
      "C:\\Users\\User\\AppData\\Local\\Temp\\ipykernel_4628\\2590787309.py:34: FutureWarning: The frame.append method is deprecated and will be removed from pandas in a future version. Use pandas.concat instead.\n",
      "  conteo = conteo.append(fila, ignore_index=True)\n",
      "C:\\Users\\User\\AppData\\Local\\Temp\\ipykernel_4628\\2590787309.py:34: FutureWarning: The frame.append method is deprecated and will be removed from pandas in a future version. Use pandas.concat instead.\n",
      "  conteo = conteo.append(fila, ignore_index=True)\n",
      "C:\\Users\\User\\AppData\\Local\\Temp\\ipykernel_4628\\2590787309.py:34: FutureWarning: The frame.append method is deprecated and will be removed from pandas in a future version. Use pandas.concat instead.\n",
      "  conteo = conteo.append(fila, ignore_index=True)\n",
      "C:\\Users\\User\\AppData\\Local\\Temp\\ipykernel_4628\\2590787309.py:34: FutureWarning: The frame.append method is deprecated and will be removed from pandas in a future version. Use pandas.concat instead.\n",
      "  conteo = conteo.append(fila, ignore_index=True)\n",
      "C:\\Users\\User\\AppData\\Local\\Temp\\ipykernel_4628\\2590787309.py:34: FutureWarning: The frame.append method is deprecated and will be removed from pandas in a future version. Use pandas.concat instead.\n",
      "  conteo = conteo.append(fila, ignore_index=True)\n",
      "C:\\Users\\User\\AppData\\Local\\Temp\\ipykernel_4628\\2590787309.py:34: FutureWarning: The frame.append method is deprecated and will be removed from pandas in a future version. Use pandas.concat instead.\n",
      "  conteo = conteo.append(fila, ignore_index=True)\n",
      "C:\\Users\\User\\AppData\\Local\\Temp\\ipykernel_4628\\2590787309.py:34: FutureWarning: The frame.append method is deprecated and will be removed from pandas in a future version. Use pandas.concat instead.\n",
      "  conteo = conteo.append(fila, ignore_index=True)\n",
      "C:\\Users\\User\\AppData\\Local\\Temp\\ipykernel_4628\\2590787309.py:34: FutureWarning: The frame.append method is deprecated and will be removed from pandas in a future version. Use pandas.concat instead.\n",
      "  conteo = conteo.append(fila, ignore_index=True)\n",
      "C:\\Users\\User\\AppData\\Local\\Temp\\ipykernel_4628\\2590787309.py:34: FutureWarning: The frame.append method is deprecated and will be removed from pandas in a future version. Use pandas.concat instead.\n",
      "  conteo = conteo.append(fila, ignore_index=True)\n",
      "C:\\Users\\User\\AppData\\Local\\Temp\\ipykernel_4628\\2590787309.py:34: FutureWarning: The frame.append method is deprecated and will be removed from pandas in a future version. Use pandas.concat instead.\n",
      "  conteo = conteo.append(fila, ignore_index=True)\n",
      "C:\\Users\\User\\AppData\\Local\\Temp\\ipykernel_4628\\2590787309.py:34: FutureWarning: The frame.append method is deprecated and will be removed from pandas in a future version. Use pandas.concat instead.\n",
      "  conteo = conteo.append(fila, ignore_index=True)\n",
      "C:\\Users\\User\\AppData\\Local\\Temp\\ipykernel_4628\\2590787309.py:34: FutureWarning: The frame.append method is deprecated and will be removed from pandas in a future version. Use pandas.concat instead.\n",
      "  conteo = conteo.append(fila, ignore_index=True)\n",
      "C:\\Users\\User\\AppData\\Local\\Temp\\ipykernel_4628\\2590787309.py:34: FutureWarning: The frame.append method is deprecated and will be removed from pandas in a future version. Use pandas.concat instead.\n",
      "  conteo = conteo.append(fila, ignore_index=True)\n",
      "C:\\Users\\User\\AppData\\Local\\Temp\\ipykernel_4628\\2590787309.py:34: FutureWarning: The frame.append method is deprecated and will be removed from pandas in a future version. Use pandas.concat instead.\n",
      "  conteo = conteo.append(fila, ignore_index=True)\n",
      "C:\\Users\\User\\AppData\\Local\\Temp\\ipykernel_4628\\2590787309.py:34: FutureWarning: The frame.append method is deprecated and will be removed from pandas in a future version. Use pandas.concat instead.\n",
      "  conteo = conteo.append(fila, ignore_index=True)\n",
      "C:\\Users\\User\\AppData\\Local\\Temp\\ipykernel_4628\\2590787309.py:34: FutureWarning: The frame.append method is deprecated and will be removed from pandas in a future version. Use pandas.concat instead.\n",
      "  conteo = conteo.append(fila, ignore_index=True)\n",
      "C:\\Users\\User\\AppData\\Local\\Temp\\ipykernel_4628\\2590787309.py:34: FutureWarning: The frame.append method is deprecated and will be removed from pandas in a future version. Use pandas.concat instead.\n",
      "  conteo = conteo.append(fila, ignore_index=True)\n",
      "C:\\Users\\User\\AppData\\Local\\Temp\\ipykernel_4628\\2590787309.py:34: FutureWarning: The frame.append method is deprecated and will be removed from pandas in a future version. Use pandas.concat instead.\n",
      "  conteo = conteo.append(fila, ignore_index=True)\n",
      "C:\\Users\\User\\AppData\\Local\\Temp\\ipykernel_4628\\2590787309.py:34: FutureWarning: The frame.append method is deprecated and will be removed from pandas in a future version. Use pandas.concat instead.\n",
      "  conteo = conteo.append(fila, ignore_index=True)\n",
      "C:\\Users\\User\\AppData\\Local\\Temp\\ipykernel_4628\\2590787309.py:34: FutureWarning: The frame.append method is deprecated and will be removed from pandas in a future version. Use pandas.concat instead.\n",
      "  conteo = conteo.append(fila, ignore_index=True)\n",
      "C:\\Users\\User\\AppData\\Local\\Temp\\ipykernel_4628\\2590787309.py:34: FutureWarning: The frame.append method is deprecated and will be removed from pandas in a future version. Use pandas.concat instead.\n",
      "  conteo = conteo.append(fila, ignore_index=True)\n",
      "C:\\Users\\User\\AppData\\Local\\Temp\\ipykernel_4628\\2590787309.py:34: FutureWarning: The frame.append method is deprecated and will be removed from pandas in a future version. Use pandas.concat instead.\n",
      "  conteo = conteo.append(fila, ignore_index=True)\n",
      "C:\\Users\\User\\AppData\\Local\\Temp\\ipykernel_4628\\2590787309.py:34: FutureWarning: The frame.append method is deprecated and will be removed from pandas in a future version. Use pandas.concat instead.\n",
      "  conteo = conteo.append(fila, ignore_index=True)\n",
      "C:\\Users\\User\\AppData\\Local\\Temp\\ipykernel_4628\\2590787309.py:34: FutureWarning: The frame.append method is deprecated and will be removed from pandas in a future version. Use pandas.concat instead.\n",
      "  conteo = conteo.append(fila, ignore_index=True)\n",
      "C:\\Users\\User\\AppData\\Local\\Temp\\ipykernel_4628\\2590787309.py:34: FutureWarning: The frame.append method is deprecated and will be removed from pandas in a future version. Use pandas.concat instead.\n",
      "  conteo = conteo.append(fila, ignore_index=True)\n",
      "C:\\Users\\User\\AppData\\Local\\Temp\\ipykernel_4628\\2590787309.py:34: FutureWarning: The frame.append method is deprecated and will be removed from pandas in a future version. Use pandas.concat instead.\n",
      "  conteo = conteo.append(fila, ignore_index=True)\n",
      "C:\\Users\\User\\AppData\\Local\\Temp\\ipykernel_4628\\2590787309.py:34: FutureWarning: The frame.append method is deprecated and will be removed from pandas in a future version. Use pandas.concat instead.\n",
      "  conteo = conteo.append(fila, ignore_index=True)\n",
      "C:\\Users\\User\\AppData\\Local\\Temp\\ipykernel_4628\\2590787309.py:34: FutureWarning: The frame.append method is deprecated and will be removed from pandas in a future version. Use pandas.concat instead.\n",
      "  conteo = conteo.append(fila, ignore_index=True)\n",
      "C:\\Users\\User\\AppData\\Local\\Temp\\ipykernel_4628\\2590787309.py:34: FutureWarning: The frame.append method is deprecated and will be removed from pandas in a future version. Use pandas.concat instead.\n",
      "  conteo = conteo.append(fila, ignore_index=True)\n",
      "C:\\Users\\User\\AppData\\Local\\Temp\\ipykernel_4628\\2590787309.py:34: FutureWarning: The frame.append method is deprecated and will be removed from pandas in a future version. Use pandas.concat instead.\n",
      "  conteo = conteo.append(fila, ignore_index=True)\n",
      "C:\\Users\\User\\AppData\\Local\\Temp\\ipykernel_4628\\2590787309.py:34: FutureWarning: The frame.append method is deprecated and will be removed from pandas in a future version. Use pandas.concat instead.\n",
      "  conteo = conteo.append(fila, ignore_index=True)\n",
      "C:\\Users\\User\\AppData\\Local\\Temp\\ipykernel_4628\\2590787309.py:34: FutureWarning: The frame.append method is deprecated and will be removed from pandas in a future version. Use pandas.concat instead.\n",
      "  conteo = conteo.append(fila, ignore_index=True)\n",
      "C:\\Users\\User\\AppData\\Local\\Temp\\ipykernel_4628\\2590787309.py:34: FutureWarning: The frame.append method is deprecated and will be removed from pandas in a future version. Use pandas.concat instead.\n",
      "  conteo = conteo.append(fila, ignore_index=True)\n",
      "C:\\Users\\User\\AppData\\Local\\Temp\\ipykernel_4628\\2590787309.py:34: FutureWarning: The frame.append method is deprecated and will be removed from pandas in a future version. Use pandas.concat instead.\n",
      "  conteo = conteo.append(fila, ignore_index=True)\n",
      "C:\\Users\\User\\AppData\\Local\\Temp\\ipykernel_4628\\2590787309.py:34: FutureWarning: The frame.append method is deprecated and will be removed from pandas in a future version. Use pandas.concat instead.\n",
      "  conteo = conteo.append(fila, ignore_index=True)\n",
      "C:\\Users\\User\\AppData\\Local\\Temp\\ipykernel_4628\\2590787309.py:34: FutureWarning: The frame.append method is deprecated and will be removed from pandas in a future version. Use pandas.concat instead.\n",
      "  conteo = conteo.append(fila, ignore_index=True)\n",
      "C:\\Users\\User\\AppData\\Local\\Temp\\ipykernel_4628\\2590787309.py:34: FutureWarning: The frame.append method is deprecated and will be removed from pandas in a future version. Use pandas.concat instead.\n",
      "  conteo = conteo.append(fila, ignore_index=True)\n",
      "C:\\Users\\User\\AppData\\Local\\Temp\\ipykernel_4628\\2590787309.py:34: FutureWarning: The frame.append method is deprecated and will be removed from pandas in a future version. Use pandas.concat instead.\n",
      "  conteo = conteo.append(fila, ignore_index=True)\n",
      "C:\\Users\\User\\AppData\\Local\\Temp\\ipykernel_4628\\2590787309.py:34: FutureWarning: The frame.append method is deprecated and will be removed from pandas in a future version. Use pandas.concat instead.\n",
      "  conteo = conteo.append(fila, ignore_index=True)\n",
      "C:\\Users\\User\\AppData\\Local\\Temp\\ipykernel_4628\\2590787309.py:34: FutureWarning: The frame.append method is deprecated and will be removed from pandas in a future version. Use pandas.concat instead.\n",
      "  conteo = conteo.append(fila, ignore_index=True)\n",
      "C:\\Users\\User\\AppData\\Local\\Temp\\ipykernel_4628\\2590787309.py:34: FutureWarning: The frame.append method is deprecated and will be removed from pandas in a future version. Use pandas.concat instead.\n",
      "  conteo = conteo.append(fila, ignore_index=True)\n",
      "C:\\Users\\User\\AppData\\Local\\Temp\\ipykernel_4628\\2590787309.py:34: FutureWarning: The frame.append method is deprecated and will be removed from pandas in a future version. Use pandas.concat instead.\n",
      "  conteo = conteo.append(fila, ignore_index=True)\n",
      "C:\\Users\\User\\AppData\\Local\\Temp\\ipykernel_4628\\2590787309.py:34: FutureWarning: The frame.append method is deprecated and will be removed from pandas in a future version. Use pandas.concat instead.\n",
      "  conteo = conteo.append(fila, ignore_index=True)\n",
      "C:\\Users\\User\\AppData\\Local\\Temp\\ipykernel_4628\\2590787309.py:34: FutureWarning: The frame.append method is deprecated and will be removed from pandas in a future version. Use pandas.concat instead.\n",
      "  conteo = conteo.append(fila, ignore_index=True)\n",
      "C:\\Users\\User\\AppData\\Local\\Temp\\ipykernel_4628\\2590787309.py:34: FutureWarning: The frame.append method is deprecated and will be removed from pandas in a future version. Use pandas.concat instead.\n",
      "  conteo = conteo.append(fila, ignore_index=True)\n",
      "C:\\Users\\User\\AppData\\Local\\Temp\\ipykernel_4628\\2590787309.py:34: FutureWarning: The frame.append method is deprecated and will be removed from pandas in a future version. Use pandas.concat instead.\n",
      "  conteo = conteo.append(fila, ignore_index=True)\n",
      "C:\\Users\\User\\AppData\\Local\\Temp\\ipykernel_4628\\2590787309.py:34: FutureWarning: The frame.append method is deprecated and will be removed from pandas in a future version. Use pandas.concat instead.\n",
      "  conteo = conteo.append(fila, ignore_index=True)\n",
      "C:\\Users\\User\\AppData\\Local\\Temp\\ipykernel_4628\\2590787309.py:34: FutureWarning: The frame.append method is deprecated and will be removed from pandas in a future version. Use pandas.concat instead.\n",
      "  conteo = conteo.append(fila, ignore_index=True)\n",
      "C:\\Users\\User\\AppData\\Local\\Temp\\ipykernel_4628\\2590787309.py:34: FutureWarning: The frame.append method is deprecated and will be removed from pandas in a future version. Use pandas.concat instead.\n",
      "  conteo = conteo.append(fila, ignore_index=True)\n",
      "C:\\Users\\User\\AppData\\Local\\Temp\\ipykernel_4628\\2590787309.py:34: FutureWarning: The frame.append method is deprecated and will be removed from pandas in a future version. Use pandas.concat instead.\n",
      "  conteo = conteo.append(fila, ignore_index=True)\n",
      "C:\\Users\\User\\AppData\\Local\\Temp\\ipykernel_4628\\2590787309.py:34: FutureWarning: The frame.append method is deprecated and will be removed from pandas in a future version. Use pandas.concat instead.\n",
      "  conteo = conteo.append(fila, ignore_index=True)\n",
      "C:\\Users\\User\\AppData\\Local\\Temp\\ipykernel_4628\\2590787309.py:34: FutureWarning: The frame.append method is deprecated and will be removed from pandas in a future version. Use pandas.concat instead.\n",
      "  conteo = conteo.append(fila, ignore_index=True)\n",
      "C:\\Users\\User\\AppData\\Local\\Temp\\ipykernel_4628\\2590787309.py:34: FutureWarning: The frame.append method is deprecated and will be removed from pandas in a future version. Use pandas.concat instead.\n",
      "  conteo = conteo.append(fila, ignore_index=True)\n",
      "C:\\Users\\User\\AppData\\Local\\Temp\\ipykernel_4628\\2590787309.py:34: FutureWarning: The frame.append method is deprecated and will be removed from pandas in a future version. Use pandas.concat instead.\n",
      "  conteo = conteo.append(fila, ignore_index=True)\n",
      "C:\\Users\\User\\AppData\\Local\\Temp\\ipykernel_4628\\2590787309.py:34: FutureWarning: The frame.append method is deprecated and will be removed from pandas in a future version. Use pandas.concat instead.\n",
      "  conteo = conteo.append(fila, ignore_index=True)\n",
      "C:\\Users\\User\\AppData\\Local\\Temp\\ipykernel_4628\\2590787309.py:34: FutureWarning: The frame.append method is deprecated and will be removed from pandas in a future version. Use pandas.concat instead.\n",
      "  conteo = conteo.append(fila, ignore_index=True)\n",
      "C:\\Users\\User\\AppData\\Local\\Temp\\ipykernel_4628\\2590787309.py:34: FutureWarning: The frame.append method is deprecated and will be removed from pandas in a future version. Use pandas.concat instead.\n",
      "  conteo = conteo.append(fila, ignore_index=True)\n",
      "C:\\Users\\User\\AppData\\Local\\Temp\\ipykernel_4628\\2590787309.py:34: FutureWarning: The frame.append method is deprecated and will be removed from pandas in a future version. Use pandas.concat instead.\n",
      "  conteo = conteo.append(fila, ignore_index=True)\n",
      "C:\\Users\\User\\AppData\\Local\\Temp\\ipykernel_4628\\2590787309.py:34: FutureWarning: The frame.append method is deprecated and will be removed from pandas in a future version. Use pandas.concat instead.\n",
      "  conteo = conteo.append(fila, ignore_index=True)\n",
      "C:\\Users\\User\\AppData\\Local\\Temp\\ipykernel_4628\\2590787309.py:34: FutureWarning: The frame.append method is deprecated and will be removed from pandas in a future version. Use pandas.concat instead.\n",
      "  conteo = conteo.append(fila, ignore_index=True)\n",
      "C:\\Users\\User\\AppData\\Local\\Temp\\ipykernel_4628\\2590787309.py:34: FutureWarning: The frame.append method is deprecated and will be removed from pandas in a future version. Use pandas.concat instead.\n",
      "  conteo = conteo.append(fila, ignore_index=True)\n",
      "C:\\Users\\User\\AppData\\Local\\Temp\\ipykernel_4628\\2590787309.py:34: FutureWarning: The frame.append method is deprecated and will be removed from pandas in a future version. Use pandas.concat instead.\n",
      "  conteo = conteo.append(fila, ignore_index=True)\n",
      "C:\\Users\\User\\AppData\\Local\\Temp\\ipykernel_4628\\2590787309.py:34: FutureWarning: The frame.append method is deprecated and will be removed from pandas in a future version. Use pandas.concat instead.\n",
      "  conteo = conteo.append(fila, ignore_index=True)\n",
      "C:\\Users\\User\\AppData\\Local\\Temp\\ipykernel_4628\\2590787309.py:34: FutureWarning: The frame.append method is deprecated and will be removed from pandas in a future version. Use pandas.concat instead.\n",
      "  conteo = conteo.append(fila, ignore_index=True)\n",
      "C:\\Users\\User\\AppData\\Local\\Temp\\ipykernel_4628\\2590787309.py:34: FutureWarning: The frame.append method is deprecated and will be removed from pandas in a future version. Use pandas.concat instead.\n",
      "  conteo = conteo.append(fila, ignore_index=True)\n",
      "C:\\Users\\User\\AppData\\Local\\Temp\\ipykernel_4628\\2590787309.py:34: FutureWarning: The frame.append method is deprecated and will be removed from pandas in a future version. Use pandas.concat instead.\n",
      "  conteo = conteo.append(fila, ignore_index=True)\n",
      "C:\\Users\\User\\AppData\\Local\\Temp\\ipykernel_4628\\2590787309.py:34: FutureWarning: The frame.append method is deprecated and will be removed from pandas in a future version. Use pandas.concat instead.\n",
      "  conteo = conteo.append(fila, ignore_index=True)\n",
      "C:\\Users\\User\\AppData\\Local\\Temp\\ipykernel_4628\\2590787309.py:34: FutureWarning: The frame.append method is deprecated and will be removed from pandas in a future version. Use pandas.concat instead.\n",
      "  conteo = conteo.append(fila, ignore_index=True)\n",
      "C:\\Users\\User\\AppData\\Local\\Temp\\ipykernel_4628\\2590787309.py:34: FutureWarning: The frame.append method is deprecated and will be removed from pandas in a future version. Use pandas.concat instead.\n",
      "  conteo = conteo.append(fila, ignore_index=True)\n",
      "C:\\Users\\User\\AppData\\Local\\Temp\\ipykernel_4628\\2590787309.py:34: FutureWarning: The frame.append method is deprecated and will be removed from pandas in a future version. Use pandas.concat instead.\n",
      "  conteo = conteo.append(fila, ignore_index=True)\n",
      "C:\\Users\\User\\AppData\\Local\\Temp\\ipykernel_4628\\2590787309.py:34: FutureWarning: The frame.append method is deprecated and will be removed from pandas in a future version. Use pandas.concat instead.\n",
      "  conteo = conteo.append(fila, ignore_index=True)\n",
      "C:\\Users\\User\\AppData\\Local\\Temp\\ipykernel_4628\\2590787309.py:34: FutureWarning: The frame.append method is deprecated and will be removed from pandas in a future version. Use pandas.concat instead.\n",
      "  conteo = conteo.append(fila, ignore_index=True)\n",
      "C:\\Users\\User\\AppData\\Local\\Temp\\ipykernel_4628\\2590787309.py:34: FutureWarning: The frame.append method is deprecated and will be removed from pandas in a future version. Use pandas.concat instead.\n",
      "  conteo = conteo.append(fila, ignore_index=True)\n",
      "C:\\Users\\User\\AppData\\Local\\Temp\\ipykernel_4628\\2590787309.py:34: FutureWarning: The frame.append method is deprecated and will be removed from pandas in a future version. Use pandas.concat instead.\n",
      "  conteo = conteo.append(fila, ignore_index=True)\n",
      "C:\\Users\\User\\AppData\\Local\\Temp\\ipykernel_4628\\2590787309.py:34: FutureWarning: The frame.append method is deprecated and will be removed from pandas in a future version. Use pandas.concat instead.\n",
      "  conteo = conteo.append(fila, ignore_index=True)\n",
      "C:\\Users\\User\\AppData\\Local\\Temp\\ipykernel_4628\\2590787309.py:34: FutureWarning: The frame.append method is deprecated and will be removed from pandas in a future version. Use pandas.concat instead.\n",
      "  conteo = conteo.append(fila, ignore_index=True)\n",
      "C:\\Users\\User\\AppData\\Local\\Temp\\ipykernel_4628\\2590787309.py:34: FutureWarning: The frame.append method is deprecated and will be removed from pandas in a future version. Use pandas.concat instead.\n",
      "  conteo = conteo.append(fila, ignore_index=True)\n",
      "C:\\Users\\User\\AppData\\Local\\Temp\\ipykernel_4628\\2590787309.py:34: FutureWarning: The frame.append method is deprecated and will be removed from pandas in a future version. Use pandas.concat instead.\n",
      "  conteo = conteo.append(fila, ignore_index=True)\n",
      "C:\\Users\\User\\AppData\\Local\\Temp\\ipykernel_4628\\2590787309.py:34: FutureWarning: The frame.append method is deprecated and will be removed from pandas in a future version. Use pandas.concat instead.\n",
      "  conteo = conteo.append(fila, ignore_index=True)\n",
      "C:\\Users\\User\\AppData\\Local\\Temp\\ipykernel_4628\\2590787309.py:34: FutureWarning: The frame.append method is deprecated and will be removed from pandas in a future version. Use pandas.concat instead.\n",
      "  conteo = conteo.append(fila, ignore_index=True)\n",
      "C:\\Users\\User\\AppData\\Local\\Temp\\ipykernel_4628\\2590787309.py:34: FutureWarning: The frame.append method is deprecated and will be removed from pandas in a future version. Use pandas.concat instead.\n",
      "  conteo = conteo.append(fila, ignore_index=True)\n",
      "C:\\Users\\User\\AppData\\Local\\Temp\\ipykernel_4628\\2590787309.py:34: FutureWarning: The frame.append method is deprecated and will be removed from pandas in a future version. Use pandas.concat instead.\n",
      "  conteo = conteo.append(fila, ignore_index=True)\n",
      "C:\\Users\\User\\AppData\\Local\\Temp\\ipykernel_4628\\2590787309.py:34: FutureWarning: The frame.append method is deprecated and will be removed from pandas in a future version. Use pandas.concat instead.\n",
      "  conteo = conteo.append(fila, ignore_index=True)\n",
      "C:\\Users\\User\\AppData\\Local\\Temp\\ipykernel_4628\\2590787309.py:34: FutureWarning: The frame.append method is deprecated and will be removed from pandas in a future version. Use pandas.concat instead.\n",
      "  conteo = conteo.append(fila, ignore_index=True)\n",
      "C:\\Users\\User\\AppData\\Local\\Temp\\ipykernel_4628\\2590787309.py:34: FutureWarning: The frame.append method is deprecated and will be removed from pandas in a future version. Use pandas.concat instead.\n",
      "  conteo = conteo.append(fila, ignore_index=True)\n",
      "C:\\Users\\User\\AppData\\Local\\Temp\\ipykernel_4628\\2590787309.py:34: FutureWarning: The frame.append method is deprecated and will be removed from pandas in a future version. Use pandas.concat instead.\n",
      "  conteo = conteo.append(fila, ignore_index=True)\n",
      "C:\\Users\\User\\AppData\\Local\\Temp\\ipykernel_4628\\2590787309.py:34: FutureWarning: The frame.append method is deprecated and will be removed from pandas in a future version. Use pandas.concat instead.\n",
      "  conteo = conteo.append(fila, ignore_index=True)\n",
      "C:\\Users\\User\\AppData\\Local\\Temp\\ipykernel_4628\\2590787309.py:34: FutureWarning: The frame.append method is deprecated and will be removed from pandas in a future version. Use pandas.concat instead.\n",
      "  conteo = conteo.append(fila, ignore_index=True)\n",
      "C:\\Users\\User\\AppData\\Local\\Temp\\ipykernel_4628\\2590787309.py:34: FutureWarning: The frame.append method is deprecated and will be removed from pandas in a future version. Use pandas.concat instead.\n",
      "  conteo = conteo.append(fila, ignore_index=True)\n",
      "C:\\Users\\User\\AppData\\Local\\Temp\\ipykernel_4628\\2590787309.py:34: FutureWarning: The frame.append method is deprecated and will be removed from pandas in a future version. Use pandas.concat instead.\n",
      "  conteo = conteo.append(fila, ignore_index=True)\n",
      "C:\\Users\\User\\AppData\\Local\\Temp\\ipykernel_4628\\2590787309.py:34: FutureWarning: The frame.append method is deprecated and will be removed from pandas in a future version. Use pandas.concat instead.\n",
      "  conteo = conteo.append(fila, ignore_index=True)\n",
      "C:\\Users\\User\\AppData\\Local\\Temp\\ipykernel_4628\\2590787309.py:34: FutureWarning: The frame.append method is deprecated and will be removed from pandas in a future version. Use pandas.concat instead.\n",
      "  conteo = conteo.append(fila, ignore_index=True)\n",
      "C:\\Users\\User\\AppData\\Local\\Temp\\ipykernel_4628\\2590787309.py:34: FutureWarning: The frame.append method is deprecated and will be removed from pandas in a future version. Use pandas.concat instead.\n",
      "  conteo = conteo.append(fila, ignore_index=True)\n",
      "C:\\Users\\User\\AppData\\Local\\Temp\\ipykernel_4628\\2590787309.py:34: FutureWarning: The frame.append method is deprecated and will be removed from pandas in a future version. Use pandas.concat instead.\n",
      "  conteo = conteo.append(fila, ignore_index=True)\n",
      "C:\\Users\\User\\AppData\\Local\\Temp\\ipykernel_4628\\2590787309.py:34: FutureWarning: The frame.append method is deprecated and will be removed from pandas in a future version. Use pandas.concat instead.\n",
      "  conteo = conteo.append(fila, ignore_index=True)\n",
      "C:\\Users\\User\\AppData\\Local\\Temp\\ipykernel_4628\\2590787309.py:34: FutureWarning: The frame.append method is deprecated and will be removed from pandas in a future version. Use pandas.concat instead.\n",
      "  conteo = conteo.append(fila, ignore_index=True)\n",
      "C:\\Users\\User\\AppData\\Local\\Temp\\ipykernel_4628\\2590787309.py:34: FutureWarning: The frame.append method is deprecated and will be removed from pandas in a future version. Use pandas.concat instead.\n",
      "  conteo = conteo.append(fila, ignore_index=True)\n",
      "C:\\Users\\User\\AppData\\Local\\Temp\\ipykernel_4628\\2590787309.py:34: FutureWarning: The frame.append method is deprecated and will be removed from pandas in a future version. Use pandas.concat instead.\n",
      "  conteo = conteo.append(fila, ignore_index=True)\n",
      "C:\\Users\\User\\AppData\\Local\\Temp\\ipykernel_4628\\2590787309.py:34: FutureWarning: The frame.append method is deprecated and will be removed from pandas in a future version. Use pandas.concat instead.\n",
      "  conteo = conteo.append(fila, ignore_index=True)\n",
      "C:\\Users\\User\\AppData\\Local\\Temp\\ipykernel_4628\\2590787309.py:34: FutureWarning: The frame.append method is deprecated and will be removed from pandas in a future version. Use pandas.concat instead.\n",
      "  conteo = conteo.append(fila, ignore_index=True)\n",
      "C:\\Users\\User\\AppData\\Local\\Temp\\ipykernel_4628\\2590787309.py:34: FutureWarning: The frame.append method is deprecated and will be removed from pandas in a future version. Use pandas.concat instead.\n",
      "  conteo = conteo.append(fila, ignore_index=True)\n",
      "C:\\Users\\User\\AppData\\Local\\Temp\\ipykernel_4628\\2590787309.py:34: FutureWarning: The frame.append method is deprecated and will be removed from pandas in a future version. Use pandas.concat instead.\n",
      "  conteo = conteo.append(fila, ignore_index=True)\n",
      "C:\\Users\\User\\AppData\\Local\\Temp\\ipykernel_4628\\2590787309.py:34: FutureWarning: The frame.append method is deprecated and will be removed from pandas in a future version. Use pandas.concat instead.\n",
      "  conteo = conteo.append(fila, ignore_index=True)\n",
      "C:\\Users\\User\\AppData\\Local\\Temp\\ipykernel_4628\\2590787309.py:34: FutureWarning: The frame.append method is deprecated and will be removed from pandas in a future version. Use pandas.concat instead.\n",
      "  conteo = conteo.append(fila, ignore_index=True)\n",
      "C:\\Users\\User\\AppData\\Local\\Temp\\ipykernel_4628\\2590787309.py:34: FutureWarning: The frame.append method is deprecated and will be removed from pandas in a future version. Use pandas.concat instead.\n",
      "  conteo = conteo.append(fila, ignore_index=True)\n",
      "C:\\Users\\User\\AppData\\Local\\Temp\\ipykernel_4628\\2590787309.py:34: FutureWarning: The frame.append method is deprecated and will be removed from pandas in a future version. Use pandas.concat instead.\n",
      "  conteo = conteo.append(fila, ignore_index=True)\n",
      "C:\\Users\\User\\AppData\\Local\\Temp\\ipykernel_4628\\2590787309.py:34: FutureWarning: The frame.append method is deprecated and will be removed from pandas in a future version. Use pandas.concat instead.\n",
      "  conteo = conteo.append(fila, ignore_index=True)\n",
      "C:\\Users\\User\\AppData\\Local\\Temp\\ipykernel_4628\\2590787309.py:34: FutureWarning: The frame.append method is deprecated and will be removed from pandas in a future version. Use pandas.concat instead.\n",
      "  conteo = conteo.append(fila, ignore_index=True)\n",
      "C:\\Users\\User\\AppData\\Local\\Temp\\ipykernel_4628\\2590787309.py:34: FutureWarning: The frame.append method is deprecated and will be removed from pandas in a future version. Use pandas.concat instead.\n",
      "  conteo = conteo.append(fila, ignore_index=True)\n",
      "C:\\Users\\User\\AppData\\Local\\Temp\\ipykernel_4628\\2590787309.py:34: FutureWarning: The frame.append method is deprecated and will be removed from pandas in a future version. Use pandas.concat instead.\n",
      "  conteo = conteo.append(fila, ignore_index=True)\n",
      "C:\\Users\\User\\AppData\\Local\\Temp\\ipykernel_4628\\2590787309.py:34: FutureWarning: The frame.append method is deprecated and will be removed from pandas in a future version. Use pandas.concat instead.\n",
      "  conteo = conteo.append(fila, ignore_index=True)\n",
      "C:\\Users\\User\\AppData\\Local\\Temp\\ipykernel_4628\\2590787309.py:34: FutureWarning: The frame.append method is deprecated and will be removed from pandas in a future version. Use pandas.concat instead.\n",
      "  conteo = conteo.append(fila, ignore_index=True)\n",
      "C:\\Users\\User\\AppData\\Local\\Temp\\ipykernel_4628\\2590787309.py:34: FutureWarning: The frame.append method is deprecated and will be removed from pandas in a future version. Use pandas.concat instead.\n",
      "  conteo = conteo.append(fila, ignore_index=True)\n",
      "C:\\Users\\User\\AppData\\Local\\Temp\\ipykernel_4628\\2590787309.py:34: FutureWarning: The frame.append method is deprecated and will be removed from pandas in a future version. Use pandas.concat instead.\n",
      "  conteo = conteo.append(fila, ignore_index=True)\n",
      "C:\\Users\\User\\AppData\\Local\\Temp\\ipykernel_4628\\2590787309.py:34: FutureWarning: The frame.append method is deprecated and will be removed from pandas in a future version. Use pandas.concat instead.\n",
      "  conteo = conteo.append(fila, ignore_index=True)\n",
      "C:\\Users\\User\\AppData\\Local\\Temp\\ipykernel_4628\\2590787309.py:34: FutureWarning: The frame.append method is deprecated and will be removed from pandas in a future version. Use pandas.concat instead.\n",
      "  conteo = conteo.append(fila, ignore_index=True)\n",
      "C:\\Users\\User\\AppData\\Local\\Temp\\ipykernel_4628\\2590787309.py:34: FutureWarning: The frame.append method is deprecated and will be removed from pandas in a future version. Use pandas.concat instead.\n",
      "  conteo = conteo.append(fila, ignore_index=True)\n",
      "C:\\Users\\User\\AppData\\Local\\Temp\\ipykernel_4628\\2590787309.py:34: FutureWarning: The frame.append method is deprecated and will be removed from pandas in a future version. Use pandas.concat instead.\n",
      "  conteo = conteo.append(fila, ignore_index=True)\n",
      "C:\\Users\\User\\AppData\\Local\\Temp\\ipykernel_4628\\2590787309.py:34: FutureWarning: The frame.append method is deprecated and will be removed from pandas in a future version. Use pandas.concat instead.\n",
      "  conteo = conteo.append(fila, ignore_index=True)\n",
      "C:\\Users\\User\\AppData\\Local\\Temp\\ipykernel_4628\\2590787309.py:34: FutureWarning: The frame.append method is deprecated and will be removed from pandas in a future version. Use pandas.concat instead.\n",
      "  conteo = conteo.append(fila, ignore_index=True)\n",
      "C:\\Users\\User\\AppData\\Local\\Temp\\ipykernel_4628\\2590787309.py:34: FutureWarning: The frame.append method is deprecated and will be removed from pandas in a future version. Use pandas.concat instead.\n",
      "  conteo = conteo.append(fila, ignore_index=True)\n",
      "C:\\Users\\User\\AppData\\Local\\Temp\\ipykernel_4628\\2590787309.py:34: FutureWarning: The frame.append method is deprecated and will be removed from pandas in a future version. Use pandas.concat instead.\n",
      "  conteo = conteo.append(fila, ignore_index=True)\n",
      "C:\\Users\\User\\AppData\\Local\\Temp\\ipykernel_4628\\2590787309.py:34: FutureWarning: The frame.append method is deprecated and will be removed from pandas in a future version. Use pandas.concat instead.\n",
      "  conteo = conteo.append(fila, ignore_index=True)\n",
      "C:\\Users\\User\\AppData\\Local\\Temp\\ipykernel_4628\\2590787309.py:34: FutureWarning: The frame.append method is deprecated and will be removed from pandas in a future version. Use pandas.concat instead.\n",
      "  conteo = conteo.append(fila, ignore_index=True)\n",
      "C:\\Users\\User\\AppData\\Local\\Temp\\ipykernel_4628\\2590787309.py:34: FutureWarning: The frame.append method is deprecated and will be removed from pandas in a future version. Use pandas.concat instead.\n",
      "  conteo = conteo.append(fila, ignore_index=True)\n",
      "C:\\Users\\User\\AppData\\Local\\Temp\\ipykernel_4628\\2590787309.py:34: FutureWarning: The frame.append method is deprecated and will be removed from pandas in a future version. Use pandas.concat instead.\n",
      "  conteo = conteo.append(fila, ignore_index=True)\n",
      "C:\\Users\\User\\AppData\\Local\\Temp\\ipykernel_4628\\2590787309.py:34: FutureWarning: The frame.append method is deprecated and will be removed from pandas in a future version. Use pandas.concat instead.\n",
      "  conteo = conteo.append(fila, ignore_index=True)\n",
      "C:\\Users\\User\\AppData\\Local\\Temp\\ipykernel_4628\\2590787309.py:34: FutureWarning: The frame.append method is deprecated and will be removed from pandas in a future version. Use pandas.concat instead.\n",
      "  conteo = conteo.append(fila, ignore_index=True)\n",
      "C:\\Users\\User\\AppData\\Local\\Temp\\ipykernel_4628\\2590787309.py:34: FutureWarning: The frame.append method is deprecated and will be removed from pandas in a future version. Use pandas.concat instead.\n",
      "  conteo = conteo.append(fila, ignore_index=True)\n",
      "C:\\Users\\User\\AppData\\Local\\Temp\\ipykernel_4628\\2590787309.py:34: FutureWarning: The frame.append method is deprecated and will be removed from pandas in a future version. Use pandas.concat instead.\n",
      "  conteo = conteo.append(fila, ignore_index=True)\n",
      "C:\\Users\\User\\AppData\\Local\\Temp\\ipykernel_4628\\2590787309.py:34: FutureWarning: The frame.append method is deprecated and will be removed from pandas in a future version. Use pandas.concat instead.\n",
      "  conteo = conteo.append(fila, ignore_index=True)\n",
      "C:\\Users\\User\\AppData\\Local\\Temp\\ipykernel_4628\\2590787309.py:34: FutureWarning: The frame.append method is deprecated and will be removed from pandas in a future version. Use pandas.concat instead.\n",
      "  conteo = conteo.append(fila, ignore_index=True)\n",
      "C:\\Users\\User\\AppData\\Local\\Temp\\ipykernel_4628\\2590787309.py:34: FutureWarning: The frame.append method is deprecated and will be removed from pandas in a future version. Use pandas.concat instead.\n",
      "  conteo = conteo.append(fila, ignore_index=True)\n",
      "C:\\Users\\User\\AppData\\Local\\Temp\\ipykernel_4628\\2590787309.py:34: FutureWarning: The frame.append method is deprecated and will be removed from pandas in a future version. Use pandas.concat instead.\n",
      "  conteo = conteo.append(fila, ignore_index=True)\n",
      "C:\\Users\\User\\AppData\\Local\\Temp\\ipykernel_4628\\2590787309.py:34: FutureWarning: The frame.append method is deprecated and will be removed from pandas in a future version. Use pandas.concat instead.\n",
      "  conteo = conteo.append(fila, ignore_index=True)\n",
      "C:\\Users\\User\\AppData\\Local\\Temp\\ipykernel_4628\\2590787309.py:34: FutureWarning: The frame.append method is deprecated and will be removed from pandas in a future version. Use pandas.concat instead.\n",
      "  conteo = conteo.append(fila, ignore_index=True)\n",
      "C:\\Users\\User\\AppData\\Local\\Temp\\ipykernel_4628\\2590787309.py:34: FutureWarning: The frame.append method is deprecated and will be removed from pandas in a future version. Use pandas.concat instead.\n",
      "  conteo = conteo.append(fila, ignore_index=True)\n",
      "C:\\Users\\User\\AppData\\Local\\Temp\\ipykernel_4628\\2590787309.py:34: FutureWarning: The frame.append method is deprecated and will be removed from pandas in a future version. Use pandas.concat instead.\n",
      "  conteo = conteo.append(fila, ignore_index=True)\n",
      "C:\\Users\\User\\AppData\\Local\\Temp\\ipykernel_4628\\2590787309.py:34: FutureWarning: The frame.append method is deprecated and will be removed from pandas in a future version. Use pandas.concat instead.\n",
      "  conteo = conteo.append(fila, ignore_index=True)\n",
      "C:\\Users\\User\\AppData\\Local\\Temp\\ipykernel_4628\\2590787309.py:34: FutureWarning: The frame.append method is deprecated and will be removed from pandas in a future version. Use pandas.concat instead.\n",
      "  conteo = conteo.append(fila, ignore_index=True)\n",
      "C:\\Users\\User\\AppData\\Local\\Temp\\ipykernel_4628\\2590787309.py:34: FutureWarning: The frame.append method is deprecated and will be removed from pandas in a future version. Use pandas.concat instead.\n",
      "  conteo = conteo.append(fila, ignore_index=True)\n",
      "C:\\Users\\User\\AppData\\Local\\Temp\\ipykernel_4628\\2590787309.py:34: FutureWarning: The frame.append method is deprecated and will be removed from pandas in a future version. Use pandas.concat instead.\n",
      "  conteo = conteo.append(fila, ignore_index=True)\n",
      "C:\\Users\\User\\AppData\\Local\\Temp\\ipykernel_4628\\2590787309.py:34: FutureWarning: The frame.append method is deprecated and will be removed from pandas in a future version. Use pandas.concat instead.\n",
      "  conteo = conteo.append(fila, ignore_index=True)\n",
      "C:\\Users\\User\\AppData\\Local\\Temp\\ipykernel_4628\\2590787309.py:34: FutureWarning: The frame.append method is deprecated and will be removed from pandas in a future version. Use pandas.concat instead.\n",
      "  conteo = conteo.append(fila, ignore_index=True)\n",
      "C:\\Users\\User\\AppData\\Local\\Temp\\ipykernel_4628\\2590787309.py:34: FutureWarning: The frame.append method is deprecated and will be removed from pandas in a future version. Use pandas.concat instead.\n",
      "  conteo = conteo.append(fila, ignore_index=True)\n",
      "C:\\Users\\User\\AppData\\Local\\Temp\\ipykernel_4628\\2590787309.py:34: FutureWarning: The frame.append method is deprecated and will be removed from pandas in a future version. Use pandas.concat instead.\n",
      "  conteo = conteo.append(fila, ignore_index=True)\n",
      "C:\\Users\\User\\AppData\\Local\\Temp\\ipykernel_4628\\2590787309.py:34: FutureWarning: The frame.append method is deprecated and will be removed from pandas in a future version. Use pandas.concat instead.\n",
      "  conteo = conteo.append(fila, ignore_index=True)\n",
      "C:\\Users\\User\\AppData\\Local\\Temp\\ipykernel_4628\\2590787309.py:34: FutureWarning: The frame.append method is deprecated and will be removed from pandas in a future version. Use pandas.concat instead.\n",
      "  conteo = conteo.append(fila, ignore_index=True)\n",
      "C:\\Users\\User\\AppData\\Local\\Temp\\ipykernel_4628\\2590787309.py:34: FutureWarning: The frame.append method is deprecated and will be removed from pandas in a future version. Use pandas.concat instead.\n",
      "  conteo = conteo.append(fila, ignore_index=True)\n",
      "C:\\Users\\User\\AppData\\Local\\Temp\\ipykernel_4628\\2590787309.py:34: FutureWarning: The frame.append method is deprecated and will be removed from pandas in a future version. Use pandas.concat instead.\n",
      "  conteo = conteo.append(fila, ignore_index=True)\n",
      "C:\\Users\\User\\AppData\\Local\\Temp\\ipykernel_4628\\2590787309.py:34: FutureWarning: The frame.append method is deprecated and will be removed from pandas in a future version. Use pandas.concat instead.\n",
      "  conteo = conteo.append(fila, ignore_index=True)\n",
      "C:\\Users\\User\\AppData\\Local\\Temp\\ipykernel_4628\\2590787309.py:34: FutureWarning: The frame.append method is deprecated and will be removed from pandas in a future version. Use pandas.concat instead.\n",
      "  conteo = conteo.append(fila, ignore_index=True)\n"
     ]
    },
    {
     "data": {
      "text/html": [
       "<div>\n",
       "<style scoped>\n",
       "    .dataframe tbody tr th:only-of-type {\n",
       "        vertical-align: middle;\n",
       "    }\n",
       "\n",
       "    .dataframe tbody tr th {\n",
       "        vertical-align: top;\n",
       "    }\n",
       "\n",
       "    .dataframe thead th {\n",
       "        text-align: right;\n",
       "    }\n",
       "</style>\n",
       "<table border=\"1\" class=\"dataframe\">\n",
       "  <thead>\n",
       "    <tr style=\"text-align: right;\">\n",
       "      <th></th>\n",
       "      <th>Palabra</th>\n",
       "      <th>Recuento</th>\n",
       "      <th>Densidad</th>\n",
       "    </tr>\n",
       "  </thead>\n",
       "  <tbody>\n",
       "    <tr>\n",
       "      <th>6</th>\n",
       "      <td>serie</td>\n",
       "      <td>10</td>\n",
       "      <td>2.56%</td>\n",
       "    </tr>\n",
       "    <tr>\n",
       "      <th>11</th>\n",
       "      <td>anillo</td>\n",
       "      <td>9</td>\n",
       "      <td>2.30%</td>\n",
       "    </tr>\n",
       "    <tr>\n",
       "      <th>12</th>\n",
       "      <td>poder</td>\n",
       "      <td>7</td>\n",
       "      <td>1.79%</td>\n",
       "    </tr>\n",
       "    <tr>\n",
       "      <th>54</th>\n",
       "      <td>ver</td>\n",
       "      <td>6</td>\n",
       "      <td>1.53%</td>\n",
       "    </tr>\n",
       "    <tr>\n",
       "      <th>33</th>\n",
       "      <td>amazon</td>\n",
       "      <td>4</td>\n",
       "      <td>1.02%</td>\n",
       "    </tr>\n",
       "    <tr>\n",
       "      <th>...</th>\n",
       "      <td>...</td>\n",
       "      <td>...</td>\n",
       "      <td>...</td>\n",
       "    </tr>\n",
       "    <tr>\n",
       "      <th>125</th>\n",
       "      <td>menos</td>\n",
       "      <td>1</td>\n",
       "      <td>0.26%</td>\n",
       "    </tr>\n",
       "    <tr>\n",
       "      <th>126</th>\n",
       "      <td>logrado</td>\n",
       "      <td>1</td>\n",
       "      <td>0.26%</td>\n",
       "    </tr>\n",
       "    <tr>\n",
       "      <th>127</th>\n",
       "      <td>elfo</td>\n",
       "      <td>1</td>\n",
       "      <td>0.26%</td>\n",
       "    </tr>\n",
       "    <tr>\n",
       "      <th>129</th>\n",
       "      <td>inaprensible</td>\n",
       "      <td>1</td>\n",
       "      <td>0.26%</td>\n",
       "    </tr>\n",
       "    <tr>\n",
       "      <th>295</th>\n",
       "      <td>vídeo</td>\n",
       "      <td>1</td>\n",
       "      <td>0.26%</td>\n",
       "    </tr>\n",
       "  </tbody>\n",
       "</table>\n",
       "<p>296 rows × 3 columns</p>\n",
       "</div>"
      ],
      "text/plain": [
       "          Palabra Recuento Densidad\n",
       "6           serie       10    2.56%\n",
       "11         anillo        9    2.30%\n",
       "12          poder        7    1.79%\n",
       "54            ver        6    1.53%\n",
       "33         amazon        4    1.02%\n",
       "..            ...      ...      ...\n",
       "125         menos        1    0.26%\n",
       "126       logrado        1    0.26%\n",
       "127          elfo        1    0.26%\n",
       "129  inaprensible        1    0.26%\n",
       "295         vídeo        1    0.26%\n",
       "\n",
       "[296 rows x 3 columns]"
      ]
     },
     "execution_count": 49,
     "metadata": {},
     "output_type": "execute_result"
    }
   ],
   "source": [
    "text_density(web, True)"
   ]
  },
  {
   "cell_type": "markdown",
   "id": "e835c736",
   "metadata": {},
   "source": [
    "# Grammar with taggers"
   ]
  },
  {
   "cell_type": "code",
   "execution_count": 50,
   "id": "5ea69b06",
   "metadata": {},
   "outputs": [],
   "source": [
    "from nltk import UnigramTagger, BigramTagger, TrigramTagger #N-Gram\n",
    "from nltk.tag.hmm import HiddenMarkovModelTagger\n",
    "\n",
    "from nltk.corpus import cess_esp\n",
    "\n",
    "from sklearn.model_selection import train_test_split"
   ]
  },
  {
   "cell_type": "code",
   "execution_count": 51,
   "id": "ecce34c3",
   "metadata": {},
   "outputs": [],
   "source": [
    "def tokenizar(_frase):\n",
    "    \n",
    "    return word_tokenize(_frase, 'spanish')"
   ]
  },
  {
   "cell_type": "code",
   "execution_count": 52,
   "id": "64ac8c3c",
   "metadata": {},
   "outputs": [
    {
     "name": "stdout",
     "output_type": "stream",
     "text": [
      "['El', 'niño', 'tiene', 'unos', 'zapatos']\n"
     ]
    }
   ],
   "source": [
    "tokens = tokenizar('El niño tiene unos zapatos')\n",
    "print(tokens)"
   ]
  },
  {
   "cell_type": "markdown",
   "id": "2ad0bbac",
   "metadata": {},
   "source": [
    "EAGLES: https://www.cs.upc.edu/~nlp/tools/parole-sp.html"
   ]
  },
  {
   "cell_type": "markdown",
   "id": "f9eec956",
   "metadata": {},
   "source": [
    "## Tagger training\n",
    "\n",
    "\n",
    "\n",
    "To train the taggers, we can use a previously trained corpus.\n",
    "\n",
    "The cess_esp corpus is used: Cess_esp refers to the Corpus of 20th Century Spanish, which is a set of Spanish language text data tagged with their corresponding grammatical category. This corpus is commonly used to train natural language processing models, such as grammatical taggers in Spanish.\n",
    "\n",
    "The grammatical tagger \"cess_esp\" is a natural language processing model trained using the Corpus of 20th Century Spanish. This model is capable of automatically tagging each word in a text with its corresponding grammatical category in Spanish, such as noun, verb, adjective, etc."
   ]
  },
  {
   "cell_type": "markdown",
   "id": "086a2ad2",
   "metadata": {},
   "source": [
    "Tokenised phrases on different topics:"
   ]
  },
  {
   "cell_type": "code",
   "execution_count": 53,
   "id": "c0d318da",
   "metadata": {},
   "outputs": [
    {
     "data": {
      "text/plain": [
       "[['El', 'grupo', 'estatal', 'Electricité_de_France', '-Fpa-', 'EDF', '-Fpt-', 'anunció', 'hoy', ',', 'jueves', ',', 'la', 'compra', 'del', '51_por_ciento', 'de', 'la', 'empresa', 'mexicana', 'Electricidad_Águila_de_Altamira', '-Fpa-', 'EAA', '-Fpt-', ',', 'creada', 'por', 'el', 'japonés', 'Mitsubishi_Corporation', 'para', 'poner_en_marcha', 'una', 'central', 'de', 'gas', 'de', '495', 'megavatios', '.'], ['Una', 'portavoz', 'de', 'EDF', 'explicó', 'a', 'EFE', 'que', 'el', 'proyecto', 'para', 'la', 'construcción', 'de', 'Altamira_2', ',', 'al', 'norte', 'de', 'Tampico', ',', 'prevé', 'la', 'utilización', 'de', 'gas', 'natural', 'como', 'combustible', 'principal', 'en', 'una', 'central', 'de', 'ciclo', 'combinado', 'que', 'debe', 'empezar', 'a', 'funcionar', 'en', 'mayo_del_2002', '.'], ...]"
      ]
     },
     "execution_count": 53,
     "metadata": {},
     "output_type": "execute_result"
    }
   ],
   "source": [
    "cess_esp.sents()"
   ]
  },
  {
   "cell_type": "markdown",
   "id": "5806997f",
   "metadata": {},
   "source": [
    "Tokenised and grammatically tagged phrases:"
   ]
  },
  {
   "cell_type": "code",
   "execution_count": 54,
   "id": "e79fef69",
   "metadata": {},
   "outputs": [
    {
     "data": {
      "text/plain": [
       "[[('El', 'da0ms0'), ('grupo', 'ncms000'), ('estatal', 'aq0cs0'), ('Electricité_de_France', 'np00000'), ('-Fpa-', 'Fpa'), ('EDF', 'np00000'), ('-Fpt-', 'Fpt'), ('anunció', 'vmis3s0'), ('hoy', 'rg'), (',', 'Fc'), ('jueves', 'W'), (',', 'Fc'), ('la', 'da0fs0'), ('compra', 'ncfs000'), ('del', 'spcms'), ('51_por_ciento', 'Zp'), ('de', 'sps00'), ('la', 'da0fs0'), ('empresa', 'ncfs000'), ('mexicana', 'aq0fs0'), ('Electricidad_Águila_de_Altamira', 'np00000'), ('-Fpa-', 'Fpa'), ('EAA', 'np00000'), ('-Fpt-', 'Fpt'), (',', 'Fc'), ('creada', 'aq0fsp'), ('por', 'sps00'), ('el', 'da0ms0'), ('japonés', 'aq0ms0'), ('Mitsubishi_Corporation', 'np00000'), ('para', 'sps00'), ('poner_en_marcha', 'vmn0000'), ('una', 'di0fs0'), ('central', 'ncfs000'), ('de', 'sps00'), ('gas', 'ncms000'), ('de', 'sps00'), ('495', 'Z'), ('megavatios', 'ncmp000'), ('.', 'Fp')], [('Una', 'di0fs0'), ('portavoz', 'nccs000'), ('de', 'sps00'), ('EDF', 'np00000'), ('explicó', 'vmis3s0'), ('a', 'sps00'), ('EFE', 'np00000'), ('que', 'cs'), ('el', 'da0ms0'), ('proyecto', 'ncms000'), ('para', 'sps00'), ('la', 'da0fs0'), ('construcción', 'ncfs000'), ('de', 'sps00'), ('Altamira_2', 'np00000'), (',', 'Fc'), ('al', 'spcms'), ('norte', 'ncms000'), ('de', 'sps00'), ('Tampico', 'np00000'), (',', 'Fc'), ('prevé', 'vmm02s0'), ('la', 'da0fs0'), ('utilización', 'ncfs000'), ('de', 'sps00'), ('gas', 'ncms000'), ('natural', 'aq0cs0'), ('como', 'cs'), ('combustible', 'ncms000'), ('principal', 'aq0cs0'), ('en', 'sps00'), ('una', 'di0fs0'), ('central', 'ncfs000'), ('de', 'sps00'), ('ciclo', 'ncms000'), ('combinado', 'aq0msp'), ('que', 'pr0cn000'), ('debe', 'vmip3s0'), ('empezar', 'vmn0000'), ('a', 'sps00'), ('funcionar', 'vmn0000'), ('en', 'sps00'), ('mayo_del_2002', 'W'), ('.', 'Fp')], ...]"
      ]
     },
     "execution_count": 54,
     "metadata": {},
     "output_type": "execute_result"
    }
   ],
   "source": [
    "cess_esp.tagged_sents()"
   ]
  },
  {
   "cell_type": "markdown",
   "id": "5b6305f7",
   "metadata": {},
   "source": [
    "## HMM tagger and N-gram models\n",
    "\n",
    "The Hidden Markov Model Tagger (HMM Tagger) and n-gram models (unigram, bigram, and trigram) are two different approaches used in natural language processing for performing grammatical tagging of words in a text.\n",
    "\n",
    "N-gram models are statistical models that calculate the probability of a word given the previous n words. For example, a bigram model calculates the probability of a word based on the previous word. N-gram models are simple and easy to implement, but have some limitations, such as only considering the previous words and not taking into account the grammatical structure of the text.\n",
    "\n",
    "N-grams: more useful for text prediction and generation tasks.\n",
    "\n",
    "On the other hand, HMM Taggers are more complex models that use stochastic process theory to perform grammatical tagging of words. These models consider the grammatical structure of the text and the relationship between words. The HMM Tagger uses a hidden Markov chain to model the sequence of grammatical tags of the words, and uses the transition probability between the tags to calculate the most likely tag for each word.\n",
    "\n",
    "HMM: more useful for grammatical tagging tasks and pattern recognition in text sequences."
   ]
  },
  {
   "cell_type": "markdown",
   "id": "46d6157c",
   "metadata": {},
   "source": [
    "Train and Test sets are created. Training will be done with 90% of the data and testing will be done with 10%:"
   ]
  },
  {
   "cell_type": "code",
   "execution_count": 55,
   "id": "8aeee102",
   "metadata": {},
   "outputs": [
    {
     "name": "stdout",
     "output_type": "stream",
     "text": [
      "Train tokens: 5427 \n",
      "Tokens test:     603\n"
     ]
    }
   ],
   "source": [
    "#Generamos los conjuntos de Train y Test\n",
    "data_train, data_test = train_test_split(cess_esp.tagged_sents(), test_size=0.10, random_state=1)\n",
    "\n",
    "print('Train tokens:',len(data_train),\n",
    "      '\\nTokens test:    ',len(data_test))"
   ]
  },
  {
   "cell_type": "markdown",
   "id": "bc330d22",
   "metadata": {},
   "source": [
    "Having the sets already created, we move on to train the taggers.\n",
    "\n",
    "To train the ngrams we must run the tagger with the corpus, for example UnigramTagger(train_data). We will see that the ngrams can have as backoff another ngram.\n",
    "\n",
    "In the case of HiddenMarkovModelTagger we must execute the function .train()."
   ]
  },
  {
   "cell_type": "code",
   "execution_count": 56,
   "id": "cf275e92",
   "metadata": {},
   "outputs": [],
   "source": [
    "unigram  = UnigramTagger(data_train)\n",
    "bigram   = BigramTagger(data_train, backoff=unigram)\n",
    "trigram  = TrigramTagger(data_train, backoff=bigram)\n",
    "hmm      = HiddenMarkovModelTagger.train(data_train)"
   ]
  },
  {
   "cell_type": "markdown",
   "id": "f08d831d",
   "metadata": {},
   "source": [
    "Once the taggers have been trained, we are going to evaluate how each of them behaves with the test set. To evaluate it we have to use the train() function, for all the taggers. Let's see how each of them behaves.\n",
    "\n",
    "When you run the training, pay attention to the time it takes for each of the taggers to display the score. While the ngrams are quite fast in extracting the information, the HMM takes longer to get the data."
   ]
  },
  {
   "cell_type": "code",
   "execution_count": 57,
   "id": "738190d7",
   "metadata": {},
   "outputs": [
    {
     "name": "stderr",
     "output_type": "stream",
     "text": [
      "C:\\Users\\User\\AppData\\Local\\Temp\\ipykernel_4628\\2270244061.py:1: DeprecationWarning: \n",
      "  Function evaluate() has been deprecated.  Use accuracy(gold)\n",
      "  instead.\n",
      "  print ('Acierto con unigramas: %.2f %%' % (unigram.evaluate(data_test)*100))\n",
      "C:\\Users\\User\\AppData\\Local\\Temp\\ipykernel_4628\\2270244061.py:2: DeprecationWarning: \n",
      "  Function evaluate() has been deprecated.  Use accuracy(gold)\n",
      "  instead.\n",
      "  print ('Acierto con bigramas:  %.2f %%' % (bigram.evaluate(data_test)*100))\n",
      "C:\\Users\\User\\AppData\\Local\\Temp\\ipykernel_4628\\2270244061.py:3: DeprecationWarning: \n",
      "  Function evaluate() has been deprecated.  Use accuracy(gold)\n",
      "  instead.\n",
      "  print ('Acierto con trigramas: %.2f %%' % (trigram.evaluate(data_test)*100))\n"
     ]
    },
    {
     "name": "stdout",
     "output_type": "stream",
     "text": [
      "Acierto con unigramas: 87.27 %\n",
      "Acierto con bigramas:  88.78 %\n",
      "Acierto con trigramas: 88.77 %\n"
     ]
    },
    {
     "name": "stderr",
     "output_type": "stream",
     "text": [
      "C:\\Users\\User\\AppData\\Local\\Temp\\ipykernel_4628\\2270244061.py:4: DeprecationWarning: \n",
      "  Function evaluate() has been deprecated.  Use accuracy(gold)\n",
      "  instead.\n",
      "  print ('Acierto con HMMs:      %.2f %%' % (hmm.evaluate(data_test)*100))\n"
     ]
    },
    {
     "name": "stdout",
     "output_type": "stream",
     "text": [
      "Acierto con HMMs:      89.57 %\n"
     ]
    }
   ],
   "source": [
    "print ('Acierto con unigramas: %.2f %%' % (unigram.evaluate(data_test)*100))\n",
    "print ('Acierto con bigramas:  %.2f %%' % (bigram.evaluate(data_test)*100))\n",
    "print ('Acierto con trigramas: %.2f %%' % (trigram.evaluate(data_test)*100))\n",
    "print ('Acierto con HMMs:      %.2f %%' % (hmm.evaluate(data_test)*100))"
   ]
  },
  {
   "cell_type": "markdown",
   "id": "8646fe4a",
   "metadata": {},
   "source": [
    "\n",
    "The taggers are trained again with the test data. Almost 100% accuracy is obtained. This improvement is due to the fact that n-grams are more \"logical\" rules, so to speak, so with small data volumes, we will have more success.\n",
    "\n",
    "On the other hand, in the case of evaluating on unseen data, HMMs perform better than n-grams, but in those tokens that were not trained, there will be better performance in n-grams."
   ]
  },
  {
   "cell_type": "code",
   "execution_count": 58,
   "id": "9c85d619",
   "metadata": {},
   "outputs": [
    {
     "name": "stderr",
     "output_type": "stream",
     "text": [
      "C:\\Users\\User\\AppData\\Local\\Temp\\ipykernel_4628\\1586611394.py:6: DeprecationWarning: \n",
      "  Function evaluate() has been deprecated.  Use accuracy(gold)\n",
      "  instead.\n",
      "  print ('Acierto con unigramas: %.2f %%' % (unigram.evaluate(data_test)*100))\n",
      "C:\\Users\\User\\AppData\\Local\\Temp\\ipykernel_4628\\1586611394.py:7: DeprecationWarning: \n",
      "  Function evaluate() has been deprecated.  Use accuracy(gold)\n",
      "  instead.\n",
      "  print ('Acierto con bigramas:  %.2f %%' % (bigram.evaluate(data_test)*100))\n",
      "C:\\Users\\User\\AppData\\Local\\Temp\\ipykernel_4628\\1586611394.py:8: DeprecationWarning: \n",
      "  Function evaluate() has been deprecated.  Use accuracy(gold)\n",
      "  instead.\n",
      "  print ('Acierto con trigramas: %.2f %%' % (trigram.evaluate(data_test)*100))\n"
     ]
    },
    {
     "name": "stdout",
     "output_type": "stream",
     "text": [
      "Acierto con unigramas: 96.67 %\n",
      "Acierto con bigramas:  98.86 %\n",
      "Acierto con trigramas: 99.56 %\n"
     ]
    },
    {
     "name": "stderr",
     "output_type": "stream",
     "text": [
      "C:\\Users\\User\\AppData\\Local\\Temp\\ipykernel_4628\\1586611394.py:9: DeprecationWarning: \n",
      "  Function evaluate() has been deprecated.  Use accuracy(gold)\n",
      "  instead.\n",
      "  print ('Acierto con HMMs:      %.2f %%' % (hmm.evaluate(data_test)*100))\n"
     ]
    },
    {
     "name": "stdout",
     "output_type": "stream",
     "text": [
      "Acierto con HMMs:      93.62 %\n"
     ]
    }
   ],
   "source": [
    "unigram  = UnigramTagger(data_test)\n",
    "bigram   = BigramTagger(data_test, backoff=unigram)\n",
    "trigram  = TrigramTagger(data_test, backoff=bigram)\n",
    "hmm      = HiddenMarkovModelTagger.train(data_test)\n",
    "\n",
    "print ('Acierto con unigramas: %.2f %%' % (unigram.evaluate(data_test)*100))\n",
    "print ('Acierto con bigramas:  %.2f %%' % (bigram.evaluate(data_test)*100))\n",
    "print ('Acierto con trigramas: %.2f %%' % (trigram.evaluate(data_test)*100))\n",
    "print ('Acierto con HMMs:      %.2f %%' % (hmm.evaluate(data_test)*100))"
   ]
  },
  {
   "cell_type": "markdown",
   "id": "e9bdf8b9",
   "metadata": {},
   "source": [
    "As it is observed that the HMM is better we use it for our purpose:"
   ]
  },
  {
   "cell_type": "code",
   "execution_count": 59,
   "id": "62388a9f",
   "metadata": {},
   "outputs": [
    {
     "name": "stdout",
     "output_type": "stream",
     "text": [
      "[('El', 'da0ms0'), ('niño', 'ncms000'), ('tiene', 'vmip3s0'), ('unos', 'di0mp0'), ('zapatos', 'ncmp000')]\n"
     ]
    }
   ],
   "source": [
    "print(hmm.tag(tokens))"
   ]
  },
  {
   "cell_type": "code",
   "execution_count": 60,
   "id": "5e9e8a2e",
   "metadata": {},
   "outputs": [],
   "source": [
    "# Regex rules\n",
    "\n",
    "reglas = r'''\n",
    "\n",
    "Quien: {<sn.e-SUJ>}\n",
    "Quien: <da.*> {<nc.*>}\n",
    "Qué: <di.*> { <nc.*> <di.*> <aq.*> | <nc.*> <sp.*> <da.*> | <nc.*> <sp.*> <np.*> | <nc.*> <aq.*> | <nc.*> }\n",
    "Qué: {<nc.*> <sp.*> <da.*>}\n",
    "\n",
    "'''\n",
    "\n",
    "parser = nltk.RegexpParser(reglas)"
   ]
  },
  {
   "cell_type": "code",
   "execution_count": 61,
   "id": "6111a291",
   "metadata": {},
   "outputs": [],
   "source": [
    "def parsear(_tokens):\n",
    "    return parser.parse(_tokens)"
   ]
  },
  {
   "cell_type": "code",
   "execution_count": 62,
   "id": "45c60994",
   "metadata": {},
   "outputs": [
    {
     "data": {
      "image/svg+xml": [
       "<svg baseProfile=\"full\" height=\"168px\" preserveAspectRatio=\"xMidYMid meet\" style=\"font-family: times, serif; font-weight:normal; font-style: normal; font-size: 16px;\" version=\"1.1\" viewBox=\"0,0,432.0,168.0\" width=\"432px\" xmlns=\"http://www.w3.org/2000/svg\" xmlns:ev=\"http://www.w3.org/2001/xml-events\" xmlns:xlink=\"http://www.w3.org/1999/xlink\"><defs /><svg width=\"100%\" x=\"0\" y=\"0em\"><defs /><text text-anchor=\"middle\" x=\"50%\" y=\"1em\">S</text></svg><svg width=\"20.3704%\" x=\"0%\" y=\"3em\"><defs /><svg width=\"100%\" x=\"0\" y=\"0em\"><defs /><text text-anchor=\"middle\" x=\"50%\" y=\"1em\">Quien</text></svg><svg width=\"100%\" x=\"0%\" y=\"3em\"><defs /><svg width=\"100%\" x=\"0\" y=\"0em\"><defs /><text text-anchor=\"middle\" x=\"50%\" y=\"1em\">Eustaquio</text></svg><svg width=\"100%\" x=\"0%\" y=\"3em\"><defs /><svg width=\"100%\" x=\"0\" y=\"0em\"><defs /><text text-anchor=\"middle\" x=\"50%\" y=\"1em\">sn.e-SUJ</text></svg></svg><line stroke=\"black\" x1=\"50%\" x2=\"50%\" y1=\"1.2em\" y2=\"3em\" /></svg><line stroke=\"black\" x1=\"50%\" x2=\"50%\" y1=\"1.2em\" y2=\"3em\" /></svg><line stroke=\"black\" x1=\"50%\" x2=\"10.1852%\" y1=\"1.2em\" y2=\"3em\" /><svg width=\"16.6667%\" x=\"20.3704%\" y=\"3em\"><defs /><svg width=\"100%\" x=\"0\" y=\"0em\"><defs /><text text-anchor=\"middle\" x=\"50%\" y=\"1em\">tiene</text></svg><svg width=\"100%\" x=\"0%\" y=\"3em\"><defs /><svg width=\"100%\" x=\"0\" y=\"0em\"><defs /><text text-anchor=\"middle\" x=\"50%\" y=\"1em\">vmip3s0</text></svg></svg><line stroke=\"black\" x1=\"50%\" x2=\"50%\" y1=\"1.2em\" y2=\"3em\" /></svg><line stroke=\"black\" x1=\"50%\" x2=\"28.7037%\" y1=\"1.2em\" y2=\"3em\" /><svg width=\"14.8148%\" x=\"37.037%\" y=\"3em\"><defs /><svg width=\"100%\" x=\"0\" y=\"0em\"><defs /><text text-anchor=\"middle\" x=\"50%\" y=\"1em\">un</text></svg><svg width=\"100%\" x=\"0%\" y=\"3em\"><defs /><svg width=\"100%\" x=\"0\" y=\"0em\"><defs /><text text-anchor=\"middle\" x=\"50%\" y=\"1em\">di0ms0</text></svg></svg><line stroke=\"black\" x1=\"50%\" x2=\"50%\" y1=\"1.2em\" y2=\"3em\" /></svg><line stroke=\"black\" x1=\"50%\" x2=\"44.4444%\" y1=\"1.2em\" y2=\"3em\" /><svg width=\"48.1481%\" x=\"51.8519%\" y=\"3em\"><defs /><svg width=\"100%\" x=\"0\" y=\"0em\"><defs /><text text-anchor=\"middle\" x=\"50%\" y=\"1em\">Qué</text></svg><svg width=\"34.6154%\" x=\"0%\" y=\"3em\"><defs /><svg width=\"100%\" x=\"0\" y=\"0em\"><defs /><text text-anchor=\"middle\" x=\"50%\" y=\"1em\">huevo</text></svg><svg width=\"100%\" x=\"0%\" y=\"3em\"><defs /><svg width=\"100%\" x=\"0\" y=\"0em\"><defs /><text text-anchor=\"middle\" x=\"50%\" y=\"1em\">ncms000</text></svg></svg><line stroke=\"black\" x1=\"50%\" x2=\"50%\" y1=\"1.2em\" y2=\"3em\" /></svg><line stroke=\"black\" x1=\"50%\" x2=\"17.3077%\" y1=\"1.2em\" y2=\"3em\" /><svg width=\"26.9231%\" x=\"34.6154%\" y=\"3em\"><defs /><svg width=\"100%\" x=\"0\" y=\"0em\"><defs /><text text-anchor=\"middle\" x=\"50%\" y=\"1em\">de</text></svg><svg width=\"100%\" x=\"0%\" y=\"3em\"><defs /><svg width=\"100%\" x=\"0\" y=\"0em\"><defs /><text text-anchor=\"middle\" x=\"50%\" y=\"1em\">sps00</text></svg></svg><line stroke=\"black\" x1=\"50%\" x2=\"50%\" y1=\"1.2em\" y2=\"3em\" /></svg><line stroke=\"black\" x1=\"50%\" x2=\"48.0769%\" y1=\"1.2em\" y2=\"3em\" /><svg width=\"38.4615%\" x=\"61.5385%\" y=\"3em\"><defs /><svg width=\"100%\" x=\"0\" y=\"0em\"><defs /><text text-anchor=\"middle\" x=\"50%\" y=\"1em\">avestruz</text></svg><svg width=\"100%\" x=\"0%\" y=\"3em\"><defs /><svg width=\"100%\" x=\"0\" y=\"0em\"><defs /><text text-anchor=\"middle\" x=\"50%\" y=\"1em\">da0fs0</text></svg></svg><line stroke=\"black\" x1=\"50%\" x2=\"50%\" y1=\"1.2em\" y2=\"3em\" /></svg><line stroke=\"black\" x1=\"50%\" x2=\"80.7692%\" y1=\"1.2em\" y2=\"3em\" /></svg><line stroke=\"black\" x1=\"50%\" x2=\"75.9259%\" y1=\"1.2em\" y2=\"3em\" /></svg>"
      ],
      "text/plain": [
       "Tree('S', [Tree('Quien', [('Eustaquio', 'sn.e-SUJ')]), ('tiene', 'vmip3s0'), ('un', 'di0ms0'), Tree('Qué', [('huevo', 'ncms000'), ('de', 'sps00'), ('avestruz', 'da0fs0')])])"
      ]
     },
     "execution_count": 62,
     "metadata": {},
     "output_type": "execute_result"
    }
   ],
   "source": [
    "parsear(hmm.tag(tokenizar('Eustaquio tiene un huevo de avestruz')))"
   ]
  },
  {
   "cell_type": "markdown",
   "id": "0cae3b15",
   "metadata": {},
   "source": [
    "## Exercises"
   ]
  },
  {
   "cell_type": "markdown",
   "id": "6c30221d",
   "metadata": {},
   "source": [
    "### Exercise 1\n",
    "\n",
    "Create a tagger that can detect the object and the owner of it. Solve it using the EAGLES tags.\n",
    "\n",
    "Create the tagger from scratch, you can't use the cess_esp training set.\n",
    "\n",
    "Your tagger must be able to tag correctly this phrases (as minimum):\n",
    "\n",
    "* Eustaquio tiene un coche amarillo\n",
    "* Hermenegildo tiene un mechero\n",
    "* Sole tiene un huevo de avestruz\n",
    "* María quiere una tele curva\n",
    "* El niño pide tortilla\n",
    "\n",
    "\n",
    "The output have to be a dictionary like this: {\"Person\": \"Eustaquio\", \"Object\": \"Yellow car\"}"
   ]
  },
  {
   "cell_type": "code",
   "execution_count": 63,
   "id": "98eeccf1",
   "metadata": {},
   "outputs": [],
   "source": [
    "corpus= [\n",
    "    \n",
    "    \"Eustaquio tiene un coche amarillo\",\n",
    "    \"Hermenegildo tiene un mechero\",\n",
    "    \"Sole tiene un huevo de avestruz\",\n",
    "    \"María quiere una tele curva\",\n",
    "    \"El niño pide tortilla\", \n",
    "    \n",
    "]"
   ]
  },
  {
   "cell_type": "code",
   "execution_count": 64,
   "id": "faf4d5a0",
   "metadata": {},
   "outputs": [
    {
     "data": {
      "text/plain": [
       "[['eustaquio', 'tiene', 'un', 'coche', 'amarillo'],\n",
       " ['hermenegildo', 'tiene', 'un', 'mechero'],\n",
       " ['sole', 'tiene', 'un', 'huevo', 'de', 'avestruz'],\n",
       " ['maría', 'quiere', 'una', 'tele', 'curva'],\n",
       " ['el', 'niño', 'pide', 'tortilla']]"
      ]
     },
     "execution_count": 64,
     "metadata": {},
     "output_type": "execute_result"
    }
   ],
   "source": [
    "# Primero tokenizar\n",
    "\n",
    "frases_tokens= []\n",
    "\n",
    "for frase in corpus:\n",
    "    \n",
    "    frases_tokens.append(pln.tokenizar(frase))   \n",
    "    \n",
    "frases_tokens"
   ]
  },
  {
   "cell_type": "markdown",
   "id": "ae9abafb",
   "metadata": {},
   "source": [
    "`frase` recorre todo el `corpus` donde están todas las frases que tokeniza y añade a la lista vacía `frases_tokens`"
   ]
  },
  {
   "cell_type": "markdown",
   "id": "b044eed4",
   "metadata": {},
   "source": [
    "### Ejercicio 2\n",
    "\n",
    "\n",
    "A major restaurant chain wants to implement a chat ordering system, so that customers simply write their order on a tablet \n",
    "or via whatsapp and the virtual assistant will take care of managing the order with the kitchen and waiters.\n",
    "\n",
    "\n",
    "The restaurant needs to have a list of the dishes and drinks separately along with the number of units of each item ordered (and the ingredients as optional).\n",
    "\n",
    "\n",
    "To do this exercise, train and compare the performance of each tagger, then choose the best one. You will have to retrain your tagger if needed.\n",
    "\n",
    "\n",
    "We will work with the NLTK library, with the tokeniser included in the library, the cess_esp corpus and the 4 taggers seen in the unit. We will also have to import the NLTK RegEx Parser.\n",
    "\n",
    "\n",
    "Finally, as non-mandatory add-ons that we will use to format or make the work easier, sklearn's train_test_split and pandas.\n"
   ]
  },
  {
   "cell_type": "code",
   "execution_count": 65,
   "id": "dacdb580",
   "metadata": {},
   "outputs": [],
   "source": [
    "from sklearn.model_selection import train_test_split"
   ]
  },
  {
   "cell_type": "code",
   "execution_count": 66,
   "id": "1f17e04c",
   "metadata": {},
   "outputs": [
    {
     "data": {
      "text/plain": [
       "[['El', 'grupo', 'estatal', 'Electricité_de_France', '-Fpa-', 'EDF', '-Fpt-', 'anunció', 'hoy', ',', 'jueves', ',', 'la', 'compra', 'del', '51_por_ciento', 'de', 'la', 'empresa', 'mexicana', 'Electricidad_Águila_de_Altamira', '-Fpa-', 'EAA', '-Fpt-', ',', 'creada', 'por', 'el', 'japonés', 'Mitsubishi_Corporation', 'para', 'poner_en_marcha', 'una', 'central', 'de', 'gas', 'de', '495', 'megavatios', '.'], ['Una', 'portavoz', 'de', 'EDF', 'explicó', 'a', 'EFE', 'que', 'el', 'proyecto', 'para', 'la', 'construcción', 'de', 'Altamira_2', ',', 'al', 'norte', 'de', 'Tampico', ',', 'prevé', 'la', 'utilización', 'de', 'gas', 'natural', 'como', 'combustible', 'principal', 'en', 'una', 'central', 'de', 'ciclo', 'combinado', 'que', 'debe', 'empezar', 'a', 'funcionar', 'en', 'mayo_del_2002', '.'], ...]"
      ]
     },
     "execution_count": 66,
     "metadata": {},
     "output_type": "execute_result"
    }
   ],
   "source": [
    "# Tagger training\n",
    "cess_esp.sents()"
   ]
  },
  {
   "cell_type": "code",
   "execution_count": 67,
   "id": "e797b91d",
   "metadata": {},
   "outputs": [
    {
     "data": {
      "text/plain": [
       "[[('El', 'da0ms0'), ('grupo', 'ncms000'), ('estatal', 'aq0cs0'), ('Electricité_de_France', 'np00000'), ('-Fpa-', 'Fpa'), ('EDF', 'np00000'), ('-Fpt-', 'Fpt'), ('anunció', 'vmis3s0'), ('hoy', 'rg'), (',', 'Fc'), ('jueves', 'W'), (',', 'Fc'), ('la', 'da0fs0'), ('compra', 'ncfs000'), ('del', 'spcms'), ('51_por_ciento', 'Zp'), ('de', 'sps00'), ('la', 'da0fs0'), ('empresa', 'ncfs000'), ('mexicana', 'aq0fs0'), ('Electricidad_Águila_de_Altamira', 'np00000'), ('-Fpa-', 'Fpa'), ('EAA', 'np00000'), ('-Fpt-', 'Fpt'), (',', 'Fc'), ('creada', 'aq0fsp'), ('por', 'sps00'), ('el', 'da0ms0'), ('japonés', 'aq0ms0'), ('Mitsubishi_Corporation', 'np00000'), ('para', 'sps00'), ('poner_en_marcha', 'vmn0000'), ('una', 'di0fs0'), ('central', 'ncfs000'), ('de', 'sps00'), ('gas', 'ncms000'), ('de', 'sps00'), ('495', 'Z'), ('megavatios', 'ncmp000'), ('.', 'Fp')], [('Una', 'di0fs0'), ('portavoz', 'nccs000'), ('de', 'sps00'), ('EDF', 'np00000'), ('explicó', 'vmis3s0'), ('a', 'sps00'), ('EFE', 'np00000'), ('que', 'cs'), ('el', 'da0ms0'), ('proyecto', 'ncms000'), ('para', 'sps00'), ('la', 'da0fs0'), ('construcción', 'ncfs000'), ('de', 'sps00'), ('Altamira_2', 'np00000'), (',', 'Fc'), ('al', 'spcms'), ('norte', 'ncms000'), ('de', 'sps00'), ('Tampico', 'np00000'), (',', 'Fc'), ('prevé', 'vmm02s0'), ('la', 'da0fs0'), ('utilización', 'ncfs000'), ('de', 'sps00'), ('gas', 'ncms000'), ('natural', 'aq0cs0'), ('como', 'cs'), ('combustible', 'ncms000'), ('principal', 'aq0cs0'), ('en', 'sps00'), ('una', 'di0fs0'), ('central', 'ncfs000'), ('de', 'sps00'), ('ciclo', 'ncms000'), ('combinado', 'aq0msp'), ('que', 'pr0cn000'), ('debe', 'vmip3s0'), ('empezar', 'vmn0000'), ('a', 'sps00'), ('funcionar', 'vmn0000'), ('en', 'sps00'), ('mayo_del_2002', 'W'), ('.', 'Fp')], ...]"
      ]
     },
     "execution_count": 67,
     "metadata": {},
     "output_type": "execute_result"
    }
   ],
   "source": [
    "cess_esp.tagged_sents()"
   ]
  },
  {
   "cell_type": "code",
   "execution_count": 68,
   "id": "3a7d9a3c",
   "metadata": {},
   "outputs": [
    {
     "name": "stdout",
     "output_type": "stream",
     "text": [
      "Train tokens: 5427 \n",
      "Tokens test:     603\n"
     ]
    }
   ],
   "source": [
    "# We generate the Train and Test sets\n",
    "\n",
    "data_train, data_test = train_test_split(cess_esp.tagged_sents(), test_size=0.10, random_state=1)\n",
    "\n",
    "print('Train tokens:',len(data_train),\n",
    "      '\\nTokens test:    ',len(data_test))"
   ]
  },
  {
   "cell_type": "markdown",
   "id": "ab7d5c12",
   "metadata": {},
   "source": [
    "Having the sets already created, we move on to train the taggers.\n",
    "\n",
    "To train the ngrams we must execute the tagger with the corpus, for example UnigramTagger(data_train). We will see that the ngrams can have as backoff another ngram.\n",
    "\n",
    "In the case of HiddenMarkovModelTagger we must execute the function .train().\n",
    "\n"
   ]
  },
  {
   "cell_type": "code",
   "execution_count": 69,
   "id": "bde2ba62",
   "metadata": {},
   "outputs": [],
   "source": [
    "unigram  = UnigramTagger(data_train)\n",
    "bigram   = BigramTagger(data_train, backoff=unigram)\n",
    "trigram  = TrigramTagger(data_train, backoff=bigram)\n",
    "hmm      = HiddenMarkovModelTagger.train(data_train)"
   ]
  },
  {
   "cell_type": "markdown",
   "id": "56655be2",
   "metadata": {},
   "source": [
    "Once the taggers have been trained, we are going to evaluate how each of them tends to perform with the test set. To evaluate it we have to use the train() function, for all the taggers. Let's see how each of them performs.\n",
    "\n",
    "When you run the training, pay attention to the time it takes for each of the taggers to display the score. While the ngrams are quite fast to extract the information, the HMM takes longer to get the data."
   ]
  },
  {
   "cell_type": "code",
   "execution_count": 70,
   "id": "e33e0691",
   "metadata": {},
   "outputs": [
    {
     "name": "stderr",
     "output_type": "stream",
     "text": [
      "C:\\Users\\User\\AppData\\Local\\Temp\\ipykernel_4628\\3977873343.py:1: DeprecationWarning: \n",
      "  Function evaluate() has been deprecated.  Use accuracy(gold)\n",
      "  instead.\n",
      "  print ('Hit with unigramas: %.2f %%' % (unigram.evaluate(data_test)*100))\n",
      "C:\\Users\\User\\AppData\\Local\\Temp\\ipykernel_4628\\3977873343.py:2: DeprecationWarning: \n",
      "  Function evaluate() has been deprecated.  Use accuracy(gold)\n",
      "  instead.\n",
      "  print ('Hit with bigramas:  %.2f %%' % (bigram.evaluate(data_test)*100))\n",
      "C:\\Users\\User\\AppData\\Local\\Temp\\ipykernel_4628\\3977873343.py:3: DeprecationWarning: \n",
      "  Function evaluate() has been deprecated.  Use accuracy(gold)\n",
      "  instead.\n",
      "  print ('Hit with trigramas: %.2f %%' % (trigram.evaluate(data_test)*100))\n"
     ]
    },
    {
     "name": "stdout",
     "output_type": "stream",
     "text": [
      "Hit with unigramas: 87.27 %\n",
      "Hit with bigramas:  88.78 %\n",
      "Hit with trigramas: 88.77 %\n"
     ]
    },
    {
     "name": "stderr",
     "output_type": "stream",
     "text": [
      "C:\\Users\\User\\AppData\\Local\\Temp\\ipykernel_4628\\3977873343.py:4: DeprecationWarning: \n",
      "  Function evaluate() has been deprecated.  Use accuracy(gold)\n",
      "  instead.\n",
      "  print ('Hit with HMMs:      %.2f %%' % (hmm.evaluate(data_test)*100))\n"
     ]
    },
    {
     "name": "stdout",
     "output_type": "stream",
     "text": [
      "Hit with HMMs:      89.57 %\n"
     ]
    }
   ],
   "source": [
    "print ('Hit with unigramas: %.2f %%' % (unigram.evaluate(data_test)*100))\n",
    "print ('Hit with bigramas:  %.2f %%' % (bigram.evaluate(data_test)*100))\n",
    "print ('Hit with trigramas: %.2f %%' % (trigram.evaluate(data_test)*100))\n",
    "print ('Hit with HMMs:      %.2f %%' % (hmm.evaluate(data_test)*100))"
   ]
  },
  {
   "cell_type": "markdown",
   "id": "edb98f01",
   "metadata": {},
   "source": [
    "Now, we can retrain the taggers with the test data. Although we will not see a big improvement in general terms, as the volume of data we are using is small, it will help.\n",
    "\n",
    "We will see that if we evaluate the taggers again on the test set, we will get almost 100% accuracy. This improvement is greater in the ngrams because they are more 'logical' rules, so to speak, so with small volumes of data we will see more success. On the other hand, in the HMM, we see better improvement in the case of evaluating on the data but in those tokens not trained we will have better performance than the rest."
   ]
  },
  {
   "cell_type": "code",
   "execution_count": 71,
   "id": "10f1aee2",
   "metadata": {},
   "outputs": [
    {
     "name": "stderr",
     "output_type": "stream",
     "text": [
      "C:\\Users\\User\\AppData\\Local\\Temp\\ipykernel_4628\\1586611394.py:6: DeprecationWarning: \n",
      "  Function evaluate() has been deprecated.  Use accuracy(gold)\n",
      "  instead.\n",
      "  print ('Acierto con unigramas: %.2f %%' % (unigram.evaluate(data_test)*100))\n",
      "C:\\Users\\User\\AppData\\Local\\Temp\\ipykernel_4628\\1586611394.py:7: DeprecationWarning: \n",
      "  Function evaluate() has been deprecated.  Use accuracy(gold)\n",
      "  instead.\n",
      "  print ('Acierto con bigramas:  %.2f %%' % (bigram.evaluate(data_test)*100))\n",
      "C:\\Users\\User\\AppData\\Local\\Temp\\ipykernel_4628\\1586611394.py:8: DeprecationWarning: \n",
      "  Function evaluate() has been deprecated.  Use accuracy(gold)\n",
      "  instead.\n",
      "  print ('Acierto con trigramas: %.2f %%' % (trigram.evaluate(data_test)*100))\n"
     ]
    },
    {
     "name": "stdout",
     "output_type": "stream",
     "text": [
      "Acierto con unigramas: 96.67 %\n",
      "Acierto con bigramas:  98.86 %\n",
      "Acierto con trigramas: 99.56 %\n"
     ]
    },
    {
     "name": "stderr",
     "output_type": "stream",
     "text": [
      "C:\\Users\\User\\AppData\\Local\\Temp\\ipykernel_4628\\1586611394.py:9: DeprecationWarning: \n",
      "  Function evaluate() has been deprecated.  Use accuracy(gold)\n",
      "  instead.\n",
      "  print ('Acierto con HMMs:      %.2f %%' % (hmm.evaluate(data_test)*100))\n"
     ]
    },
    {
     "name": "stdout",
     "output_type": "stream",
     "text": [
      "Acierto con HMMs:      93.62 %\n"
     ]
    }
   ],
   "source": [
    "unigram  = UnigramTagger(data_test)\n",
    "bigram   = BigramTagger(data_test, backoff=unigram)\n",
    "trigram  = TrigramTagger(data_test, backoff=bigram)\n",
    "hmm      = HiddenMarkovModelTagger.train(data_test)\n",
    "\n",
    "print ('Acierto con unigramas: %.2f %%' % (unigram.evaluate(data_test)*100))\n",
    "print ('Acierto con bigramas:  %.2f %%' % (bigram.evaluate(data_test)*100))\n",
    "print ('Acierto con trigramas: %.2f %%' % (trigram.evaluate(data_test)*100))\n",
    "print ('Acierto con HMMs:      %.2f %%' % (hmm.evaluate(data_test)*100))"
   ]
  },
  {
   "cell_type": "markdown",
   "id": "a64fa7f1",
   "metadata": {},
   "source": [
    "As we have seen that the HMM has better performance, a priori, we will use this one to elaborate our command bot.\n",
    "\n",
    "##### Start building the bot\n",
    "\n",
    "Now we will create a sentence of our bot's theme to see how it performs with our dataset."
   ]
  },
  {
   "cell_type": "code",
   "execution_count": 72,
   "id": "18fbc403",
   "metadata": {},
   "outputs": [],
   "source": [
    "food_text = 'Quiero unos macarrones con queso y una cerveza'"
   ]
  },
  {
   "cell_type": "code",
   "execution_count": 73,
   "id": "c3b77db0",
   "metadata": {},
   "outputs": [
    {
     "data": {
      "text/plain": [
       "['Quiero', 'unos', 'macarrones', 'con', 'queso', 'y', 'una', 'cerveza']"
      ]
     },
     "execution_count": 73,
     "metadata": {},
     "output_type": "execute_result"
    }
   ],
   "source": [
    "tokens = nltk.word_tokenize(food_text)\n",
    "tokens"
   ]
  },
  {
   "cell_type": "markdown",
   "id": "7b2710bc",
   "metadata": {},
   "source": [
    "Once we have the tokens, we will use the .tag() function."
   ]
  },
  {
   "cell_type": "code",
   "execution_count": 74,
   "id": "e8eee14c",
   "metadata": {},
   "outputs": [
    {
     "data": {
      "text/plain": [
       "[('Quiero', 'da0mp0'),\n",
       " ('unos', 'di0mp0'),\n",
       " ('macarrones', 'ncmp000'),\n",
       " ('con', 'sps00'),\n",
       " ('queso', 'np0000l'),\n",
       " ('y', 'cc'),\n",
       " ('una', 'di0fs0'),\n",
       " ('cerveza', 'ncfs000')]"
      ]
     },
     "execution_count": 74,
     "metadata": {},
     "output_type": "execute_result"
    }
   ],
   "source": [
    "food_tagged = hmm.tag(tokens)\n",
    "food_tagged"
   ]
  },
  {
   "cell_type": "markdown",
   "id": "665fc529",
   "metadata": {},
   "source": [
    "We can see that the tags obtained are not quite correct. To check them, we should check the EAGLES tags in the link provided in the syllabus: https://www.cs.upc.edu/~nlp/tools/parole-sp.html.\n"
   ]
  },
  {
   "cell_type": "code",
   "execution_count": 75,
   "id": "5a6f93c4",
   "metadata": {},
   "outputs": [
    {
     "name": "stdout",
     "output_type": "stream",
     "text": [
      "Acierto con unigramas: 50.00 %\n",
      "Acierto con bigramas:  50.00 %\n",
      "Acierto con trigramas: 50.00 %\n",
      "Acierto con HMMs:      100.00 %\n"
     ]
    },
    {
     "name": "stderr",
     "output_type": "stream",
     "text": [
      "C:\\Users\\User\\AppData\\Local\\Temp\\ipykernel_4628\\3193812179.py:1: DeprecationWarning: \n",
      "  Function evaluate() has been deprecated.  Use accuracy(gold)\n",
      "  instead.\n",
      "  print ('Acierto con unigramas: %.2f %%' % (unigram.evaluate([food_tagged])*100))\n",
      "C:\\Users\\User\\AppData\\Local\\Temp\\ipykernel_4628\\3193812179.py:2: DeprecationWarning: \n",
      "  Function evaluate() has been deprecated.  Use accuracy(gold)\n",
      "  instead.\n",
      "  print ('Acierto con bigramas:  %.2f %%' % (bigram.evaluate([food_tagged])*100))\n",
      "C:\\Users\\User\\AppData\\Local\\Temp\\ipykernel_4628\\3193812179.py:3: DeprecationWarning: \n",
      "  Function evaluate() has been deprecated.  Use accuracy(gold)\n",
      "  instead.\n",
      "  print ('Acierto con trigramas: %.2f %%' % (trigram.evaluate([food_tagged])*100))\n",
      "C:\\Users\\User\\AppData\\Local\\Temp\\ipykernel_4628\\3193812179.py:4: DeprecationWarning: \n",
      "  Function evaluate() has been deprecated.  Use accuracy(gold)\n",
      "  instead.\n",
      "  print ('Acierto con HMMs:      %.2f %%' % (hmm.evaluate([food_tagged])*100))\n"
     ]
    }
   ],
   "source": [
    "print ('Acierto con unigramas: %.2f %%' % (unigram.evaluate([food_tagged])*100))\n",
    "print ('Acierto con bigramas:  %.2f %%' % (bigram.evaluate([food_tagged])*100))\n",
    "print ('Acierto con trigramas: %.2f %%' % (trigram.evaluate([food_tagged])*100))\n",
    "print ('Acierto con HMMs:      %.2f %%' % (hmm.evaluate([food_tagged])*100))"
   ]
  },
  {
   "cell_type": "code",
   "execution_count": 76,
   "id": "16a1a633",
   "metadata": {},
   "outputs": [
    {
     "name": "stdout",
     "output_type": "stream",
     "text": [
      "Unigramas: [('Quiero', None), ('unos', 'di0mp0'), ('macarrones', None), ('con', 'sps00'), ('queso', None), ('y', 'cc'), ('una', 'di0fs0'), ('cerveza', None)]\n",
      "Bigramas:  [('Quiero', None), ('unos', 'di0mp0'), ('macarrones', None), ('con', 'sps00'), ('queso', None), ('y', 'cc'), ('una', 'di0fs0'), ('cerveza', None)]\n",
      "Trigramas:  [('Quiero', None), ('unos', 'di0mp0'), ('macarrones', None), ('con', 'sps00'), ('queso', None), ('y', 'cc'), ('una', 'di0fs0'), ('cerveza', None)]\n"
     ]
    }
   ],
   "source": [
    "print ('Unigramas:', (unigram.tag(tokens)))\n",
    "print ('Bigramas: ', (bigram.tag(tokens)))\n",
    "print ('Trigramas: ', (trigram.tag(tokens)))"
   ]
  },
  {
   "cell_type": "markdown",
   "id": "355058a3",
   "metadata": {},
   "source": [
    "Now that we have seen these results, we confirm that the best performer is HMM, which has found labels, which although not entirely correct have been approximate, in some cases it has confused the gender, in others the number, although this would not affect our information extraction too much. But in general it has tagged 6 of the 8 tokens in word type.\n",
    "\n",
    "The ngrams, however, failed to identify the tokens in 50% of the cases. So we would have had problems when using them as taggers.\n",
    "\n",
    "##### Correct the tagger\n",
    "\n",
    "Now that we've corrected the tags, it's time to retrain the tagger with the correct phrase, so let's get on with it.\n",
    "We're also going to work with the foodTagger (it's an HMM trained with our food phrases)."
   ]
  },
  {
   "cell_type": "code",
   "execution_count": 77,
   "id": "adbafe99",
   "metadata": {},
   "outputs": [],
   "source": [
    "corrected_tokens = [('Quiero', 'vmpip1s0'), ('unos', 'mcmp00'), ('macarrones', 'ncmp000'), ('con', 'sps00'), ('queso', 'ncms000'), ('y', 'cc'), ('una', 'mcfp00'), ('cerveza', 'ncfs000')]\n",
    "\n",
    "foodTagger = hmm.train([corrected_tokens])"
   ]
  },
  {
   "cell_type": "markdown",
   "id": "c077d2c0",
   "metadata": {},
   "source": [
    "Now, once the tagger is trained, if we pass the same phrase again, it will hit all of them because it is trained to detect the tags."
   ]
  },
  {
   "cell_type": "code",
   "execution_count": 78,
   "id": "eace7b66",
   "metadata": {},
   "outputs": [
    {
     "data": {
      "text/plain": [
       "[('Quiero', 'vmpip1s0'),\n",
       " ('unos', 'mcmp00'),\n",
       " ('macarrones', 'ncmp000'),\n",
       " ('con', 'sps00'),\n",
       " ('queso', 'ncms000'),\n",
       " ('y', 'cc'),\n",
       " ('una', 'mcfp00'),\n",
       " ('cerveza', 'ncfs000')]"
      ]
     },
     "execution_count": 78,
     "metadata": {},
     "output_type": "execute_result"
    }
   ],
   "source": [
    "food_tagged = foodTagger.tag(tokens)\n",
    "food_tagged"
   ]
  },
  {
   "cell_type": "markdown",
   "id": "bf552853",
   "metadata": {},
   "source": [
    "The correction of the tagger is a process that we will have to elaborate repeatedly in order to improve the results. It is a process that could be greatly shortened if we had a corpus with thousands of phrases and tokens like the initial one, but from our specific context.\n"
   ]
  },
  {
   "cell_type": "code",
   "execution_count": 79,
   "id": "5b4f454f",
   "metadata": {},
   "outputs": [],
   "source": [
    "reglas = r'''\n",
    "\n",
    "    cantidad: {<mccp00>}\n",
    "    comida: {<ncms000|ncfs000|ncmp000|ncfp000>*<sps00>*<da0ms0|da0fs0|da0mp0|da0fp0|da0ns0>*<ncms000|ncfs000|ncmp000|ncfp000|np0000l|np0000p>}\n",
    "    cantidad: {<di0ms0|di0fs0|di0mp0|di0fp0|dn0cp0|mcmp00|mcfp00> || <mcmp00>* || <mcfp00> }\n",
    "     \n",
    "     '''"
   ]
  },
  {
   "cell_type": "markdown",
   "id": "834618fb",
   "metadata": {},
   "source": [
    "Now we have the grammar created, let's create the regex function that extracts the information."
   ]
  },
  {
   "cell_type": "code",
   "execution_count": 80,
   "id": "af351a4b",
   "metadata": {},
   "outputs": [],
   "source": [
    "RegexP = nltk.RegexpParser(reglas)\n",
    "\n",
    "def parsear(phrase):\n",
    "    return RegexP.parse(phrase)"
   ]
  },
  {
   "cell_type": "code",
   "execution_count": 81,
   "id": "d22a2bf8",
   "metadata": {},
   "outputs": [
    {
     "name": "stdout",
     "output_type": "stream",
     "text": [
      "(S\n",
      "  Quiero/vmpip1s0\n",
      "  (cantidad unos/mcmp00)\n",
      "  (comida macarrones/ncmp000 con/sps00 queso/ncms000)\n",
      "  y/cc\n",
      "  (cantidad una/mcfp00)\n",
      "  (comida cerveza/ncfs000))\n"
     ]
    }
   ],
   "source": [
    "frase_regex = parsear(corrected_tokens)\n",
    "print(frase_regex)"
   ]
  },
  {
   "cell_type": "markdown",
   "id": "cfa44071",
   "metadata": {},
   "source": [
    "##### Function to extract the classified nodes\n",
    "\n",
    "Once we have managed to identify the food and the quantity of the order, we will generate a JSON with the order data."
   ]
  },
  {
   "cell_type": "code",
   "execution_count": 82,
   "id": "df8d1a2b",
   "metadata": {},
   "outputs": [],
   "source": [
    "def genera_comanda(tree):\n",
    "    \n",
    "    result = []\n",
    "    \n",
    "    \n",
    "    item = {}\n",
    "    item['item'] = None\n",
    "    item['cantidad'] = 0\n",
    "    \n",
    "    elementos = 0\n",
    "    \n",
    "    #First of all we will count how many items are in the order\n",
    "    for nodo in tree:\n",
    "        if type(nodo) == tuple:\n",
    "            continue\n",
    "        tipo = nodo.label()\n",
    "        if tipo == 'comida':\n",
    "            elementos += 1\n",
    "            \n",
    "    #We will now generate each order line with its quantities\n",
    "    for nodo in tree:\n",
    "        if type(nodo) == tuple:\n",
    "            continue\n",
    "        \n",
    "        count = 0\n",
    "        valor = ''\n",
    "        \n",
    "        for elemento in nodo:\n",
    "            count += 1\n",
    "            palabra, categoria = elemento\n",
    "                \n",
    "            if count == 1:\n",
    "                valor = valor + palabra\n",
    "            else:\n",
    "                valor = valor + ' ' + palabra\n",
    "            \n",
    "            if nodo.label() == 'cantidad':\n",
    "                item['cantidad'] = valor\n",
    "            else:\n",
    "                item['item'] = valor\n",
    "        \n",
    "        if nodo.label() == 'comida':\n",
    "            result.append(item)\n",
    "            item = {}\n",
    "            #print(item)\n",
    "        \n",
    "    \n",
    "    return result"
   ]
  },
  {
   "cell_type": "code",
   "execution_count": 83,
   "id": "ae3cab0a",
   "metadata": {},
   "outputs": [
    {
     "data": {
      "text/plain": [
       "[{'item': 'macarrones con queso', 'cantidad': 'unos'},\n",
       " {'cantidad': 'una', 'item': 'cerveza'}]"
      ]
     },
     "execution_count": 83,
     "metadata": {},
     "output_type": "execute_result"
    }
   ],
   "source": [
    "genera_comanda(frase_regex)"
   ]
  },
  {
   "cell_type": "markdown",
   "id": "ec84bead",
   "metadata": {},
   "source": [
    "Now that the function generates the comma, we will generate a new function that does it from 0"
   ]
  },
  {
   "cell_type": "code",
   "execution_count": 84,
   "id": "af893a9f",
   "metadata": {},
   "outputs": [],
   "source": [
    "def procesa_frase(frase):\n",
    "    \n",
    "    tokens = nltk.word_tokenize(frase)\n",
    "    print('Tokens:')\n",
    "    print(tokens)\n",
    "    print('\\n', '-----------------------------------------', '\\n')\n",
    "    tags = foodTagger.tag(tokens)\n",
    "    print('TAGS:')\n",
    "    print(tags)\n",
    "    print('\\n', '-----------------------------------------', '\\n')\n",
    "    parsed = parsear(tags)\n",
    "    print('Parsed:')\n",
    "    print(parsed)\n",
    "    print('\\n', '-----------------------------------------', '\\n')\n",
    "    \n",
    "    return genera_comanda(parsed)    \n",
    "    "
   ]
  },
  {
   "cell_type": "code",
   "execution_count": 85,
   "id": "f7f0d29b",
   "metadata": {},
   "outputs": [
    {
     "name": "stdout",
     "output_type": "stream",
     "text": [
      "Tokens:\n",
      "['pedir', 'dos', 'pizzas', 'cuatro', 'quesos', 'y', 'cinco', 'fantas']\n",
      "\n",
      " ----------------------------------------- \n",
      "\n",
      "TAGS:\n",
      "[('pedir', 'vmpip1s0'), ('dos', 'mcmp00'), ('pizzas', 'ncmp000'), ('cuatro', 'sps00'), ('quesos', 'ncms000'), ('y', 'cc'), ('cinco', 'mcfp00'), ('fantas', 'ncfs000')]\n",
      "\n",
      " ----------------------------------------- \n",
      "\n",
      "Parsed:\n",
      "(S\n",
      "  pedir/vmpip1s0\n",
      "  (cantidad dos/mcmp00)\n",
      "  (comida pizzas/ncmp000 cuatro/sps00 quesos/ncms000)\n",
      "  y/cc\n",
      "  (cantidad cinco/mcfp00)\n",
      "  (comida fantas/ncfs000))\n",
      "\n",
      " ----------------------------------------- \n",
      "\n"
     ]
    },
    {
     "data": {
      "text/plain": [
       "[{'item': 'pizzas cuatro quesos', 'cantidad': 'dos'},\n",
       " {'cantidad': 'cinco', 'item': 'fantas'}]"
      ]
     },
     "execution_count": 85,
     "metadata": {},
     "output_type": "execute_result"
    }
   ],
   "source": [
    "# We test the function we have created to parse complete sentences\n",
    "\n",
    "fraseTest = 'pedir dos pizzas cuatro quesos y cinco fantas'\n",
    "\n",
    "procesa_frase(fraseTest)"
   ]
  },
  {
   "cell_type": "code",
   "execution_count": 86,
   "id": "48e86c14",
   "metadata": {},
   "outputs": [
    {
     "name": "stdout",
     "output_type": "stream",
     "text": [
      "Tokens:\n",
      "['dos', 'pizzas', 'cuatro', 'quesos', 'y', 'cinco', 'fantas']\n",
      "\n",
      " ----------------------------------------- \n",
      "\n",
      "TAGS:\n",
      "[('dos', 'vmpip1s0'), ('pizzas', 'mcmp00'), ('cuatro', 'ncmp000'), ('quesos', 'sps00'), ('y', 'ncms000'), ('cinco', 'cc'), ('fantas', 'mcfp00')]\n",
      "\n",
      " ----------------------------------------- \n",
      "\n",
      "Parsed:\n",
      "(S\n",
      "  dos/vmpip1s0\n",
      "  (cantidad pizzas/mcmp00)\n",
      "  (comida cuatro/ncmp000 quesos/sps00 y/ncms000)\n",
      "  cinco/cc\n",
      "  (cantidad fantas/mcfp00))\n",
      "\n",
      " ----------------------------------------- \n",
      "\n"
     ]
    },
    {
     "data": {
      "text/plain": [
       "[{'item': 'cuatro quesos y', 'cantidad': 'pizzas'}]"
      ]
     },
     "execution_count": 86,
     "metadata": {},
     "output_type": "execute_result"
    }
   ],
   "source": [
    "fraseTest = 'dos pizzas cuatro quesos y cinco fantas'\n",
    "procesa_frase(fraseTest)"
   ]
  },
  {
   "cell_type": "markdown",
   "id": "306df565",
   "metadata": {},
   "source": [
    "In this sentence you have only identified, and wrongly, so let's correct it and train our tagger."
   ]
  },
  {
   "cell_type": "code",
   "execution_count": 87,
   "id": "49643486",
   "metadata": {},
   "outputs": [],
   "source": [
    "corrected_order = [('dos', 'mccp00'), ('pizzas', 'ncmp000'), ('cuatro', 'sps00'), ('quesos', 'ncms000'), ('y', 'cc'), ('cinco', 'mcfp00'), ('fantas', 'ncfs000')]\n",
    "\n",
    "foodTagger = foodTagger.train([corrected_order])"
   ]
  },
  {
   "cell_type": "code",
   "execution_count": 88,
   "id": "223d5aae",
   "metadata": {},
   "outputs": [
    {
     "name": "stdout",
     "output_type": "stream",
     "text": [
      "Tokens:\n",
      "['dos', 'pizzas', 'cuatro', 'quesos', 'y', 'cinco', 'fantas']\n",
      "\n",
      " ----------------------------------------- \n",
      "\n",
      "TAGS:\n",
      "[('dos', 'mccp00'), ('pizzas', 'ncmp000'), ('cuatro', 'sps00'), ('quesos', 'ncms000'), ('y', 'cc'), ('cinco', 'mcfp00'), ('fantas', 'ncfs000')]\n",
      "\n",
      " ----------------------------------------- \n",
      "\n",
      "Parsed:\n",
      "(S\n",
      "  (cantidad dos/mccp00)\n",
      "  (comida pizzas/ncmp000 cuatro/sps00 quesos/ncms000)\n",
      "  y/cc\n",
      "  (cantidad cinco/mcfp00)\n",
      "  (comida fantas/ncfs000))\n",
      "\n",
      " ----------------------------------------- \n",
      "\n"
     ]
    },
    {
     "data": {
      "text/plain": [
       "[{'item': 'pizzas cuatro quesos', 'cantidad': 'dos'},\n",
       " {'cantidad': 'cinco', 'item': 'fantas'}]"
      ]
     },
     "execution_count": 88,
     "metadata": {},
     "output_type": "execute_result"
    }
   ],
   "source": [
    "procesa_frase(fraseTest)"
   ]
  },
  {
   "cell_type": "code",
   "execution_count": 89,
   "id": "e402aa95",
   "metadata": {},
   "outputs": [
    {
     "name": "stdout",
     "output_type": "stream",
     "text": [
      "Tokens:\n",
      "['dos', 'hamburguesas']\n",
      "\n",
      " ----------------------------------------- \n",
      "\n",
      "TAGS:\n",
      "[('dos', 'mccp00'), ('hamburguesas', 'ncmp000')]\n",
      "\n",
      " ----------------------------------------- \n",
      "\n",
      "Parsed:\n",
      "(S (cantidad dos/mccp00) (comida hamburguesas/ncmp000))\n",
      "\n",
      " ----------------------------------------- \n",
      "\n"
     ]
    },
    {
     "data": {
      "text/plain": [
       "[{'item': 'hamburguesas', 'cantidad': 'dos'}]"
      ]
     },
     "execution_count": 89,
     "metadata": {},
     "output_type": "execute_result"
    }
   ],
   "source": [
    "procesa_frase('dos hamburguesas')"
   ]
  },
  {
   "cell_type": "markdown",
   "id": "7eea57e5",
   "metadata": {},
   "source": [
    "# Conversational Bot, topic modeling, Sentiment Analysis"
   ]
  },
  {
   "cell_type": "markdown",
   "id": "93d5336d",
   "metadata": {},
   "source": [
    "## Basic chat\n",
    "\n",
    "\n",
    "The NLTK Chat package is used to create a basic chat. \n",
    "\n",
    "\n",
    "Responses are automatically generated based on the phrases typed by the user. It consists of pattern matching."
   ]
  },
  {
   "cell_type": "code",
   "execution_count": 90,
   "id": "d8d1fc21",
   "metadata": {},
   "outputs": [],
   "source": [
    "from nltk.chat.util import Chat, reflections"
   ]
  },
  {
   "cell_type": "code",
   "execution_count": 91,
   "id": "fd09e873",
   "metadata": {},
   "outputs": [],
   "source": [
    "reflections = {\"yo soy\":\"tú eres\"}"
   ]
  },
  {
   "cell_type": "code",
   "execution_count": 92,
   "id": "ed7d5eb2",
   "metadata": {},
   "outputs": [],
   "source": [
    "pairs = (\n",
    "  (r'Necesito (.*)',\n",
    "  ( \"Por qué necesitas %1?\",\n",
    "    \"Realmente te aydar %1?\",\n",
    "    \"Estás seguro de que necesitas %1?\")),\n",
    "    \n",
    "  (r'salir',\n",
    "  ( \"Gracias por hablar conmigo.\",\n",
    "    \"Adiós.\",\n",
    "    \"Gracias, que tengas un buen día!\")),\n",
    " \n",
    "  (r'(.*)',\n",
    "  ( \"Por favor, cuéntame más detalles.\",\n",
    "    \"Cambiemos de tema... cuentame qué tal tu familia.\",\n",
    "    \"Podrías ser más específico?\",\n",
    "    \"Por qué dices %1?\",\n",
    "    \"Entiendo.\",\n",
    "    \"Muy interesante.\",\n",
    "    \"%1.\",\n",
    "    \"Ya veo.  Y eso qué representa para tí?\",\n",
    "    \"Cómo te hace sentir eso?\",\n",
    "    \"Cómo te sientes cuando dices eso?\"))\n",
    ")\n"
   ]
  },
  {
   "cell_type": "code",
   "execution_count": 93,
   "id": "8db18147",
   "metadata": {},
   "outputs": [],
   "source": [
    "chatbot = Chat(pairs, reflections)"
   ]
  },
  {
   "cell_type": "code",
   "execution_count": 94,
   "id": "86a5197f",
   "metadata": {},
   "outputs": [],
   "source": [
    "def testChat():\n",
    "    print(\"Bot de prueba\\n---------\")\n",
    "    print('escribe \"salir\" para terminar la conversación.')\n",
    "    print('='*72)\n",
    "    print(\"Hola.  ¿Qué tal estás?\")\n",
    "\n",
    "    chatbot.converse(quit='salir')"
   ]
  },
  {
   "cell_type": "markdown",
   "id": "ca4de8f6",
   "metadata": {},
   "source": [
    "* Explanation of the above code:\n",
    "\n",
    "The code shown is a function called testChat() that is used to test a chatbot.\n",
    "\n",
    "The function starts with printing a welcome message and an indication on how to end the conversation. Next, a separation line is printed to make the dialogue more readable.\n",
    "\n",
    "The first intervention of the chatbot: Hola. ¿Qué tal estás?\n",
    "\n",
    "Finally, the function calls the converse function of the chatbot, which will allow users to interact with the bot through text messages. An argument called quit is provided, which tells the chatbot that the keyword to end the conversation is salir.\n",
    "\n",
    "In summary, the \"testChat()\" function is a way to initiate a conversation with a chatbot and test its functionality through a series of text message exchanges.\n",
    "\n",
    "The code print('='*72) - the asterisk is an operator used in Python to repeat a string of characters. In this case, the asterisk operator is being used to repeat the \"=\" character seventy-two times, which means a line of seventy-two equal characters of \"=\" will be printed. This line of code is a way to create a visual separation between the initial question from the bot and the user's response. By printing a line of equal length, the bot's interventions can be clearly separated from the user's, making the conversation more readable and easier to follow."
   ]
  },
  {
   "cell_type": "code",
   "execution_count": 95,
   "id": "ae3e6bde",
   "metadata": {},
   "outputs": [
    {
     "name": "stdout",
     "output_type": "stream",
     "text": [
      "Bot de prueba\n",
      "---------\n",
      "escribe \"salir\" para terminar la conversación.\n",
      "========================================================================\n",
      "Hola.  ¿Qué tal estás?\n",
      ">Hola\n",
      "Por favor, cuéntame más detalles.\n",
      ">salir\n",
      "Adiós.\n"
     ]
    }
   ],
   "source": [
    "testChat()"
   ]
  },
  {
   "cell_type": "markdown",
   "id": "8180c25d",
   "metadata": {},
   "source": [
    "### Speech Recognition and Speech Synthesis\n",
    "\n",
    "Speech Recognition -> Audio transcription into text.\n",
    "\n",
    "Speech synthesis -> Conversion of text into audio.\n",
    "\n",
    "The process can be done from a voice file or the device's microphone. Once we have the sound source, the audio is converted into digital data. A decoding process based on Markov models is applied to the obtained data, which will produce a text output.\n",
    "\n",
    "Decoding is done by dividing the audio into 10 ms fragments, mapping each phoneme and determining the most probable word. To perform these calculations, as it requires a lot of processing power, cloud services are usually used, although we could generate this Markov model from scratch, the effort, resources, and time required make it unviable."
   ]
  },
  {
   "cell_type": "markdown",
   "id": "8c6414f7",
   "metadata": {},
   "source": [
    "#### Requirements\n",
    "\n",
    "In order to follow this notebook correctly we will need to have a microphone in our computer and the following libraries installed:\n",
    "\n",
    "* SpeechRecognition\n",
    "* Pyaudio\n",
    "\n",
    "In case you don't have them installed, here's how to install them.\n",
    "\n",
    "##### SpeechRecognition\n",
    "\n",
    "1. We will open a console of \"Anaconda Promt\".\n",
    "2. We will execute the command: `pip install SpeechRecognition`\n",
    "\n",
    "##### Pyaudio\n",
    "\n",
    "1. We will open a console of \"Anaconda Promt\".\n",
    "2. We will execute the command: `conda install pyaudio`\n",
    "3. Below is this one: `conda install -c anaconda portaudio`\n",
    "4. Finally this one:`pip install pyttsx3`\n",
    "\n",
    "#### Speech recognition\n",
    "\n",
    "First we will see how to recognise speech and convert it to text."
   ]
  },
  {
   "cell_type": "code",
   "execution_count": 96,
   "id": "dae6159d",
   "metadata": {},
   "outputs": [],
   "source": [
    "import speech_recognition as sr"
   ]
  },
  {
   "cell_type": "markdown",
   "id": "f0186dda",
   "metadata": {},
   "source": [
    "#### Creating the speech recognition facility\n",
    "\n",
    "To create the instance, simply execute the command `Recognizer()`."
   ]
  },
  {
   "cell_type": "code",
   "execution_count": 98,
   "id": "e788f12d",
   "metadata": {},
   "outputs": [],
   "source": [
    "instance = sr.Recognizer()"
   ]
  },
  {
   "cell_type": "markdown",
   "id": "82a255b3",
   "metadata": {},
   "source": [
    "#### Select the audio source\n",
    "\n",
    "As mentioned in the unit we can use audio in 2 types of source, either from a WAV file or from the microphone, let's see both processes.\n",
    "\n",
    "##### Audio from file\n",
    "\n",
    "The process is very simple, just load the file using the command `AudioFile('FILE_PATH')`."
   ]
  },
  {
   "cell_type": "code",
   "execution_count": 99,
   "id": "4957ff73",
   "metadata": {},
   "outputs": [],
   "source": [
    "file = sr.AudioFile('./example.wav')"
   ]
  },
  {
   "cell_type": "markdown",
   "id": "80191a79",
   "metadata": {},
   "source": [
    "#### Audio from microphone\n",
    "\n",
    "First we have to load the audio from the microphone with the command `Microphone()`."
   ]
  },
  {
   "cell_type": "code",
   "execution_count": 100,
   "id": "3f39a634",
   "metadata": {},
   "outputs": [
    {
     "name": "stdout",
     "output_type": "stream",
     "text": [
      "Requirement already satisfied: pyaudio in c:\\users\\user\\anaconda3\\lib\\site-packages (0.2.13)\n"
     ]
    }
   ],
   "source": [
    "# In case you get an error when executing the Microphone() command, uncomment these lines\n",
    "import sys\n",
    "\n",
    "!{sys.executable} -m pip install pyaudio"
   ]
  },
  {
   "cell_type": "code",
   "execution_count": null,
   "id": "7939bbac",
   "metadata": {},
   "outputs": [],
   "source": [
    "mic = sr.Microphone()"
   ]
  },
  {
   "cell_type": "markdown",
   "id": "cc44ffb5",
   "metadata": {},
   "source": [
    "The `Microphone()` command will select by default the microphone that our system has by default, but we can select any other microphone installed on the system, even the audio output that we could use to transcribe, for example, a meeting.\n",
    "\n",
    "To see the list of microphones, run the command `list_microphone_names()`."
   ]
  },
  {
   "cell_type": "code",
   "execution_count": null,
   "id": "0161bf4e",
   "metadata": {},
   "outputs": [],
   "source": [
    "sr.Microphone().list_microphone_names()"
   ]
  },
  {
   "cell_type": "markdown",
   "id": "b69981b4",
   "metadata": {},
   "source": [
    "To select any other microphone in the list, simply specify the order in the list within the Micrphone() command -> `Microphone(device_index=12)` It will select the 12th in the list, in this case \"Microphone (USB Microphone)\".\n",
    "\n",
    "#### Create the audio fragment\n",
    "\n",
    "Once we have the input, either from audio or from the microphone, we set it as the source. In this process is when we would eliminate the background noise with the command `adjust_for_ambient_noise()`."
   ]
  },
  {
   "cell_type": "code",
   "execution_count": 101,
   "id": "b79a8c2e",
   "metadata": {},
   "outputs": [],
   "source": [
    "def mic_conversion():\n",
    "    with mic as source:\n",
    "        \n",
    "        #Ambient sound settings\n",
    "        instance.adjust_for_ambient_noise(source)\n",
    "        \n",
    "        #Start recording audio\n",
    "        audio = instance.listen(source)\n",
    "        \n",
    "        #Transcribe using google api\n",
    "        transcript = instance.recognize_google(audio, language='es-ES', show_all = True)\n",
    "        \n",
    "        print(transcript)\n",
    "        #We return the result obtained\n",
    "        return transcript ['alternative'][0]['transcript']\n",
    "        \n",
    "def audio_conversion():\n",
    "    with file as source:\n",
    "        \n",
    "        instance.adjust_for_ambient_noise(source)\n",
    "        \n",
    "        audio = instance.record(source)\n",
    "        \n",
    "        transcript = instance.recognize_google(audio, language='es-ES', show_all = True)\n",
    "        \n",
    "        print(transcript)\n",
    "        \n",
    "        return transcript ['alternative'][0]['transcript']"
   ]
  },
  {
   "cell_type": "markdown",
   "id": "37aefbaa",
   "metadata": {},
   "source": [
    "We are now going to test the functions we have created.\n",
    "\n",
    "#### Microphone function\n",
    "\n",
    "When we execute the command, we must wait a second to start speaking to avoid cutting off the beginning of the audio. The function will automatically stop recording after you stop speaking."
   ]
  },
  {
   "cell_type": "code",
   "execution_count": null,
   "id": "9ad6e62b",
   "metadata": {},
   "outputs": [],
   "source": [
    "mic_conversion()"
   ]
  },
  {
   "cell_type": "markdown",
   "id": "453dea17",
   "metadata": {},
   "source": [
    "#### Audio processing function\n",
    "\n",
    "Now we will do the same with the text function. It will not recognise the beginning of the text, so the recognition will not be quite correct.\n",
    "\n",
    "The text contained in the audio is as follows:\n",
    "\n",
    "`La Policía Nacional ha finalizado hoy la implantación de esta nueva versión del DNI y desde hoy únicamente se expedirá este DNI Europeo para todos los ciudadanos españoles.`"
   ]
  },
  {
   "cell_type": "code",
   "execution_count": null,
   "id": "e3db37be",
   "metadata": {},
   "outputs": [],
   "source": [
    "audio_conversion()"
   ]
  },
  {
   "cell_type": "markdown",
   "id": "5091df7c",
   "metadata": {},
   "source": [
    "#### Speech synthesis\n",
    "\n",
    "\n",
    "First we will see how to recognise speech and convert it to text.\n",
    "\n",
    "##### Importing libraries\n",
    "\n",
    "Use the command: `pip install pyttsx3==2.6`."
   ]
  },
  {
   "cell_type": "code",
   "execution_count": 103,
   "id": "e2ca2f5b",
   "metadata": {},
   "outputs": [],
   "source": [
    "import pyttsx3"
   ]
  },
  {
   "cell_type": "markdown",
   "id": "5787f536",
   "metadata": {},
   "source": [
    "##### Recognition engine\n",
    "\n",
    "The first thing we have to do is to create the recognition engine, to do this we just have to execute the command `init()`."
   ]
  },
  {
   "cell_type": "code",
   "execution_count": 104,
   "id": "8777bcee",
   "metadata": {},
   "outputs": [],
   "source": [
    "engine = pyttsx3.init()"
   ]
  },
  {
   "cell_type": "markdown",
   "id": "d1132787",
   "metadata": {},
   "source": [
    "### Engine configuration\n",
    "\n",
    "Once it has been created, it is time to configure it. In our case, the configuration will be static, since we will set the language and the speed and we will not need to modify the parameters regularly."
   ]
  },
  {
   "cell_type": "code",
   "execution_count": 105,
   "id": "68f4a397",
   "metadata": {},
   "outputs": [],
   "source": [
    "#Speed setting\n",
    "engine.setProperty('rate', 140)\n",
    "\n",
    "#Language settings\n",
    "engine.setProperty('voice', 'spanish')"
   ]
  },
  {
   "cell_type": "code",
   "execution_count": 106,
   "id": "b0c6cc3c",
   "metadata": {},
   "outputs": [],
   "source": [
    "# Talking function\n",
    "# Create a function to make our engine talk.\n",
    "\n",
    "\n",
    "def habla(texto):\n",
    "    engine.say(texto)\n",
    "    engine.runAndWait()"
   ]
  },
  {
   "cell_type": "code",
   "execution_count": 107,
   "id": "f9c9f835",
   "metadata": {},
   "outputs": [],
   "source": [
    "# Testing the function\n",
    "texto = 'La Policía Nacional ha finalizado hoy la implantación de esta nueva versión del DNI y desde hoy únicamente se expedirá este DNI Europeo para todos los ciudadanos españoles.'"
   ]
  },
  {
   "cell_type": "code",
   "execution_count": null,
   "id": "f257e600",
   "metadata": {},
   "outputs": [],
   "source": [
    "habla(texto)"
   ]
  },
  {
   "cell_type": "markdown",
   "id": "c7bad3b0",
   "metadata": {},
   "source": [
    "# Topic Modeling and Sentiment Analysis"
   ]
  },
  {
   "cell_type": "markdown",
   "id": "9dbe842f",
   "metadata": {},
   "source": [
    "## Topic modeling\n",
    "\n",
    "Topic modelling is a natural language processing technique that allows large amounts of text to be analysed to identify underlying thematic patterns. It is a way of automatically extracting themes or topics that appear in a set of documents without the need to read them all."
   ]
  },
  {
   "cell_type": "code",
   "execution_count": 1,
   "id": "d0d50662",
   "metadata": {},
   "outputs": [],
   "source": [
    "import nltk, string\n",
    "from sklearn.feature_extraction.text import TfidfVectorizer, CountVectorizer\n",
    "from sklearn.decomposition import NMF, LatentDirichletAllocation\n",
    "import numpy as np"
   ]
  },
  {
   "cell_type": "code",
   "execution_count": 2,
   "id": "638550e4",
   "metadata": {},
   "outputs": [
    {
     "name": "stdout",
     "output_type": "stream",
     "text": [
      "['Me gustan las vacas', 'Me gustan los caballos', 'odio los perros', 'odio los caballos', 'me gustan las ranas', 'me gusta el helado', 'no quiero comer', 'los helados son cremosos']\n"
     ]
    }
   ],
   "source": [
    "# Cargamos el corpus de textos\n",
    "\n",
    "trainCorpus = [\"Me gustan las vacas\",\n",
    "               \"Me gustan los caballos\",\n",
    "               \"odio los perros\",\n",
    "               \"odio los caballos\",\n",
    "               \"me gustan las ranas\",\n",
    "               \"me gusta el helado\",\n",
    "               \"no quiero comer\",\n",
    "               \"los helados son cremosos\"]\n",
    "print (trainCorpus)"
   ]
  },
  {
   "cell_type": "code",
   "execution_count": 3,
   "id": "f9675d4e",
   "metadata": {},
   "outputs": [],
   "source": [
    "# Vectorizamos el texto del corpus\n",
    "\n",
    "puncts= [c for c in string.punctuation]\n",
    "\n",
    "spanish_stopwords= nltk.corpus.stopwords.words('spanish') + puncts\n",
    "\n",
    "vectorizer= CountVectorizer(stop_words= spanish_stopwords)"
   ]
  },
  {
   "cell_type": "markdown",
   "id": "32ae99e9",
   "metadata": {},
   "source": [
    "We transform the documents into a term frequency (tf) matrix of documents.\n",
    "\n",
    "In the matrix, zeros and ones represent whether the attributes mentioned above are found in the sentence. For example, [0 0 0 0 1 0 0 0 0 0 0 1] in the first sentence (\"Me gustan las vacas\") means that it found 'gustan' and 'vacas' (the ones that are represented)."
   ]
  },
  {
   "cell_type": "code",
   "execution_count": 4,
   "id": "429b2bd3",
   "metadata": {},
   "outputs": [
    {
     "name": "stdout",
     "output_type": "stream",
     "text": [
      "\n",
      "Atributes: ['caballos', 'comer', 'cremosos', 'gusta', 'gustan', 'helado', 'helados', 'odio', 'perros', 'quiero', 'ranas', 'vacas']\n",
      "\n",
      "Matrix tf:\n",
      " [[0 0 0 0 1 0 0 0 0 0 0 1]\n",
      " [1 0 0 0 1 0 0 0 0 0 0 0]\n",
      " [0 0 0 0 0 0 0 1 1 0 0 0]\n",
      " [1 0 0 0 0 0 0 1 0 0 0 0]\n",
      " [0 0 0 0 1 0 0 0 0 0 1 0]\n",
      " [0 0 0 1 0 1 0 0 0 0 0 0]\n",
      " [0 1 0 0 0 0 0 0 0 1 0 0]\n",
      " [0 0 1 0 0 0 1 0 0 0 0 0]]\n"
     ]
    },
    {
     "name": "stderr",
     "output_type": "stream",
     "text": [
      "C:\\Users\\User\\anaconda3\\lib\\site-packages\\sklearn\\utils\\deprecation.py:87: FutureWarning: Function get_feature_names is deprecated; get_feature_names is deprecated in 1.0 and will be removed in 1.2. Please use get_feature_names_out instead.\n",
      "  warnings.warn(msg, category=FutureWarning)\n"
     ]
    }
   ],
   "source": [
    "vectorizer.fit(trainCorpus) #The vectoriser learns the vocabulary of the corpus.\n",
    "\n",
    "print (\"\\nAtributes:\",vectorizer.get_feature_names())\n",
    "\n",
    "tfMatrix = vectorizer.transform(trainCorpus) #Extract word frequencies (tf)\n",
    "\n",
    "print (\"\\nMatrix tf:\\n\",tfMatrix.toarray())"
   ]
  },
  {
   "cell_type": "markdown",
   "id": "ad3348a6",
   "metadata": {},
   "source": [
    "The tf matrix is our dataset, where:\n",
    "\n",
    "\n",
    "- Each row represents a sample (a document in the corpus).\n",
    "\n",
    "\n",
    "- Each column represents an attribute (the frequency of a word in that document)."
   ]
  },
  {
   "cell_type": "code",
   "execution_count": 5,
   "id": "d77a5593",
   "metadata": {},
   "outputs": [
    {
     "name": "stdout",
     "output_type": "stream",
     "text": [
      "\n",
      "Samples nº: 8, atributes nº: 12\n"
     ]
    }
   ],
   "source": [
    "print(\"\\nSamples nº: %d, atributes nº: %d\" % tfMatrix.shape)\n",
    "\n",
    "tf_feature_names = vectorizer.get_feature_names()"
   ]
  },
  {
   "cell_type": "markdown",
   "id": "79253ff1",
   "metadata": {},
   "source": [
    "#### We apply the LDA algorithm to extract the topics"
   ]
  },
  {
   "cell_type": "code",
   "execution_count": 6,
   "id": "5ca68fc6",
   "metadata": {},
   "outputs": [
    {
     "name": "stdout",
     "output_type": "stream",
     "text": [
      "\n",
      "Topic 0:\n",
      "  caballos\n",
      "  odio\n",
      "odio los caballos\n",
      "odio los perros\n",
      "Me gustan los caballos\n",
      "\n",
      "Topic 1:\n",
      "  gustan\n",
      "  helado\n",
      "no quiero comer\n",
      "me gusta el helado\n",
      "Me gustan las vacas\n"
     ]
    }
   ],
   "source": [
    "topics = 2\n",
    "\n",
    "lda_model = LatentDirichletAllocation(n_components =topics, max_iter=5, learning_method='online', learning_offset=50.,random_state=0).fit(tfMatrix)\n",
    "\n",
    "H = lda_model.components_ \n",
    "\n",
    "W = lda_model.transform(tfMatrix)\n",
    "\n",
    "#Configuración de cuántas palabras y componentes visualizaremos\n",
    "no_top_words = 2   \n",
    "\n",
    "no_top_documents = 3\n",
    "\n",
    "\n",
    "def display_topics(H, W, feature_names, documents, no_top_words, no_top_documents):\n",
    "    \n",
    "    for topic_idx, topic in enumerate(H):\n",
    "        print(\"\\nTopic %d:\" % (topic_idx))\n",
    "        \n",
    "        for i in topic.argsort()[:-no_top_words - 1:-1]:\n",
    "            print(\" \",feature_names[i])\n",
    "        top_doc_indices = np.argsort( W[:,topic_idx] )[::-1][0:no_top_documents]\n",
    "        \n",
    "        for doc_index in top_doc_indices:\n",
    "            print(trainCorpus[doc_index])\n",
    "\n",
    "display_topics(H, W, tf_feature_names, trainCorpus, no_top_words, no_top_documents)"
   ]
  },
  {
   "cell_type": "code",
   "execution_count": 7,
   "id": "b5df67da",
   "metadata": {},
   "outputs": [
    {
     "name": "stdout",
     "output_type": "stream",
     "text": [
      "[[0.27904467 0.72095533]\n",
      " [0.74686977 0.25313023]\n",
      " [0.76520219 0.23479781]\n",
      " [0.80826905 0.19173095]\n",
      " [0.62256514 0.37743486]\n",
      " [0.2280307  0.7719693 ]\n",
      " [0.2236473  0.7763527 ]\n",
      " [0.71675206 0.28324794]]\n"
     ]
    }
   ],
   "source": [
    "print(W)"
   ]
  },
  {
   "cell_type": "markdown",
   "id": "62bf61af",
   "metadata": {},
   "source": [
    "## Sentiment Analysis using NLTK"
   ]
  },
  {
   "cell_type": "code",
   "execution_count": 8,
   "id": "e505cc8a",
   "metadata": {},
   "outputs": [],
   "source": [
    "from nltk.sentiment.vader import SentimentIntensityAnalyzer"
   ]
  },
  {
   "cell_type": "markdown",
   "id": "0f1daccd",
   "metadata": {},
   "source": [
    "#### We create the corpus to be analysed\n",
    "\n",
    "\n",
    "Different types of sentences with different levels of complexity are introduced in the corpus. "
   ]
  },
  {
   "cell_type": "code",
   "execution_count": 9,
   "id": "ee8ab727",
   "metadata": {},
   "outputs": [],
   "source": [
    "sentences = [\n",
    "\n",
    "    \"VADER is smart, handsome, and funny.\", # example of a positive sentence\n",
    "\"VADER is smart, handsome, and funny!\", # Detection of exclamatory emphasis (increased intensity of feeling).\n",
    "\"VADER is very smart, handsome, and funny.\", # detection of augmentative words (increased intensity)\n",
    "\"VADER is VERY SMART, handsome, and FUNNY.\", # emphasis derived from capitalization\n",
    "\"VADER is VERY SMART, handsome, and FUNNY!!!\",# combination of the above\n",
    "\"VADER is VERY SMART, really handsome, and INCREDIBLY FUNNY!!!\",# combination of the above to the highest level\n",
    "\"The book was good.\", # positive sentence\n",
    "\"The book was kind of good.\", # decrease of positivity (intensity adjustment)\n",
    "\"The plot was good, but the characters are uncompelling and the dialog is not great.\", # negation\n",
    "\"A really bad, horrible book.\", # negative sentence with intensity enhancers\n",
    "\"At least it isn't a horrible book.\", # negation of negativity\n",
    "\":) and :D\", # emoticons\n",
    "\"\", # empty strings are treated correctly\n",
    "\"Today kinda sux\", # slang word detection\n",
    "\"Today KINDA SUX!\", # combination of slang with capitalisation and exclamation (increases sentiment)\n",
    "\"I'll get by\", # this sentence is neutral\n",
    "\"Today kinda sux, think I'll get by\", # This example serves to compare with the following sentence    \n",
    "\"Today kinda sux, but I'll get by\" # 'but' softens the negativity of the previous sentence.\n",
    "    \n",
    "]"
   ]
  },
  {
   "cell_type": "code",
   "execution_count": 12,
   "id": "3c8f3b80",
   "metadata": {},
   "outputs": [
    {
     "name": "stdout",
     "output_type": "stream",
     "text": [
      "\n",
      "VADER is smart, handsome, and funny.\n",
      "\n",
      "VADER is smart, handsome, and funny!\n",
      "\n",
      "VADER is very smart, handsome, and funny.\n",
      "\n",
      "VADER is VERY SMART, handsome, and FUNNY.\n",
      "\n",
      "VADER is VERY SMART, handsome, and FUNNY!!!\n",
      "\n",
      "VADER is VERY SMART, really handsome, and INCREDIBLY FUNNY!!!\n",
      "\n",
      "The book was good.\n",
      "\n",
      "The book was kind of good.\n",
      "\n",
      "The plot was good, but the characters are uncompelling and the dialog is not great.\n",
      "\n",
      "A really bad, horrible book.\n",
      "\n",
      "At least it isn't a horrible book.\n",
      "\n",
      ":) and :D\n",
      "\n",
      "\n",
      "\n",
      "Today kinda sux\n",
      "\n",
      "Today KINDA SUX!\n",
      "\n",
      "I'll get by\n",
      "\n",
      "Today kinda sux, think I'll get by\n",
      "\n",
      "Today kinda sux, but I'll get by\n",
      "compound -0.154\n",
      "neg 0.211\n",
      "neu 0.789\n",
      "pos 0.0\n"
     ]
    }
   ],
   "source": [
    "sid = SentimentIntensityAnalyzer()\n",
    "\n",
    "for sentence in sentences:\n",
    "   print('\\n'+sentence)\n",
    "   ss = sid.polarity_scores(sentence)\n",
    "    \n",
    "for k in sorted(ss):\n",
    "      print(k, ss[k])"
   ]
  }
 ],
 "metadata": {
  "kernelspec": {
   "display_name": "Python 3 (ipykernel)",
   "language": "python",
   "name": "python3"
  },
  "language_info": {
   "codemirror_mode": {
    "name": "ipython",
    "version": 3
   },
   "file_extension": ".py",
   "mimetype": "text/x-python",
   "name": "python",
   "nbconvert_exporter": "python",
   "pygments_lexer": "ipython3",
   "version": "3.9.13"
  },
  "toc": {
   "base_numbering": 1,
   "nav_menu": {},
   "number_sections": true,
   "sideBar": true,
   "skip_h1_title": false,
   "title_cell": "Table of Contents",
   "title_sidebar": "Contents",
   "toc_cell": false,
   "toc_position": {
    "height": "calc(100% - 180px)",
    "left": "10px",
    "top": "150px",
    "width": "279.273px"
   },
   "toc_section_display": true,
   "toc_window_display": true
  }
 },
 "nbformat": 4,
 "nbformat_minor": 5
}
